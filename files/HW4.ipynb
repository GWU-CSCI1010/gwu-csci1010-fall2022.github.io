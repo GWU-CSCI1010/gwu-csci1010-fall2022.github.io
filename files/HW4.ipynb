{
 "cells": [
  {
   "cell_type": "markdown",
   "source": "# APSC1001 - CS1010 Assignment 4\n### Instructor: \n**Dr. Kartik Bulusu [MAE]**\n\n#### Teaching Assistants: \n**Sara Tenaglio [BME], Catherine Karpova [BME], Zachary Stecher [CE]**\n\n#### Learning Assistants: \n**Ethan Frink [MAE], Alexis Renderos [MAE], Olivia Legault [CS], Jon Terry [CS], Jack Umina [CS]**",
   "metadata": {
    "tags": [],
    "cell_id": "00000-d9b64083-bf3b-49e7-a342-2c58231be85b",
    "deepnote_cell_type": "markdown"
   }
  },
  {
   "cell_type": "code",
   "metadata": {
    "tags": [],
    "deepnote_to_be_reexecuted": false,
    "source_hash": "ae677139",
    "execution_start": 1634226290832,
    "execution_millis": 270,
    "cell_id": "00001-59f295cf-bccb-4e12-9678-f5ac4738faa6",
    "deepnote_cell_type": "code"
   },
   "source": "#Please use 'Shift+Enter' to execute this cell\nimport numpy as np\nimport pandas as pd\nfrom matplotlib import pyplot as plt",
   "execution_count": null,
   "outputs": []
  },
  {
   "cell_type": "markdown",
   "source": "Put your team's names in the below cell inside the quotation marks!",
   "metadata": {
    "tags": [],
    "cell_id": "00002-c771b0c0-dd3e-409e-8576-c57d644407ff",
    "deepnote_cell_type": "markdown"
   }
  },
  {
   "cell_type": "code",
   "metadata": {
    "tags": [],
    "deepnote_to_be_reexecuted": false,
    "source_hash": "56ae64e2",
    "execution_start": 1634222693239,
    "execution_millis": 3,
    "cell_id": "00003-16a0eadf-6d0a-4d1a-943d-0865fc4e2ee9",
    "deepnote_cell_type": "code"
   },
   "source": "#Your names go here!\nname1 = ''\nname2 = ''\nname3 = ''\nname4 = ''\n\nprint('Group member 1 is named ' + name1)\nprint('Group member 2 is named ' + name2)\nprint('Group member 3 is named ' + name3)\n\nif name4 != '':\n    print('Group member 4 is named ' + name4)",
   "execution_count": null,
   "outputs": [
    {
     "name": "stdout",
     "text": "Group member 1 is named \nGroup member 2 is named \nGroup member 3 is named \n",
     "output_type": "stream"
    }
   ]
  },
  {
   "cell_type": "markdown",
   "source": "## Question 1.\n\nWe have provided a homework csv file in the Week4 folder named `HW4.csv`, pull this data into a dataframe called `my_df` and display the first 6 rows of the dataframe\n\n**Hints:** \n- use `pd.read_csv()` with an appropriate filename!\n- use `my_df.head(number_of_rows)`",
   "metadata": {
    "tags": [],
    "cell_id": "00004-7f65ed62-2175-482c-be04-9a76e0793f69",
    "deepnote_cell_type": "markdown"
   }
  },
  {
   "cell_type": "code",
   "metadata": {
    "tags": [],
    "deepnote_to_be_reexecuted": false,
    "source_hash": "75fe9844",
    "execution_start": 1634227149717,
    "execution_millis": 4,
    "cell_id": "00005-26c7e5d4-3a1f-40cb-97ba-c3dead8a37b8",
    "deepnote_cell_type": "code"
   },
   "source": "#Your code here!",
   "execution_count": null,
   "outputs": []
  },
  {
   "cell_type": "markdown",
   "source": "## Question 2. \n\nPull the columns into numpy arrays using dataframe slicing `my_df.loc[SLICE].values`. Save the `Time` column to a variable named `t`, save the `Signal 1` column to a variable named `v1` and the `Signal 2` column to a variable named `v2`",
   "metadata": {
    "tags": [],
    "cell_id": "00006-653e6a7f-d97c-4df0-a146-108a9fa4233a",
    "deepnote_cell_type": "markdown"
   }
  },
  {
   "cell_type": "code",
   "metadata": {
    "tags": [],
    "deepnote_to_be_reexecuted": false,
    "source_hash": "75fe9844",
    "execution_start": 1634227156676,
    "execution_millis": 1,
    "cell_id": "00007-24cdab20-c349-4ad3-9535-25df2fa0403a",
    "deepnote_cell_type": "code"
   },
   "source": "#Your code here!",
   "execution_count": null,
   "outputs": []
  },
  {
   "cell_type": "markdown",
   "source": "## Question 3. \n\n1. Set up a 1x1 subplot using `fig, ax = plt.subplots(figsize=(WIDTH, HEIGHT))`. Choose a figsize that looks good!\n\n2. Plot `t` on the x-axis and the two signals `v1` and `v2` on the y-axis. Create a legend that labels each signal\n\n3. Create appropriate x-axis and y-axis labels. Make sure to include units. Time is given in seconds and signal is given in volts\n\n4. Give the plot an appropriate title\n\n5. Turn the grid on",
   "metadata": {
    "tags": [],
    "cell_id": "00008-73714c6f-2960-4bfc-8626-fef25a0bf348",
    "deepnote_cell_type": "markdown"
   }
  },
  {
   "cell_type": "code",
   "metadata": {
    "tags": [],
    "deepnote_to_be_reexecuted": false,
    "source_hash": "75fe9844",
    "execution_start": 1634227160077,
    "execution_millis": 5,
    "cell_id": "00009-7ee0ed85-3234-4ec9-9349-9224e07ddcff",
    "deepnote_cell_type": "code"
   },
   "source": "#Your code here!",
   "execution_count": null,
   "outputs": []
  },
  {
   "cell_type": "markdown",
   "source": "## Question 4. \n\n1. Now plot the same two signals, but this time on side by side plots. \n2. Plot `v1` on the left and `v2` on the right. \n3. Change the color of your left plot to red and the right plot to black.\n4. Include a piece of text on the left plot that says `\"Our group's plot\"` \n\n**Hints:** \n\n- Use `plt.subplots(1,2,figsize=(WIDTH, HEIGHT))` and appropriate variables for the figure and axes. Choose a figsize that looks good!\n- Use `axs[LEFT].plot(t,v1)` to plot on the left, and similar on the right\n- Edit the color in the plot statement. `'r'` is the character for red, and `'k'` is the character for black\n- Use the `ax.text(X, Y, STRING)` to add the word in step 4.\n\n#### Bonus\nAdd axis labels, update the linestyle, subplot titles, and something unique from section 5 of the demo you think is cool! There's lots of opportunities to make it your own!",
   "metadata": {
    "tags": [],
    "cell_id": "00010-dd9bc915-fc56-421b-94c4-8dfe46132c58",
    "deepnote_cell_type": "markdown"
   }
  },
  {
   "cell_type": "code",
   "metadata": {
    "tags": [],
    "deepnote_to_be_reexecuted": false,
    "source_hash": "75fe9844",
    "execution_start": 1634227164944,
    "execution_millis": 0,
    "cell_id": "00011-4a20861e-8860-44d8-ab1c-3108011ee4af",
    "deepnote_cell_type": "code"
   },
   "source": "#Your code here!",
   "execution_count": null,
   "outputs": []
  },
  {
   "cell_type": "markdown",
   "source": "## Congrats!!\n You completed your 4th Python Assignment in APSC 1001/CS 1010! Give yourself a round of applause!!",
   "metadata": {
    "tags": [],
    "cell_id": "00012-44d45ac6-b9c1-4baf-9f77-3726fe894e27",
    "deepnote_cell_type": "markdown"
   }
  },
  {
   "cell_type": "markdown",
   "source": "<a style='text-decoration:none;line-height:16px;display:flex;color:#5B5B62;padding:10px;justify-content:end;' href='https://deepnote.com?utm_source=created-in-deepnote-cell&projectId=928a4826-6d7d-44bd-b128-d6cd83127a49' target=\"_blank\">\n<img alt='Created in deepnote.com' style='display:inline;max-height:16px;margin:0px;margin-right:7.5px;' src='data:image/svg+xml;base64,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' > </img>\nCreated in <span style='font-weight:600;margin-left:4px;'>Deepnote</span></a>",
   "metadata": {
    "tags": [],
    "created_in_deepnote_cell": true,
    "deepnote_cell_type": "markdown"
   }
  }
 ],
 "nbformat": 4,
 "nbformat_minor": 2,
 "metadata": {
  "orig_nbformat": 2,
  "deepnote": {
   "is_reactive": false
  },
  "deepnote_notebook_id": "0b298d80-d28e-4c4c-82c9-a3056234b132",
  "deepnote_execution_queue": []
 }
}