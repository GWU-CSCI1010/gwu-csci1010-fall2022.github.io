{
 "cells": [
  {
   "cell_type": "markdown",
   "source": "# APSC 1001 - CS 1010\n# Week 3 - Pandas Deep Dive\n    \n### Instructor: Dr. Kartik Bulusu, [MAE] \n    \n#### Teaching Assistants: name [dept]\n\n#### Learning Assistants: Ethan Frink [MAE], Alexis Renderos [MAE]",
   "metadata": {
    "tags": [],
    "cell_id": "00000-f229a243-e7cd-4045-863f-20091b84e89f",
    "deepnote_cell_type": "markdown"
   }
  },
  {
   "cell_type": "markdown",
   "source": "Let's start by importing our favorite friends as always going forward in this class: **numpy**, **matplotlib**, and **pandas**",
   "metadata": {
    "tags": [],
    "cell_id": "00001-ab117967-e9ea-41bf-b006-d969744bf9cf",
    "deepnote_cell_type": "markdown"
   }
  },
  {
   "cell_type": "code",
   "metadata": {
    "tags": [],
    "cell_id": "00002-97b564d8-4071-4363-9f9b-9729f2e107d8",
    "deepnote_to_be_reexecuted": false,
    "source_hash": "e4a0c7a1",
    "execution_start": 1633631428489,
    "execution_millis": 585,
    "deepnote_cell_type": "code"
   },
   "source": "import numpy as np\nfrom matplotlib import pyplot as plt\nimport pandas as pd",
   "execution_count": null,
   "outputs": []
  },
  {
   "cell_type": "markdown",
   "source": "Before we get started with pandas, we are going to introduce a function called `help()` which will provide some information about functions we are working with!",
   "metadata": {
    "tags": [],
    "cell_id": "00003-19b8b1c4-50d5-4230-94a7-5467867e4581",
    "deepnote_cell_type": "markdown"
   }
  },
  {
   "cell_type": "code",
   "metadata": {
    "tags": [],
    "cell_id": "00004-4709f4e3-03bf-4e7e-9361-692d38dad22a",
    "deepnote_to_be_reexecuted": false,
    "source_hash": "666c1295",
    "execution_start": 1633631928533,
    "execution_millis": 18,
    "deepnote_cell_type": "code"
   },
   "source": "#Here we ask python to tell us about the np.array function, but this works with everything!\nhelp(np.array)",
   "execution_count": null,
   "outputs": [
    {
     "name": "stdout",
     "text": "Help on built-in function array in module numpy:\n\narray(...)\n    array(object, dtype=None, *, copy=True, order='K', subok=False, ndmin=0)\n    \n    Create an array.\n    \n    Parameters\n    ----------\n    object : array_like\n        An array, any object exposing the array interface, an object whose\n        __array__ method returns an array, or any (nested) sequence.\n    dtype : data-type, optional\n        The desired data-type for the array.  If not given, then the type will\n        be determined as the minimum type required to hold the objects in the\n        sequence.\n    copy : bool, optional\n        If true (default), then the object is copied.  Otherwise, a copy will\n        only be made if __array__ returns a copy, if obj is a nested sequence,\n        or if a copy is needed to satisfy any of the other requirements\n        (`dtype`, `order`, etc.).\n    order : {'K', 'A', 'C', 'F'}, optional\n        Specify the memory layout of the array. If object is not an array, the\n        newly created array will be in C order (row major) unless 'F' is\n        specified, in which case it will be in Fortran order (column major).\n        If object is an array the following holds.\n    \n        ===== ========= ===================================================\n        order  no copy                     copy=True\n        ===== ========= ===================================================\n        'K'   unchanged F & C order preserved, otherwise most similar order\n        'A'   unchanged F order if input is F and not C, otherwise C order\n        'C'   C order   C order\n        'F'   F order   F order\n        ===== ========= ===================================================\n    \n        When ``copy=False`` and a copy is made for other reasons, the result is\n        the same as if ``copy=True``, with some exceptions for `A`, see the\n        Notes section. The default order is 'K'.\n    subok : bool, optional\n        If True, then sub-classes will be passed-through, otherwise\n        the returned array will be forced to be a base-class array (default).\n    ndmin : int, optional\n        Specifies the minimum number of dimensions that the resulting\n        array should have.  Ones will be pre-pended to the shape as\n        needed to meet this requirement.\n    \n    Returns\n    -------\n    out : ndarray\n        An array object satisfying the specified requirements.\n    \n    See Also\n    --------\n    empty_like : Return an empty array with shape and type of input.\n    ones_like : Return an array of ones with shape and type of input.\n    zeros_like : Return an array of zeros with shape and type of input.\n    full_like : Return a new array with shape of input filled with value.\n    empty : Return a new uninitialized array.\n    ones : Return a new array setting values to one.\n    zeros : Return a new array setting values to zero.\n    full : Return a new array of given shape filled with value.\n    \n    \n    Notes\n    -----\n    When order is 'A' and `object` is an array in neither 'C' nor 'F' order,\n    and a copy is forced by a change in dtype, then the order of the result is\n    not necessarily 'C' as expected. This is likely a bug.\n    \n    Examples\n    --------\n    >>> np.array([1, 2, 3])\n    array([1, 2, 3])\n    \n    Upcasting:\n    \n    >>> np.array([1, 2, 3.0])\n    array([ 1.,  2.,  3.])\n    \n    More than one dimension:\n    \n    >>> np.array([[1, 2], [3, 4]])\n    array([[1, 2],\n           [3, 4]])\n    \n    Minimum dimensions 2:\n    \n    >>> np.array([1, 2, 3], ndmin=2)\n    array([[1, 2, 3]])\n    \n    Type provided:\n    \n    >>> np.array([1, 2, 3], dtype=complex)\n    array([ 1.+0.j,  2.+0.j,  3.+0.j])\n    \n    Data-type consisting of more than one element:\n    \n    >>> x = np.array([(1,2),(3,4)],dtype=[('a','<i4'),('b','<i4')])\n    >>> x['a']\n    array([1, 3])\n    \n    Creating an array from sub-classes:\n    \n    >>> np.array(np.mat('1 2; 3 4'))\n    array([[1, 2],\n           [3, 4]])\n    \n    >>> np.array(np.mat('1 2; 3 4'), subok=True)\n    matrix([[1, 2],\n            [3, 4]])\n\n",
     "output_type": "stream"
    }
   ]
  },
  {
   "cell_type": "markdown",
   "source": "Pandas is a library to work with dataframe objects. Dataframes are a way to represent data in rows and columns, much like a matrix!! \n\nA little vocab to get us started. I promise it won't be much. \n- The **columns** of a dataframe are called the **columns**\n- The **rows** of the dataframe are called the **index** \n\nSee that wasn't too bad :)\n\nLast week we discussed importing data from a csv file into a pandas dataframe. We are going to bring that back and do a whole lot more with it this week! We have provided a csv file in this week's content for this demonstration! \n\n\n\n#### Here are the steps!\n1. Locate the file titled `DemoCSV1.csv` in the DeepNote file tree (on the left of the screen). You may have to click the `Notebooks and Files` icon on the top left to see this\n\n2. Click the 3 dots. This should bring you to a drop down menu. \n\n3. Click `Copy Path to Clipboard` from the dropdown menu!\n\n4. Establish a `filename` variable in a code cell that is an empty string using `filename = ''`\n\n5. Inside the quotes paste the path using `Ctrl+V` or `Cmd+V` on your keyboard\n\n6. You should now have something like this: `filename = '/work/Week3/DemoCSV1.csv'`\n\n7. Finally, use `df = pd.read_csv(filename)` to save your file into a pandas dataframe!\n\n\nToday's `DemoCSV1.csv` originally comes from the module [vega_datasets](https://vega.github.io/vega-datasets/) if you are curious.",
   "metadata": {
    "tags": [],
    "cell_id": "00002-e3b2f8f3-99dd-4068-9c25-b3417c0040e9",
    "deepnote_cell_type": "markdown"
   }
  },
  {
   "cell_type": "code",
   "metadata": {
    "tags": [],
    "cell_id": "00005-c85d5593-8ccf-45d1-a299-a9cc53065446",
    "deepnote_to_be_reexecuted": false,
    "source_hash": "2ab12214",
    "execution_start": 1633631430570,
    "execution_millis": 33,
    "deepnote_cell_type": "code"
   },
   "source": "filename = '/work/Fall 2021/for_students/Week3/DemoCSV1.csv'\ndf = pd.read_csv(filename)",
   "execution_count": null,
   "outputs": []
  },
  {
   "cell_type": "markdown",
   "source": "### Showing Dataframes\nTo show dataframes, we have a couple of options! First we can use what we did last week using the `display(df)` function which operates similarly to `print()`. We can also use `df.head()` and `df.tail()` which will just show parts of the frame. The `.head(n)` shows the first n lines of the frame, and the `.tail(m)` shows the last m lines of the frame\n\nLet's try these out!",
   "metadata": {
    "tags": [],
    "cell_id": "00006-0dd377ab-0825-466b-8f58-2df6952aeea5",
    "deepnote_cell_type": "markdown"
   }
  },
  {
   "cell_type": "code",
   "metadata": {
    "tags": [],
    "cell_id": "00007-bf9366d2-58f1-46cf-ab59-dd4cff5f36a7",
    "deepnote_to_be_reexecuted": false,
    "source_hash": "a7a05601",
    "execution_start": 1633631431503,
    "execution_millis": 109,
    "deepnote_cell_type": "code"
   },
   "source": "display(df)",
   "execution_count": null,
   "outputs": [
    {
     "data": {
      "application/vnd.deepnote.dataframe.v2+json": {
       "row_count": 406,
       "column_count": 10,
       "columns": [
        {
         "name": "Unnamed: 0",
         "dtype": "int64",
         "stats": {
          "unique_count": 406,
          "nan_count": 0,
          "min": "0",
          "max": "405",
          "histogram": [
           {
            "bin_start": 0,
            "bin_end": 40.5,
            "count": 41
           },
           {
            "bin_start": 40.5,
            "bin_end": 81,
            "count": 40
           },
           {
            "bin_start": 81,
            "bin_end": 121.5,
            "count": 41
           },
           {
            "bin_start": 121.5,
            "bin_end": 162,
            "count": 40
           },
           {
            "bin_start": 162,
            "bin_end": 202.5,
            "count": 41
           },
           {
            "bin_start": 202.5,
            "bin_end": 243,
            "count": 40
           },
           {
            "bin_start": 243,
            "bin_end": 283.5,
            "count": 41
           },
           {
            "bin_start": 283.5,
            "bin_end": 324,
            "count": 40
           },
           {
            "bin_start": 324,
            "bin_end": 364.5,
            "count": 41
           },
           {
            "bin_start": 364.5,
            "bin_end": 405,
            "count": 41
           }
          ]
         }
        },
        {
         "name": "Name",
         "dtype": "object",
         "stats": {
          "unique_count": 311,
          "nan_count": 0,
          "categories": [
           {
            "name": "ford pinto",
            "count": 6
           },
           {
            "name": "ford maverick",
            "count": 5
           },
           {
            "name": "309 others",
            "count": 395
           }
          ]
         }
        },
        {
         "name": "Miles_per_Gallon",
         "dtype": "float64",
         "stats": {
          "unique_count": 129,
          "nan_count": 8,
          "min": "9.0",
          "max": "46.6",
          "histogram": [
           {
            "bin_start": 9,
            "bin_end": 12.76,
            "count": 13
           },
           {
            "bin_start": 12.76,
            "bin_end": 16.52,
            "count": 78
           },
           {
            "bin_start": 16.52,
            "bin_end": 20.28,
            "count": 73
           },
           {
            "bin_start": 20.28,
            "bin_end": 24.04,
            "count": 61
           },
           {
            "bin_start": 24.04,
            "bin_end": 27.8,
            "count": 54
           },
           {
            "bin_start": 27.8,
            "bin_end": 31.560000000000002,
            "count": 48
           },
           {
            "bin_start": 31.560000000000002,
            "bin_end": 35.32,
            "count": 38
           },
           {
            "bin_start": 35.32,
            "bin_end": 39.08,
            "count": 22
           },
           {
            "bin_start": 39.08,
            "bin_end": 42.84,
            "count": 5
           },
           {
            "bin_start": 42.84,
            "bin_end": 46.6,
            "count": 6
           }
          ]
         }
        },
        {
         "name": "Cylinders",
         "dtype": "int64",
         "stats": {
          "unique_count": 5,
          "nan_count": 0,
          "min": "3",
          "max": "8",
          "histogram": [
           {
            "bin_start": 3,
            "bin_end": 3.5,
            "count": 4
           },
           {
            "bin_start": 3.5,
            "bin_end": 4,
            "count": 0
           },
           {
            "bin_start": 4,
            "bin_end": 4.5,
            "count": 207
           },
           {
            "bin_start": 4.5,
            "bin_end": 5,
            "count": 0
           },
           {
            "bin_start": 5,
            "bin_end": 5.5,
            "count": 3
           },
           {
            "bin_start": 5.5,
            "bin_end": 6,
            "count": 0
           },
           {
            "bin_start": 6,
            "bin_end": 6.5,
            "count": 84
           },
           {
            "bin_start": 6.5,
            "bin_end": 7,
            "count": 0
           },
           {
            "bin_start": 7,
            "bin_end": 7.5,
            "count": 0
           },
           {
            "bin_start": 7.5,
            "bin_end": 8,
            "count": 108
           }
          ]
         }
        },
        {
         "name": "Displacement",
         "dtype": "float64",
         "stats": {
          "unique_count": 83,
          "nan_count": 0,
          "min": "68.0",
          "max": "455.0",
          "histogram": [
           {
            "bin_start": 68,
            "bin_end": 106.7,
            "count": 108
           },
           {
            "bin_start": 106.7,
            "bin_end": 145.4,
            "count": 91
           },
           {
            "bin_start": 145.4,
            "bin_end": 184.10000000000002,
            "count": 31
           },
           {
            "bin_start": 184.10000000000002,
            "bin_end": 222.8,
            "count": 13
           },
           {
            "bin_start": 222.8,
            "bin_end": 261.5,
            "count": 57
           },
           {
            "bin_start": 261.5,
            "bin_end": 300.20000000000005,
            "count": 3
           },
           {
            "bin_start": 300.20000000000005,
            "bin_end": 338.90000000000003,
            "count": 43
           },
           {
            "bin_start": 338.90000000000003,
            "bin_end": 377.6,
            "count": 34
           },
           {
            "bin_start": 377.6,
            "bin_end": 416.3,
            "count": 17
           },
           {
            "bin_start": 416.3,
            "bin_end": 455,
            "count": 9
           }
          ]
         }
        },
        {
         "name": "Horsepower",
         "dtype": "float64",
         "stats": {
          "unique_count": 93,
          "nan_count": 6,
          "min": "46.0",
          "max": "230.0",
          "histogram": [
           {
            "bin_start": 46,
            "bin_end": 64.4,
            "count": 28
           },
           {
            "bin_start": 64.4,
            "bin_end": 82.8,
            "count": 95
           },
           {
            "bin_start": 82.8,
            "bin_end": 101.19999999999999,
            "count": 120
           },
           {
            "bin_start": 101.19999999999999,
            "bin_end": 119.6,
            "count": 46
           },
           {
            "bin_start": 119.6,
            "bin_end": 138,
            "count": 19
           },
           {
            "bin_start": 138,
            "bin_end": 156.39999999999998,
            "count": 49
           },
           {
            "bin_start": 156.39999999999998,
            "bin_end": 174.79999999999998,
            "count": 14
           },
           {
            "bin_start": 174.79999999999998,
            "bin_end": 193.2,
            "count": 16
           },
           {
            "bin_start": 193.2,
            "bin_end": 211.6,
            "count": 5
           },
           {
            "bin_start": 211.6,
            "bin_end": 230,
            "count": 8
           }
          ]
         }
        },
        {
         "name": "Weight_in_lbs",
         "dtype": "int64",
         "stats": {
          "unique_count": 356,
          "nan_count": 0,
          "min": "1613",
          "max": "5140",
          "histogram": [
           {
            "bin_start": 1613,
            "bin_end": 1965.7,
            "count": 31
           },
           {
            "bin_start": 1965.7,
            "bin_end": 2318.4,
            "count": 91
           },
           {
            "bin_start": 2318.4,
            "bin_end": 2671.1,
            "count": 59
           },
           {
            "bin_start": 2671.1,
            "bin_end": 3023.8,
            "count": 55
           },
           {
            "bin_start": 3023.8,
            "bin_end": 3376.5,
            "count": 39
           },
           {
            "bin_start": 3376.5,
            "bin_end": 3729.2,
            "count": 40
           },
           {
            "bin_start": 3729.2,
            "bin_end": 4081.9,
            "count": 31
           },
           {
            "bin_start": 4081.9,
            "bin_end": 4434.6,
            "count": 36
           },
           {
            "bin_start": 4434.6,
            "bin_end": 4787.299999999999,
            "count": 18
           },
           {
            "bin_start": 4787.299999999999,
            "bin_end": 5140,
            "count": 6
           }
          ]
         }
        },
        {
         "name": "Acceleration",
         "dtype": "float64",
         "stats": {
          "unique_count": 96,
          "nan_count": 0,
          "min": "8.0",
          "max": "24.8",
          "histogram": [
           {
            "bin_start": 8,
            "bin_end": 9.68,
            "count": 7
           },
           {
            "bin_start": 9.68,
            "bin_end": 11.36,
            "count": 18
           },
           {
            "bin_start": 11.36,
            "bin_end": 13.040000000000001,
            "count": 51
           },
           {
            "bin_start": 13.040000000000001,
            "bin_end": 14.72,
            "count": 86
           },
           {
            "bin_start": 14.72,
            "bin_end": 16.4,
            "count": 93
           },
           {
            "bin_start": 16.4,
            "bin_end": 18.080000000000002,
            "count": 81
           },
           {
            "bin_start": 18.080000000000002,
            "bin_end": 19.76,
            "count": 45
           },
           {
            "bin_start": 19.76,
            "bin_end": 21.44,
            "count": 14
           },
           {
            "bin_start": 21.44,
            "bin_end": 23.12,
            "count": 7
           },
           {
            "bin_start": 23.12,
            "bin_end": 24.8,
            "count": 4
           }
          ]
         }
        },
        {
         "name": "Year",
         "dtype": "object",
         "stats": {
          "unique_count": 12,
          "nan_count": 0,
          "categories": [
           {
            "name": "1982-01-01",
            "count": 61
           },
           {
            "name": "1973-01-01",
            "count": 40
           },
           {
            "name": "10 others",
            "count": 305
           }
          ]
         }
        },
        {
         "name": "Origin",
         "dtype": "object",
         "stats": {
          "unique_count": 3,
          "nan_count": 0,
          "categories": [
           {
            "name": "USA",
            "count": 254
           },
           {
            "name": "Japan",
            "count": 79
           },
           {
            "name": "Europe",
            "count": 73
           }
          ]
         }
        },
        {
         "name": "_deepnote_index_column",
         "dtype": "int64"
        }
       ],
       "rows_top": [
        {
         "Unnamed: 0": 0,
         "Name": "chevrolet chevelle malibu",
         "Miles_per_Gallon": 18,
         "Cylinders": 8,
         "Displacement": 307,
         "Horsepower": 130,
         "Weight_in_lbs": 3504,
         "Acceleration": 12,
         "Year": "1970-01-01",
         "Origin": "USA",
         "_deepnote_index_column": 0
        },
        {
         "Unnamed: 0": 1,
         "Name": "buick skylark 320",
         "Miles_per_Gallon": 15,
         "Cylinders": 8,
         "Displacement": 350,
         "Horsepower": 165,
         "Weight_in_lbs": 3693,
         "Acceleration": 11.5,
         "Year": "1970-01-01",
         "Origin": "USA",
         "_deepnote_index_column": 1
        },
        {
         "Unnamed: 0": 2,
         "Name": "plymouth satellite",
         "Miles_per_Gallon": 18,
         "Cylinders": 8,
         "Displacement": 318,
         "Horsepower": 150,
         "Weight_in_lbs": 3436,
         "Acceleration": 11,
         "Year": "1970-01-01",
         "Origin": "USA",
         "_deepnote_index_column": 2
        },
        {
         "Unnamed: 0": 3,
         "Name": "amc rebel sst",
         "Miles_per_Gallon": 16,
         "Cylinders": 8,
         "Displacement": 304,
         "Horsepower": 150,
         "Weight_in_lbs": 3433,
         "Acceleration": 12,
         "Year": "1970-01-01",
         "Origin": "USA",
         "_deepnote_index_column": 3
        },
        {
         "Unnamed: 0": 4,
         "Name": "ford torino",
         "Miles_per_Gallon": 17,
         "Cylinders": 8,
         "Displacement": 302,
         "Horsepower": 140,
         "Weight_in_lbs": 3449,
         "Acceleration": 10.5,
         "Year": "1970-01-01",
         "Origin": "USA",
         "_deepnote_index_column": 4
        },
        {
         "Unnamed: 0": 5,
         "Name": "ford galaxie 500",
         "Miles_per_Gallon": 15,
         "Cylinders": 8,
         "Displacement": 429,
         "Horsepower": 198,
         "Weight_in_lbs": 4341,
         "Acceleration": 10,
         "Year": "1970-01-01",
         "Origin": "USA",
         "_deepnote_index_column": 5
        },
        {
         "Unnamed: 0": 6,
         "Name": "chevrolet impala",
         "Miles_per_Gallon": 14,
         "Cylinders": 8,
         "Displacement": 454,
         "Horsepower": 220,
         "Weight_in_lbs": 4354,
         "Acceleration": 9,
         "Year": "1970-01-01",
         "Origin": "USA",
         "_deepnote_index_column": 6
        },
        {
         "Unnamed: 0": 7,
         "Name": "plymouth fury iii",
         "Miles_per_Gallon": 14,
         "Cylinders": 8,
         "Displacement": 440,
         "Horsepower": 215,
         "Weight_in_lbs": 4312,
         "Acceleration": 8.5,
         "Year": "1970-01-01",
         "Origin": "USA",
         "_deepnote_index_column": 7
        },
        {
         "Unnamed: 0": 8,
         "Name": "pontiac catalina",
         "Miles_per_Gallon": 14,
         "Cylinders": 8,
         "Displacement": 455,
         "Horsepower": 225,
         "Weight_in_lbs": 4425,
         "Acceleration": 10,
         "Year": "1970-01-01",
         "Origin": "USA",
         "_deepnote_index_column": 8
        },
        {
         "Unnamed: 0": 9,
         "Name": "amc ambassador dpl",
         "Miles_per_Gallon": 15,
         "Cylinders": 8,
         "Displacement": 390,
         "Horsepower": 190,
         "Weight_in_lbs": 3850,
         "Acceleration": 8.5,
         "Year": "1970-01-01",
         "Origin": "USA",
         "_deepnote_index_column": 9
        },
        {
         "Unnamed: 0": 10,
         "Name": "citroen ds-21 pallas",
         "Miles_per_Gallon": "nan",
         "Cylinders": 4,
         "Displacement": 133,
         "Horsepower": 115,
         "Weight_in_lbs": 3090,
         "Acceleration": 17.5,
         "Year": "1970-01-01",
         "Origin": "Europe",
         "_deepnote_index_column": 10
        },
        {
         "Unnamed: 0": 11,
         "Name": "chevrolet chevelle concours (sw)",
         "Miles_per_Gallon": "nan",
         "Cylinders": 8,
         "Displacement": 350,
         "Horsepower": 165,
         "Weight_in_lbs": 4142,
         "Acceleration": 11.5,
         "Year": "1970-01-01",
         "Origin": "USA",
         "_deepnote_index_column": 11
        },
        {
         "Unnamed: 0": 12,
         "Name": "ford torino (sw)",
         "Miles_per_Gallon": "nan",
         "Cylinders": 8,
         "Displacement": 351,
         "Horsepower": 153,
         "Weight_in_lbs": 4034,
         "Acceleration": 11,
         "Year": "1970-01-01",
         "Origin": "USA",
         "_deepnote_index_column": 12
        },
        {
         "Unnamed: 0": 13,
         "Name": "plymouth satellite (sw)",
         "Miles_per_Gallon": "nan",
         "Cylinders": 8,
         "Displacement": 383,
         "Horsepower": 175,
         "Weight_in_lbs": 4166,
         "Acceleration": 10.5,
         "Year": "1970-01-01",
         "Origin": "USA",
         "_deepnote_index_column": 13
        },
        {
         "Unnamed: 0": 14,
         "Name": "amc rebel sst (sw)",
         "Miles_per_Gallon": "nan",
         "Cylinders": 8,
         "Displacement": 360,
         "Horsepower": 175,
         "Weight_in_lbs": 3850,
         "Acceleration": 11,
         "Year": "1970-01-01",
         "Origin": "USA",
         "_deepnote_index_column": 14
        },
        {
         "Unnamed: 0": 15,
         "Name": "dodge challenger se",
         "Miles_per_Gallon": 15,
         "Cylinders": 8,
         "Displacement": 383,
         "Horsepower": 170,
         "Weight_in_lbs": 3563,
         "Acceleration": 10,
         "Year": "1970-01-01",
         "Origin": "USA",
         "_deepnote_index_column": 15
        },
        {
         "Unnamed: 0": 16,
         "Name": "plymouth 'cuda 340",
         "Miles_per_Gallon": 14,
         "Cylinders": 8,
         "Displacement": 340,
         "Horsepower": 160,
         "Weight_in_lbs": 3609,
         "Acceleration": 8,
         "Year": "1970-01-01",
         "Origin": "USA",
         "_deepnote_index_column": 16
        },
        {
         "Unnamed: 0": 17,
         "Name": "ford mustang boss 302",
         "Miles_per_Gallon": "nan",
         "Cylinders": 8,
         "Displacement": 302,
         "Horsepower": 140,
         "Weight_in_lbs": 3353,
         "Acceleration": 8,
         "Year": "1970-01-01",
         "Origin": "USA",
         "_deepnote_index_column": 17
        },
        {
         "Unnamed: 0": 18,
         "Name": "chevrolet monte carlo",
         "Miles_per_Gallon": 15,
         "Cylinders": 8,
         "Displacement": 400,
         "Horsepower": 150,
         "Weight_in_lbs": 3761,
         "Acceleration": 9.5,
         "Year": "1970-01-01",
         "Origin": "USA",
         "_deepnote_index_column": 18
        },
        {
         "Unnamed: 0": 19,
         "Name": "buick estate wagon (sw)",
         "Miles_per_Gallon": 14,
         "Cylinders": 8,
         "Displacement": 455,
         "Horsepower": 225,
         "Weight_in_lbs": 3086,
         "Acceleration": 10,
         "Year": "1970-01-01",
         "Origin": "USA",
         "_deepnote_index_column": 19
        },
        {
         "Unnamed: 0": 20,
         "Name": "toyota corona mark ii",
         "Miles_per_Gallon": 24,
         "Cylinders": 4,
         "Displacement": 113,
         "Horsepower": 95,
         "Weight_in_lbs": 2372,
         "Acceleration": 15,
         "Year": "1970-01-01",
         "Origin": "Japan",
         "_deepnote_index_column": 20
        },
        {
         "Unnamed: 0": 21,
         "Name": "plymouth duster",
         "Miles_per_Gallon": 22,
         "Cylinders": 6,
         "Displacement": 198,
         "Horsepower": 95,
         "Weight_in_lbs": 2833,
         "Acceleration": 15.5,
         "Year": "1970-01-01",
         "Origin": "USA",
         "_deepnote_index_column": 21
        },
        {
         "Unnamed: 0": 22,
         "Name": "amc hornet",
         "Miles_per_Gallon": 18,
         "Cylinders": 6,
         "Displacement": 199,
         "Horsepower": 97,
         "Weight_in_lbs": 2774,
         "Acceleration": 15.5,
         "Year": "1970-01-01",
         "Origin": "USA",
         "_deepnote_index_column": 22
        },
        {
         "Unnamed: 0": 23,
         "Name": "ford maverick",
         "Miles_per_Gallon": 21,
         "Cylinders": 6,
         "Displacement": 200,
         "Horsepower": 85,
         "Weight_in_lbs": 2587,
         "Acceleration": 16,
         "Year": "1970-01-01",
         "Origin": "USA",
         "_deepnote_index_column": 23
        },
        {
         "Unnamed: 0": 24,
         "Name": "datsun pl510",
         "Miles_per_Gallon": 27,
         "Cylinders": 4,
         "Displacement": 97,
         "Horsepower": 88,
         "Weight_in_lbs": 2130,
         "Acceleration": 14.5,
         "Year": "1970-01-01",
         "Origin": "Japan",
         "_deepnote_index_column": 24
        },
        {
         "Unnamed: 0": 25,
         "Name": "volkswagen 1131 deluxe sedan",
         "Miles_per_Gallon": 26,
         "Cylinders": 4,
         "Displacement": 97,
         "Horsepower": 46,
         "Weight_in_lbs": 1835,
         "Acceleration": 20.5,
         "Year": "1970-01-01",
         "Origin": "Europe",
         "_deepnote_index_column": 25
        },
        {
         "Unnamed: 0": 26,
         "Name": "peugeot 504",
         "Miles_per_Gallon": 25,
         "Cylinders": 4,
         "Displacement": 110,
         "Horsepower": 87,
         "Weight_in_lbs": 2672,
         "Acceleration": 17.5,
         "Year": "1970-01-01",
         "Origin": "Europe",
         "_deepnote_index_column": 26
        },
        {
         "Unnamed: 0": 27,
         "Name": "audi 100 ls",
         "Miles_per_Gallon": 24,
         "Cylinders": 4,
         "Displacement": 107,
         "Horsepower": 90,
         "Weight_in_lbs": 2430,
         "Acceleration": 14.5,
         "Year": "1970-01-01",
         "Origin": "Europe",
         "_deepnote_index_column": 27
        },
        {
         "Unnamed: 0": 28,
         "Name": "saab 99e",
         "Miles_per_Gallon": 25,
         "Cylinders": 4,
         "Displacement": 104,
         "Horsepower": 95,
         "Weight_in_lbs": 2375,
         "Acceleration": 17.5,
         "Year": "1970-01-01",
         "Origin": "Europe",
         "_deepnote_index_column": 28
        },
        {
         "Unnamed: 0": 29,
         "Name": "bmw 2002",
         "Miles_per_Gallon": 26,
         "Cylinders": 4,
         "Displacement": 121,
         "Horsepower": 113,
         "Weight_in_lbs": 2234,
         "Acceleration": 12.5,
         "Year": "1970-01-01",
         "Origin": "Europe",
         "_deepnote_index_column": 29
        },
        {
         "Unnamed: 0": 30,
         "Name": "amc gremlin",
         "Miles_per_Gallon": 21,
         "Cylinders": 6,
         "Displacement": 199,
         "Horsepower": 90,
         "Weight_in_lbs": 2648,
         "Acceleration": 15,
         "Year": "1970-01-01",
         "Origin": "USA",
         "_deepnote_index_column": 30
        },
        {
         "Unnamed: 0": 31,
         "Name": "ford f250",
         "Miles_per_Gallon": 10,
         "Cylinders": 8,
         "Displacement": 360,
         "Horsepower": 215,
         "Weight_in_lbs": 4615,
         "Acceleration": 14,
         "Year": "1970-01-01",
         "Origin": "USA",
         "_deepnote_index_column": 31
        },
        {
         "Unnamed: 0": 32,
         "Name": "chevy c20",
         "Miles_per_Gallon": 10,
         "Cylinders": 8,
         "Displacement": 307,
         "Horsepower": 200,
         "Weight_in_lbs": 4376,
         "Acceleration": 15,
         "Year": "1970-01-01",
         "Origin": "USA",
         "_deepnote_index_column": 32
        },
        {
         "Unnamed: 0": 33,
         "Name": "dodge d200",
         "Miles_per_Gallon": 11,
         "Cylinders": 8,
         "Displacement": 318,
         "Horsepower": 210,
         "Weight_in_lbs": 4382,
         "Acceleration": 13.5,
         "Year": "1970-01-01",
         "Origin": "USA",
         "_deepnote_index_column": 33
        },
        {
         "Unnamed: 0": 34,
         "Name": "hi 1200d",
         "Miles_per_Gallon": 9,
         "Cylinders": 8,
         "Displacement": 304,
         "Horsepower": 193,
         "Weight_in_lbs": 4732,
         "Acceleration": 18.5,
         "Year": "1970-01-01",
         "Origin": "USA",
         "_deepnote_index_column": 34
        },
        {
         "Unnamed: 0": 35,
         "Name": "datsun pl510",
         "Miles_per_Gallon": 27,
         "Cylinders": 4,
         "Displacement": 97,
         "Horsepower": 88,
         "Weight_in_lbs": 2130,
         "Acceleration": 14.5,
         "Year": "1971-01-01",
         "Origin": "Japan",
         "_deepnote_index_column": 35
        },
        {
         "Unnamed: 0": 36,
         "Name": "chevrolet vega 2300",
         "Miles_per_Gallon": 28,
         "Cylinders": 4,
         "Displacement": 140,
         "Horsepower": 90,
         "Weight_in_lbs": 2264,
         "Acceleration": 15.5,
         "Year": "1971-01-01",
         "Origin": "USA",
         "_deepnote_index_column": 36
        },
        {
         "Unnamed: 0": 37,
         "Name": "toyota corona",
         "Miles_per_Gallon": 25,
         "Cylinders": 4,
         "Displacement": 113,
         "Horsepower": 95,
         "Weight_in_lbs": 2228,
         "Acceleration": 14,
         "Year": "1971-01-01",
         "Origin": "Japan",
         "_deepnote_index_column": 37
        },
        {
         "Unnamed: 0": 38,
         "Name": "ford pinto",
         "Miles_per_Gallon": 25,
         "Cylinders": 4,
         "Displacement": 98,
         "Horsepower": "nan",
         "Weight_in_lbs": 2046,
         "Acceleration": 19,
         "Year": "1971-01-01",
         "Origin": "USA",
         "_deepnote_index_column": 38
        },
        {
         "Unnamed: 0": 39,
         "Name": "volkswagen super beetle 117",
         "Miles_per_Gallon": "nan",
         "Cylinders": 4,
         "Displacement": 97,
         "Horsepower": 48,
         "Weight_in_lbs": 1978,
         "Acceleration": 20,
         "Year": "1971-01-01",
         "Origin": "Europe",
         "_deepnote_index_column": 39
        },
        {
         "Unnamed: 0": 40,
         "Name": "amc gremlin",
         "Miles_per_Gallon": 19,
         "Cylinders": 6,
         "Displacement": 232,
         "Horsepower": 100,
         "Weight_in_lbs": 2634,
         "Acceleration": 13,
         "Year": "1971-01-01",
         "Origin": "USA",
         "_deepnote_index_column": 40
        },
        {
         "Unnamed: 0": 41,
         "Name": "plymouth satellite custom",
         "Miles_per_Gallon": 16,
         "Cylinders": 6,
         "Displacement": 225,
         "Horsepower": 105,
         "Weight_in_lbs": 3439,
         "Acceleration": 15.5,
         "Year": "1971-01-01",
         "Origin": "USA",
         "_deepnote_index_column": 41
        },
        {
         "Unnamed: 0": 42,
         "Name": "chevrolet chevelle malibu",
         "Miles_per_Gallon": 17,
         "Cylinders": 6,
         "Displacement": 250,
         "Horsepower": 100,
         "Weight_in_lbs": 3329,
         "Acceleration": 15.5,
         "Year": "1971-01-01",
         "Origin": "USA",
         "_deepnote_index_column": 42
        },
        {
         "Unnamed: 0": 43,
         "Name": "ford torino 500",
         "Miles_per_Gallon": 19,
         "Cylinders": 6,
         "Displacement": 250,
         "Horsepower": 88,
         "Weight_in_lbs": 3302,
         "Acceleration": 15.5,
         "Year": "1971-01-01",
         "Origin": "USA",
         "_deepnote_index_column": 43
        },
        {
         "Unnamed: 0": 44,
         "Name": "amc matador",
         "Miles_per_Gallon": 18,
         "Cylinders": 6,
         "Displacement": 232,
         "Horsepower": 100,
         "Weight_in_lbs": 3288,
         "Acceleration": 15.5,
         "Year": "1971-01-01",
         "Origin": "USA",
         "_deepnote_index_column": 44
        },
        {
         "Unnamed: 0": 45,
         "Name": "chevrolet impala",
         "Miles_per_Gallon": 14,
         "Cylinders": 8,
         "Displacement": 350,
         "Horsepower": 165,
         "Weight_in_lbs": 4209,
         "Acceleration": 12,
         "Year": "1971-01-01",
         "Origin": "USA",
         "_deepnote_index_column": 45
        },
        {
         "Unnamed: 0": 46,
         "Name": "pontiac catalina brougham",
         "Miles_per_Gallon": 14,
         "Cylinders": 8,
         "Displacement": 400,
         "Horsepower": 175,
         "Weight_in_lbs": 4464,
         "Acceleration": 11.5,
         "Year": "1971-01-01",
         "Origin": "USA",
         "_deepnote_index_column": 46
        },
        {
         "Unnamed: 0": 47,
         "Name": "ford galaxie 500",
         "Miles_per_Gallon": 14,
         "Cylinders": 8,
         "Displacement": 351,
         "Horsepower": 153,
         "Weight_in_lbs": 4154,
         "Acceleration": 13.5,
         "Year": "1971-01-01",
         "Origin": "USA",
         "_deepnote_index_column": 47
        },
        {
         "Unnamed: 0": 48,
         "Name": "plymouth fury iii",
         "Miles_per_Gallon": 14,
         "Cylinders": 8,
         "Displacement": 318,
         "Horsepower": 150,
         "Weight_in_lbs": 4096,
         "Acceleration": 13,
         "Year": "1971-01-01",
         "Origin": "USA",
         "_deepnote_index_column": 48
        },
        {
         "Unnamed: 0": 49,
         "Name": "dodge monaco (sw)",
         "Miles_per_Gallon": 12,
         "Cylinders": 8,
         "Displacement": 383,
         "Horsepower": 180,
         "Weight_in_lbs": 4955,
         "Acceleration": 11.5,
         "Year": "1971-01-01",
         "Origin": "USA",
         "_deepnote_index_column": 49
        }
       ],
       "rows_bottom": [
        {
         "Unnamed: 0": 356,
         "Name": "mazda glc 4",
         "Miles_per_Gallon": 34.1,
         "Cylinders": 4,
         "Displacement": 91,
         "Horsepower": 68,
         "Weight_in_lbs": 1985,
         "Acceleration": 16,
         "Year": "1982-01-01",
         "Origin": "Japan",
         "_deepnote_index_column": 356
        },
        {
         "Unnamed: 0": 357,
         "Name": "plymouth horizon 4",
         "Miles_per_Gallon": 34.7,
         "Cylinders": 4,
         "Displacement": 105,
         "Horsepower": 63,
         "Weight_in_lbs": 2215,
         "Acceleration": 14.9,
         "Year": "1982-01-01",
         "Origin": "USA",
         "_deepnote_index_column": 357
        },
        {
         "Unnamed: 0": 358,
         "Name": "ford escort 4w",
         "Miles_per_Gallon": 34.4,
         "Cylinders": 4,
         "Displacement": 98,
         "Horsepower": 65,
         "Weight_in_lbs": 2045,
         "Acceleration": 16.2,
         "Year": "1982-01-01",
         "Origin": "USA",
         "_deepnote_index_column": 358
        },
        {
         "Unnamed: 0": 359,
         "Name": "ford escort 2h",
         "Miles_per_Gallon": 29.9,
         "Cylinders": 4,
         "Displacement": 98,
         "Horsepower": 65,
         "Weight_in_lbs": 2380,
         "Acceleration": 20.7,
         "Year": "1982-01-01",
         "Origin": "USA",
         "_deepnote_index_column": 359
        },
        {
         "Unnamed: 0": 360,
         "Name": "volkswagen jetta",
         "Miles_per_Gallon": 33,
         "Cylinders": 4,
         "Displacement": 105,
         "Horsepower": 74,
         "Weight_in_lbs": 2190,
         "Acceleration": 14.2,
         "Year": "1982-01-01",
         "Origin": "Europe",
         "_deepnote_index_column": 360
        },
        {
         "Unnamed: 0": 361,
         "Name": "renault 18i",
         "Miles_per_Gallon": 34.5,
         "Cylinders": 4,
         "Displacement": 100,
         "Horsepower": "nan",
         "Weight_in_lbs": 2320,
         "Acceleration": 15.8,
         "Year": "1982-01-01",
         "Origin": "Europe",
         "_deepnote_index_column": 361
        },
        {
         "Unnamed: 0": 362,
         "Name": "honda prelude",
         "Miles_per_Gallon": 33.7,
         "Cylinders": 4,
         "Displacement": 107,
         "Horsepower": 75,
         "Weight_in_lbs": 2210,
         "Acceleration": 14.4,
         "Year": "1982-01-01",
         "Origin": "Japan",
         "_deepnote_index_column": 362
        },
        {
         "Unnamed: 0": 363,
         "Name": "toyota corolla",
         "Miles_per_Gallon": 32.4,
         "Cylinders": 4,
         "Displacement": 108,
         "Horsepower": 75,
         "Weight_in_lbs": 2350,
         "Acceleration": 16.8,
         "Year": "1982-01-01",
         "Origin": "Japan",
         "_deepnote_index_column": 363
        },
        {
         "Unnamed: 0": 364,
         "Name": "datsun 200sx",
         "Miles_per_Gallon": 32.9,
         "Cylinders": 4,
         "Displacement": 119,
         "Horsepower": 100,
         "Weight_in_lbs": 2615,
         "Acceleration": 14.8,
         "Year": "1982-01-01",
         "Origin": "Japan",
         "_deepnote_index_column": 364
        },
        {
         "Unnamed: 0": 365,
         "Name": "mazda 626",
         "Miles_per_Gallon": 31.6,
         "Cylinders": 4,
         "Displacement": 120,
         "Horsepower": 74,
         "Weight_in_lbs": 2635,
         "Acceleration": 18.3,
         "Year": "1982-01-01",
         "Origin": "Japan",
         "_deepnote_index_column": 365
        },
        {
         "Unnamed: 0": 366,
         "Name": "peugeot 505s turbo diesel",
         "Miles_per_Gallon": 28.1,
         "Cylinders": 4,
         "Displacement": 141,
         "Horsepower": 80,
         "Weight_in_lbs": 3230,
         "Acceleration": 20.4,
         "Year": "1982-01-01",
         "Origin": "Europe",
         "_deepnote_index_column": 366
        },
        {
         "Unnamed: 0": 367,
         "Name": "saab 900s",
         "Miles_per_Gallon": "nan",
         "Cylinders": 4,
         "Displacement": 121,
         "Horsepower": 110,
         "Weight_in_lbs": 2800,
         "Acceleration": 15.4,
         "Year": "1982-01-01",
         "Origin": "Europe",
         "_deepnote_index_column": 367
        },
        {
         "Unnamed: 0": 368,
         "Name": "volvo diesel",
         "Miles_per_Gallon": 30.7,
         "Cylinders": 6,
         "Displacement": 145,
         "Horsepower": 76,
         "Weight_in_lbs": 3160,
         "Acceleration": 19.6,
         "Year": "1982-01-01",
         "Origin": "Europe",
         "_deepnote_index_column": 368
        },
        {
         "Unnamed: 0": 369,
         "Name": "toyota cressida",
         "Miles_per_Gallon": 25.4,
         "Cylinders": 6,
         "Displacement": 168,
         "Horsepower": 116,
         "Weight_in_lbs": 2900,
         "Acceleration": 12.6,
         "Year": "1982-01-01",
         "Origin": "Japan",
         "_deepnote_index_column": 369
        },
        {
         "Unnamed: 0": 370,
         "Name": "datsun 810 maxima",
         "Miles_per_Gallon": 24.2,
         "Cylinders": 6,
         "Displacement": 146,
         "Horsepower": 120,
         "Weight_in_lbs": 2930,
         "Acceleration": 13.8,
         "Year": "1982-01-01",
         "Origin": "Japan",
         "_deepnote_index_column": 370
        },
        {
         "Unnamed: 0": 371,
         "Name": "buick century",
         "Miles_per_Gallon": 22.4,
         "Cylinders": 6,
         "Displacement": 231,
         "Horsepower": 110,
         "Weight_in_lbs": 3415,
         "Acceleration": 15.8,
         "Year": "1982-01-01",
         "Origin": "USA",
         "_deepnote_index_column": 371
        },
        {
         "Unnamed: 0": 372,
         "Name": "oldsmobile cutlass ls",
         "Miles_per_Gallon": 26.6,
         "Cylinders": 8,
         "Displacement": 350,
         "Horsepower": 105,
         "Weight_in_lbs": 3725,
         "Acceleration": 19,
         "Year": "1982-01-01",
         "Origin": "USA",
         "_deepnote_index_column": 372
        },
        {
         "Unnamed: 0": 373,
         "Name": "ford granada gl",
         "Miles_per_Gallon": 20.2,
         "Cylinders": 6,
         "Displacement": 200,
         "Horsepower": 88,
         "Weight_in_lbs": 3060,
         "Acceleration": 17.1,
         "Year": "1982-01-01",
         "Origin": "USA",
         "_deepnote_index_column": 373
        },
        {
         "Unnamed: 0": 374,
         "Name": "chrysler lebaron salon",
         "Miles_per_Gallon": 17.6,
         "Cylinders": 6,
         "Displacement": 225,
         "Horsepower": 85,
         "Weight_in_lbs": 3465,
         "Acceleration": 16.6,
         "Year": "1982-01-01",
         "Origin": "USA",
         "_deepnote_index_column": 374
        },
        {
         "Unnamed: 0": 375,
         "Name": "chevrolet cavalier",
         "Miles_per_Gallon": 28,
         "Cylinders": 4,
         "Displacement": 112,
         "Horsepower": 88,
         "Weight_in_lbs": 2605,
         "Acceleration": 19.6,
         "Year": "1982-01-01",
         "Origin": "USA",
         "_deepnote_index_column": 375
        },
        {
         "Unnamed: 0": 376,
         "Name": "chevrolet cavalier wagon",
         "Miles_per_Gallon": 27,
         "Cylinders": 4,
         "Displacement": 112,
         "Horsepower": 88,
         "Weight_in_lbs": 2640,
         "Acceleration": 18.6,
         "Year": "1982-01-01",
         "Origin": "USA",
         "_deepnote_index_column": 376
        },
        {
         "Unnamed: 0": 377,
         "Name": "chevrolet cavalier 2-door",
         "Miles_per_Gallon": 34,
         "Cylinders": 4,
         "Displacement": 112,
         "Horsepower": 88,
         "Weight_in_lbs": 2395,
         "Acceleration": 18,
         "Year": "1982-01-01",
         "Origin": "USA",
         "_deepnote_index_column": 377
        },
        {
         "Unnamed: 0": 378,
         "Name": "pontiac j2000 se hatchback",
         "Miles_per_Gallon": 31,
         "Cylinders": 4,
         "Displacement": 112,
         "Horsepower": 85,
         "Weight_in_lbs": 2575,
         "Acceleration": 16.2,
         "Year": "1982-01-01",
         "Origin": "USA",
         "_deepnote_index_column": 378
        },
        {
         "Unnamed: 0": 379,
         "Name": "dodge aries se",
         "Miles_per_Gallon": 29,
         "Cylinders": 4,
         "Displacement": 135,
         "Horsepower": 84,
         "Weight_in_lbs": 2525,
         "Acceleration": 16,
         "Year": "1982-01-01",
         "Origin": "USA",
         "_deepnote_index_column": 379
        },
        {
         "Unnamed: 0": 380,
         "Name": "pontiac phoenix",
         "Miles_per_Gallon": 27,
         "Cylinders": 4,
         "Displacement": 151,
         "Horsepower": 90,
         "Weight_in_lbs": 2735,
         "Acceleration": 18,
         "Year": "1982-01-01",
         "Origin": "USA",
         "_deepnote_index_column": 380
        },
        {
         "Unnamed: 0": 381,
         "Name": "ford fairmont futura",
         "Miles_per_Gallon": 24,
         "Cylinders": 4,
         "Displacement": 140,
         "Horsepower": 92,
         "Weight_in_lbs": 2865,
         "Acceleration": 16.4,
         "Year": "1982-01-01",
         "Origin": "USA",
         "_deepnote_index_column": 381
        },
        {
         "Unnamed: 0": 382,
         "Name": "amc concord dl",
         "Miles_per_Gallon": 23,
         "Cylinders": 4,
         "Displacement": 151,
         "Horsepower": "nan",
         "Weight_in_lbs": 3035,
         "Acceleration": 20.5,
         "Year": "1982-01-01",
         "Origin": "USA",
         "_deepnote_index_column": 382
        },
        {
         "Unnamed: 0": 383,
         "Name": "volkswagen rabbit l",
         "Miles_per_Gallon": 36,
         "Cylinders": 4,
         "Displacement": 105,
         "Horsepower": 74,
         "Weight_in_lbs": 1980,
         "Acceleration": 15.3,
         "Year": "1982-01-01",
         "Origin": "Europe",
         "_deepnote_index_column": 383
        },
        {
         "Unnamed: 0": 384,
         "Name": "mazda glc custom l",
         "Miles_per_Gallon": 37,
         "Cylinders": 4,
         "Displacement": 91,
         "Horsepower": 68,
         "Weight_in_lbs": 2025,
         "Acceleration": 18.2,
         "Year": "1982-01-01",
         "Origin": "Japan",
         "_deepnote_index_column": 384
        },
        {
         "Unnamed: 0": 385,
         "Name": "mazda glc custom",
         "Miles_per_Gallon": 31,
         "Cylinders": 4,
         "Displacement": 91,
         "Horsepower": 68,
         "Weight_in_lbs": 1970,
         "Acceleration": 17.6,
         "Year": "1982-01-01",
         "Origin": "Japan",
         "_deepnote_index_column": 385
        },
        {
         "Unnamed: 0": 386,
         "Name": "plymouth horizon miser",
         "Miles_per_Gallon": 38,
         "Cylinders": 4,
         "Displacement": 105,
         "Horsepower": 63,
         "Weight_in_lbs": 2125,
         "Acceleration": 14.7,
         "Year": "1982-01-01",
         "Origin": "USA",
         "_deepnote_index_column": 386
        },
        {
         "Unnamed: 0": 387,
         "Name": "mercury lynx l",
         "Miles_per_Gallon": 36,
         "Cylinders": 4,
         "Displacement": 98,
         "Horsepower": 70,
         "Weight_in_lbs": 2125,
         "Acceleration": 17.3,
         "Year": "1982-01-01",
         "Origin": "USA",
         "_deepnote_index_column": 387
        },
        {
         "Unnamed: 0": 388,
         "Name": "nissan stanza xe",
         "Miles_per_Gallon": 36,
         "Cylinders": 4,
         "Displacement": 120,
         "Horsepower": 88,
         "Weight_in_lbs": 2160,
         "Acceleration": 14.5,
         "Year": "1982-01-01",
         "Origin": "Japan",
         "_deepnote_index_column": 388
        },
        {
         "Unnamed: 0": 389,
         "Name": "honda Accelerationord",
         "Miles_per_Gallon": 36,
         "Cylinders": 4,
         "Displacement": 107,
         "Horsepower": 75,
         "Weight_in_lbs": 2205,
         "Acceleration": 14.5,
         "Year": "1982-01-01",
         "Origin": "Japan",
         "_deepnote_index_column": 389
        },
        {
         "Unnamed: 0": 390,
         "Name": "toyota corolla",
         "Miles_per_Gallon": 34,
         "Cylinders": 4,
         "Displacement": 108,
         "Horsepower": 70,
         "Weight_in_lbs": 2245,
         "Acceleration": 16.9,
         "Year": "1982-01-01",
         "Origin": "Japan",
         "_deepnote_index_column": 390
        },
        {
         "Unnamed: 0": 391,
         "Name": "honda civic",
         "Miles_per_Gallon": 38,
         "Cylinders": 4,
         "Displacement": 91,
         "Horsepower": 67,
         "Weight_in_lbs": 1965,
         "Acceleration": 15,
         "Year": "1982-01-01",
         "Origin": "Japan",
         "_deepnote_index_column": 391
        },
        {
         "Unnamed: 0": 392,
         "Name": "honda civic (auto)",
         "Miles_per_Gallon": 32,
         "Cylinders": 4,
         "Displacement": 91,
         "Horsepower": 67,
         "Weight_in_lbs": 1965,
         "Acceleration": 15.7,
         "Year": "1982-01-01",
         "Origin": "Japan",
         "_deepnote_index_column": 392
        },
        {
         "Unnamed: 0": 393,
         "Name": "datsun 310 gx",
         "Miles_per_Gallon": 38,
         "Cylinders": 4,
         "Displacement": 91,
         "Horsepower": 67,
         "Weight_in_lbs": 1995,
         "Acceleration": 16.2,
         "Year": "1982-01-01",
         "Origin": "Japan",
         "_deepnote_index_column": 393
        },
        {
         "Unnamed: 0": 394,
         "Name": "buick century limited",
         "Miles_per_Gallon": 25,
         "Cylinders": 6,
         "Displacement": 181,
         "Horsepower": 110,
         "Weight_in_lbs": 2945,
         "Acceleration": 16.4,
         "Year": "1982-01-01",
         "Origin": "USA",
         "_deepnote_index_column": 394
        },
        {
         "Unnamed: 0": 395,
         "Name": "oldsmobile cutlass ciera (diesel)",
         "Miles_per_Gallon": 38,
         "Cylinders": 6,
         "Displacement": 262,
         "Horsepower": 85,
         "Weight_in_lbs": 3015,
         "Acceleration": 17,
         "Year": "1982-01-01",
         "Origin": "USA",
         "_deepnote_index_column": 395
        },
        {
         "Unnamed: 0": 396,
         "Name": "chrysler lebaron medallion",
         "Miles_per_Gallon": 26,
         "Cylinders": 4,
         "Displacement": 156,
         "Horsepower": 92,
         "Weight_in_lbs": 2585,
         "Acceleration": 14.5,
         "Year": "1982-01-01",
         "Origin": "USA",
         "_deepnote_index_column": 396
        },
        {
         "Unnamed: 0": 397,
         "Name": "ford granada l",
         "Miles_per_Gallon": 22,
         "Cylinders": 6,
         "Displacement": 232,
         "Horsepower": 112,
         "Weight_in_lbs": 2835,
         "Acceleration": 14.7,
         "Year": "1982-01-01",
         "Origin": "USA",
         "_deepnote_index_column": 397
        },
        {
         "Unnamed: 0": 398,
         "Name": "toyota celica gt",
         "Miles_per_Gallon": 32,
         "Cylinders": 4,
         "Displacement": 144,
         "Horsepower": 96,
         "Weight_in_lbs": 2665,
         "Acceleration": 13.9,
         "Year": "1982-01-01",
         "Origin": "Japan",
         "_deepnote_index_column": 398
        },
        {
         "Unnamed: 0": 399,
         "Name": "dodge charger 2.2",
         "Miles_per_Gallon": 36,
         "Cylinders": 4,
         "Displacement": 135,
         "Horsepower": 84,
         "Weight_in_lbs": 2370,
         "Acceleration": 13,
         "Year": "1982-01-01",
         "Origin": "USA",
         "_deepnote_index_column": 399
        },
        {
         "Unnamed: 0": 400,
         "Name": "chevrolet camaro",
         "Miles_per_Gallon": 27,
         "Cylinders": 4,
         "Displacement": 151,
         "Horsepower": 90,
         "Weight_in_lbs": 2950,
         "Acceleration": 17.3,
         "Year": "1982-01-01",
         "Origin": "USA",
         "_deepnote_index_column": 400
        },
        {
         "Unnamed: 0": 401,
         "Name": "ford mustang gl",
         "Miles_per_Gallon": 27,
         "Cylinders": 4,
         "Displacement": 140,
         "Horsepower": 86,
         "Weight_in_lbs": 2790,
         "Acceleration": 15.6,
         "Year": "1982-01-01",
         "Origin": "USA",
         "_deepnote_index_column": 401
        },
        {
         "Unnamed: 0": 402,
         "Name": "vw pickup",
         "Miles_per_Gallon": 44,
         "Cylinders": 4,
         "Displacement": 97,
         "Horsepower": 52,
         "Weight_in_lbs": 2130,
         "Acceleration": 24.6,
         "Year": "1982-01-01",
         "Origin": "Europe",
         "_deepnote_index_column": 402
        },
        {
         "Unnamed: 0": 403,
         "Name": "dodge rampage",
         "Miles_per_Gallon": 32,
         "Cylinders": 4,
         "Displacement": 135,
         "Horsepower": 84,
         "Weight_in_lbs": 2295,
         "Acceleration": 11.6,
         "Year": "1982-01-01",
         "Origin": "USA",
         "_deepnote_index_column": 403
        },
        {
         "Unnamed: 0": 404,
         "Name": "ford ranger",
         "Miles_per_Gallon": 28,
         "Cylinders": 4,
         "Displacement": 120,
         "Horsepower": 79,
         "Weight_in_lbs": 2625,
         "Acceleration": 18.6,
         "Year": "1982-01-01",
         "Origin": "USA",
         "_deepnote_index_column": 404
        },
        {
         "Unnamed: 0": 405,
         "Name": "chevy s-10",
         "Miles_per_Gallon": 31,
         "Cylinders": 4,
         "Displacement": 119,
         "Horsepower": 82,
         "Weight_in_lbs": 2720,
         "Acceleration": 19.4,
         "Year": "1982-01-01",
         "Origin": "USA",
         "_deepnote_index_column": 405
        }
       ]
      },
      "text/plain": "     Unnamed: 0                       Name  Miles_per_Gallon  Cylinders  \\\n0             0  chevrolet chevelle malibu              18.0          8   \n1             1          buick skylark 320              15.0          8   \n2             2         plymouth satellite              18.0          8   \n3             3              amc rebel sst              16.0          8   \n4             4                ford torino              17.0          8   \n..          ...                        ...               ...        ...   \n401         401            ford mustang gl              27.0          4   \n402         402                  vw pickup              44.0          4   \n403         403              dodge rampage              32.0          4   \n404         404                ford ranger              28.0          4   \n405         405                 chevy s-10              31.0          4   \n\n     Displacement  Horsepower  Weight_in_lbs  Acceleration        Year  Origin  \n0           307.0       130.0           3504          12.0  1970-01-01     USA  \n1           350.0       165.0           3693          11.5  1970-01-01     USA  \n2           318.0       150.0           3436          11.0  1970-01-01     USA  \n3           304.0       150.0           3433          12.0  1970-01-01     USA  \n4           302.0       140.0           3449          10.5  1970-01-01     USA  \n..            ...         ...            ...           ...         ...     ...  \n401         140.0        86.0           2790          15.6  1982-01-01     USA  \n402          97.0        52.0           2130          24.6  1982-01-01  Europe  \n403         135.0        84.0           2295          11.6  1982-01-01     USA  \n404         120.0        79.0           2625          18.6  1982-01-01     USA  \n405         119.0        82.0           2720          19.4  1982-01-01     USA  \n\n[406 rows x 10 columns]",
      "text/html": "<div>\n<style scoped>\n    .dataframe tbody tr th:only-of-type {\n        vertical-align: middle;\n    }\n\n    .dataframe tbody tr th {\n        vertical-align: top;\n    }\n\n    .dataframe thead th {\n        text-align: right;\n    }\n</style>\n<table border=\"1\" class=\"dataframe\">\n  <thead>\n    <tr style=\"text-align: right;\">\n      <th></th>\n      <th>Unnamed: 0</th>\n      <th>Name</th>\n      <th>Miles_per_Gallon</th>\n      <th>Cylinders</th>\n      <th>Displacement</th>\n      <th>Horsepower</th>\n      <th>Weight_in_lbs</th>\n      <th>Acceleration</th>\n      <th>Year</th>\n      <th>Origin</th>\n    </tr>\n  </thead>\n  <tbody>\n    <tr>\n      <th>0</th>\n      <td>0</td>\n      <td>chevrolet chevelle malibu</td>\n      <td>18.0</td>\n      <td>8</td>\n      <td>307.0</td>\n      <td>130.0</td>\n      <td>3504</td>\n      <td>12.0</td>\n      <td>1970-01-01</td>\n      <td>USA</td>\n    </tr>\n    <tr>\n      <th>1</th>\n      <td>1</td>\n      <td>buick skylark 320</td>\n      <td>15.0</td>\n      <td>8</td>\n      <td>350.0</td>\n      <td>165.0</td>\n      <td>3693</td>\n      <td>11.5</td>\n      <td>1970-01-01</td>\n      <td>USA</td>\n    </tr>\n    <tr>\n      <th>2</th>\n      <td>2</td>\n      <td>plymouth satellite</td>\n      <td>18.0</td>\n      <td>8</td>\n      <td>318.0</td>\n      <td>150.0</td>\n      <td>3436</td>\n      <td>11.0</td>\n      <td>1970-01-01</td>\n      <td>USA</td>\n    </tr>\n    <tr>\n      <th>3</th>\n      <td>3</td>\n      <td>amc rebel sst</td>\n      <td>16.0</td>\n      <td>8</td>\n      <td>304.0</td>\n      <td>150.0</td>\n      <td>3433</td>\n      <td>12.0</td>\n      <td>1970-01-01</td>\n      <td>USA</td>\n    </tr>\n    <tr>\n      <th>4</th>\n      <td>4</td>\n      <td>ford torino</td>\n      <td>17.0</td>\n      <td>8</td>\n      <td>302.0</td>\n      <td>140.0</td>\n      <td>3449</td>\n      <td>10.5</td>\n      <td>1970-01-01</td>\n      <td>USA</td>\n    </tr>\n    <tr>\n      <th>...</th>\n      <td>...</td>\n      <td>...</td>\n      <td>...</td>\n      <td>...</td>\n      <td>...</td>\n      <td>...</td>\n      <td>...</td>\n      <td>...</td>\n      <td>...</td>\n      <td>...</td>\n    </tr>\n    <tr>\n      <th>401</th>\n      <td>401</td>\n      <td>ford mustang gl</td>\n      <td>27.0</td>\n      <td>4</td>\n      <td>140.0</td>\n      <td>86.0</td>\n      <td>2790</td>\n      <td>15.6</td>\n      <td>1982-01-01</td>\n      <td>USA</td>\n    </tr>\n    <tr>\n      <th>402</th>\n      <td>402</td>\n      <td>vw pickup</td>\n      <td>44.0</td>\n      <td>4</td>\n      <td>97.0</td>\n      <td>52.0</td>\n      <td>2130</td>\n      <td>24.6</td>\n      <td>1982-01-01</td>\n      <td>Europe</td>\n    </tr>\n    <tr>\n      <th>403</th>\n      <td>403</td>\n      <td>dodge rampage</td>\n      <td>32.0</td>\n      <td>4</td>\n      <td>135.0</td>\n      <td>84.0</td>\n      <td>2295</td>\n      <td>11.6</td>\n      <td>1982-01-01</td>\n      <td>USA</td>\n    </tr>\n    <tr>\n      <th>404</th>\n      <td>404</td>\n      <td>ford ranger</td>\n      <td>28.0</td>\n      <td>4</td>\n      <td>120.0</td>\n      <td>79.0</td>\n      <td>2625</td>\n      <td>18.6</td>\n      <td>1982-01-01</td>\n      <td>USA</td>\n    </tr>\n    <tr>\n      <th>405</th>\n      <td>405</td>\n      <td>chevy s-10</td>\n      <td>31.0</td>\n      <td>4</td>\n      <td>119.0</td>\n      <td>82.0</td>\n      <td>2720</td>\n      <td>19.4</td>\n      <td>1982-01-01</td>\n      <td>USA</td>\n    </tr>\n  </tbody>\n</table>\n<p>406 rows × 10 columns</p>\n</div>"
     },
     "metadata": {},
     "output_type": "display_data"
    }
   ]
  },
  {
   "cell_type": "code",
   "metadata": {
    "tags": [],
    "cell_id": "00008-e5149bb0-a0a3-4596-8999-012654dc68cd",
    "deepnote_to_be_reexecuted": false,
    "source_hash": "f30f989a",
    "execution_start": 1633631432478,
    "execution_millis": 20,
    "deepnote_cell_type": "code"
   },
   "source": "df.head(10)",
   "execution_count": null,
   "outputs": [
    {
     "output_type": "execute_result",
     "execution_count": 5,
     "data": {
      "application/vnd.deepnote.dataframe.v2+json": {
       "row_count": 10,
       "column_count": 10,
       "columns": [
        {
         "name": "Unnamed: 0",
         "dtype": "int64",
         "stats": {
          "unique_count": 10,
          "nan_count": 0,
          "min": "0",
          "max": "9",
          "histogram": [
           {
            "bin_start": 0,
            "bin_end": 0.9,
            "count": 1
           },
           {
            "bin_start": 0.9,
            "bin_end": 1.8,
            "count": 1
           },
           {
            "bin_start": 1.8,
            "bin_end": 2.7,
            "count": 1
           },
           {
            "bin_start": 2.7,
            "bin_end": 3.6,
            "count": 1
           },
           {
            "bin_start": 3.6,
            "bin_end": 4.5,
            "count": 1
           },
           {
            "bin_start": 4.5,
            "bin_end": 5.4,
            "count": 1
           },
           {
            "bin_start": 5.4,
            "bin_end": 6.3,
            "count": 1
           },
           {
            "bin_start": 6.3,
            "bin_end": 7.2,
            "count": 1
           },
           {
            "bin_start": 7.2,
            "bin_end": 8.1,
            "count": 1
           },
           {
            "bin_start": 8.1,
            "bin_end": 9,
            "count": 1
           }
          ]
         }
        },
        {
         "name": "Name",
         "dtype": "object",
         "stats": {
          "unique_count": 10,
          "nan_count": 0,
          "categories": [
           {
            "name": "chevrolet chevelle malibu",
            "count": 1
           },
           {
            "name": "buick skylark 320",
            "count": 1
           },
           {
            "name": "8 others",
            "count": 8
           }
          ]
         }
        },
        {
         "name": "Miles_per_Gallon",
         "dtype": "float64",
         "stats": {
          "unique_count": 5,
          "nan_count": 0,
          "min": "14.0",
          "max": "18.0",
          "histogram": [
           {
            "bin_start": 14,
            "bin_end": 14.4,
            "count": 3
           },
           {
            "bin_start": 14.4,
            "bin_end": 14.8,
            "count": 0
           },
           {
            "bin_start": 14.8,
            "bin_end": 15.2,
            "count": 3
           },
           {
            "bin_start": 15.2,
            "bin_end": 15.6,
            "count": 0
           },
           {
            "bin_start": 15.6,
            "bin_end": 16,
            "count": 0
           },
           {
            "bin_start": 16,
            "bin_end": 16.4,
            "count": 1
           },
           {
            "bin_start": 16.4,
            "bin_end": 16.8,
            "count": 0
           },
           {
            "bin_start": 16.8,
            "bin_end": 17.2,
            "count": 1
           },
           {
            "bin_start": 17.2,
            "bin_end": 17.6,
            "count": 0
           },
           {
            "bin_start": 17.6,
            "bin_end": 18,
            "count": 2
           }
          ]
         }
        },
        {
         "name": "Cylinders",
         "dtype": "int64",
         "stats": {
          "unique_count": 1,
          "nan_count": 0,
          "min": "8",
          "max": "8",
          "histogram": [
           {
            "bin_start": 7.5,
            "bin_end": 7.6,
            "count": 0
           },
           {
            "bin_start": 7.6,
            "bin_end": 7.7,
            "count": 0
           },
           {
            "bin_start": 7.7,
            "bin_end": 7.8,
            "count": 0
           },
           {
            "bin_start": 7.8,
            "bin_end": 7.9,
            "count": 0
           },
           {
            "bin_start": 7.9,
            "bin_end": 8,
            "count": 0
           },
           {
            "bin_start": 8,
            "bin_end": 8.1,
            "count": 10
           },
           {
            "bin_start": 8.1,
            "bin_end": 8.2,
            "count": 0
           },
           {
            "bin_start": 8.2,
            "bin_end": 8.3,
            "count": 0
           },
           {
            "bin_start": 8.3,
            "bin_end": 8.4,
            "count": 0
           },
           {
            "bin_start": 8.4,
            "bin_end": 8.5,
            "count": 0
           }
          ]
         }
        },
        {
         "name": "Displacement",
         "dtype": "float64",
         "stats": {
          "unique_count": 10,
          "nan_count": 0,
          "min": "302.0",
          "max": "455.0",
          "histogram": [
           {
            "bin_start": 302,
            "bin_end": 317.3,
            "count": 3
           },
           {
            "bin_start": 317.3,
            "bin_end": 332.6,
            "count": 1
           },
           {
            "bin_start": 332.6,
            "bin_end": 347.9,
            "count": 0
           },
           {
            "bin_start": 347.9,
            "bin_end": 363.2,
            "count": 1
           },
           {
            "bin_start": 363.2,
            "bin_end": 378.5,
            "count": 0
           },
           {
            "bin_start": 378.5,
            "bin_end": 393.8,
            "count": 1
           },
           {
            "bin_start": 393.8,
            "bin_end": 409.1,
            "count": 0
           },
           {
            "bin_start": 409.1,
            "bin_end": 424.4,
            "count": 0
           },
           {
            "bin_start": 424.4,
            "bin_end": 439.70000000000005,
            "count": 1
           },
           {
            "bin_start": 439.70000000000005,
            "bin_end": 455,
            "count": 3
           }
          ]
         }
        },
        {
         "name": "Horsepower",
         "dtype": "float64",
         "stats": {
          "unique_count": 9,
          "nan_count": 0,
          "min": "130.0",
          "max": "225.0",
          "histogram": [
           {
            "bin_start": 130,
            "bin_end": 139.5,
            "count": 1
           },
           {
            "bin_start": 139.5,
            "bin_end": 149,
            "count": 1
           },
           {
            "bin_start": 149,
            "bin_end": 158.5,
            "count": 2
           },
           {
            "bin_start": 158.5,
            "bin_end": 168,
            "count": 1
           },
           {
            "bin_start": 168,
            "bin_end": 177.5,
            "count": 0
           },
           {
            "bin_start": 177.5,
            "bin_end": 187,
            "count": 0
           },
           {
            "bin_start": 187,
            "bin_end": 196.5,
            "count": 1
           },
           {
            "bin_start": 196.5,
            "bin_end": 206,
            "count": 1
           },
           {
            "bin_start": 206,
            "bin_end": 215.5,
            "count": 1
           },
           {
            "bin_start": 215.5,
            "bin_end": 225,
            "count": 2
           }
          ]
         }
        },
        {
         "name": "Weight_in_lbs",
         "dtype": "int64",
         "stats": {
          "unique_count": 10,
          "nan_count": 0,
          "min": "3433",
          "max": "4425",
          "histogram": [
           {
            "bin_start": 3433,
            "bin_end": 3532.2,
            "count": 4
           },
           {
            "bin_start": 3532.2,
            "bin_end": 3631.4,
            "count": 0
           },
           {
            "bin_start": 3631.4,
            "bin_end": 3730.6,
            "count": 1
           },
           {
            "bin_start": 3730.6,
            "bin_end": 3829.8,
            "count": 0
           },
           {
            "bin_start": 3829.8,
            "bin_end": 3929,
            "count": 1
           },
           {
            "bin_start": 3929,
            "bin_end": 4028.2,
            "count": 0
           },
           {
            "bin_start": 4028.2,
            "bin_end": 4127.4,
            "count": 0
           },
           {
            "bin_start": 4127.4,
            "bin_end": 4226.6,
            "count": 0
           },
           {
            "bin_start": 4226.6,
            "bin_end": 4325.8,
            "count": 1
           },
           {
            "bin_start": 4325.8,
            "bin_end": 4425,
            "count": 3
           }
          ]
         }
        },
        {
         "name": "Acceleration",
         "dtype": "float64",
         "stats": {
          "unique_count": 7,
          "nan_count": 0,
          "min": "8.5",
          "max": "12.0",
          "histogram": [
           {
            "bin_start": 8.5,
            "bin_end": 8.85,
            "count": 2
           },
           {
            "bin_start": 8.85,
            "bin_end": 9.2,
            "count": 1
           },
           {
            "bin_start": 9.2,
            "bin_end": 9.55,
            "count": 0
           },
           {
            "bin_start": 9.55,
            "bin_end": 9.9,
            "count": 0
           },
           {
            "bin_start": 9.9,
            "bin_end": 10.25,
            "count": 2
           },
           {
            "bin_start": 10.25,
            "bin_end": 10.6,
            "count": 1
           },
           {
            "bin_start": 10.6,
            "bin_end": 10.95,
            "count": 0
           },
           {
            "bin_start": 10.95,
            "bin_end": 11.3,
            "count": 1
           },
           {
            "bin_start": 11.3,
            "bin_end": 11.65,
            "count": 1
           },
           {
            "bin_start": 11.65,
            "bin_end": 12,
            "count": 2
           }
          ]
         }
        },
        {
         "name": "Year",
         "dtype": "object",
         "stats": {
          "unique_count": 1,
          "nan_count": 0,
          "categories": [
           {
            "name": "1970-01-01",
            "count": 10
           }
          ]
         }
        },
        {
         "name": "Origin",
         "dtype": "object",
         "stats": {
          "unique_count": 1,
          "nan_count": 0,
          "categories": [
           {
            "name": "USA",
            "count": 10
           }
          ]
         }
        },
        {
         "name": "_deepnote_index_column",
         "dtype": "int64"
        }
       ],
       "rows_top": [
        {
         "Unnamed: 0": 0,
         "Name": "chevrolet chevelle malibu",
         "Miles_per_Gallon": 18,
         "Cylinders": 8,
         "Displacement": 307,
         "Horsepower": 130,
         "Weight_in_lbs": 3504,
         "Acceleration": 12,
         "Year": "1970-01-01",
         "Origin": "USA",
         "_deepnote_index_column": 0
        },
        {
         "Unnamed: 0": 1,
         "Name": "buick skylark 320",
         "Miles_per_Gallon": 15,
         "Cylinders": 8,
         "Displacement": 350,
         "Horsepower": 165,
         "Weight_in_lbs": 3693,
         "Acceleration": 11.5,
         "Year": "1970-01-01",
         "Origin": "USA",
         "_deepnote_index_column": 1
        },
        {
         "Unnamed: 0": 2,
         "Name": "plymouth satellite",
         "Miles_per_Gallon": 18,
         "Cylinders": 8,
         "Displacement": 318,
         "Horsepower": 150,
         "Weight_in_lbs": 3436,
         "Acceleration": 11,
         "Year": "1970-01-01",
         "Origin": "USA",
         "_deepnote_index_column": 2
        },
        {
         "Unnamed: 0": 3,
         "Name": "amc rebel sst",
         "Miles_per_Gallon": 16,
         "Cylinders": 8,
         "Displacement": 304,
         "Horsepower": 150,
         "Weight_in_lbs": 3433,
         "Acceleration": 12,
         "Year": "1970-01-01",
         "Origin": "USA",
         "_deepnote_index_column": 3
        },
        {
         "Unnamed: 0": 4,
         "Name": "ford torino",
         "Miles_per_Gallon": 17,
         "Cylinders": 8,
         "Displacement": 302,
         "Horsepower": 140,
         "Weight_in_lbs": 3449,
         "Acceleration": 10.5,
         "Year": "1970-01-01",
         "Origin": "USA",
         "_deepnote_index_column": 4
        },
        {
         "Unnamed: 0": 5,
         "Name": "ford galaxie 500",
         "Miles_per_Gallon": 15,
         "Cylinders": 8,
         "Displacement": 429,
         "Horsepower": 198,
         "Weight_in_lbs": 4341,
         "Acceleration": 10,
         "Year": "1970-01-01",
         "Origin": "USA",
         "_deepnote_index_column": 5
        },
        {
         "Unnamed: 0": 6,
         "Name": "chevrolet impala",
         "Miles_per_Gallon": 14,
         "Cylinders": 8,
         "Displacement": 454,
         "Horsepower": 220,
         "Weight_in_lbs": 4354,
         "Acceleration": 9,
         "Year": "1970-01-01",
         "Origin": "USA",
         "_deepnote_index_column": 6
        },
        {
         "Unnamed: 0": 7,
         "Name": "plymouth fury iii",
         "Miles_per_Gallon": 14,
         "Cylinders": 8,
         "Displacement": 440,
         "Horsepower": 215,
         "Weight_in_lbs": 4312,
         "Acceleration": 8.5,
         "Year": "1970-01-01",
         "Origin": "USA",
         "_deepnote_index_column": 7
        },
        {
         "Unnamed: 0": 8,
         "Name": "pontiac catalina",
         "Miles_per_Gallon": 14,
         "Cylinders": 8,
         "Displacement": 455,
         "Horsepower": 225,
         "Weight_in_lbs": 4425,
         "Acceleration": 10,
         "Year": "1970-01-01",
         "Origin": "USA",
         "_deepnote_index_column": 8
        },
        {
         "Unnamed: 0": 9,
         "Name": "amc ambassador dpl",
         "Miles_per_Gallon": 15,
         "Cylinders": 8,
         "Displacement": 390,
         "Horsepower": 190,
         "Weight_in_lbs": 3850,
         "Acceleration": 8.5,
         "Year": "1970-01-01",
         "Origin": "USA",
         "_deepnote_index_column": 9
        }
       ],
       "rows_bottom": null
      },
      "text/plain": "   Unnamed: 0                       Name  Miles_per_Gallon  Cylinders  \\\n0           0  chevrolet chevelle malibu              18.0          8   \n1           1          buick skylark 320              15.0          8   \n2           2         plymouth satellite              18.0          8   \n3           3              amc rebel sst              16.0          8   \n4           4                ford torino              17.0          8   \n5           5           ford galaxie 500              15.0          8   \n6           6           chevrolet impala              14.0          8   \n7           7          plymouth fury iii              14.0          8   \n8           8           pontiac catalina              14.0          8   \n9           9         amc ambassador dpl              15.0          8   \n\n   Displacement  Horsepower  Weight_in_lbs  Acceleration        Year Origin  \n0         307.0       130.0           3504          12.0  1970-01-01    USA  \n1         350.0       165.0           3693          11.5  1970-01-01    USA  \n2         318.0       150.0           3436          11.0  1970-01-01    USA  \n3         304.0       150.0           3433          12.0  1970-01-01    USA  \n4         302.0       140.0           3449          10.5  1970-01-01    USA  \n5         429.0       198.0           4341          10.0  1970-01-01    USA  \n6         454.0       220.0           4354           9.0  1970-01-01    USA  \n7         440.0       215.0           4312           8.5  1970-01-01    USA  \n8         455.0       225.0           4425          10.0  1970-01-01    USA  \n9         390.0       190.0           3850           8.5  1970-01-01    USA  ",
      "text/html": "<div>\n<style scoped>\n    .dataframe tbody tr th:only-of-type {\n        vertical-align: middle;\n    }\n\n    .dataframe tbody tr th {\n        vertical-align: top;\n    }\n\n    .dataframe thead th {\n        text-align: right;\n    }\n</style>\n<table border=\"1\" class=\"dataframe\">\n  <thead>\n    <tr style=\"text-align: right;\">\n      <th></th>\n      <th>Unnamed: 0</th>\n      <th>Name</th>\n      <th>Miles_per_Gallon</th>\n      <th>Cylinders</th>\n      <th>Displacement</th>\n      <th>Horsepower</th>\n      <th>Weight_in_lbs</th>\n      <th>Acceleration</th>\n      <th>Year</th>\n      <th>Origin</th>\n    </tr>\n  </thead>\n  <tbody>\n    <tr>\n      <th>0</th>\n      <td>0</td>\n      <td>chevrolet chevelle malibu</td>\n      <td>18.0</td>\n      <td>8</td>\n      <td>307.0</td>\n      <td>130.0</td>\n      <td>3504</td>\n      <td>12.0</td>\n      <td>1970-01-01</td>\n      <td>USA</td>\n    </tr>\n    <tr>\n      <th>1</th>\n      <td>1</td>\n      <td>buick skylark 320</td>\n      <td>15.0</td>\n      <td>8</td>\n      <td>350.0</td>\n      <td>165.0</td>\n      <td>3693</td>\n      <td>11.5</td>\n      <td>1970-01-01</td>\n      <td>USA</td>\n    </tr>\n    <tr>\n      <th>2</th>\n      <td>2</td>\n      <td>plymouth satellite</td>\n      <td>18.0</td>\n      <td>8</td>\n      <td>318.0</td>\n      <td>150.0</td>\n      <td>3436</td>\n      <td>11.0</td>\n      <td>1970-01-01</td>\n      <td>USA</td>\n    </tr>\n    <tr>\n      <th>3</th>\n      <td>3</td>\n      <td>amc rebel sst</td>\n      <td>16.0</td>\n      <td>8</td>\n      <td>304.0</td>\n      <td>150.0</td>\n      <td>3433</td>\n      <td>12.0</td>\n      <td>1970-01-01</td>\n      <td>USA</td>\n    </tr>\n    <tr>\n      <th>4</th>\n      <td>4</td>\n      <td>ford torino</td>\n      <td>17.0</td>\n      <td>8</td>\n      <td>302.0</td>\n      <td>140.0</td>\n      <td>3449</td>\n      <td>10.5</td>\n      <td>1970-01-01</td>\n      <td>USA</td>\n    </tr>\n    <tr>\n      <th>5</th>\n      <td>5</td>\n      <td>ford galaxie 500</td>\n      <td>15.0</td>\n      <td>8</td>\n      <td>429.0</td>\n      <td>198.0</td>\n      <td>4341</td>\n      <td>10.0</td>\n      <td>1970-01-01</td>\n      <td>USA</td>\n    </tr>\n    <tr>\n      <th>6</th>\n      <td>6</td>\n      <td>chevrolet impala</td>\n      <td>14.0</td>\n      <td>8</td>\n      <td>454.0</td>\n      <td>220.0</td>\n      <td>4354</td>\n      <td>9.0</td>\n      <td>1970-01-01</td>\n      <td>USA</td>\n    </tr>\n    <tr>\n      <th>7</th>\n      <td>7</td>\n      <td>plymouth fury iii</td>\n      <td>14.0</td>\n      <td>8</td>\n      <td>440.0</td>\n      <td>215.0</td>\n      <td>4312</td>\n      <td>8.5</td>\n      <td>1970-01-01</td>\n      <td>USA</td>\n    </tr>\n    <tr>\n      <th>8</th>\n      <td>8</td>\n      <td>pontiac catalina</td>\n      <td>14.0</td>\n      <td>8</td>\n      <td>455.0</td>\n      <td>225.0</td>\n      <td>4425</td>\n      <td>10.0</td>\n      <td>1970-01-01</td>\n      <td>USA</td>\n    </tr>\n    <tr>\n      <th>9</th>\n      <td>9</td>\n      <td>amc ambassador dpl</td>\n      <td>15.0</td>\n      <td>8</td>\n      <td>390.0</td>\n      <td>190.0</td>\n      <td>3850</td>\n      <td>8.5</td>\n      <td>1970-01-01</td>\n      <td>USA</td>\n    </tr>\n  </tbody>\n</table>\n</div>"
     },
     "metadata": {}
    }
   ]
  },
  {
   "cell_type": "code",
   "metadata": {
    "tags": [],
    "cell_id": "00009-36341a9b-17f5-4924-b4a5-b662050c48bb",
    "deepnote_to_be_reexecuted": false,
    "source_hash": "cdee9e9d",
    "execution_start": 1633631432862,
    "execution_millis": 47,
    "deepnote_cell_type": "code"
   },
   "source": "df.tail(10)",
   "execution_count": null,
   "outputs": [
    {
     "output_type": "execute_result",
     "execution_count": 6,
     "data": {
      "application/vnd.deepnote.dataframe.v2+json": {
       "row_count": 10,
       "column_count": 10,
       "columns": [
        {
         "name": "Unnamed: 0",
         "dtype": "int64",
         "stats": {
          "unique_count": 10,
          "nan_count": 0,
          "min": "396",
          "max": "405",
          "histogram": [
           {
            "bin_start": 396,
            "bin_end": 396.9,
            "count": 1
           },
           {
            "bin_start": 396.9,
            "bin_end": 397.8,
            "count": 1
           },
           {
            "bin_start": 397.8,
            "bin_end": 398.7,
            "count": 1
           },
           {
            "bin_start": 398.7,
            "bin_end": 399.6,
            "count": 1
           },
           {
            "bin_start": 399.6,
            "bin_end": 400.5,
            "count": 1
           },
           {
            "bin_start": 400.5,
            "bin_end": 401.4,
            "count": 1
           },
           {
            "bin_start": 401.4,
            "bin_end": 402.3,
            "count": 1
           },
           {
            "bin_start": 402.3,
            "bin_end": 403.2,
            "count": 1
           },
           {
            "bin_start": 403.2,
            "bin_end": 404.1,
            "count": 1
           },
           {
            "bin_start": 404.1,
            "bin_end": 405,
            "count": 1
           }
          ]
         }
        },
        {
         "name": "Name",
         "dtype": "object",
         "stats": {
          "unique_count": 10,
          "nan_count": 0,
          "categories": [
           {
            "name": "chrysler lebaron medallion",
            "count": 1
           },
           {
            "name": "ford granada l",
            "count": 1
           },
           {
            "name": "8 others",
            "count": 8
           }
          ]
         }
        },
        {
         "name": "Miles_per_Gallon",
         "dtype": "float64",
         "stats": {
          "unique_count": 8,
          "nan_count": 0,
          "min": "22.0",
          "max": "44.0",
          "histogram": [
           {
            "bin_start": 22,
            "bin_end": 24.2,
            "count": 1
           },
           {
            "bin_start": 24.2,
            "bin_end": 26.4,
            "count": 1
           },
           {
            "bin_start": 26.4,
            "bin_end": 28.6,
            "count": 3
           },
           {
            "bin_start": 28.6,
            "bin_end": 30.8,
            "count": 0
           },
           {
            "bin_start": 30.8,
            "bin_end": 33,
            "count": 3
           },
           {
            "bin_start": 33,
            "bin_end": 35.2,
            "count": 0
           },
           {
            "bin_start": 35.2,
            "bin_end": 37.400000000000006,
            "count": 1
           },
           {
            "bin_start": 37.400000000000006,
            "bin_end": 39.6,
            "count": 0
           },
           {
            "bin_start": 39.6,
            "bin_end": 41.8,
            "count": 0
           },
           {
            "bin_start": 41.8,
            "bin_end": 44,
            "count": 1
           }
          ]
         }
        },
        {
         "name": "Cylinders",
         "dtype": "int64",
         "stats": {
          "unique_count": 2,
          "nan_count": 0,
          "min": "4",
          "max": "6",
          "histogram": [
           {
            "bin_start": 4,
            "bin_end": 4.2,
            "count": 9
           },
           {
            "bin_start": 4.2,
            "bin_end": 4.4,
            "count": 0
           },
           {
            "bin_start": 4.4,
            "bin_end": 4.6,
            "count": 0
           },
           {
            "bin_start": 4.6,
            "bin_end": 4.8,
            "count": 0
           },
           {
            "bin_start": 4.8,
            "bin_end": 5,
            "count": 0
           },
           {
            "bin_start": 5,
            "bin_end": 5.2,
            "count": 0
           },
           {
            "bin_start": 5.2,
            "bin_end": 5.4,
            "count": 0
           },
           {
            "bin_start": 5.4,
            "bin_end": 5.6,
            "count": 0
           },
           {
            "bin_start": 5.6,
            "bin_end": 5.8,
            "count": 0
           },
           {
            "bin_start": 5.8,
            "bin_end": 6,
            "count": 1
           }
          ]
         }
        },
        {
         "name": "Displacement",
         "dtype": "float64",
         "stats": {
          "unique_count": 9,
          "nan_count": 0,
          "min": "97.0",
          "max": "232.0",
          "histogram": [
           {
            "bin_start": 97,
            "bin_end": 110.5,
            "count": 1
           },
           {
            "bin_start": 110.5,
            "bin_end": 124,
            "count": 2
           },
           {
            "bin_start": 124,
            "bin_end": 137.5,
            "count": 2
           },
           {
            "bin_start": 137.5,
            "bin_end": 151,
            "count": 2
           },
           {
            "bin_start": 151,
            "bin_end": 164.5,
            "count": 2
           },
           {
            "bin_start": 164.5,
            "bin_end": 178,
            "count": 0
           },
           {
            "bin_start": 178,
            "bin_end": 191.5,
            "count": 0
           },
           {
            "bin_start": 191.5,
            "bin_end": 205,
            "count": 0
           },
           {
            "bin_start": 205,
            "bin_end": 218.5,
            "count": 0
           },
           {
            "bin_start": 218.5,
            "bin_end": 232,
            "count": 1
           }
          ]
         }
        },
        {
         "name": "Horsepower",
         "dtype": "float64",
         "stats": {
          "unique_count": 9,
          "nan_count": 0,
          "min": "52.0",
          "max": "112.0",
          "histogram": [
           {
            "bin_start": 52,
            "bin_end": 58,
            "count": 1
           },
           {
            "bin_start": 58,
            "bin_end": 64,
            "count": 0
           },
           {
            "bin_start": 64,
            "bin_end": 70,
            "count": 0
           },
           {
            "bin_start": 70,
            "bin_end": 76,
            "count": 0
           },
           {
            "bin_start": 76,
            "bin_end": 82,
            "count": 1
           },
           {
            "bin_start": 82,
            "bin_end": 88,
            "count": 4
           },
           {
            "bin_start": 88,
            "bin_end": 94,
            "count": 2
           },
           {
            "bin_start": 94,
            "bin_end": 100,
            "count": 1
           },
           {
            "bin_start": 100,
            "bin_end": 106,
            "count": 0
           },
           {
            "bin_start": 106,
            "bin_end": 112,
            "count": 1
           }
          ]
         }
        },
        {
         "name": "Weight_in_lbs",
         "dtype": "int64",
         "stats": {
          "unique_count": 10,
          "nan_count": 0,
          "min": "2130",
          "max": "2950",
          "histogram": [
           {
            "bin_start": 2130,
            "bin_end": 2212,
            "count": 1
           },
           {
            "bin_start": 2212,
            "bin_end": 2294,
            "count": 0
           },
           {
            "bin_start": 2294,
            "bin_end": 2376,
            "count": 2
           },
           {
            "bin_start": 2376,
            "bin_end": 2458,
            "count": 0
           },
           {
            "bin_start": 2458,
            "bin_end": 2540,
            "count": 0
           },
           {
            "bin_start": 2540,
            "bin_end": 2622,
            "count": 1
           },
           {
            "bin_start": 2622,
            "bin_end": 2704,
            "count": 2
           },
           {
            "bin_start": 2704,
            "bin_end": 2786,
            "count": 1
           },
           {
            "bin_start": 2786,
            "bin_end": 2868,
            "count": 2
           },
           {
            "bin_start": 2868,
            "bin_end": 2950,
            "count": 1
           }
          ]
         }
        },
        {
         "name": "Acceleration",
         "dtype": "float64",
         "stats": {
          "unique_count": 10,
          "nan_count": 0,
          "min": "11.6",
          "max": "24.6",
          "histogram": [
           {
            "bin_start": 11.6,
            "bin_end": 12.9,
            "count": 1
           },
           {
            "bin_start": 12.9,
            "bin_end": 14.2,
            "count": 2
           },
           {
            "bin_start": 14.2,
            "bin_end": 15.5,
            "count": 2
           },
           {
            "bin_start": 15.5,
            "bin_end": 16.8,
            "count": 1
           },
           {
            "bin_start": 16.8,
            "bin_end": 18.1,
            "count": 1
           },
           {
            "bin_start": 18.1,
            "bin_end": 19.400000000000002,
            "count": 2
           },
           {
            "bin_start": 19.400000000000002,
            "bin_end": 20.700000000000003,
            "count": 0
           },
           {
            "bin_start": 20.700000000000003,
            "bin_end": 22,
            "count": 0
           },
           {
            "bin_start": 22,
            "bin_end": 23.300000000000004,
            "count": 0
           },
           {
            "bin_start": 23.300000000000004,
            "bin_end": 24.6,
            "count": 1
           }
          ]
         }
        },
        {
         "name": "Year",
         "dtype": "object",
         "stats": {
          "unique_count": 1,
          "nan_count": 0,
          "categories": [
           {
            "name": "1982-01-01",
            "count": 10
           }
          ]
         }
        },
        {
         "name": "Origin",
         "dtype": "object",
         "stats": {
          "unique_count": 3,
          "nan_count": 0,
          "categories": [
           {
            "name": "USA",
            "count": 8
           },
           {
            "name": "Japan",
            "count": 1
           },
           {
            "name": "Europe",
            "count": 1
           }
          ]
         }
        },
        {
         "name": "_deepnote_index_column",
         "dtype": "int64"
        }
       ],
       "rows_top": [
        {
         "Unnamed: 0": 396,
         "Name": "chrysler lebaron medallion",
         "Miles_per_Gallon": 26,
         "Cylinders": 4,
         "Displacement": 156,
         "Horsepower": 92,
         "Weight_in_lbs": 2585,
         "Acceleration": 14.5,
         "Year": "1982-01-01",
         "Origin": "USA",
         "_deepnote_index_column": 396
        },
        {
         "Unnamed: 0": 397,
         "Name": "ford granada l",
         "Miles_per_Gallon": 22,
         "Cylinders": 6,
         "Displacement": 232,
         "Horsepower": 112,
         "Weight_in_lbs": 2835,
         "Acceleration": 14.7,
         "Year": "1982-01-01",
         "Origin": "USA",
         "_deepnote_index_column": 397
        },
        {
         "Unnamed: 0": 398,
         "Name": "toyota celica gt",
         "Miles_per_Gallon": 32,
         "Cylinders": 4,
         "Displacement": 144,
         "Horsepower": 96,
         "Weight_in_lbs": 2665,
         "Acceleration": 13.9,
         "Year": "1982-01-01",
         "Origin": "Japan",
         "_deepnote_index_column": 398
        },
        {
         "Unnamed: 0": 399,
         "Name": "dodge charger 2.2",
         "Miles_per_Gallon": 36,
         "Cylinders": 4,
         "Displacement": 135,
         "Horsepower": 84,
         "Weight_in_lbs": 2370,
         "Acceleration": 13,
         "Year": "1982-01-01",
         "Origin": "USA",
         "_deepnote_index_column": 399
        },
        {
         "Unnamed: 0": 400,
         "Name": "chevrolet camaro",
         "Miles_per_Gallon": 27,
         "Cylinders": 4,
         "Displacement": 151,
         "Horsepower": 90,
         "Weight_in_lbs": 2950,
         "Acceleration": 17.3,
         "Year": "1982-01-01",
         "Origin": "USA",
         "_deepnote_index_column": 400
        },
        {
         "Unnamed: 0": 401,
         "Name": "ford mustang gl",
         "Miles_per_Gallon": 27,
         "Cylinders": 4,
         "Displacement": 140,
         "Horsepower": 86,
         "Weight_in_lbs": 2790,
         "Acceleration": 15.6,
         "Year": "1982-01-01",
         "Origin": "USA",
         "_deepnote_index_column": 401
        },
        {
         "Unnamed: 0": 402,
         "Name": "vw pickup",
         "Miles_per_Gallon": 44,
         "Cylinders": 4,
         "Displacement": 97,
         "Horsepower": 52,
         "Weight_in_lbs": 2130,
         "Acceleration": 24.6,
         "Year": "1982-01-01",
         "Origin": "Europe",
         "_deepnote_index_column": 402
        },
        {
         "Unnamed: 0": 403,
         "Name": "dodge rampage",
         "Miles_per_Gallon": 32,
         "Cylinders": 4,
         "Displacement": 135,
         "Horsepower": 84,
         "Weight_in_lbs": 2295,
         "Acceleration": 11.6,
         "Year": "1982-01-01",
         "Origin": "USA",
         "_deepnote_index_column": 403
        },
        {
         "Unnamed: 0": 404,
         "Name": "ford ranger",
         "Miles_per_Gallon": 28,
         "Cylinders": 4,
         "Displacement": 120,
         "Horsepower": 79,
         "Weight_in_lbs": 2625,
         "Acceleration": 18.6,
         "Year": "1982-01-01",
         "Origin": "USA",
         "_deepnote_index_column": 404
        },
        {
         "Unnamed: 0": 405,
         "Name": "chevy s-10",
         "Miles_per_Gallon": 31,
         "Cylinders": 4,
         "Displacement": 119,
         "Horsepower": 82,
         "Weight_in_lbs": 2720,
         "Acceleration": 19.4,
         "Year": "1982-01-01",
         "Origin": "USA",
         "_deepnote_index_column": 405
        }
       ],
       "rows_bottom": null
      },
      "text/plain": "     Unnamed: 0                        Name  Miles_per_Gallon  Cylinders  \\\n396         396  chrysler lebaron medallion              26.0          4   \n397         397              ford granada l              22.0          6   \n398         398            toyota celica gt              32.0          4   \n399         399           dodge charger 2.2              36.0          4   \n400         400            chevrolet camaro              27.0          4   \n401         401             ford mustang gl              27.0          4   \n402         402                   vw pickup              44.0          4   \n403         403               dodge rampage              32.0          4   \n404         404                 ford ranger              28.0          4   \n405         405                  chevy s-10              31.0          4   \n\n     Displacement  Horsepower  Weight_in_lbs  Acceleration        Year  Origin  \n396         156.0        92.0           2585          14.5  1982-01-01     USA  \n397         232.0       112.0           2835          14.7  1982-01-01     USA  \n398         144.0        96.0           2665          13.9  1982-01-01   Japan  \n399         135.0        84.0           2370          13.0  1982-01-01     USA  \n400         151.0        90.0           2950          17.3  1982-01-01     USA  \n401         140.0        86.0           2790          15.6  1982-01-01     USA  \n402          97.0        52.0           2130          24.6  1982-01-01  Europe  \n403         135.0        84.0           2295          11.6  1982-01-01     USA  \n404         120.0        79.0           2625          18.6  1982-01-01     USA  \n405         119.0        82.0           2720          19.4  1982-01-01     USA  ",
      "text/html": "<div>\n<style scoped>\n    .dataframe tbody tr th:only-of-type {\n        vertical-align: middle;\n    }\n\n    .dataframe tbody tr th {\n        vertical-align: top;\n    }\n\n    .dataframe thead th {\n        text-align: right;\n    }\n</style>\n<table border=\"1\" class=\"dataframe\">\n  <thead>\n    <tr style=\"text-align: right;\">\n      <th></th>\n      <th>Unnamed: 0</th>\n      <th>Name</th>\n      <th>Miles_per_Gallon</th>\n      <th>Cylinders</th>\n      <th>Displacement</th>\n      <th>Horsepower</th>\n      <th>Weight_in_lbs</th>\n      <th>Acceleration</th>\n      <th>Year</th>\n      <th>Origin</th>\n    </tr>\n  </thead>\n  <tbody>\n    <tr>\n      <th>396</th>\n      <td>396</td>\n      <td>chrysler lebaron medallion</td>\n      <td>26.0</td>\n      <td>4</td>\n      <td>156.0</td>\n      <td>92.0</td>\n      <td>2585</td>\n      <td>14.5</td>\n      <td>1982-01-01</td>\n      <td>USA</td>\n    </tr>\n    <tr>\n      <th>397</th>\n      <td>397</td>\n      <td>ford granada l</td>\n      <td>22.0</td>\n      <td>6</td>\n      <td>232.0</td>\n      <td>112.0</td>\n      <td>2835</td>\n      <td>14.7</td>\n      <td>1982-01-01</td>\n      <td>USA</td>\n    </tr>\n    <tr>\n      <th>398</th>\n      <td>398</td>\n      <td>toyota celica gt</td>\n      <td>32.0</td>\n      <td>4</td>\n      <td>144.0</td>\n      <td>96.0</td>\n      <td>2665</td>\n      <td>13.9</td>\n      <td>1982-01-01</td>\n      <td>Japan</td>\n    </tr>\n    <tr>\n      <th>399</th>\n      <td>399</td>\n      <td>dodge charger 2.2</td>\n      <td>36.0</td>\n      <td>4</td>\n      <td>135.0</td>\n      <td>84.0</td>\n      <td>2370</td>\n      <td>13.0</td>\n      <td>1982-01-01</td>\n      <td>USA</td>\n    </tr>\n    <tr>\n      <th>400</th>\n      <td>400</td>\n      <td>chevrolet camaro</td>\n      <td>27.0</td>\n      <td>4</td>\n      <td>151.0</td>\n      <td>90.0</td>\n      <td>2950</td>\n      <td>17.3</td>\n      <td>1982-01-01</td>\n      <td>USA</td>\n    </tr>\n    <tr>\n      <th>401</th>\n      <td>401</td>\n      <td>ford mustang gl</td>\n      <td>27.0</td>\n      <td>4</td>\n      <td>140.0</td>\n      <td>86.0</td>\n      <td>2790</td>\n      <td>15.6</td>\n      <td>1982-01-01</td>\n      <td>USA</td>\n    </tr>\n    <tr>\n      <th>402</th>\n      <td>402</td>\n      <td>vw pickup</td>\n      <td>44.0</td>\n      <td>4</td>\n      <td>97.0</td>\n      <td>52.0</td>\n      <td>2130</td>\n      <td>24.6</td>\n      <td>1982-01-01</td>\n      <td>Europe</td>\n    </tr>\n    <tr>\n      <th>403</th>\n      <td>403</td>\n      <td>dodge rampage</td>\n      <td>32.0</td>\n      <td>4</td>\n      <td>135.0</td>\n      <td>84.0</td>\n      <td>2295</td>\n      <td>11.6</td>\n      <td>1982-01-01</td>\n      <td>USA</td>\n    </tr>\n    <tr>\n      <th>404</th>\n      <td>404</td>\n      <td>ford ranger</td>\n      <td>28.0</td>\n      <td>4</td>\n      <td>120.0</td>\n      <td>79.0</td>\n      <td>2625</td>\n      <td>18.6</td>\n      <td>1982-01-01</td>\n      <td>USA</td>\n    </tr>\n    <tr>\n      <th>405</th>\n      <td>405</td>\n      <td>chevy s-10</td>\n      <td>31.0</td>\n      <td>4</td>\n      <td>119.0</td>\n      <td>82.0</td>\n      <td>2720</td>\n      <td>19.4</td>\n      <td>1982-01-01</td>\n      <td>USA</td>\n    </tr>\n  </tbody>\n</table>\n</div>"
     },
     "metadata": {}
    }
   ]
  },
  {
   "cell_type": "code",
   "metadata": {
    "tags": [],
    "cell_id": "00011-69029b7f-8c56-41c0-9c69-ba7f37785047",
    "deepnote_to_be_reexecuted": false,
    "source_hash": "3f920dcc",
    "execution_start": 1633632020826,
    "execution_millis": 54,
    "deepnote_cell_type": "code"
   },
   "source": "#Just to showcase it, let's use help(df.tail)\nhelp(df.tail)",
   "execution_count": null,
   "outputs": [
    {
     "name": "stdout",
     "text": "Help on method tail in module pandas.core.generic:\n\ntail(n: 'int' = 5) -> 'FrameOrSeries' method of pandas.core.frame.DataFrame instance\n    Return the last `n` rows.\n    \n    This function returns last `n` rows from the object based on\n    position. It is useful for quickly verifying data, for example,\n    after sorting or appending rows.\n    \n    For negative values of `n`, this function returns all rows except\n    the first `n` rows, equivalent to ``df[n:]``.\n    \n    Parameters\n    ----------\n    n : int, default 5\n        Number of rows to select.\n    \n    Returns\n    -------\n    type of caller\n        The last `n` rows of the caller object.\n    \n    See Also\n    --------\n    DataFrame.head : The first `n` rows of the caller object.\n    \n    Examples\n    --------\n    >>> df = pd.DataFrame({'animal': ['alligator', 'bee', 'falcon', 'lion',\n    ...                    'monkey', 'parrot', 'shark', 'whale', 'zebra']})\n    >>> df\n          animal\n    0  alligator\n    1        bee\n    2     falcon\n    3       lion\n    4     monkey\n    5     parrot\n    6      shark\n    7      whale\n    8      zebra\n    \n    Viewing the last 5 lines\n    \n    >>> df.tail()\n       animal\n    4  monkey\n    5  parrot\n    6   shark\n    7   whale\n    8   zebra\n    \n    Viewing the last `n` lines (three in this case)\n    \n    >>> df.tail(3)\n      animal\n    6  shark\n    7  whale\n    8  zebra\n    \n    For negative values of `n`\n    \n    >>> df.tail(-3)\n       animal\n    3    lion\n    4  monkey\n    5  parrot\n    6   shark\n    7   whale\n    8   zebra\n\n",
     "output_type": "stream"
    }
   ]
  },
  {
   "cell_type": "markdown",
   "source": "### Dataframe Shape\n\nAn **m** x **n** matrix has **m** rows and **n** columns. A dataframe also has rows and columns! Let's get the shape of the dataframe using `df.shape`\n\n`df.shape` will return the `(number_of_rows, number_of_columns)`",
   "metadata": {
    "tags": [],
    "cell_id": "00009-b0d81d5e-8d66-4dcb-9e12-4637227f42ad",
    "deepnote_cell_type": "markdown"
   }
  },
  {
   "cell_type": "code",
   "metadata": {
    "tags": [],
    "cell_id": "00010-25a8fc17-68f8-4971-9123-a52b0e81587c",
    "deepnote_to_be_reexecuted": false,
    "source_hash": "14f60b8f",
    "execution_start": 1633631434431,
    "execution_millis": 20,
    "deepnote_cell_type": "code"
   },
   "source": "df.shape",
   "execution_count": null,
   "outputs": [
    {
     "output_type": "execute_result",
     "execution_count": 7,
     "data": {
      "text/plain": "(406, 10)"
     },
     "metadata": {}
    }
   ]
  },
  {
   "cell_type": "markdown",
   "source": "### Establishing Dataframes\nUp until now we have imported a csv file to establish our dataframes. We can also establish frames using numpy arrays --> Think Matrices!! \n\nTo do this we use the `pd.DataFrame(arr)` function which converts our array into a dataframe",
   "metadata": {
    "tags": [],
    "cell_id": "00009-9d147195-5695-4b6c-a1a1-1d88afb6bd41",
    "deepnote_cell_type": "markdown"
   }
  },
  {
   "cell_type": "markdown",
   "source": "Let's make a 3x3 matrix called **A** which is given by the following:\n\nA = $\\begin{bmatrix} 1&2&3 \\\\ -1&-2&-3 \\\\ 6&5&-5 \\end{bmatrix}$\n\nRemember we can use `np.array([[row1],[row2],[row3]])` to create a matrix with 3 rows",
   "metadata": {
    "tags": [],
    "cell_id": "00010-c1b9afa7-108b-4679-918d-e4a6360089af",
    "deepnote_cell_type": "markdown"
   }
  },
  {
   "cell_type": "code",
   "metadata": {
    "tags": [],
    "cell_id": "00010-07ab67e3-2da8-4edd-b63b-ff97621f5993",
    "deepnote_to_be_reexecuted": false,
    "source_hash": "e367b6b",
    "execution_start": 1633631462349,
    "execution_millis": 1,
    "deepnote_cell_type": "code"
   },
   "source": "A = np.array([[1, 2, 3], [-1, -2, -3], [6, 5, -5]])\nprint(A)",
   "execution_count": null,
   "outputs": [
    {
     "name": "stdout",
     "text": "[[ 1  2  3]\n [-1 -2 -3]\n [ 6  5 -5]]\n",
     "output_type": "stream"
    }
   ]
  },
  {
   "cell_type": "markdown",
   "source": "Now let's convert that matrix A into a dataframe called `df_A`\n\nUsing `pd.DataFrame()` we can convert items to dataframes ",
   "metadata": {
    "tags": [],
    "cell_id": "00012-ea8f4e0b-24cf-477e-91c1-a1fefa403d53",
    "deepnote_cell_type": "markdown"
   }
  },
  {
   "cell_type": "code",
   "metadata": {
    "tags": [],
    "cell_id": "00011-1095e24e-f443-427d-b733-b54e62e3a3d1",
    "deepnote_to_be_reexecuted": false,
    "source_hash": "65056955",
    "execution_start": 1633631600682,
    "execution_millis": 4,
    "deepnote_cell_type": "code"
   },
   "source": "df_A = pd.DataFrame(A)\ndisplay(df_A)\n\n#Let's also print the shape of the dataframe (coming from the 3x3 matrix!)\nprint(df_A.shape)",
   "execution_count": null,
   "outputs": [
    {
     "data": {
      "application/vnd.deepnote.dataframe.v2+json": {
       "row_count": 3,
       "column_count": 3,
       "columns": [
        {
         "name": 0,
         "dtype": "int64",
         "stats": {
          "unique_count": 3,
          "nan_count": 0,
          "min": "-1",
          "max": "6",
          "histogram": [
           {
            "bin_start": -1,
            "bin_end": -0.30000000000000004,
            "count": 1
           },
           {
            "bin_start": -0.30000000000000004,
            "bin_end": 0.3999999999999999,
            "count": 0
           },
           {
            "bin_start": 0.3999999999999999,
            "bin_end": 1.0999999999999996,
            "count": 1
           },
           {
            "bin_start": 1.0999999999999996,
            "bin_end": 1.7999999999999998,
            "count": 0
           },
           {
            "bin_start": 1.7999999999999998,
            "bin_end": 2.5,
            "count": 0
           },
           {
            "bin_start": 2.5,
            "bin_end": 3.1999999999999993,
            "count": 0
           },
           {
            "bin_start": 3.1999999999999993,
            "bin_end": 3.8999999999999995,
            "count": 0
           },
           {
            "bin_start": 3.8999999999999995,
            "bin_end": 4.6,
            "count": 0
           },
           {
            "bin_start": 4.6,
            "bin_end": 5.3,
            "count": 0
           },
           {
            "bin_start": 5.3,
            "bin_end": 6,
            "count": 1
           }
          ]
         }
        },
        {
         "name": 1,
         "dtype": "int64",
         "stats": {
          "unique_count": 3,
          "nan_count": 0,
          "min": "-2",
          "max": "5",
          "histogram": [
           {
            "bin_start": -2,
            "bin_end": -1.3,
            "count": 1
           },
           {
            "bin_start": -1.3,
            "bin_end": -0.6000000000000001,
            "count": 0
           },
           {
            "bin_start": -0.6000000000000001,
            "bin_end": 0.09999999999999964,
            "count": 0
           },
           {
            "bin_start": 0.09999999999999964,
            "bin_end": 0.7999999999999998,
            "count": 0
           },
           {
            "bin_start": 0.7999999999999998,
            "bin_end": 1.5,
            "count": 0
           },
           {
            "bin_start": 1.5,
            "bin_end": 2.1999999999999993,
            "count": 1
           },
           {
            "bin_start": 2.1999999999999993,
            "bin_end": 2.8999999999999995,
            "count": 0
           },
           {
            "bin_start": 2.8999999999999995,
            "bin_end": 3.5999999999999996,
            "count": 0
           },
           {
            "bin_start": 3.5999999999999996,
            "bin_end": 4.3,
            "count": 0
           },
           {
            "bin_start": 4.3,
            "bin_end": 5,
            "count": 1
           }
          ]
         }
        },
        {
         "name": 2,
         "dtype": "int64",
         "stats": {
          "unique_count": 3,
          "nan_count": 0,
          "min": "-5",
          "max": "3",
          "histogram": [
           {
            "bin_start": -5,
            "bin_end": -4.2,
            "count": 1
           },
           {
            "bin_start": -4.2,
            "bin_end": -3.4,
            "count": 0
           },
           {
            "bin_start": -3.4,
            "bin_end": -2.5999999999999996,
            "count": 1
           },
           {
            "bin_start": -2.5999999999999996,
            "bin_end": -1.7999999999999998,
            "count": 0
           },
           {
            "bin_start": -1.7999999999999998,
            "bin_end": -1,
            "count": 0
           },
           {
            "bin_start": -1,
            "bin_end": -0.1999999999999993,
            "count": 0
           },
           {
            "bin_start": -0.1999999999999993,
            "bin_end": 0.6000000000000005,
            "count": 0
           },
           {
            "bin_start": 0.6000000000000005,
            "bin_end": 1.4000000000000004,
            "count": 0
           },
           {
            "bin_start": 1.4000000000000004,
            "bin_end": 2.2,
            "count": 0
           },
           {
            "bin_start": 2.2,
            "bin_end": 3,
            "count": 1
           }
          ]
         }
        },
        {
         "name": "_deepnote_index_column",
         "dtype": "int64"
        }
       ],
       "rows_top": [
        {
         "0": 1,
         "1": 2,
         "2": 3,
         "_deepnote_index_column": 0
        },
        {
         "0": -1,
         "1": -2,
         "2": -3,
         "_deepnote_index_column": 1
        },
        {
         "0": 6,
         "1": 5,
         "2": -5,
         "_deepnote_index_column": 2
        }
       ],
       "rows_bottom": null
      },
      "text/plain": "   0  1  2\n0  1  2  3\n1 -1 -2 -3\n2  6  5 -5",
      "text/html": "<div>\n<style scoped>\n    .dataframe tbody tr th:only-of-type {\n        vertical-align: middle;\n    }\n\n    .dataframe tbody tr th {\n        vertical-align: top;\n    }\n\n    .dataframe thead th {\n        text-align: right;\n    }\n</style>\n<table border=\"1\" class=\"dataframe\">\n  <thead>\n    <tr style=\"text-align: right;\">\n      <th></th>\n      <th>0</th>\n      <th>1</th>\n      <th>2</th>\n    </tr>\n  </thead>\n  <tbody>\n    <tr>\n      <th>0</th>\n      <td>1</td>\n      <td>2</td>\n      <td>3</td>\n    </tr>\n    <tr>\n      <th>1</th>\n      <td>-1</td>\n      <td>-2</td>\n      <td>-3</td>\n    </tr>\n    <tr>\n      <th>2</th>\n      <td>6</td>\n      <td>5</td>\n      <td>-5</td>\n    </tr>\n  </tbody>\n</table>\n</div>"
     },
     "metadata": {},
     "output_type": "display_data"
    },
    {
     "name": "stdout",
     "text": "(3, 3)\n",
     "output_type": "stream"
    }
   ]
  },
  {
   "cell_type": "markdown",
   "source": "### Updating Column and Index names\n\nWe can name our columns and our rows (or index) to something easier to work with if we'd like. These can be anything at all!\n\nTo update the columns, use `df.columns = list_of_names`\n\nTo update the rows, use `df.index = list_of_names`\n",
   "metadata": {
    "tags": [],
    "cell_id": "00014-9eb2c00b-a47b-4838-a91d-39e464329b45",
    "deepnote_cell_type": "markdown"
   }
  },
  {
   "cell_type": "code",
   "metadata": {
    "tags": [],
    "cell_id": "00015-0a0bf8f6-3837-4619-a329-a64bcdb0b35f",
    "deepnote_to_be_reexecuted": false,
    "source_hash": "b78b05c1",
    "execution_start": 1633631617879,
    "execution_millis": 22,
    "deepnote_cell_type": "code"
   },
   "source": "column_names = ['Col A', 'Col B', 'Col C']\nrow_names = ['Happy', 'Birthday', 'Everyone!']\n\ndf_A.columns = column_names\ndf_A.index = row_names\n\ndisplay(df_A)",
   "execution_count": null,
   "outputs": [
    {
     "data": {
      "application/vnd.deepnote.dataframe.v2+json": {
       "row_count": 3,
       "column_count": 3,
       "columns": [
        {
         "name": "Col A",
         "dtype": "int64",
         "stats": {
          "unique_count": 3,
          "nan_count": 0,
          "min": "-1",
          "max": "6",
          "histogram": [
           {
            "bin_start": -1,
            "bin_end": -0.30000000000000004,
            "count": 1
           },
           {
            "bin_start": -0.30000000000000004,
            "bin_end": 0.3999999999999999,
            "count": 0
           },
           {
            "bin_start": 0.3999999999999999,
            "bin_end": 1.0999999999999996,
            "count": 1
           },
           {
            "bin_start": 1.0999999999999996,
            "bin_end": 1.7999999999999998,
            "count": 0
           },
           {
            "bin_start": 1.7999999999999998,
            "bin_end": 2.5,
            "count": 0
           },
           {
            "bin_start": 2.5,
            "bin_end": 3.1999999999999993,
            "count": 0
           },
           {
            "bin_start": 3.1999999999999993,
            "bin_end": 3.8999999999999995,
            "count": 0
           },
           {
            "bin_start": 3.8999999999999995,
            "bin_end": 4.6,
            "count": 0
           },
           {
            "bin_start": 4.6,
            "bin_end": 5.3,
            "count": 0
           },
           {
            "bin_start": 5.3,
            "bin_end": 6,
            "count": 1
           }
          ]
         }
        },
        {
         "name": "Col B",
         "dtype": "int64",
         "stats": {
          "unique_count": 3,
          "nan_count": 0,
          "min": "-2",
          "max": "5",
          "histogram": [
           {
            "bin_start": -2,
            "bin_end": -1.3,
            "count": 1
           },
           {
            "bin_start": -1.3,
            "bin_end": -0.6000000000000001,
            "count": 0
           },
           {
            "bin_start": -0.6000000000000001,
            "bin_end": 0.09999999999999964,
            "count": 0
           },
           {
            "bin_start": 0.09999999999999964,
            "bin_end": 0.7999999999999998,
            "count": 0
           },
           {
            "bin_start": 0.7999999999999998,
            "bin_end": 1.5,
            "count": 0
           },
           {
            "bin_start": 1.5,
            "bin_end": 2.1999999999999993,
            "count": 1
           },
           {
            "bin_start": 2.1999999999999993,
            "bin_end": 2.8999999999999995,
            "count": 0
           },
           {
            "bin_start": 2.8999999999999995,
            "bin_end": 3.5999999999999996,
            "count": 0
           },
           {
            "bin_start": 3.5999999999999996,
            "bin_end": 4.3,
            "count": 0
           },
           {
            "bin_start": 4.3,
            "bin_end": 5,
            "count": 1
           }
          ]
         }
        },
        {
         "name": "Col C",
         "dtype": "int64",
         "stats": {
          "unique_count": 3,
          "nan_count": 0,
          "min": "-5",
          "max": "3",
          "histogram": [
           {
            "bin_start": -5,
            "bin_end": -4.2,
            "count": 1
           },
           {
            "bin_start": -4.2,
            "bin_end": -3.4,
            "count": 0
           },
           {
            "bin_start": -3.4,
            "bin_end": -2.5999999999999996,
            "count": 1
           },
           {
            "bin_start": -2.5999999999999996,
            "bin_end": -1.7999999999999998,
            "count": 0
           },
           {
            "bin_start": -1.7999999999999998,
            "bin_end": -1,
            "count": 0
           },
           {
            "bin_start": -1,
            "bin_end": -0.1999999999999993,
            "count": 0
           },
           {
            "bin_start": -0.1999999999999993,
            "bin_end": 0.6000000000000005,
            "count": 0
           },
           {
            "bin_start": 0.6000000000000005,
            "bin_end": 1.4000000000000004,
            "count": 0
           },
           {
            "bin_start": 1.4000000000000004,
            "bin_end": 2.2,
            "count": 0
           },
           {
            "bin_start": 2.2,
            "bin_end": 3,
            "count": 1
           }
          ]
         }
        },
        {
         "name": "_deepnote_index_column",
         "dtype": "object"
        }
       ],
       "rows_top": [
        {
         "Col A": 1,
         "Col B": 2,
         "Col C": 3,
         "_deepnote_index_column": "Happy"
        },
        {
         "Col A": -1,
         "Col B": -2,
         "Col C": -3,
         "_deepnote_index_column": "Birthday"
        },
        {
         "Col A": 6,
         "Col B": 5,
         "Col C": -5,
         "_deepnote_index_column": "Everyone!"
        }
       ],
       "rows_bottom": null
      },
      "text/plain": "           Col A  Col B  Col C\nHappy          1      2      3\nBirthday      -1     -2     -3\nEveryone!      6      5     -5",
      "text/html": "<div>\n<style scoped>\n    .dataframe tbody tr th:only-of-type {\n        vertical-align: middle;\n    }\n\n    .dataframe tbody tr th {\n        vertical-align: top;\n    }\n\n    .dataframe thead th {\n        text-align: right;\n    }\n</style>\n<table border=\"1\" class=\"dataframe\">\n  <thead>\n    <tr style=\"text-align: right;\">\n      <th></th>\n      <th>Col A</th>\n      <th>Col B</th>\n      <th>Col C</th>\n    </tr>\n  </thead>\n  <tbody>\n    <tr>\n      <th>Happy</th>\n      <td>1</td>\n      <td>2</td>\n      <td>3</td>\n    </tr>\n    <tr>\n      <th>Birthday</th>\n      <td>-1</td>\n      <td>-2</td>\n      <td>-3</td>\n    </tr>\n    <tr>\n      <th>Everyone!</th>\n      <td>6</td>\n      <td>5</td>\n      <td>-5</td>\n    </tr>\n  </tbody>\n</table>\n</div>"
     },
     "metadata": {},
     "output_type": "display_data"
    }
   ]
  },
  {
   "cell_type": "markdown",
   "source": "Notice how all of our data is perserved, we just gave new names to the headers of each!",
   "metadata": {
    "tags": [],
    "cell_id": "00016-902e5976-d760-4820-9144-30850e315d60",
    "deepnote_cell_type": "markdown"
   }
  },
  {
   "cell_type": "markdown",
   "source": "### Accessing Data within Frames\n\nUsing the `df.loc['Row', 'Column']` function we can locate certain data. \n\nLast week we used this for plotting. We will get to that in a second. Let's pull out the data in column `Col A` and index `Everyone!`",
   "metadata": {
    "tags": [],
    "cell_id": "00017-514c3121-4fc6-4252-a27b-8895a995d168",
    "deepnote_cell_type": "markdown"
   }
  },
  {
   "cell_type": "code",
   "metadata": {
    "tags": [],
    "cell_id": "00016-7f36f5e0-8843-459f-87d2-b1b706acc16a",
    "deepnote_to_be_reexecuted": false,
    "source_hash": "575ff774",
    "execution_start": 1633631641733,
    "execution_millis": 14,
    "deepnote_cell_type": "code"
   },
   "source": "print(df_A.loc['Everyone!', 'Col A'])",
   "execution_count": null,
   "outputs": [
    {
     "name": "stdout",
     "text": "6\n",
     "output_type": "stream"
    }
   ]
  },
  {
   "cell_type": "markdown",
   "source": "Using the colon, `:`, we can pull out slices of information! Last week we pulled the entire column using `df.loc[:,'Column']`\n\nWe can just as easily pull the entire row using `df.loc['Row', :]`\n\nWe can also pull subsets of the frame. The things in-between specifications using `df.loc['Row1':'Row2', 'Col1':'Col2']`\n\nLet's explore this functionality a bit!",
   "metadata": {
    "tags": [],
    "cell_id": "00019-1a84f83d-6d6d-4487-8877-2f90fd1f6dab",
    "deepnote_cell_type": "markdown"
   }
  },
  {
   "cell_type": "code",
   "metadata": {
    "tags": [],
    "cell_id": "00019-06d95dde-f04d-4af9-bb2a-4de0ba42dce3",
    "deepnote_to_be_reexecuted": false,
    "source_hash": "8b0bc7b0",
    "execution_start": 1633631655707,
    "execution_millis": 10,
    "deepnote_cell_type": "code"
   },
   "source": "display(df_A.loc[:, 'Col B'])",
   "execution_count": null,
   "outputs": [
    {
     "data": {
      "text/plain": "Happy        2\nBirthday    -2\nEveryone!    5\nName: Col B, dtype: int64"
     },
     "metadata": {},
     "output_type": "display_data"
    }
   ]
  },
  {
   "cell_type": "code",
   "metadata": {
    "tags": [],
    "cell_id": "00021-5257eb77-4c78-4d32-a0f0-741960e9dbc8",
    "deepnote_to_be_reexecuted": false,
    "source_hash": "abe949e4",
    "execution_start": 1633631664127,
    "execution_millis": 82,
    "deepnote_cell_type": "code"
   },
   "source": "display(df_A.loc['Birthday', :])",
   "execution_count": null,
   "outputs": [
    {
     "data": {
      "text/plain": "Col A   -1\nCol B   -2\nCol C   -3\nName: Birthday, dtype: int64"
     },
     "metadata": {},
     "output_type": "display_data"
    }
   ]
  },
  {
   "cell_type": "code",
   "metadata": {
    "tags": [],
    "cell_id": "00022-d8dac05a-5670-4e8e-93c9-729b7aeda948",
    "deepnote_to_be_reexecuted": false,
    "source_hash": "2316ad2a",
    "execution_start": 1633631674804,
    "execution_millis": 29,
    "deepnote_cell_type": "code"
   },
   "source": "display(df_A.loc[:, 'Col A':'Col B'])",
   "execution_count": null,
   "outputs": [
    {
     "data": {
      "application/vnd.deepnote.dataframe.v2+json": {
       "row_count": 3,
       "column_count": 2,
       "columns": [
        {
         "name": "Col A",
         "dtype": "int64",
         "stats": {
          "unique_count": 3,
          "nan_count": 0,
          "min": "-1",
          "max": "6",
          "histogram": [
           {
            "bin_start": -1,
            "bin_end": -0.30000000000000004,
            "count": 1
           },
           {
            "bin_start": -0.30000000000000004,
            "bin_end": 0.3999999999999999,
            "count": 0
           },
           {
            "bin_start": 0.3999999999999999,
            "bin_end": 1.0999999999999996,
            "count": 1
           },
           {
            "bin_start": 1.0999999999999996,
            "bin_end": 1.7999999999999998,
            "count": 0
           },
           {
            "bin_start": 1.7999999999999998,
            "bin_end": 2.5,
            "count": 0
           },
           {
            "bin_start": 2.5,
            "bin_end": 3.1999999999999993,
            "count": 0
           },
           {
            "bin_start": 3.1999999999999993,
            "bin_end": 3.8999999999999995,
            "count": 0
           },
           {
            "bin_start": 3.8999999999999995,
            "bin_end": 4.6,
            "count": 0
           },
           {
            "bin_start": 4.6,
            "bin_end": 5.3,
            "count": 0
           },
           {
            "bin_start": 5.3,
            "bin_end": 6,
            "count": 1
           }
          ]
         }
        },
        {
         "name": "Col B",
         "dtype": "int64",
         "stats": {
          "unique_count": 3,
          "nan_count": 0,
          "min": "-2",
          "max": "5",
          "histogram": [
           {
            "bin_start": -2,
            "bin_end": -1.3,
            "count": 1
           },
           {
            "bin_start": -1.3,
            "bin_end": -0.6000000000000001,
            "count": 0
           },
           {
            "bin_start": -0.6000000000000001,
            "bin_end": 0.09999999999999964,
            "count": 0
           },
           {
            "bin_start": 0.09999999999999964,
            "bin_end": 0.7999999999999998,
            "count": 0
           },
           {
            "bin_start": 0.7999999999999998,
            "bin_end": 1.5,
            "count": 0
           },
           {
            "bin_start": 1.5,
            "bin_end": 2.1999999999999993,
            "count": 1
           },
           {
            "bin_start": 2.1999999999999993,
            "bin_end": 2.8999999999999995,
            "count": 0
           },
           {
            "bin_start": 2.8999999999999995,
            "bin_end": 3.5999999999999996,
            "count": 0
           },
           {
            "bin_start": 3.5999999999999996,
            "bin_end": 4.3,
            "count": 0
           },
           {
            "bin_start": 4.3,
            "bin_end": 5,
            "count": 1
           }
          ]
         }
        },
        {
         "name": "_deepnote_index_column",
         "dtype": "object"
        }
       ],
       "rows_top": [
        {
         "Col A": 1,
         "Col B": 2,
         "_deepnote_index_column": "Happy"
        },
        {
         "Col A": -1,
         "Col B": -2,
         "_deepnote_index_column": "Birthday"
        },
        {
         "Col A": 6,
         "Col B": 5,
         "_deepnote_index_column": "Everyone!"
        }
       ],
       "rows_bottom": null
      },
      "text/plain": "           Col A  Col B\nHappy          1      2\nBirthday      -1     -2\nEveryone!      6      5",
      "text/html": "<div>\n<style scoped>\n    .dataframe tbody tr th:only-of-type {\n        vertical-align: middle;\n    }\n\n    .dataframe tbody tr th {\n        vertical-align: top;\n    }\n\n    .dataframe thead th {\n        text-align: right;\n    }\n</style>\n<table border=\"1\" class=\"dataframe\">\n  <thead>\n    <tr style=\"text-align: right;\">\n      <th></th>\n      <th>Col A</th>\n      <th>Col B</th>\n    </tr>\n  </thead>\n  <tbody>\n    <tr>\n      <th>Happy</th>\n      <td>1</td>\n      <td>2</td>\n    </tr>\n    <tr>\n      <th>Birthday</th>\n      <td>-1</td>\n      <td>-2</td>\n    </tr>\n    <tr>\n      <th>Everyone!</th>\n      <td>6</td>\n      <td>5</td>\n    </tr>\n  </tbody>\n</table>\n</div>"
     },
     "metadata": {},
     "output_type": "display_data"
    }
   ]
  },
  {
   "cell_type": "code",
   "metadata": {
    "tags": [],
    "cell_id": "00023-1bc08bd8-edd2-4350-a474-1d140944444d",
    "deepnote_to_be_reexecuted": false,
    "source_hash": "44116cfb",
    "execution_start": 1633631687614,
    "execution_millis": 17,
    "deepnote_cell_type": "code"
   },
   "source": "display(df_A.loc['Birthday':, 'Col B':'Col C'])",
   "execution_count": null,
   "outputs": [
    {
     "data": {
      "application/vnd.deepnote.dataframe.v2+json": {
       "row_count": 2,
       "column_count": 2,
       "columns": [
        {
         "name": "Col B",
         "dtype": "int64",
         "stats": {
          "unique_count": 2,
          "nan_count": 0,
          "min": "-2",
          "max": "5",
          "histogram": [
           {
            "bin_start": -2,
            "bin_end": -1.3,
            "count": 1
           },
           {
            "bin_start": -1.3,
            "bin_end": -0.6000000000000001,
            "count": 0
           },
           {
            "bin_start": -0.6000000000000001,
            "bin_end": 0.09999999999999964,
            "count": 0
           },
           {
            "bin_start": 0.09999999999999964,
            "bin_end": 0.7999999999999998,
            "count": 0
           },
           {
            "bin_start": 0.7999999999999998,
            "bin_end": 1.5,
            "count": 0
           },
           {
            "bin_start": 1.5,
            "bin_end": 2.1999999999999993,
            "count": 0
           },
           {
            "bin_start": 2.1999999999999993,
            "bin_end": 2.8999999999999995,
            "count": 0
           },
           {
            "bin_start": 2.8999999999999995,
            "bin_end": 3.5999999999999996,
            "count": 0
           },
           {
            "bin_start": 3.5999999999999996,
            "bin_end": 4.3,
            "count": 0
           },
           {
            "bin_start": 4.3,
            "bin_end": 5,
            "count": 1
           }
          ]
         }
        },
        {
         "name": "Col C",
         "dtype": "int64",
         "stats": {
          "unique_count": 2,
          "nan_count": 0,
          "min": "-5",
          "max": "-3",
          "histogram": [
           {
            "bin_start": -5,
            "bin_end": -4.8,
            "count": 1
           },
           {
            "bin_start": -4.8,
            "bin_end": -4.6,
            "count": 0
           },
           {
            "bin_start": -4.6,
            "bin_end": -4.4,
            "count": 0
           },
           {
            "bin_start": -4.4,
            "bin_end": -4.2,
            "count": 0
           },
           {
            "bin_start": -4.2,
            "bin_end": -4,
            "count": 0
           },
           {
            "bin_start": -4,
            "bin_end": -3.8,
            "count": 0
           },
           {
            "bin_start": -3.8,
            "bin_end": -3.5999999999999996,
            "count": 0
           },
           {
            "bin_start": -3.5999999999999996,
            "bin_end": -3.4,
            "count": 0
           },
           {
            "bin_start": -3.4,
            "bin_end": -3.2,
            "count": 0
           },
           {
            "bin_start": -3.2,
            "bin_end": -3,
            "count": 1
           }
          ]
         }
        },
        {
         "name": "_deepnote_index_column",
         "dtype": "object"
        }
       ],
       "rows_top": [
        {
         "Col B": -2,
         "Col C": -3,
         "_deepnote_index_column": "Birthday"
        },
        {
         "Col B": 5,
         "Col C": -5,
         "_deepnote_index_column": "Everyone!"
        }
       ],
       "rows_bottom": null
      },
      "text/plain": "           Col B  Col C\nBirthday      -2     -3\nEveryone!      5     -5",
      "text/html": "<div>\n<style scoped>\n    .dataframe tbody tr th:only-of-type {\n        vertical-align: middle;\n    }\n\n    .dataframe tbody tr th {\n        vertical-align: top;\n    }\n\n    .dataframe thead th {\n        text-align: right;\n    }\n</style>\n<table border=\"1\" class=\"dataframe\">\n  <thead>\n    <tr style=\"text-align: right;\">\n      <th></th>\n      <th>Col B</th>\n      <th>Col C</th>\n    </tr>\n  </thead>\n  <tbody>\n    <tr>\n      <th>Birthday</th>\n      <td>-2</td>\n      <td>-3</td>\n    </tr>\n    <tr>\n      <th>Everyone!</th>\n      <td>5</td>\n      <td>-5</td>\n    </tr>\n  </tbody>\n</table>\n</div>"
     },
     "metadata": {},
     "output_type": "display_data"
    }
   ]
  },
  {
   "cell_type": "markdown",
   "source": "We saw last week the conversion between a slice of a dataframe and a numpy array. To do this we use `slice.values`\n\nFor example, to covert a column to a numpy array use `df.loc[:,'Column'].values`",
   "metadata": {
    "tags": [],
    "cell_id": "00024-dfa2225b-618c-44a6-986e-0b35ac3f9385",
    "deepnote_cell_type": "markdown"
   }
  },
  {
   "cell_type": "code",
   "metadata": {
    "tags": [],
    "cell_id": "00025-13ebdfcc-7d32-4421-9ea0-f0747d6f8638",
    "deepnote_to_be_reexecuted": false,
    "source_hash": "eae61f3c",
    "execution_start": 1633631711208,
    "execution_millis": 17,
    "deepnote_cell_type": "code"
   },
   "source": "arr = df_A.loc['Birthday':, 'Col B':'Col C'].values\nprint(arr)",
   "execution_count": null,
   "outputs": [
    {
     "name": "stdout",
     "text": "[[-2 -3]\n [ 5 -5]]\n",
     "output_type": "stream"
    }
   ]
  },
  {
   "cell_type": "markdown",
   "source": "### Updating Values within Frames\n\nYou can also change the values of data within the frame using the location! Tell the computer which spot you want to update using and assign the new value:\n\n`df.loc['Row', 'Column'] = value`\n\n**Note:** This is different from `value = df.loc['Row', 'Column']`",
   "metadata": {
    "tags": [],
    "cell_id": "00026-12bb7f8a-f394-439a-9b6c-fcb4ffa557ee",
    "deepnote_cell_type": "markdown"
   }
  },
  {
   "cell_type": "code",
   "metadata": {
    "tags": [],
    "cell_id": "00027-fb46d3e7-03ad-41d7-bb07-5a7309017e53",
    "deepnote_to_be_reexecuted": false,
    "source_hash": "f6e5fa58",
    "execution_start": 1633631721713,
    "execution_millis": 12,
    "deepnote_cell_type": "code"
   },
   "source": "#Let's display df_A again\ndisplay(df_A)",
   "execution_count": null,
   "outputs": [
    {
     "data": {
      "application/vnd.deepnote.dataframe.v2+json": {
       "row_count": 3,
       "column_count": 3,
       "columns": [
        {
         "name": "Col A",
         "dtype": "int64",
         "stats": {
          "unique_count": 3,
          "nan_count": 0,
          "min": "-1",
          "max": "6",
          "histogram": [
           {
            "bin_start": -1,
            "bin_end": -0.30000000000000004,
            "count": 1
           },
           {
            "bin_start": -0.30000000000000004,
            "bin_end": 0.3999999999999999,
            "count": 0
           },
           {
            "bin_start": 0.3999999999999999,
            "bin_end": 1.0999999999999996,
            "count": 1
           },
           {
            "bin_start": 1.0999999999999996,
            "bin_end": 1.7999999999999998,
            "count": 0
           },
           {
            "bin_start": 1.7999999999999998,
            "bin_end": 2.5,
            "count": 0
           },
           {
            "bin_start": 2.5,
            "bin_end": 3.1999999999999993,
            "count": 0
           },
           {
            "bin_start": 3.1999999999999993,
            "bin_end": 3.8999999999999995,
            "count": 0
           },
           {
            "bin_start": 3.8999999999999995,
            "bin_end": 4.6,
            "count": 0
           },
           {
            "bin_start": 4.6,
            "bin_end": 5.3,
            "count": 0
           },
           {
            "bin_start": 5.3,
            "bin_end": 6,
            "count": 1
           }
          ]
         }
        },
        {
         "name": "Col B",
         "dtype": "int64",
         "stats": {
          "unique_count": 3,
          "nan_count": 0,
          "min": "-2",
          "max": "5",
          "histogram": [
           {
            "bin_start": -2,
            "bin_end": -1.3,
            "count": 1
           },
           {
            "bin_start": -1.3,
            "bin_end": -0.6000000000000001,
            "count": 0
           },
           {
            "bin_start": -0.6000000000000001,
            "bin_end": 0.09999999999999964,
            "count": 0
           },
           {
            "bin_start": 0.09999999999999964,
            "bin_end": 0.7999999999999998,
            "count": 0
           },
           {
            "bin_start": 0.7999999999999998,
            "bin_end": 1.5,
            "count": 0
           },
           {
            "bin_start": 1.5,
            "bin_end": 2.1999999999999993,
            "count": 1
           },
           {
            "bin_start": 2.1999999999999993,
            "bin_end": 2.8999999999999995,
            "count": 0
           },
           {
            "bin_start": 2.8999999999999995,
            "bin_end": 3.5999999999999996,
            "count": 0
           },
           {
            "bin_start": 3.5999999999999996,
            "bin_end": 4.3,
            "count": 0
           },
           {
            "bin_start": 4.3,
            "bin_end": 5,
            "count": 1
           }
          ]
         }
        },
        {
         "name": "Col C",
         "dtype": "int64",
         "stats": {
          "unique_count": 3,
          "nan_count": 0,
          "min": "-5",
          "max": "3",
          "histogram": [
           {
            "bin_start": -5,
            "bin_end": -4.2,
            "count": 1
           },
           {
            "bin_start": -4.2,
            "bin_end": -3.4,
            "count": 0
           },
           {
            "bin_start": -3.4,
            "bin_end": -2.5999999999999996,
            "count": 1
           },
           {
            "bin_start": -2.5999999999999996,
            "bin_end": -1.7999999999999998,
            "count": 0
           },
           {
            "bin_start": -1.7999999999999998,
            "bin_end": -1,
            "count": 0
           },
           {
            "bin_start": -1,
            "bin_end": -0.1999999999999993,
            "count": 0
           },
           {
            "bin_start": -0.1999999999999993,
            "bin_end": 0.6000000000000005,
            "count": 0
           },
           {
            "bin_start": 0.6000000000000005,
            "bin_end": 1.4000000000000004,
            "count": 0
           },
           {
            "bin_start": 1.4000000000000004,
            "bin_end": 2.2,
            "count": 0
           },
           {
            "bin_start": 2.2,
            "bin_end": 3,
            "count": 1
           }
          ]
         }
        },
        {
         "name": "_deepnote_index_column",
         "dtype": "object"
        }
       ],
       "rows_top": [
        {
         "Col A": 1,
         "Col B": 2,
         "Col C": 3,
         "_deepnote_index_column": "Happy"
        },
        {
         "Col A": -1,
         "Col B": -2,
         "Col C": -3,
         "_deepnote_index_column": "Birthday"
        },
        {
         "Col A": 6,
         "Col B": 5,
         "Col C": -5,
         "_deepnote_index_column": "Everyone!"
        }
       ],
       "rows_bottom": null
      },
      "text/plain": "           Col A  Col B  Col C\nHappy          1      2      3\nBirthday      -1     -2     -3\nEveryone!      6      5     -5",
      "text/html": "<div>\n<style scoped>\n    .dataframe tbody tr th:only-of-type {\n        vertical-align: middle;\n    }\n\n    .dataframe tbody tr th {\n        vertical-align: top;\n    }\n\n    .dataframe thead th {\n        text-align: right;\n    }\n</style>\n<table border=\"1\" class=\"dataframe\">\n  <thead>\n    <tr style=\"text-align: right;\">\n      <th></th>\n      <th>Col A</th>\n      <th>Col B</th>\n      <th>Col C</th>\n    </tr>\n  </thead>\n  <tbody>\n    <tr>\n      <th>Happy</th>\n      <td>1</td>\n      <td>2</td>\n      <td>3</td>\n    </tr>\n    <tr>\n      <th>Birthday</th>\n      <td>-1</td>\n      <td>-2</td>\n      <td>-3</td>\n    </tr>\n    <tr>\n      <th>Everyone!</th>\n      <td>6</td>\n      <td>5</td>\n      <td>-5</td>\n    </tr>\n  </tbody>\n</table>\n</div>"
     },
     "metadata": {},
     "output_type": "display_data"
    }
   ]
  },
  {
   "cell_type": "code",
   "metadata": {
    "tags": [],
    "cell_id": "00028-a6e94bb7-b1eb-4a4e-935e-4dbe63a39ba0",
    "deepnote_to_be_reexecuted": false,
    "source_hash": "632145f6",
    "execution_start": 1633631747069,
    "execution_millis": 19,
    "deepnote_cell_type": "code"
   },
   "source": "#Now let's update the value of 5 (in Row 'Everyone!' and Col 'Col B' to a 12)\ndf_A.loc['Everyone!', 'Col B'] = 12\ndisplay(df_A)",
   "execution_count": null,
   "outputs": [
    {
     "data": {
      "application/vnd.deepnote.dataframe.v2+json": {
       "row_count": 3,
       "column_count": 3,
       "columns": [
        {
         "name": "Col A",
         "dtype": "int64",
         "stats": {
          "unique_count": 3,
          "nan_count": 0,
          "min": "-1",
          "max": "6",
          "histogram": [
           {
            "bin_start": -1,
            "bin_end": -0.30000000000000004,
            "count": 1
           },
           {
            "bin_start": -0.30000000000000004,
            "bin_end": 0.3999999999999999,
            "count": 0
           },
           {
            "bin_start": 0.3999999999999999,
            "bin_end": 1.0999999999999996,
            "count": 1
           },
           {
            "bin_start": 1.0999999999999996,
            "bin_end": 1.7999999999999998,
            "count": 0
           },
           {
            "bin_start": 1.7999999999999998,
            "bin_end": 2.5,
            "count": 0
           },
           {
            "bin_start": 2.5,
            "bin_end": 3.1999999999999993,
            "count": 0
           },
           {
            "bin_start": 3.1999999999999993,
            "bin_end": 3.8999999999999995,
            "count": 0
           },
           {
            "bin_start": 3.8999999999999995,
            "bin_end": 4.6,
            "count": 0
           },
           {
            "bin_start": 4.6,
            "bin_end": 5.3,
            "count": 0
           },
           {
            "bin_start": 5.3,
            "bin_end": 6,
            "count": 1
           }
          ]
         }
        },
        {
         "name": "Col B",
         "dtype": "int64",
         "stats": {
          "unique_count": 3,
          "nan_count": 0,
          "min": "-2",
          "max": "12",
          "histogram": [
           {
            "bin_start": -2,
            "bin_end": -0.6000000000000001,
            "count": 1
           },
           {
            "bin_start": -0.6000000000000001,
            "bin_end": 0.7999999999999998,
            "count": 0
           },
           {
            "bin_start": 0.7999999999999998,
            "bin_end": 2.1999999999999993,
            "count": 1
           },
           {
            "bin_start": 2.1999999999999993,
            "bin_end": 3.5999999999999996,
            "count": 0
           },
           {
            "bin_start": 3.5999999999999996,
            "bin_end": 5,
            "count": 0
           },
           {
            "bin_start": 5,
            "bin_end": 6.399999999999999,
            "count": 0
           },
           {
            "bin_start": 6.399999999999999,
            "bin_end": 7.799999999999999,
            "count": 0
           },
           {
            "bin_start": 7.799999999999999,
            "bin_end": 9.2,
            "count": 0
           },
           {
            "bin_start": 9.2,
            "bin_end": 10.6,
            "count": 0
           },
           {
            "bin_start": 10.6,
            "bin_end": 12,
            "count": 1
           }
          ]
         }
        },
        {
         "name": "Col C",
         "dtype": "int64",
         "stats": {
          "unique_count": 3,
          "nan_count": 0,
          "min": "-5",
          "max": "3",
          "histogram": [
           {
            "bin_start": -5,
            "bin_end": -4.2,
            "count": 1
           },
           {
            "bin_start": -4.2,
            "bin_end": -3.4,
            "count": 0
           },
           {
            "bin_start": -3.4,
            "bin_end": -2.5999999999999996,
            "count": 1
           },
           {
            "bin_start": -2.5999999999999996,
            "bin_end": -1.7999999999999998,
            "count": 0
           },
           {
            "bin_start": -1.7999999999999998,
            "bin_end": -1,
            "count": 0
           },
           {
            "bin_start": -1,
            "bin_end": -0.1999999999999993,
            "count": 0
           },
           {
            "bin_start": -0.1999999999999993,
            "bin_end": 0.6000000000000005,
            "count": 0
           },
           {
            "bin_start": 0.6000000000000005,
            "bin_end": 1.4000000000000004,
            "count": 0
           },
           {
            "bin_start": 1.4000000000000004,
            "bin_end": 2.2,
            "count": 0
           },
           {
            "bin_start": 2.2,
            "bin_end": 3,
            "count": 1
           }
          ]
         }
        },
        {
         "name": "_deepnote_index_column",
         "dtype": "object"
        }
       ],
       "rows_top": [
        {
         "Col A": 1,
         "Col B": 2,
         "Col C": 3,
         "_deepnote_index_column": "Happy"
        },
        {
         "Col A": -1,
         "Col B": -2,
         "Col C": -3,
         "_deepnote_index_column": "Birthday"
        },
        {
         "Col A": 6,
         "Col B": 12,
         "Col C": -5,
         "_deepnote_index_column": "Everyone!"
        }
       ],
       "rows_bottom": null
      },
      "text/plain": "           Col A  Col B  Col C\nHappy          1      2      3\nBirthday      -1     -2     -3\nEveryone!      6     12     -5",
      "text/html": "<div>\n<style scoped>\n    .dataframe tbody tr th:only-of-type {\n        vertical-align: middle;\n    }\n\n    .dataframe tbody tr th {\n        vertical-align: top;\n    }\n\n    .dataframe thead th {\n        text-align: right;\n    }\n</style>\n<table border=\"1\" class=\"dataframe\">\n  <thead>\n    <tr style=\"text-align: right;\">\n      <th></th>\n      <th>Col A</th>\n      <th>Col B</th>\n      <th>Col C</th>\n    </tr>\n  </thead>\n  <tbody>\n    <tr>\n      <th>Happy</th>\n      <td>1</td>\n      <td>2</td>\n      <td>3</td>\n    </tr>\n    <tr>\n      <th>Birthday</th>\n      <td>-1</td>\n      <td>-2</td>\n      <td>-3</td>\n    </tr>\n    <tr>\n      <th>Everyone!</th>\n      <td>6</td>\n      <td>12</td>\n      <td>-5</td>\n    </tr>\n  </tbody>\n</table>\n</div>"
     },
     "metadata": {},
     "output_type": "display_data"
    }
   ]
  },
  {
   "cell_type": "markdown",
   "source": "### Pandas Remove NaN Values\n\nOften our data comes with a bunch of missing information. These will fill into our frame as `nan` values. `nan` stands for **Not a Number**. We typically want to get rid of this information!\n\nWe can use `pd.dropna(axis=0)` to drop the rows containing `nan` values or `pd.dropna(axis=1)` to drop columns containing `nan`\n\nYou can read more about `pd.dropna()` at the documentation [here](https://pandas.pydata.org/docs/reference/api/pandas.DataFrame.dropna.html)",
   "metadata": {
    "tags": [],
    "cell_id": "00024-213380f7-3ef5-489f-8fbb-b9e1d3e0f42f",
    "deepnote_cell_type": "markdown"
   }
  },
  {
   "cell_type": "markdown",
   "source": "Let's pull in another csv file, this time from `DemoCSV2.csv` using the same procedure from above! `DemoCSV2.csv` contains some `nan` values and we will process it ",
   "metadata": {
    "tags": [],
    "cell_id": "00025-8ad710a8-f713-434d-9846-32de2f9d1c5b",
    "deepnote_cell_type": "markdown"
   }
  },
  {
   "cell_type": "code",
   "metadata": {
    "tags": [],
    "cell_id": "00024-7086e9d1-fd0a-4d3f-8174-e2c6e33b5e2e",
    "deepnote_to_be_reexecuted": false,
    "source_hash": "836b64ca",
    "execution_start": 1633631760193,
    "execution_millis": 243,
    "deepnote_cell_type": "code"
   },
   "source": "filename = '/work/Fall 2021/for_students/Week3/DemoCSV2.csv'\ndf = pd.read_csv(filename)\ndisplay(df)",
   "execution_count": null,
   "outputs": [
    {
     "data": {
      "application/vnd.deepnote.dataframe.v2+json": {
       "row_count": 6,
       "column_count": 3,
       "columns": [
        {
         "name": "Person",
         "dtype": "object",
         "stats": {
          "unique_count": 6,
          "nan_count": 0,
          "categories": [
           {
            "name": "Ash",
            "count": 1
           },
           {
            "name": "James",
            "count": 1
           },
           {
            "name": "4 others",
            "count": 4
           }
          ]
         }
        },
        {
         "name": "Place",
         "dtype": "object",
         "stats": {
          "unique_count": 5,
          "nan_count": 1,
          "categories": [
           {
            "name": "Home",
            "count": 1
           },
           {
            "name": "4 others",
            "count": 4
           },
           {
            "name": "Missing",
            "count": 1
           }
          ]
         }
        },
        {
         "name": "Number",
         "dtype": "float64",
         "stats": {
          "unique_count": 4,
          "nan_count": 2,
          "min": "1.0",
          "max": "15.0",
          "histogram": [
           {
            "bin_start": 1,
            "bin_end": 2.4,
            "count": 1
           },
           {
            "bin_start": 2.4,
            "bin_end": 3.8,
            "count": 0
           },
           {
            "bin_start": 3.8,
            "bin_end": 5.199999999999999,
            "count": 0
           },
           {
            "bin_start": 5.199999999999999,
            "bin_end": 6.6,
            "count": 0
           },
           {
            "bin_start": 6.6,
            "bin_end": 8,
            "count": 1
           },
           {
            "bin_start": 8,
            "bin_end": 9.399999999999999,
            "count": 0
           },
           {
            "bin_start": 9.399999999999999,
            "bin_end": 10.799999999999999,
            "count": 0
           },
           {
            "bin_start": 10.799999999999999,
            "bin_end": 12.2,
            "count": 0
           },
           {
            "bin_start": 12.2,
            "bin_end": 13.6,
            "count": 1
           },
           {
            "bin_start": 13.6,
            "bin_end": 15,
            "count": 1
           }
          ]
         }
        },
        {
         "name": "_deepnote_index_column",
         "dtype": "int64"
        }
       ],
       "rows_top": [
        {
         "Person": "Ash",
         "Place": "Home",
         "Number": 1,
         "_deepnote_index_column": 0
        },
        {
         "Person": "James",
         "Place": "Grocery Store",
         "Number": 7,
         "_deepnote_index_column": 1
        },
        {
         "Person": "Jessie",
         "Place": "Class",
         "Number": "nan",
         "_deepnote_index_column": 2
        },
        {
         "Person": "Brock",
         "Place": "Lab",
         "Number": 15,
         "_deepnote_index_column": 3
        },
        {
         "Person": "Misty",
         "Place": "nan",
         "Number": 13,
         "_deepnote_index_column": 4
        },
        {
         "Person": "Dawn",
         "Place": "Swimming Pool",
         "Number": "nan",
         "_deepnote_index_column": 5
        }
       ],
       "rows_bottom": null
      },
      "text/plain": "   Person          Place  Number\n0     Ash           Home     1.0\n1   James  Grocery Store     7.0\n2  Jessie          Class     NaN\n3   Brock            Lab    15.0\n4   Misty            NaN    13.0\n5    Dawn  Swimming Pool     NaN",
      "text/html": "<div>\n<style scoped>\n    .dataframe tbody tr th:only-of-type {\n        vertical-align: middle;\n    }\n\n    .dataframe tbody tr th {\n        vertical-align: top;\n    }\n\n    .dataframe thead th {\n        text-align: right;\n    }\n</style>\n<table border=\"1\" class=\"dataframe\">\n  <thead>\n    <tr style=\"text-align: right;\">\n      <th></th>\n      <th>Person</th>\n      <th>Place</th>\n      <th>Number</th>\n    </tr>\n  </thead>\n  <tbody>\n    <tr>\n      <th>0</th>\n      <td>Ash</td>\n      <td>Home</td>\n      <td>1.0</td>\n    </tr>\n    <tr>\n      <th>1</th>\n      <td>James</td>\n      <td>Grocery Store</td>\n      <td>7.0</td>\n    </tr>\n    <tr>\n      <th>2</th>\n      <td>Jessie</td>\n      <td>Class</td>\n      <td>NaN</td>\n    </tr>\n    <tr>\n      <th>3</th>\n      <td>Brock</td>\n      <td>Lab</td>\n      <td>15.0</td>\n    </tr>\n    <tr>\n      <th>4</th>\n      <td>Misty</td>\n      <td>NaN</td>\n      <td>13.0</td>\n    </tr>\n    <tr>\n      <th>5</th>\n      <td>Dawn</td>\n      <td>Swimming Pool</td>\n      <td>NaN</td>\n    </tr>\n  </tbody>\n</table>\n</div>"
     },
     "metadata": {},
     "output_type": "display_data"
    }
   ]
  },
  {
   "cell_type": "code",
   "metadata": {
    "tags": [],
    "cell_id": "00027-53897f06-0650-4803-a77e-a40e3e909540",
    "deepnote_to_be_reexecuted": false,
    "source_hash": "ecd3cd7a",
    "execution_start": 1633631761120,
    "execution_millis": 51,
    "deepnote_cell_type": "code"
   },
   "source": "row_drop = df.dropna(axis=0)\ndisplay(row_drop)",
   "execution_count": null,
   "outputs": [
    {
     "data": {
      "application/vnd.deepnote.dataframe.v2+json": {
       "row_count": 3,
       "column_count": 3,
       "columns": [
        {
         "name": "Person",
         "dtype": "object",
         "stats": {
          "unique_count": 3,
          "nan_count": 0,
          "categories": [
           {
            "name": "Ash",
            "count": 1
           },
           {
            "name": "James",
            "count": 1
           },
           {
            "name": "Brock",
            "count": 1
           }
          ]
         }
        },
        {
         "name": "Place",
         "dtype": "object",
         "stats": {
          "unique_count": 3,
          "nan_count": 0,
          "categories": [
           {
            "name": "Home",
            "count": 1
           },
           {
            "name": "Grocery Store",
            "count": 1
           },
           {
            "name": "Lab",
            "count": 1
           }
          ]
         }
        },
        {
         "name": "Number",
         "dtype": "float64",
         "stats": {
          "unique_count": 3,
          "nan_count": 0,
          "min": "1.0",
          "max": "15.0",
          "histogram": [
           {
            "bin_start": 1,
            "bin_end": 2.4,
            "count": 1
           },
           {
            "bin_start": 2.4,
            "bin_end": 3.8,
            "count": 0
           },
           {
            "bin_start": 3.8,
            "bin_end": 5.199999999999999,
            "count": 0
           },
           {
            "bin_start": 5.199999999999999,
            "bin_end": 6.6,
            "count": 0
           },
           {
            "bin_start": 6.6,
            "bin_end": 8,
            "count": 1
           },
           {
            "bin_start": 8,
            "bin_end": 9.399999999999999,
            "count": 0
           },
           {
            "bin_start": 9.399999999999999,
            "bin_end": 10.799999999999999,
            "count": 0
           },
           {
            "bin_start": 10.799999999999999,
            "bin_end": 12.2,
            "count": 0
           },
           {
            "bin_start": 12.2,
            "bin_end": 13.6,
            "count": 0
           },
           {
            "bin_start": 13.6,
            "bin_end": 15,
            "count": 1
           }
          ]
         }
        },
        {
         "name": "_deepnote_index_column",
         "dtype": "int64"
        }
       ],
       "rows_top": [
        {
         "Person": "Ash",
         "Place": "Home",
         "Number": 1,
         "_deepnote_index_column": 0
        },
        {
         "Person": "James",
         "Place": "Grocery Store",
         "Number": 7,
         "_deepnote_index_column": 1
        },
        {
         "Person": "Brock",
         "Place": "Lab",
         "Number": 15,
         "_deepnote_index_column": 3
        }
       ],
       "rows_bottom": null
      },
      "text/plain": "  Person          Place  Number\n0    Ash           Home     1.0\n1  James  Grocery Store     7.0\n3  Brock            Lab    15.0",
      "text/html": "<div>\n<style scoped>\n    .dataframe tbody tr th:only-of-type {\n        vertical-align: middle;\n    }\n\n    .dataframe tbody tr th {\n        vertical-align: top;\n    }\n\n    .dataframe thead th {\n        text-align: right;\n    }\n</style>\n<table border=\"1\" class=\"dataframe\">\n  <thead>\n    <tr style=\"text-align: right;\">\n      <th></th>\n      <th>Person</th>\n      <th>Place</th>\n      <th>Number</th>\n    </tr>\n  </thead>\n  <tbody>\n    <tr>\n      <th>0</th>\n      <td>Ash</td>\n      <td>Home</td>\n      <td>1.0</td>\n    </tr>\n    <tr>\n      <th>1</th>\n      <td>James</td>\n      <td>Grocery Store</td>\n      <td>7.0</td>\n    </tr>\n    <tr>\n      <th>3</th>\n      <td>Brock</td>\n      <td>Lab</td>\n      <td>15.0</td>\n    </tr>\n  </tbody>\n</table>\n</div>"
     },
     "metadata": {},
     "output_type": "display_data"
    }
   ]
  },
  {
   "cell_type": "code",
   "metadata": {
    "tags": [],
    "cell_id": "00028-e72f3d5c-3b91-447d-8674-c5bb9640ae07",
    "deepnote_to_be_reexecuted": false,
    "source_hash": "1d843e82",
    "execution_start": 1633631762328,
    "execution_millis": 34,
    "deepnote_cell_type": "code"
   },
   "source": "col_drop = df.dropna(axis=1)\ndisplay(col_drop)",
   "execution_count": null,
   "outputs": [
    {
     "data": {
      "application/vnd.deepnote.dataframe.v2+json": {
       "row_count": 6,
       "column_count": 1,
       "columns": [
        {
         "name": "Person",
         "dtype": "object",
         "stats": {
          "unique_count": 6,
          "nan_count": 0,
          "categories": [
           {
            "name": "Ash",
            "count": 1
           },
           {
            "name": "James",
            "count": 1
           },
           {
            "name": "4 others",
            "count": 4
           }
          ]
         }
        },
        {
         "name": "_deepnote_index_column",
         "dtype": "int64"
        }
       ],
       "rows_top": [
        {
         "Person": "Ash",
         "_deepnote_index_column": 0
        },
        {
         "Person": "James",
         "_deepnote_index_column": 1
        },
        {
         "Person": "Jessie",
         "_deepnote_index_column": 2
        },
        {
         "Person": "Brock",
         "_deepnote_index_column": 3
        },
        {
         "Person": "Misty",
         "_deepnote_index_column": 4
        },
        {
         "Person": "Dawn",
         "_deepnote_index_column": 5
        }
       ],
       "rows_bottom": null
      },
      "text/plain": "   Person\n0     Ash\n1   James\n2  Jessie\n3   Brock\n4   Misty\n5    Dawn",
      "text/html": "<div>\n<style scoped>\n    .dataframe tbody tr th:only-of-type {\n        vertical-align: middle;\n    }\n\n    .dataframe tbody tr th {\n        vertical-align: top;\n    }\n\n    .dataframe thead th {\n        text-align: right;\n    }\n</style>\n<table border=\"1\" class=\"dataframe\">\n  <thead>\n    <tr style=\"text-align: right;\">\n      <th></th>\n      <th>Person</th>\n    </tr>\n  </thead>\n  <tbody>\n    <tr>\n      <th>0</th>\n      <td>Ash</td>\n    </tr>\n    <tr>\n      <th>1</th>\n      <td>James</td>\n    </tr>\n    <tr>\n      <th>2</th>\n      <td>Jessie</td>\n    </tr>\n    <tr>\n      <th>3</th>\n      <td>Brock</td>\n    </tr>\n    <tr>\n      <th>4</th>\n      <td>Misty</td>\n    </tr>\n    <tr>\n      <th>5</th>\n      <td>Dawn</td>\n    </tr>\n  </tbody>\n</table>\n</div>"
     },
     "metadata": {},
     "output_type": "display_data"
    }
   ]
  },
  {
   "cell_type": "markdown",
   "source": "### Saving a DataFrame to a CSV File\n\nThis section won't be covered in class, but is good for your reference!\n\nIt would be fun but not feel complete if you can pull from a csv but not save to a csv.\n\nUsing `df.to_csv(filepath)` you can send a file to path you specify.\n\nThe file path is going to be in the form of `folder_path + '/' + name`\n\nThe name is up to you, but should end with `.csv`. The `folder_path` can be acquired using the three dots and `Copy path to clipboard` like before but now on the folder instead of the file",
   "metadata": {
    "tags": [],
    "cell_id": "00034-11d1dc2b-fad1-4a0b-b300-3886791c8a64",
    "deepnote_cell_type": "markdown"
   }
  },
  {
   "cell_type": "code",
   "metadata": {
    "tags": [],
    "cell_id": "00035-96ea026f-da83-4a4e-a207-a23e446e57d3",
    "deepnote_to_be_reexecuted": false,
    "source_hash": "146f4065",
    "execution_start": 1633584654606,
    "execution_millis": 145,
    "output_cleared": true,
    "deepnote_cell_type": "code"
   },
   "source": "name = 'DemoCSV3.csv'\nfilepath = '/work/Week3' + '/' + name\nrow_drop.to_csv(filepath)",
   "execution_count": null,
   "outputs": []
  },
  {
   "cell_type": "markdown",
   "source": "## Challenge Question!\n\nExperiment with the `DemoCSV1.csv` file provided! Pick two columns with numerical data, such as the `Miles_per_Gallon` and `Weight_in_lbs` and make a plot. \n\n\nHere is an example pseudo-code you might use to accomplish this!\n \n```\ndf1 = pd.read_csv(file)\n\narr1 = df1.loc[slicing].values\narr2 = df1.loc[slicing].values\n\nplt.plot(arr1, arr2)\n\n```\n\n#### Bonus\n\nFor extra challenge plot different correlations on the same graph! \n\n**Example:**\n- `Miles_per_Gallon` vs `Weight_in_lbs` \n- `Horsepower` vs `Weight_in_lbs` ",
   "metadata": {
    "tags": [],
    "cell_id": "00031-1691ee9d-02ec-4ec7-af0c-c8fcd207aadf",
    "deepnote_cell_type": "markdown"
   }
  },
  {
   "cell_type": "code",
   "metadata": {
    "tags": [],
    "cell_id": "00033-f62f3128-a362-4406-ab27-45b9ea74e283",
    "deepnote_to_be_reexecuted": false,
    "source_hash": "75fe9844",
    "execution_start": 1633633207217,
    "execution_millis": 1,
    "deepnote_cell_type": "code"
   },
   "source": "#Your code here!",
   "execution_count": null,
   "outputs": []
  },
  {
   "cell_type": "code",
   "metadata": {
    "tags": [],
    "cell_id": "00034-ab5ffd15-b0f1-4e12-a91f-e4d8bebaf78f",
    "deepnote_to_be_reexecuted": false,
    "source_hash": "3ab1a6b4",
    "execution_start": 1633584670441,
    "execution_millis": 10,
    "deepnote_cell_type": "code"
   },
   "source": "#If your teammates want to work independently, add more code cells!",
   "execution_count": null,
   "outputs": []
  },
  {
   "cell_type": "markdown",
   "source": "<a style='text-decoration:none;line-height:16px;display:flex;color:#5B5B62;padding:10px;justify-content:end;' href='https://deepnote.com?utm_source=created-in-deepnote-cell&projectId=928a4826-6d7d-44bd-b128-d6cd83127a49' target=\"_blank\">\n<img alt='Created in deepnote.com' style='display:inline;max-height:16px;margin:0px;margin-right:7.5px;' src='data:image/svg+xml;base64,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' > </img>\nCreated in <span style='font-weight:600;margin-left:4px;'>Deepnote</span></a>",
   "metadata": {
    "tags": [],
    "created_in_deepnote_cell": true,
    "deepnote_cell_type": "markdown"
   }
  }
 ],
 "nbformat": 4,
 "nbformat_minor": 2,
 "metadata": {
  "orig_nbformat": 2,
  "deepnote": {
   "is_reactive": false
  },
  "deepnote_notebook_id": "e976b919-b063-4063-a4df-05ab1dd0f8ab",
  "deepnote_execution_queue": []
 }
}