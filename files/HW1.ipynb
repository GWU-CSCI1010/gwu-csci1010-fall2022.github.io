{
 "cells": [
  {
   "cell_type": "markdown",
   "source": "# APSC1001 - CS1010 Assignment 1\n### Instructor: \n**Dr. Kartik Bulusu [MAE]**\n\n#### Teaching Assistants: \n**Sara Tenaglio [BME], Catherine Karpova [BME]**\n\n#### Learning Assistants: \n**Ethan Frink [MAE], Alexis Renderos [MAE], Olivia Legault [CS], Jon Terry [CS], Jack Umina [CS]**",
   "metadata": {
    "tags": [],
    "cell_id": "00001-7965f171-480a-478e-984a-2ceb2b4f30aa",
    "deepnote_cell_type": "markdown"
   }
  },
  {
   "cell_type": "markdown",
   "source": "Put your team's names in the below cell inside the quotation marks!",
   "metadata": {
    "tags": [],
    "cell_id": "00002-1496c659-29ef-4a6f-9cdc-7830a67e7f6d",
    "deepnote_cell_type": "markdown"
   }
  },
  {
   "cell_type": "code",
   "metadata": {
    "tags": [],
    "cell_id": "00003-a4b35195-9877-4580-83ae-81a2fdfd90a3",
    "deepnote_to_be_reexecuted": false,
    "source_hash": "9dbf6020",
    "execution_start": 1632333313048,
    "execution_millis": 3,
    "deepnote_cell_type": "code"
   },
   "source": "#we have imported the math library for you!\n#Please use 'Shift+Enter' to execute this cell\nimport math\nimport numpy as np",
   "execution_count": null,
   "outputs": []
  },
  {
   "cell_type": "code",
   "metadata": {
    "tags": [],
    "cell_id": "00000-74a229f3-383a-4d6b-a61c-0666f1806e70",
    "deepnote_cell_type": "code"
   },
   "source": "#Your names go here!\nname1 = ''\nname2 = ''\nname3 = ''\nname4 = ''\n\nprint('Group member 1 is named ' + name1)\nprint('Group member 2 is named ' + name2)\nprint('Group member 3 is named ' + name3)\n\nif name4 != '':\n    print('Group member 4 is named ' + name4)",
   "execution_count": null,
   "outputs": []
  },
  {
   "cell_type": "markdown",
   "source": "## Question 1.\n Save the value of `20` to a variable called `twenty`, then print that variable.\n\n Also save the value of `15` to a variable called `number` and print that variable.",
   "metadata": {
    "tags": [],
    "cell_id": "00004-8c05fd1a-d67c-4692-8cb3-191a6de5d6f2",
    "deepnote_cell_type": "markdown"
   }
  },
  {
   "cell_type": "code",
   "metadata": {
    "tags": [],
    "cell_id": "00005-957993a1-3282-4d65-a726-b307b9ba8e04",
    "deepnote_cell_type": "code"
   },
   "source": "#Your code here!",
   "execution_count": null,
   "outputs": []
  },
  {
   "cell_type": "markdown",
   "source": "## Question 2. \nSave the string of the word `Hi` to a variable called `greeting`, and print the variable\n\n**Hint**: remember strings require quotations!",
   "metadata": {
    "tags": [],
    "cell_id": "00006-2e745cd0-3095-4322-b553-9bbd611c8863",
    "deepnote_cell_type": "markdown"
   }
  },
  {
   "cell_type": "code",
   "metadata": {
    "tags": [],
    "cell_id": "00007-85a9b958-9399-4829-a430-d64b90a38302",
    "deepnote_cell_type": "code"
   },
   "source": "#Your code here!",
   "execution_count": null,
   "outputs": []
  },
  {
   "cell_type": "markdown",
   "source": "## Question 3. \nMultiply the variable `twenty` by the variable `number`. Save this result as `product` and print the result",
   "metadata": {
    "tags": [],
    "cell_id": "00007-0781de10-f334-46ef-9cd0-06f0a2eef869",
    "deepnote_cell_type": "markdown"
   }
  },
  {
   "cell_type": "code",
   "metadata": {
    "tags": [],
    "cell_id": "00009-cd91a7b4-0ac4-4e92-896b-b6ba9daf21ec",
    "deepnote_cell_type": "code"
   },
   "source": "#Your code here!",
   "execution_count": null,
   "outputs": []
  },
  {
   "cell_type": "markdown",
   "source": "## Question 4. \nCalculate the cosine $\\cos()$ of the value $\\pi$ and save it to a variable called `x`. \n\n**Hint**: use the math library to calculate $\\pi$ and $\\cos()$",
   "metadata": {
    "tags": [],
    "cell_id": "00009-5d803b6a-9806-41b0-96d5-e15c9b10c801",
    "deepnote_cell_type": "markdown"
   }
  },
  {
   "cell_type": "code",
   "metadata": {
    "tags": [],
    "cell_id": "00012-9601699a-50f7-4394-98c4-806d1ddc4e89",
    "deepnote_to_be_reexecuted": false,
    "source_hash": "75fe9844",
    "execution_start": 1631239986678,
    "execution_millis": 0,
    "deepnote_cell_type": "code"
   },
   "source": "#Your code here!",
   "execution_count": null,
   "outputs": []
  },
  {
   "cell_type": "markdown",
   "source": "## Question 5. \n\nCompute the following equation using python and printing the value. And print the y value\n\n- G = 1,\n- M = 10\n- L = 2 \n- r = 3 \n- s = 1\n\n$y= -GM \\frac{s}{r^2\\sqrt{r^2 +L^2/4}}$",
   "metadata": {
    "tags": [],
    "cell_id": "00012-db5c898c-db60-46cb-9e4d-652557368631",
    "deepnote_cell_type": "markdown"
   }
  },
  {
   "cell_type": "code",
   "metadata": {
    "tags": [],
    "cell_id": "00014-90c84a46-1b97-4978-98ae-088c42d9f127",
    "deepnote_cell_type": "code"
   },
   "source": "#Your code here!",
   "execution_count": null,
   "outputs": []
  },
  {
   "cell_type": "markdown",
   "source": "## Question 6. \nWrite a code to calculate the following and save the result to a variable named `y`:\n\n$y = \\frac{400+\\frac{37}{43}}{(10)(3-18)}$\n\n**Hint**: Be careful with parenthesis!",
   "metadata": {
    "tags": [],
    "cell_id": "00016-0ea97dd8-c4a6-41d9-b868-879d6dff7523",
    "deepnote_cell_type": "markdown"
   }
  },
  {
   "cell_type": "code",
   "metadata": {
    "tags": [],
    "cell_id": "00018-a432755e-d87b-4e9b-ab5d-b76413e09bfc",
    "deepnote_cell_type": "code"
   },
   "source": "#Your code here!",
   "execution_count": null,
   "outputs": []
  },
  {
   "cell_type": "markdown",
   "source": "## Congrats!!\n You completed your first Python Assignment in APSC 1001/CS 1010! Give yourself a round of applause!!",
   "metadata": {
    "tags": [],
    "cell_id": "00016-c20ead28-3087-46c3-8bb4-566e24ccc045",
    "deepnote_cell_type": "markdown"
   }
  },
  {
   "cell_type": "markdown",
   "source": "<a style='text-decoration:none;line-height:16px;display:flex;color:#5B5B62;padding:10px;justify-content:end;' href='https://deepnote.com?utm_source=created-in-deepnote-cell&projectId=928a4826-6d7d-44bd-b128-d6cd83127a49' target=\"_blank\">\n<img alt='Created in deepnote.com' style='display:inline;max-height:16px;margin:0px;margin-right:7.5px;' src='data:image/svg+xml;base64,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' > </img>\nCreated in <span style='font-weight:600;margin-left:4px;'>Deepnote</span></a>",
   "metadata": {
    "tags": [],
    "created_in_deepnote_cell": true,
    "deepnote_cell_type": "markdown"
   }
  }
 ],
 "nbformat": 4,
 "nbformat_minor": 2,
 "metadata": {
  "orig_nbformat": 2,
  "deepnote": {
   "is_reactive": false
  },
  "deepnote_notebook_id": "10a7bbbc-935a-4cc0-8009-f703e18e1de5",
  "deepnote_execution_queue": []
 }
}