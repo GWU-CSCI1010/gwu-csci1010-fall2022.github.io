{
 "cells": [
  {
   "cell_type": "markdown",
   "source": "# APSC 1001 - CS 1010\n# Week 2 - Numpy, Matplotlib, and Pandas Intro\n    \n### Instructor: Dr. Kartik Bulusu, [MAE] \n    \n#### Teaching Assistants: name [dept]\n\n#### Learning Assistants: Ethan Frink [MAE], Alexis Renderos [MAE]",
   "metadata": {
    "tags": [],
    "cell_id": "00000-7f031e4c-9c33-4caf-ac47-769b42c92ce0",
    "deepnote_cell_type": "markdown"
   }
  },
  {
   "cell_type": "markdown",
   "source": "## Introduction to Numpy",
   "metadata": {
    "tags": [],
    "is_collapsed": false,
    "cell_id": "00001-f266a782-da34-4330-aba2-03ef666f7cc0",
    "deepnote_cell_type": "text-cell-h2"
   }
  },
  {
   "cell_type": "markdown",
   "source": "Numpy works with concepts called arrays, which are essentially collections of numbers. \n\nWe can establish numpy arrays in a lot of ways, but in order to do so, we need to have the library imported into our session of DeepNote. Let's start with that!\n\nYou've seen the following cell before",
   "metadata": {
    "tags": [],
    "cell_id": "00001-efb0fc49-a112-43b0-98aa-48504a3a1f07",
    "deepnote_cell_type": "markdown"
   }
  },
  {
   "cell_type": "code",
   "metadata": {
    "tags": [],
    "deepnote_to_be_reexecuted": false,
    "source_hash": "c2602aa8",
    "execution_start": 1633060990005,
    "execution_millis": 1,
    "cell_id": "00001-3ebde43d-c614-4ad9-8750-be54a1e5797e",
    "deepnote_cell_type": "code"
   },
   "source": "import numpy as np",
   "outputs": [],
   "execution_count": null
  },
  {
   "cell_type": "markdown",
   "source": "### Numpy as a calculator",
   "metadata": {
    "tags": [],
    "is_collapsed": false,
    "cell_id": "00004-013e2001-d790-4439-ace0-f55cfe4e30b8",
    "deepnote_cell_type": "text-cell-h3"
   }
  },
  {
   "cell_type": "code",
   "metadata": {
    "tags": [],
    "deepnote_to_be_reexecuted": false,
    "source_hash": "36f5944a",
    "execution_start": 1632978461800,
    "execution_millis": 8,
    "cell_id": "00006-f93d20b8-0bb9-4d47-b993-808fe9cdf21d",
    "deepnote_cell_type": "code"
   },
   "source": "powers_of_10_array = np.array([1, 10, 100, 1000])\n#element-wise addition\nnew_array2 = powers_of_10_array + 2\nprint(new_array2)\n\n#in one operation, using numpy",
   "execution_count": null,
   "outputs": [
    {
     "name": "stdout",
     "text": "[   3   12  102 1002]\n",
     "output_type": "stream"
    }
   ]
  },
  {
   "cell_type": "markdown",
   "source": "Similarly we can do other types of math! \n\nNumpy is like the math library which means we have access to sin, cos, absolute value, hyperbolics, exponentials, and all kinds of fun functions",
   "metadata": {
    "tags": [],
    "cell_id": "00007-161282c8-c10c-4438-8436-b7ad51466b68",
    "deepnote_cell_type": "markdown"
   }
  },
  {
   "cell_type": "code",
   "metadata": {
    "tags": [],
    "deepnote_to_be_reexecuted": false,
    "source_hash": "c2eb5213",
    "execution_start": 1632978484636,
    "execution_millis": 8,
    "cell_id": "00008-f7b3103a-1cf5-4fdf-8204-6ec2eb08bb50",
    "deepnote_cell_type": "code"
   },
   "source": "#similarly, element-wise multiplication\nnew_array3 = powers_of_10_array * 2\nprint(new_array3)\n\n#how about sin(x) for each element in the array? (in radians)\nnew_array4 = np.sin(powers_of_10_array)\nprint(new_array4)",
   "execution_count": null,
   "outputs": [
    {
     "name": "stdout",
     "text": "[   2   20  200 2000]\n[ 0.84147098 -0.54402111 -0.50636564  0.82687954]\n",
     "output_type": "stream"
    }
   ]
  },
  {
   "cell_type": "markdown",
   "source": "We can also do math with two arrays of the same size!\n\nWe probably will not have time to visit this in class, but we have included it here if you'd like to go above and beyond!",
   "metadata": {
    "tags": [],
    "cell_id": "00009-19980d6f-2cf9-4320-9089-21d176477aa0",
    "deepnote_cell_type": "markdown"
   }
  },
  {
   "cell_type": "code",
   "metadata": {
    "tags": [],
    "deepnote_to_be_reexecuted": false,
    "source_hash": "a64ff2de",
    "execution_start": 1632951439067,
    "execution_millis": 7,
    "cell_id": "00010-e25e3624-58c8-41af-8809-6d9c13639e30",
    "deepnote_cell_type": "code"
   },
   "source": "#Two Array Math\narray1 = np.array([8, -7, 6, -5, 4, -3])\narray2 = np.array([1, 2, 3, 4, 5, 6])\n\n#we can do element-wise math on both arrays\nsum_array = array1 + array2\nprint(sum_array)\nprint()\n\ndifference_array = array1 - array2\nprint(difference_array)\nprint()\n\nproduct_array = array1 * array2\nprint(product_array)\nprint()\n\nquotient_array = array1 / array2\nprint(quotient_array)",
   "execution_count": null,
   "outputs": [
    {
     "name": "stdout",
     "text": "[ 9 -5  9 -1  9  3]\n\n[ 7 -9  3 -9 -1 -9]\n\n[  8 -14  18 -20  20 -18]\n\n[ 8.   -3.5   2.   -1.25  0.8  -0.5 ]\n",
     "output_type": "stream"
    }
   ]
  },
  {
   "cell_type": "markdown",
   "source": "### Null Arrays and Appending",
   "metadata": {
    "tags": [],
    "is_collapsed": false,
    "cell_id": "00010-5e5763b1-eb83-4923-9700-20cbf7513a7a",
    "deepnote_cell_type": "text-cell-h3"
   }
  },
  {
   "cell_type": "markdown",
   "source": "### \nWhat if we collect data a little at a time?\n\nFirst we establish something called a null array. This is a blank canvas for us to paint data into later. \n\nThen we append the data in one element at a time until we are done. Think loops!\n\nThen we can do our math to this data!",
   "metadata": {
    "tags": [],
    "cell_id": "00010-5eadaf50-03a9-4c6f-ba01-2216e90474d6",
    "deepnote_cell_type": "markdown"
   }
  },
  {
   "cell_type": "code",
   "metadata": {
    "tags": [],
    "cell_id": "00011-df34d179-bd2c-4eab-9d15-55daa1b81972",
    "deepnote_to_be_reexecuted": false,
    "source_hash": "6a6174b2",
    "execution_start": 1632978916335,
    "execution_millis": 8,
    "deepnote_cell_type": "code"
   },
   "source": "#here we create the null array d\nd = np.array([])\nprint(d)\n\nprint()\n\n#here we append to d the values from 0-9 (inclusive)\nfor i in range(10):\n    d = np.append(d, i)\n    #uncomment below for intermediate steps!\n    #print(d)\n    #print() \n\nprint(d)",
   "execution_count": null,
   "outputs": [
    {
     "name": "stdout",
     "text": "[]\n\n[0. 1. 2. 3. 4. 5. 6. 7. 8. 9.]\n",
     "output_type": "stream"
    }
   ]
  },
  {
   "cell_type": "markdown",
   "source": "We can also establish numpy arrays in other ways! Feel free to look into `np.linspace()`, `np.arange()`, `np.zeros()`, `np.ones()`, and `np.empty_like()` on the documentation if you are curious!\n\nDocumentation is linked [here](https://numpy.org/doc/stable/reference/routines.array-creation.html)",
   "metadata": {
    "tags": [],
    "cell_id": "00010-e57c3b5a-0c15-448f-bde7-e5d9df28917c",
    "deepnote_cell_type": "markdown"
   }
  },
  {
   "cell_type": "markdown",
   "source": "### Matrices with Numpy!",
   "metadata": {
    "tags": [],
    "is_collapsed": false,
    "cell_id": "00014-8581cb3b-2def-490e-8eb0-b3390439d2db",
    "deepnote_cell_type": "text-cell-h3"
   }
  },
  {
   "cell_type": "markdown",
   "source": "A matrix is a collection of data arranged into a set of columns and rows.\n\nFor example, the following matrix **A** is a 2x2 matrix, because it has 2 rows and 2 columns.\n\n$A = \\begin{bmatrix} 2&1 \\\\ -3&5 \\end{bmatrix}$\n\nSimilarly, the following matrix **B** is a 3x2 matrix, because it has 3 rows and 2 columns\n\n$B = \\begin{bmatrix} 6&6 \\\\ 5&9 \\\\ -12&-19 \\end{bmatrix}$",
   "metadata": {
    "tags": [],
    "cell_id": "00011-6f0512cd-2807-42e6-85cc-dd0423d379c8",
    "deepnote_cell_type": "markdown"
   }
  },
  {
   "cell_type": "code",
   "metadata": {
    "tags": [],
    "cell_id": "00011-d909d798-0c68-43ce-91cf-3b69c4ed8fce",
    "deepnote_to_be_reexecuted": false,
    "source_hash": "93565323",
    "execution_start": 1632977746903,
    "execution_millis": 8,
    "deepnote_cell_type": "code"
   },
   "source": "#To establish a matrix using numpy, we use the np.array() function again!\n\n#We pass in a big set of brackets for the matrix, then list out our rows one at a time in internal brackets\nA = np.array([[2,1],[-3,5]])\nprint(A)",
   "execution_count": null,
   "outputs": [
    {
     "name": "stdout",
     "text": "[[ 2  1]\n [-3  5]]\n",
     "output_type": "stream"
    }
   ]
  },
  {
   "cell_type": "code",
   "metadata": {
    "tags": [],
    "cell_id": "00024-0881aa10-ebb8-434e-9900-8e1dcc94ce78",
    "deepnote_to_be_reexecuted": false,
    "source_hash": "e7f3a87b",
    "execution_start": 1632977824646,
    "execution_millis": 32,
    "deepnote_cell_type": "code"
   },
   "source": "B = np.array([[6,6],[5,9],[-12,-19]])\nprint(B)",
   "execution_count": null,
   "outputs": [
    {
     "name": "stdout",
     "text": "[[  6   6]\n [  5   9]\n [-12 -19]]\n",
     "output_type": "stream"
    }
   ]
  },
  {
   "cell_type": "markdown",
   "source": "Here are some matrices we won't see in class due to time constraints",
   "metadata": {
    "tags": [],
    "cell_id": "00014-45a62360-75a5-4d04-a4d3-39f8d3d582c4",
    "deepnote_cell_type": "markdown"
   }
  },
  {
   "cell_type": "code",
   "metadata": {
    "tags": [],
    "cell_id": "00014-c1991c36-ee1d-44b9-a244-3f59ee33ba2c",
    "deepnote_to_be_reexecuted": false,
    "source_hash": "cb1697a6",
    "execution_start": 1632977877850,
    "execution_millis": 141,
    "deepnote_cell_type": "code"
   },
   "source": "print('Example 2x2 Matrix:')\nmat_2x2 = np.array([[10,20],[50,-18]]) #2x2 matrix\nprint(mat_2x2)\nprint()\nprint('Example 3x2 Matrix:')\nmat_3x2 = np.array([[15,-6],[17,3],[-12,-19]]) #3x2 matrix\nprint(mat_3x2)\nprint()\nprint('Example 2x3 Matrix:')\nmat_2x3 = np.array([[1,2,3],[4,5,7]]) #2x3 matrix\nprint(mat_2x3)",
   "execution_count": null,
   "outputs": [
    {
     "name": "stdout",
     "text": "Example 2x2 Matrix:\n[[ 10  20]\n [ 50 -18]]\n\nExample 3x2 Matrix:\n[[ 15  -6]\n [ 17   3]\n [-12 -19]]\n\nExample 2x3 Matrix:\n[[1 2 3]\n [4 5 7]]\n",
     "output_type": "stream"
    }
   ]
  },
  {
   "cell_type": "markdown",
   "source": "Here are some of the types of ways to create matrices in numpy:",
   "metadata": {
    "tags": [],
    "cell_id": "00020-7e24117e-dd1b-49f1-8750-91735b25e587",
    "deepnote_cell_type": "markdown"
   }
  },
  {
   "cell_type": "code",
   "source": "A = np.matrix([[-1, 2],[3, 4]])  #Use np.matrix instead of np.array\n\nB = np.matrix('1 2; 3 4')  #Use Matlab-style syntax\n\nC = np.arange(25).reshape((5, 5))  #Create a 1-d range and reshape\n\nD = np.array(range(25)).reshape((5, 5))  #Pass a Python range and reshape\n\nE = np.array([5] * 25).reshape((5, 5))  #Pass a Python list and reshape\n\nF = np.empty((5, 5))  #Allocate but don't initialize\n\nG = np.ones((5, 5))  #Initialize with ones\n\nH = np.zeros([5, 5])  #Initialize with zeros\n\nI = np.ndarray((5, 5))  #Use the low-level constructor\n\nJ = np.empty_like(C)  #Use a prototype as the basis",
   "metadata": {
    "tags": [],
    "cell_id": "00021-87af6b64-d995-4415-84b9-1ca4278891c8",
    "deepnote_to_be_reexecuted": false,
    "source_hash": "fbc6745f",
    "execution_start": 1633061036978,
    "execution_millis": 9,
    "deepnote_cell_type": "code"
   },
   "outputs": [],
   "execution_count": null
  },
  {
   "cell_type": "markdown",
   "source": "### Matrix Manipulation in Numpy",
   "metadata": {
    "tags": [],
    "is_collapsed": false,
    "cell_id": "00020-5a368e93-c5b9-47dd-a7c0-157ba5652f38",
    "deepnote_cell_type": "text-cell-h3"
   }
  },
  {
   "cell_type": "markdown",
   "source": "You can multiply matrices using the `np.dot(A, B)` method\n\nRules to remember:\n- **m**x**n** * **n**x**p** yields **m**x**p**\n- **n**x**m** * **n**x**p** yields **NO CAN DO**\n\nIf you care to, you can read more about the dot product operation [here](https://www.khanacademy.org/math/multivariable-calculus/thinking-about-multivariable-function/x786f2022:vectors-and-matrices/a/dot-products-mvc)",
   "metadata": {
    "tags": [],
    "cell_id": "00017-fbdfa9d9-c663-4f20-9d18-7bc2eef8e12f",
    "deepnote_cell_type": "markdown"
   }
  },
  {
   "cell_type": "code",
   "metadata": {
    "tags": [],
    "cell_id": "00016-43db1413-3261-4931-88d1-8012d1531b84",
    "deepnote_to_be_reexecuted": false,
    "source_hash": "d1cfdd93",
    "execution_start": 1632979395692,
    "execution_millis": 12,
    "deepnote_cell_type": "code"
   },
   "source": "A = np.array([[1, 3],[2,7]]) #2x2\nB = np.array(([[1, 2, 4], [2, 3, 5]])) #2x3\nC = np.dot(A,B)\nprint(C) #result is 2x3\n\n#D = np.dot(B, A) \n#NO CAN DO!",
   "execution_count": null,
   "outputs": [
    {
     "name": "stdout",
     "text": "[[ 7 11 19]\n [16 25 43]]\n",
     "output_type": "stream"
    }
   ]
  },
  {
   "cell_type": "markdown",
   "source": "Transpose of a matrix using `np.transpose()`",
   "metadata": {
    "tags": [],
    "cell_id": "00020-75050b6c-a348-4069-9dff-c009106bc8e1",
    "deepnote_cell_type": "markdown"
   }
  },
  {
   "cell_type": "code",
   "metadata": {
    "tags": [],
    "cell_id": "00020-b2c44eff-be50-4b53-aed7-1ae8180d2ea6",
    "deepnote_to_be_reexecuted": false,
    "source_hash": "54a6ec38",
    "execution_start": 1632979408192,
    "execution_millis": 8,
    "deepnote_cell_type": "code"
   },
   "source": "print(A)\nprint()\nA_transpose = np.transpose(A)\nprint(A_transpose)\n",
   "execution_count": null,
   "outputs": [
    {
     "name": "stdout",
     "text": "[[1 3]\n [2 7]]\n\n[[1 2]\n [3 7]]\n",
     "output_type": "stream"
    }
   ]
  },
  {
   "cell_type": "code",
   "metadata": {
    "tags": [],
    "cell_id": "00022-8d0c2ec0-d2e2-4c07-a4ab-b94745fc83ce",
    "deepnote_to_be_reexecuted": false,
    "source_hash": "5e15682b",
    "execution_start": 1632979432248,
    "execution_millis": 8,
    "deepnote_cell_type": "code"
   },
   "source": "print(B)\nprint()\n\nB_transpose = np.transpose(B)\nprint(B_transpose)",
   "execution_count": null,
   "outputs": [
    {
     "name": "stdout",
     "text": "[[1 2 4]\n [2 3 5]]\n\n[[1 2]\n [2 3]\n [4 5]]\n",
     "output_type": "stream"
    }
   ]
  },
  {
   "cell_type": "markdown",
   "source": "## Introduction to Plotting with Matplotlib",
   "metadata": {
    "tags": [],
    "is_collapsed": false,
    "cell_id": "00026-0115a2fc-42f4-48f9-84e5-0f8c4b2c9fd9",
    "deepnote_cell_type": "text-cell-h2"
   }
  },
  {
   "cell_type": "markdown",
   "source": "We often want to plot our data. We will certainly go more in depth later, but for now, lets use numpy to get a line plot created",
   "metadata": {
    "tags": [],
    "cell_id": "00025-8f55e7e3-3757-44de-92c3-fc53dcc32d89",
    "deepnote_cell_type": "markdown"
   }
  },
  {
   "cell_type": "code",
   "metadata": {
    "tags": [],
    "cell_id": "00023-878ae791-be1c-4d5c-9f21-f0535dc4bcc7",
    "deepnote_to_be_reexecuted": false,
    "source_hash": "1f86594c",
    "execution_start": 1632979930869,
    "execution_millis": 1155,
    "deepnote_cell_type": "code"
   },
   "source": "#this will be our standard import for matplotlib pyplot!\nfrom matplotlib import pyplot as plt",
   "execution_count": null,
   "outputs": []
  },
  {
   "cell_type": "markdown",
   "source": "Let's first establish some basic arrays to visualize!",
   "metadata": {
    "tags": [],
    "cell_id": "00027-2ff36e63-8248-4cf0-9062-bdbb6ef9d0d8",
    "deepnote_cell_type": "markdown"
   }
  },
  {
   "cell_type": "code",
   "metadata": {
    "tags": [],
    "cell_id": "00027-97d39150-d1ff-4774-b295-f9082b5cf93d",
    "deepnote_to_be_reexecuted": false,
    "source_hash": "17f8ec7",
    "execution_start": 1632980151810,
    "execution_millis": 8,
    "deepnote_cell_type": "code"
   },
   "source": "array1 = np.array([1, 2, 3, 4, 5])\nprint(array1)\n\narray2 = array1 * 7 + 16\nprint(array2)\n\narray3 = array1**2 + array1 + 8\nprint(array3)",
   "execution_count": null,
   "outputs": [
    {
     "name": "stdout",
     "text": "[1 2 3 4 5]\n[23 30 37 44 51]\n[10 14 20 28 38]\n",
     "output_type": "stream"
    }
   ]
  },
  {
   "cell_type": "code",
   "metadata": {
    "tags": [],
    "cell_id": "00028-0d711031-5d6a-430e-8395-9ab6589f5254",
    "deepnote_to_be_reexecuted": false,
    "source_hash": "ff8ca1e4",
    "execution_start": 1632980074318,
    "execution_millis": 270,
    "deepnote_cell_type": "code"
   },
   "source": "#for the most basic plots we can use plt.plot(x, y)\nplt.plot(array1, array2);\n#I added a semi-colon at the end to clean up an unwanted message (not necessary)",
   "execution_count": null,
   "outputs": [
    {
     "data": {
      "text/plain": "<Figure size 432x288 with 1 Axes>",
      "image/png": "[encoded data removed]"
     },
     "metadata": {
      "needs_background": "light",
      "image/png": {
       "width": 368,
       "height": 248
      }
     },
     "output_type": "display_data"
    }
   ]
  },
  {
   "cell_type": "code",
   "metadata": {
    "tags": [],
    "cell_id": "00029-8abaca69-7cd2-4671-b6cd-7870cff342dc",
    "deepnote_to_be_reexecuted": false,
    "source_hash": "4284bc2e",
    "execution_start": 1632980164817,
    "execution_millis": 265,
    "deepnote_cell_type": "code"
   },
   "source": "plt.plot(array1, array3);",
   "execution_count": null,
   "outputs": [
    {
     "data": {
      "text/plain": "<Figure size 432x288 with 1 Axes>",
      "image/png": "[encoded data removed]"
     },
     "metadata": {
      "needs_background": "light",
      "image/png": {
       "width": 368,
       "height": 248
      }
     },
     "output_type": "display_data"
    }
   ]
  },
  {
   "cell_type": "markdown",
   "source": "## Brief intro to Pandas",
   "metadata": {
    "tags": [],
    "is_collapsed": false,
    "cell_id": "00033-cfdb203b-4f24-4bd0-91d2-fc40550fb923",
    "deepnote_cell_type": "text-cell-h2"
   }
  },
  {
   "cell_type": "markdown",
   "source": "Pandas uses a big matrix to store data in what they call a \"DataFrame\"\n\nThis is most important to us to store our data then use it for plotting!",
   "metadata": {
    "tags": [],
    "cell_id": "00032-4a5f162c-2273-40a7-b562-ee0cd8a5a70d",
    "deepnote_cell_type": "markdown"
   }
  },
  {
   "cell_type": "code",
   "metadata": {
    "tags": [],
    "cell_id": "00031-d4ca7b13-f87e-4d32-b708-c941d3d482c7",
    "deepnote_to_be_reexecuted": false,
    "source_hash": "8f301ba9",
    "execution_start": 1632980277239,
    "execution_millis": 3,
    "deepnote_cell_type": "code"
   },
   "source": "#here is our standard pandas import statement\nimport pandas as pd",
   "execution_count": null,
   "outputs": []
  },
  {
   "cell_type": "markdown",
   "source": "We will use the `pd.read_csv(filename)` functionality for the lab today!",
   "metadata": {
    "tags": [],
    "cell_id": "00034-3f750e90-8c5e-4d6f-9aeb-0055c902bf08",
    "deepnote_cell_type": "markdown"
   }
  },
  {
   "cell_type": "code",
   "metadata": {
    "tags": [],
    "cell_id": "00034-ed789cbe-5a43-4064-91f6-75b3cb8675b9",
    "deepnote_to_be_reexecuted": false,
    "source_hash": "7475802c",
    "execution_start": 1632980627188,
    "execution_millis": 28,
    "deepnote_cell_type": "code"
   },
   "source": "df = pd.read_csv('/work/Fall 2021/for_students/Week2/TutorialFile.csv')\ndisplay(df)",
   "execution_count": null,
   "outputs": [
    {
     "data": {
      "application/vnd.deepnote.dataframe.v2+json": {
       "row_count": 8,
       "column_count": 2,
       "columns": [
        {
         "name": "Time",
         "dtype": "int64",
         "stats": {
          "unique_count": 8,
          "nan_count": 0,
          "min": "0",
          "max": "7",
          "histogram": [
           {
            "bin_start": 0,
            "bin_end": 0.7,
            "count": 1
           },
           {
            "bin_start": 0.7,
            "bin_end": 1.4,
            "count": 1
           },
           {
            "bin_start": 1.4,
            "bin_end": 2.0999999999999996,
            "count": 1
           },
           {
            "bin_start": 2.0999999999999996,
            "bin_end": 2.8,
            "count": 0
           },
           {
            "bin_start": 2.8,
            "bin_end": 3.5,
            "count": 1
           },
           {
            "bin_start": 3.5,
            "bin_end": 4.199999999999999,
            "count": 1
           },
           {
            "bin_start": 4.199999999999999,
            "bin_end": 4.8999999999999995,
            "count": 0
           },
           {
            "bin_start": 4.8999999999999995,
            "bin_end": 5.6,
            "count": 1
           },
           {
            "bin_start": 5.6,
            "bin_end": 6.3,
            "count": 1
           },
           {
            "bin_start": 6.3,
            "bin_end": 7,
            "count": 1
           }
          ]
         }
        },
        {
         "name": "Voltage",
         "dtype": "float64",
         "stats": {
          "unique_count": 8,
          "nan_count": 0,
          "min": "-9.0",
          "max": "15.0",
          "histogram": [
           {
            "bin_start": -9,
            "bin_end": -6.6,
            "count": 1
           },
           {
            "bin_start": -6.6,
            "bin_end": -4.2,
            "count": 0
           },
           {
            "bin_start": -4.2,
            "bin_end": -1.8000000000000007,
            "count": 0
           },
           {
            "bin_start": -1.8000000000000007,
            "bin_end": 0.5999999999999996,
            "count": 0
           },
           {
            "bin_start": 0.5999999999999996,
            "bin_end": 3,
            "count": 1
           },
           {
            "bin_start": 3,
            "bin_end": 5.399999999999999,
            "count": 1
           },
           {
            "bin_start": 5.399999999999999,
            "bin_end": 7.800000000000001,
            "count": 0
           },
           {
            "bin_start": 7.800000000000001,
            "bin_end": 10.2,
            "count": 4
           },
           {
            "bin_start": 10.2,
            "bin_end": 12.599999999999998,
            "count": 0
           },
           {
            "bin_start": 12.599999999999998,
            "bin_end": 15,
            "count": 1
           }
          ]
         }
        },
        {
         "name": "_deepnote_index_column",
         "dtype": "int64"
        }
       ],
       "rows_top": [
        {
         "Time": 0,
         "Voltage": 10,
         "_deepnote_index_column": 0
        },
        {
         "Time": 1,
         "Voltage": 9.7,
         "_deepnote_index_column": 1
        },
        {
         "Time": 2,
         "Voltage": 4.5,
         "_deepnote_index_column": 2
        },
        {
         "Time": 3,
         "Voltage": 8.7,
         "_deepnote_index_column": 3
        },
        {
         "Time": 4,
         "Voltage": 8.6,
         "_deepnote_index_column": 4
        },
        {
         "Time": 5,
         "Voltage": 2.3,
         "_deepnote_index_column": 5
        },
        {
         "Time": 6,
         "Voltage": 15,
         "_deepnote_index_column": 6
        },
        {
         "Time": 7,
         "Voltage": -9,
         "_deepnote_index_column": 7
        }
       ],
       "rows_bottom": null
      },
      "text/plain": "   Time  Voltage\n0     0     10.0\n1     1      9.7\n2     2      4.5\n3     3      8.7\n4     4      8.6\n5     5      2.3\n6     6     15.0\n7     7     -9.0",
      "text/html": "<div>\n<style scoped>\n    .dataframe tbody tr th:only-of-type {\n        vertical-align: middle;\n    }\n\n    .dataframe tbody tr th {\n        vertical-align: top;\n    }\n\n    .dataframe thead th {\n        text-align: right;\n    }\n</style>\n<table border=\"1\" class=\"dataframe\">\n  <thead>\n    <tr style=\"text-align: right;\">\n      <th></th>\n      <th>Time</th>\n      <th>Voltage</th>\n    </tr>\n  </thead>\n  <tbody>\n    <tr>\n      <th>0</th>\n      <td>0</td>\n      <td>10.0</td>\n    </tr>\n    <tr>\n      <th>1</th>\n      <td>1</td>\n      <td>9.7</td>\n    </tr>\n    <tr>\n      <th>2</th>\n      <td>2</td>\n      <td>4.5</td>\n    </tr>\n    <tr>\n      <th>3</th>\n      <td>3</td>\n      <td>8.7</td>\n    </tr>\n    <tr>\n      <th>4</th>\n      <td>4</td>\n      <td>8.6</td>\n    </tr>\n    <tr>\n      <th>5</th>\n      <td>5</td>\n      <td>2.3</td>\n    </tr>\n    <tr>\n      <th>6</th>\n      <td>6</td>\n      <td>15.0</td>\n    </tr>\n    <tr>\n      <th>7</th>\n      <td>7</td>\n      <td>-9.0</td>\n    </tr>\n  </tbody>\n</table>\n</div>"
     },
     "metadata": {},
     "output_type": "display_data"
    }
   ]
  },
  {
   "cell_type": "code",
   "metadata": {
    "tags": [],
    "cell_id": "00036-a2ecad16-a228-4dd4-a4ce-006d04cadab0",
    "deepnote_to_be_reexecuted": false,
    "source_hash": "26d893e4",
    "execution_start": 1632980621674,
    "execution_millis": 8,
    "deepnote_cell_type": "code"
   },
   "source": "time = df.loc[:, 'Time'].values\nprint(time)\n\nvolts = df.loc[:,'Voltage'].values\nprint(volts)",
   "execution_count": null,
   "outputs": [
    {
     "name": "stdout",
     "text": "[0 1 2 3 4 5 6 7]\n[10.   9.7  4.5  8.7  8.6  2.3 15.  -9. ]\n",
     "output_type": "stream"
    }
   ]
  },
  {
   "cell_type": "code",
   "metadata": {
    "tags": [],
    "cell_id": "00037-ab81deae-f4b4-4767-a404-7b251258061d",
    "deepnote_to_be_reexecuted": false,
    "source_hash": "49eecff4",
    "execution_start": 1632980642319,
    "execution_millis": 233,
    "deepnote_cell_type": "code"
   },
   "source": "plt.plot(time, volts);",
   "execution_count": null,
   "outputs": [
    {
     "data": {
      "text/plain": "<Figure size 432x288 with 1 Axes>",
      "image/png": "[encoded data removed]"
     },
     "metadata": {
      "needs_background": "light",
      "image/png": {
       "width": 377,
       "height": 248
      }
     },
     "output_type": "display_data"
    }
   ]
  },
  {
   "cell_type": "markdown",
   "source": "<a style='text-decoration:none;line-height:16px;display:flex;color:#5B5B62;padding:10px;justify-content:end;' href='https://deepnote.com?utm_source=created-in-deepnote-cell&projectId=928a4826-6d7d-44bd-b128-d6cd83127a49' target=\"_blank\">\n<img alt='Created in deepnote.com' style='display:inline;max-height:16px;margin:0px;margin-right:7.5px;' src='data:image/svg+xml;base64,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' > </img>\nCreated in <span style='font-weight:600;margin-left:4px;'>Deepnote</span></a>",
   "metadata": {
    "tags": [],
    "created_in_deepnote_cell": true,
    "deepnote_cell_type": "markdown"
   }
  }
 ],
 "nbformat": 4,
 "nbformat_minor": 2,
 "metadata": {
  "orig_nbformat": 2,
  "deepnote": {
   "is_reactive": false
  },
  "deepnote_notebook_id": "d906c0a1-b988-4cca-afdc-e846d5cdf363",
  "deepnote_execution_queue": []
 }
}