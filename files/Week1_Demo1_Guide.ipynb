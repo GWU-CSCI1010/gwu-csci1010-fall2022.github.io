{
 "cells": [
  {
   "cell_type": "markdown",
   "source": "# APSC 1001 and CS 1010 - Class 1",
   "metadata": {
    "tags": [],
    "is_collapsed": false,
    "cell_id": "00001-e13882be-2515-4591-9ca7-756ad591faff",
    "deepnote_cell_type": "text-cell-h1"
   }
  },
  {
   "cell_type": "markdown",
   "source": "### Instructor: \n**Dr. Kartik Bulusu [MAE]**\n\n#### Teaching Assistants: \n**Sara Tenaglio [BME], Catherine Karpova [BME]**\n\n#### Learning Assistants: \n**Ethan Frink [MAE], Alexis Renderos [MAE], Olivia Legault [CS], Jon Terry [CS], Jack Umina [CS]**\n\n\nIf you have any questions regarding Python, please feel free to send a slack message or email to a member of the teaching team or come to office hours! We are happy to help!!",
   "metadata": {
    "tags": [],
    "cell_id": "00002-428fda32-08d1-4eb5-adfb-bb98e7bca1b2",
    "deepnote_cell_type": "markdown"
   }
  },
  {
   "cell_type": "markdown",
   "source": "# Introduction to Python",
   "metadata": {
    "tags": [],
    "is_collapsed": false,
    "cell_id": "00003-3745aafa-2173-49d6-9b8c-37a729fe8eab",
    "deepnote_cell_type": "text-cell-h1"
   }
  },
  {
   "cell_type": "markdown",
   "source": "### Variables in Python\n\nAll programming languages, including python, use memory within the computer to store  information in variables. For example: the following code defines the integer 2 to the variable of x in the memory.\n\nCommon data types:\n- **Integers** are non-decimal numbers\n    - 1\n    - 2\n    - 100\n    - 4200000\n- **Strings** are groups of characters in \" \" or ' ' \n    - 'Hi!'\n    - \"Hey_Tyler_2\"\n    - \"Welcome to Python\"\n- **Doubles**/**Float** are decimal numbers\n    - 1.0\n    - 2.6\n    - 100.72\n    - 42069.17575921\n- **Bool** a variable representing True or False values\n- **Lists** are groupings of other variables in square brackets\n- **Arrays** are very similar to lists but are more memory efficient and optimized\n- **Method** does something to a variable using `var.method` or `var.method()`\n- **Function** does something to a variable using `function(var)`\n\n\nDefine variables with the single equal sign: '='\n\n`variable_name = value`\n\nThe right item, in this case `value`  always gets assigned to the memory location on the left called `variable_name`. ",
   "metadata": {
    "tags": [],
    "cell_id": "00004-f72deaed-a57d-4654-a810-e99930afc770",
    "deepnote_cell_type": "markdown"
   }
  },
  {
   "cell_type": "markdown",
   "source": "### Print and Type functions\n\nThese functions are provided by python to do certain tasks. Print shows the result underneath the code cell and type determines the kind of variable we are working with.\n\nWe \"call\" these functions by adding parenthesis to the end of them and providing our input in it. \n\n`print(input)`\n\n`type(input)`\n\nIf we give nothing to print, `print()`, then a blank line will be printed\n\nIf we give print more than one thing seperated by commas, `print(a, b, c)`, then each will be printed in a row.\n\nWe can see the results of `type(input)` by printing it",
   "metadata": {
    "tags": [],
    "cell_id": "00004-d08cd047-dcc6-4111-86c9-86471932a5b7",
    "deepnote_to_be_reexecuted": false,
    "source_hash": "1683a69f",
    "execution_start": 1629929696620,
    "execution_millis": 5,
    "deepnote_cell_type": "markdown"
   }
  },
  {
   "cell_type": "markdown",
   "source": "#### Try out some examples!",
   "metadata": {
    "tags": [],
    "cell_id": "00006-14a65448-2779-4592-9adb-e898e9473c40",
    "deepnote_cell_type": "markdown"
   }
  },
  {
   "cell_type": "code",
   "metadata": {
    "tags": [],
    "cell_id": "00007-11633034-e6f9-419b-a73f-735b75f91253",
    "deepnote_to_be_reexecuted": false,
    "source_hash": "2a264ab6",
    "execution_start": 1631238634869,
    "execution_millis": 49,
    "deepnote_cell_type": "code"
   },
   "source": "print('Hello World!')",
   "execution_count": null,
   "outputs": [
    {
     "name": "stdout",
     "text": "Hello World!\n",
     "output_type": "stream"
    }
   ]
  },
  {
   "cell_type": "code",
   "metadata": {
    "tags": [],
    "cell_id": "00008-8572342c-735f-4cfd-b9c0-5464b3709987",
    "deepnote_to_be_reexecuted": false,
    "source_hash": "9ad9a703",
    "execution_start": 1631238634912,
    "execution_millis": 6,
    "deepnote_cell_type": "code"
   },
   "source": "print(6)\n\nprint('My first Python code!')\n\nprint()\nprint(8, 17, 'Hi!')\n\nprint()\nprint(type(8))",
   "execution_count": null,
   "outputs": [
    {
     "name": "stdout",
     "text": "6\nMy first Python code!\n\n8 17 Hi!\n\n<class 'int'>\n",
     "output_type": "stream"
    }
   ]
  },
  {
   "cell_type": "code",
   "metadata": {
    "tags": [],
    "cell_id": "00009-ff92d4f7-1595-4d81-9a5e-30a4deb0289b",
    "deepnote_to_be_reexecuted": false,
    "source_hash": "7868e230",
    "execution_start": 1631238634954,
    "execution_millis": 12784,
    "deepnote_cell_type": "code"
   },
   "source": "#Comments in python do not affect the code and are done with single hashtags \n#in a code cell",
   "execution_count": null,
   "outputs": []
  },
  {
   "cell_type": "code",
   "metadata": {
    "tags": [],
    "cell_id": "00010-7708992b-8b43-48d2-a4ab-5d843e2d2724",
    "deepnote_to_be_reexecuted": false,
    "source_hash": "45da48bd",
    "execution_start": 1631238634955,
    "execution_millis": 0,
    "deepnote_cell_type": "code"
   },
   "source": "#example of a integer\nx = 2\nprint(x)\nprint(type(x))\n\n#example of a float\nβ = 10.7\nprint(β)\nprint(type(β))\n\n#example of a string\nstring_variable = 'Spectacular!'\nprint(string_variable)\nprint(type(string_variable))",
   "execution_count": null,
   "outputs": [
    {
     "name": "stdout",
     "text": "2\n<class 'int'>\n10.7\n<class 'float'>\nSpectacular!\n<class 'str'>\n",
     "output_type": "stream"
    }
   ]
  },
  {
   "cell_type": "code",
   "metadata": {
    "tags": [],
    "cell_id": "00011-ca1ec10b-6a50-4d24-afcf-1b06b6556a50",
    "deepnote_to_be_reexecuted": false,
    "source_hash": "a0865d57",
    "execution_start": 1631238634998,
    "execution_millis": 1,
    "deepnote_cell_type": "code"
   },
   "source": "#will show the current variable information\n%whos ",
   "execution_count": null,
   "outputs": []
  },
  {
   "cell_type": "code",
   "metadata": {
    "tags": [],
    "cell_id": "00012-1de9e444-d0f5-425f-8929-d203f91f0144",
    "deepnote_to_be_reexecuted": false,
    "source_hash": "9cb869a2",
    "execution_start": 1631238634999,
    "execution_millis": 6,
    "deepnote_cell_type": "code"
   },
   "source": "#This updates the value of x in the memory to be the string 'This is a string'\nx = 'This is a string'\nprint (x)\nprint(type(x))",
   "execution_count": null,
   "outputs": [
    {
     "name": "stdout",
     "text": "This is a string\n<class 'str'>\n",
     "output_type": "stream"
    }
   ]
  },
  {
   "cell_type": "code",
   "metadata": {
    "tags": [],
    "cell_id": "00013-42aa9c66-4a5e-4430-a7a0-4a33c51430d8",
    "deepnote_to_be_reexecuted": false,
    "source_hash": "c7bc9f24",
    "execution_start": 1631238635058,
    "execution_millis": 555798617,
    "deepnote_cell_type": "code"
   },
   "source": "#notice the new information for x\n%whos ",
   "execution_count": null,
   "outputs": [
    {
     "name": "stdout",
     "text": "Variable          Type     Data/Info\n------------------------------------\nstring_variable   str      Spectacular!\nx                 str      This is a string\nβ                 float    10.7\n",
     "output_type": "stream"
    }
   ]
  },
  {
   "cell_type": "markdown",
   "source": "### Data Type Conversion\nThe next cell shows that you can convert from a integer to an string using `str()`",
   "metadata": {
    "tags": [],
    "cell_id": "00014-d60a99de-47ce-486f-b148-5efed09ae50f",
    "deepnote_cell_type": "markdown"
   }
  },
  {
   "cell_type": "code",
   "metadata": {
    "tags": [],
    "cell_id": "00015-b06deec1-9a36-4978-85a1-2a94b3705848",
    "deepnote_to_be_reexecuted": false,
    "source_hash": "1878f95d",
    "execution_start": 1631238635059,
    "execution_millis": 555798588,
    "deepnote_cell_type": "code"
   },
   "source": "y = str(7)\nprint('This is the string form of y: ' + y)\n#this is equivalent to '7' directly",
   "execution_count": null,
   "outputs": [
    {
     "name": "stdout",
     "text": "This is the string form of y: 7\n",
     "output_type": "stream"
    }
   ]
  },
  {
   "cell_type": "code",
   "metadata": {
    "tags": [],
    "cell_id": "00016-592d63a5-794b-4cb0-8bbf-346f614d7f1a",
    "deepnote_to_be_reexecuted": false,
    "source_hash": "51f02c05",
    "execution_start": 1631238635106,
    "execution_millis": 555798642,
    "deepnote_cell_type": "code"
   },
   "source": "#But not all strings can be converted the other way, \n#only things that can be turned into integers (or floats)\n\nnumber = int('2')\nprint(number)\n\nnumber2 = float('2')\nprint(number2)\n\nnumber3 = float('2.8')\nprint(number3)\n\n#This section is commented as it raises a \"ValueError\"\n\n#You cannot int something with a decimal:\n\n#number4 = int('3.7')\n#print(number4)\n\n#This section is commented as it raises a \"ValueError\"\n#You cannot int/float any string with letters\n\n#number5 = int('Test String including the number 7')\n#print(number5)",
   "execution_count": null,
   "outputs": [
    {
     "name": "stdout",
     "text": "2\n2.0\n2.8\n",
     "output_type": "stream"
    }
   ]
  },
  {
   "cell_type": "markdown",
   "source": "# Python as a Calculator",
   "metadata": {
    "tags": [],
    "is_collapsed": false,
    "cell_id": "00003-06ee16d4-5531-4563-b507-cef11d790651",
    "deepnote_cell_type": "text-cell-h1"
   }
  },
  {
   "cell_type": "code",
   "metadata": {
    "tags": [],
    "cell_id": "00018-184708fd-b87d-4321-bea5-7e1073abf7de",
    "deepnote_to_be_reexecuted": false,
    "source_hash": "6b010145",
    "execution_start": 1631238635108,
    "execution_millis": 2,
    "deepnote_cell_type": "code"
   },
   "source": "#addition:\n1 + 1",
   "execution_count": null,
   "outputs": []
  },
  {
   "cell_type": "code",
   "metadata": {
    "tags": [],
    "cell_id": "00006-e253659c-9862-40d4-827e-659bb993b2ff",
    "deepnote_to_be_reexecuted": false,
    "source_hash": "53eb3c61",
    "execution_start": 1631238635108,
    "execution_millis": 2,
    "deepnote_cell_type": "code"
   },
   "source": "#save the result to a variable\nb = 1+1\nprint(b)",
   "execution_count": null,
   "outputs": [
    {
     "name": "stdout",
     "text": "2\n",
     "output_type": "stream"
    }
   ]
  },
  {
   "cell_type": "markdown",
   "source": "### Basic Python Math\nLots of math operations can be executed in Python! Here is a showcase of a couple of them!",
   "metadata": {
    "tags": [],
    "cell_id": "00020-c1ec004a-28ef-45a3-bb7d-555504486dce",
    "deepnote_cell_type": "markdown"
   }
  },
  {
   "cell_type": "code",
   "metadata": {
    "tags": [],
    "cell_id": "00020-350701a3-a2ad-40e7-9379-15a9c55d87fc",
    "deepnote_to_be_reexecuted": false,
    "source_hash": "cebb1e1a",
    "execution_start": 1631238635147,
    "execution_millis": 2,
    "deepnote_cell_type": "code"
   },
   "source": "#Addition\nprint('Addition section:')\nx = 3\ny = 4\nz = x + y\nprint(z)\n\n#Subtraction\nprint('Subtraction section:')\nx = 6\ny = 10\nz = x - y\nprint(z)\n\n#Multiplication\nprint('Multiplication section:')\nx = 2\ny = 8\nz = x * y\nprint(z)\n\n#Division\nprint('Division section:')\nx = 2\ny = 8\nz = x / y\nprint(z)\n\n#exponents\nprint('Exponents section:')\nx = 2\ny = 5\nz = x ** y\nprint(z)",
   "execution_count": null,
   "outputs": []
  },
  {
   "cell_type": "markdown",
   "source": "The order of operations (PEMDAS) is used when calculating stuff!\n\nI recommend over-using parenthesis when doing calculations",
   "metadata": {
    "tags": [],
    "cell_id": "00026-31735fe9-1537-4c79-9a3e-c58d3502e9fe",
    "deepnote_cell_type": "markdown"
   }
  },
  {
   "cell_type": "code",
   "metadata": {
    "tags": [],
    "cell_id": "00029-ef138a41-8fce-44b7-8af5-db974d35bad5",
    "deepnote_to_be_reexecuted": false,
    "source_hash": "b7ce53d0",
    "execution_start": 1631238635238,
    "execution_millis": 18,
    "deepnote_cell_type": "code"
   },
   "source": "#PEMDAS (order of operations) is used when calculating stuff! \n\n#I recommend over-using parenthesis\ns = 5*5/25*2  # Equivalent to (25/25)*2 = 1*2 = 2\nprint(s)\n\nt = 5*5/(25*2)  # Equivalent to 25/50 = 0.5\nprint(t)\n\nu = 5*5/25**2  # Equivalent to 25/(25^2) = 1/25 = 0.04\nprint(u)\n\nv = (5*5/25)**2  # Equivalent to (25/25)^2 = 1^2 = 1\nprint(v)",
   "execution_count": null,
   "outputs": [
    {
     "name": "stdout",
     "text": "2.0\n0.5\n0.04\n1.0\n",
     "output_type": "stream"
    }
   ]
  },
  {
   "cell_type": "markdown",
   "source": "### Updating variables",
   "metadata": {
    "tags": [],
    "is_collapsed": false,
    "cell_id": "00023-89a15b81-0d45-4b0e-91b2-c8d80f5c1864",
    "deepnote_cell_type": "text-cell-h3"
   }
  },
  {
   "cell_type": "markdown",
   "source": "You can also perform these operations on a variable and save the value to the same variable",
   "metadata": {
    "tags": [],
    "cell_id": "00026-2e05025f-8cc4-409c-b166-66cf1b5cef36",
    "deepnote_cell_type": "markdown"
   }
  },
  {
   "cell_type": "code",
   "metadata": {
    "tags": [],
    "cell_id": "00026-2427f8df-e8bc-4ef0-8bb8-cd170d021a0d",
    "deepnote_to_be_reexecuted": false,
    "source_hash": "2d62c437",
    "execution_start": 1632331687458,
    "execution_millis": 19,
    "deepnote_cell_type": "code"
   },
   "source": "#Update Variable Addition\nx = 2\nprint(x, 'is saved to the variable x')\n\nx = x + 1\nprint(x, 'is now the value of x')\nprint()\n\n#Do it twice! *Not the most efficient way, but obvious what is going on*\nx = 2\nprint(x, 'is saved to the variable x')\n\nx = x + 7 \nprint(x, 'is now the value of x')\n\nx = x + 7\nprint(x, 'is now the value of x')\nprint()\n\n#Update Variable Multiplication\ny = 2\nprint(y, 'is saved to the variable y')\ny = y * 4\nprint(y, 'is now the value of y')\n\n#Other operations follow a similar syntax, for example: x = x / 7, etc",
   "execution_count": null,
   "outputs": [
    {
     "name": "stdout",
     "text": "2 is saved to the variable x\n3 is now the value of x\n\n2 is saved to the variable x\n9 is now the value of x\n16 is now the value of x\n\n2 is saved to the variable y\n8 is now the value of y\n",
     "output_type": "stream"
    }
   ]
  },
  {
   "cell_type": "code",
   "metadata": {
    "tags": [],
    "cell_id": "00028-a58e7547-1247-4770-9f70-68f963a12f97",
    "deepnote_to_be_reexecuted": false,
    "source_hash": "5d65e70c",
    "execution_start": 1631238635161,
    "execution_millis": 46,
    "deepnote_cell_type": "code"
   },
   "source": "#Update Variable Addition (short-hand)\nx = 2\nprint(x, 'is saved to the variable x')\nx += 1\nprint(x, 'is now the value of x')\nprint()\n\n#Do it twice! *Not the most efficient way, but obvious what is going on*\nx = 2\nprint(x, 'is saved to the variable x')\nx += 7 \nprint(x, 'is now the value of x')\nx += 7\nprint(x, 'is now the value of x')\nprint()\n\n#Update Variable Multiplication (short-hand)\ny = 2\nprint(y, 'is saved to the variable y')\ny *= 4\nprint(y, 'is now the value of y')\n\n#Other operations follow similar syntax: for example: x /= 7, etc",
   "execution_count": null,
   "outputs": [
    {
     "name": "stdout",
     "text": "3\n16\n8\n",
     "output_type": "stream"
    }
   ]
  },
  {
   "cell_type": "markdown",
   "source": "### For Loops to do repeated math",
   "metadata": {
    "tags": [],
    "is_collapsed": false,
    "cell_id": "00024-90d3cc1a-f40b-406d-a587-97e7be36a0ee",
    "deepnote_cell_type": "text-cell-h3"
   }
  },
  {
   "cell_type": "code",
   "metadata": {
    "tags": [],
    "cell_id": "00026-5ee4d2c6-67cc-4843-9c2e-ef14972471a0",
    "deepnote_to_be_reexecuted": false,
    "source_hash": "d59a1edf",
    "execution_start": 1631238635212,
    "execution_millis": 22,
    "deepnote_cell_type": "code"
   },
   "source": "#we can use a for loop to do something a known number of times \n#lets add the numbers from 1-10\ntotal = 0\nfor i in range(1,11):\n    print(i)\n    total += i\n\nprint()\n\nprint(total)",
   "execution_count": null,
   "outputs": [
    {
     "name": "stdout",
     "text": "1\n2\n3\n4\n5\n6\n7\n8\n9\n10\n\n55\n",
     "output_type": "stream"
    }
   ]
  },
  {
   "cell_type": "markdown",
   "source": "The cell above uses a **for loop** and the **range** function. \n\nThis cell covers some of the syntax that we won't have time to get into during class, but we can absolutely cover it here so that you have it at your disposal! \n\n#### The range function\n\nThe range function gives a range of numbers based on the following: `range(start, stop, step)`. \n\n##### Rules for range():\n1. The `stop` value is always reduced by the step size. This means: `range(0,10,1)` gives the numbers from 0 to 9. \n\n2. It automatically assumes certain values as the initial conditions. It assumes you wnat the start value to be zero, and the step size to be 1. So for example `range(0,10,1)` would be equivalent to `range(0, 10)` and equivalent to `range(10)`.\n\n**Example 1:** `range(1,11)` equivalent to the numbers from 1-10!\n\n**Example 2:** `range(1, 10, 2)` is equivalent to 1, 3, 5, 7, 9! \n\n**Example 3:** `range(0, 15, 3)` gives the numbers 0, 3, 6, 9, 12!\n\n**Example 4:** `range(5)` gives the numbers 0, 1, 2, 3, 4!\n\n#### For loops\n\nA for loop is a type of loop in python we use when we know how many times we would like to do something. The syntax will not be covered in depth in class, but it's important to know! \n\nThe basic rule is for each element in a list, do something.\n\n`for i in range(1, 10):` will set the value of `i` to each number in the range one at a time. So the first time it goes through, `i` will be `1`, then the second time it loops through it will be `2`, and so on. Until `i` is `9`, then the loop will be done.\n\nThis is super useful for doing math a bunch of times\n\n\nIf you would like to read the documentation about for-loops, you can visit this [link](https://docs.python.org/3/tutorial/controlflow.html)",
   "metadata": {
    "tags": [],
    "cell_id": "00027-ffbae5ec-4d43-43b1-b915-07bd6189fc21",
    "deepnote_cell_type": "markdown"
   }
  },
  {
   "cell_type": "code",
   "metadata": {
    "tags": [],
    "cell_id": "00030-61e9225f-10fe-4c05-90a7-af431176e37c",
    "deepnote_to_be_reexecuted": false,
    "source_hash": "b84769e5",
    "execution_start": 1632332525723,
    "execution_millis": 11,
    "deepnote_cell_type": "code"
   },
   "source": "#You can use this cell and the following to play around with for loops\nfor i in range(0,15,3):\n    #lets print(i) as a basic operation\n    print(i)",
   "execution_count": null,
   "outputs": [
    {
     "name": "stdout",
     "text": "0\n3\n6\n9\n12\n",
     "output_type": "stream"
    }
   ]
  },
  {
   "cell_type": "code",
   "metadata": {
    "tags": [],
    "cell_id": "00031-7e2c91a4-9321-4c87-b0e4-e768d7d69a4f",
    "deepnote_to_be_reexecuted": false,
    "source_hash": "e01819d0",
    "execution_start": 1632333014177,
    "execution_millis": 2,
    "deepnote_cell_type": "code"
   },
   "source": "for i in range(0,15,3):\n    #lets save the result of (i + 6) / 3 to a new variable x, then print it\n    x = (i + 6) / 3 \n    print(x)\n",
   "execution_count": null,
   "outputs": [
    {
     "name": "stdout",
     "text": "2.0\n3.0\n4.0\n5.0\n6.0\n",
     "output_type": "stream"
    }
   ]
  },
  {
   "cell_type": "markdown",
   "source": "### Working with Complex Numbers and Large Numbers\n\nSometimes you have to work with large numbers or complex numbers, Python can do that",
   "metadata": {
    "tags": [],
    "cell_id": "00028-08b4ca3d-3a1d-499f-81bd-ef12e70cc7b7",
    "deepnote_cell_type": "markdown"
   }
  },
  {
   "cell_type": "code",
   "metadata": {
    "tags": [],
    "cell_id": "00030-ee7903d5-2592-4cbf-aeec-ec74a08a83a3",
    "deepnote_to_be_reexecuted": false,
    "source_hash": "42c1d264",
    "execution_start": 1631238635302,
    "execution_millis": 6,
    "deepnote_cell_type": "code"
   },
   "source": "#large number options\nbillion1 = 1000000000\nbillion2 = 1_000_000_000  # Can add seperator underscores for readability\nbillion3 = 1e9  # Or define it using scientific notation\n\n#Note: scientific notation defines the variable as a float, rather than an integer\n\nprint(billion1)\nprint(billion2)\nprint(billion3)\n\n#python math you learned above works for these numbers too!\nprint(billion2 / 8)  # Division by 8",
   "execution_count": null,
   "outputs": [
    {
     "name": "stdout",
     "text": "1000000000\n1000000000\n1000000000.0\n125000000.0\n",
     "output_type": "stream"
    }
   ]
  },
  {
   "cell_type": "code",
   "metadata": {
    "tags": [],
    "cell_id": "00030-a4fb44e8-8cb0-407f-8f64-8b3223dcd668",
    "deepnote_to_be_reexecuted": false,
    "source_hash": "52c7fac1",
    "execution_start": 1631238635303,
    "execution_millis": 555798765,
    "deepnote_cell_type": "code"
   },
   "source": "#complex numbers\n\ncomplex1 = 3 + 5j\ncomplex2 = 4 + 6j\ncomplex3 = 1 - 1j \n#we have to specify 1j because it's looking for j as a variable otherwise\n\nprint(complex1)\nprint(complex2)\nprint(complex3)\n\nprint(complex3 * complex2)  # Preforms the complex multiplication",
   "execution_count": null,
   "outputs": [
    {
     "name": "stdout",
     "text": "(3+5j)\n(4+6j)\n(1-1j)\n(10+2j)\n",
     "output_type": "stream"
    }
   ]
  },
  {
   "cell_type": "markdown",
   "source": "### Other math related functions in Python\n\n- `max(value1, value2, ..., valueN)`: returns the max value\n- `min(value1, value2, ..., valueN)`: returns the min value\n- `abs(x)`: returns the absolute value of x often shown like |x| in algebra",
   "metadata": {
    "tags": [],
    "cell_id": "00031-5d93c69e-7244-4691-b482-c8deadc6966e",
    "deepnote_cell_type": "markdown"
   }
  },
  {
   "cell_type": "code",
   "metadata": {
    "tags": [],
    "cell_id": "00032-6cc4c96a-adbd-46b0-b152-b7850497e8fb",
    "deepnote_to_be_reexecuted": false,
    "source_hash": "a9a25786",
    "execution_start": 1631238635303,
    "execution_millis": 2,
    "deepnote_cell_type": "code"
   },
   "source": "print(abs(-3))\nprint(abs(3))",
   "execution_count": null,
   "outputs": [
    {
     "name": "stdout",
     "text": "3\n3\n",
     "output_type": "stream"
    }
   ]
  },
  {
   "cell_type": "code",
   "metadata": {
    "tags": [],
    "cell_id": "00033-9522c848-5133-4031-aa15-671cd35c5f8a",
    "deepnote_to_be_reexecuted": false,
    "source_hash": "2dba7c85",
    "execution_start": 1631238635347,
    "execution_millis": 1,
    "deepnote_cell_type": "code"
   },
   "source": "print(max(10, 20, 3, -6))",
   "execution_count": null,
   "outputs": []
  },
  {
   "cell_type": "code",
   "metadata": {
    "tags": [],
    "cell_id": "00034-fb627605-5862-4b21-99c9-bd00526bc7ed",
    "deepnote_to_be_reexecuted": false,
    "source_hash": "21c38b97",
    "execution_start": 1631238635347,
    "execution_millis": 5,
    "deepnote_cell_type": "code"
   },
   "source": "print(min(10, 20, 3, -6))",
   "execution_count": null,
   "outputs": [
    {
     "name": "stdout",
     "text": "-6\n",
     "output_type": "stream"
    }
   ]
  },
  {
   "cell_type": "markdown",
   "source": "### Modulus and Floor Division\n\n**Modulus** returns the remainder when doing division: `x % y`\n\n- ex: 5 mod 2 is 1 \n- ex: 16 mod 4  is 0\n- ex: 21 mod 6 is 3\n\n**Floor Division** returns largest integer value below a division operation: `x//y`\n- ex: 5//2 is 2 (actual division is 2.5)\n- ex: 16//4 is 4 (actual division is 4)\n- ex: 21//6 is 3 (actual division is 3.5)\n\nTry it out!!",
   "metadata": {
    "tags": [],
    "cell_id": "00024-6d6b1376-ff5f-4bf3-b3bc-f7c86ef8713d",
    "deepnote_cell_type": "markdown"
   }
  },
  {
   "cell_type": "code",
   "metadata": {
    "tags": [],
    "cell_id": "00025-29c9f0de-025a-48f2-ac60-d9509f4e4449",
    "deepnote_to_be_reexecuted": false,
    "source_hash": "9347ec31",
    "execution_start": 1631238635147,
    "execution_millis": 6,
    "deepnote_cell_type": "code"
   },
   "source": "#modulus \nprint('Modulus section:')\nx = 5\ny = 2\nz = x%y\nprint(z)\n\n#6 mod 3 should be 0, since 6 is divisble by 3\ns = 6\nt = 3\nu = s%t\nprint(u)\n\n#floor division (returns the largest integer value below a division operation)\nprint('Floor division section:')\n#5//2 is 2, since 5/2 is 2.5, so the largest integer value possible below the result is 2\nx = 5\ny = 2\nz = x//y\nprint(z)\n\n#6//3 should be 2, since 6 is perfectly divisible by 3\ns = 6\nt = 3\nu = s//t\nprint(u)",
   "execution_count": null,
   "outputs": [
    {
     "name": "stdout",
     "text": "Modulus section:\n1\n0\nFloor division section:\n2\n2\n",
     "output_type": "stream"
    }
   ]
  },
  {
   "cell_type": "markdown",
   "source": "## Python as a scientific calculator",
   "metadata": {
    "tags": [],
    "is_collapsed": false,
    "cell_id": "00041-6c8b47ca-d822-4582-ba73-92835f3d2510",
    "deepnote_cell_type": "text-cell-h2"
   }
  },
  {
   "cell_type": "markdown",
   "source": "Utilizing the `math` library and the `numpy` library we can get extra functions!",
   "metadata": {
    "tags": [],
    "cell_id": "00035-f9a25d04-4029-42fc-bf97-b90e38df9e98",
    "deepnote_cell_type": "markdown"
   }
  },
  {
   "cell_type": "code",
   "metadata": {
    "tags": [],
    "cell_id": "00036-d9771195-d04f-4fe0-bea2-72c124165f2e",
    "deepnote_to_be_reexecuted": false,
    "source_hash": "8b3398b5",
    "execution_start": 1632333195123,
    "execution_millis": 1,
    "deepnote_cell_type": "code"
   },
   "source": "import math\nimport numpy as np",
   "execution_count": null,
   "outputs": []
  },
  {
   "cell_type": "code",
   "metadata": {
    "tags": [],
    "cell_id": "00037-475d4d34-ad28-4ed6-9973-b7d8dea6589e",
    "deepnote_to_be_reexecuted": false,
    "source_hash": "f4453cc5",
    "execution_start": 1631238635389,
    "execution_millis": 555798713,
    "deepnote_cell_type": "code"
   },
   "source": "print(math.sqrt(10))",
   "execution_count": null,
   "outputs": [
    {
     "name": "stdout",
     "text": "3.1622776601683795\n",
     "output_type": "stream"
    }
   ]
  },
  {
   "cell_type": "code",
   "metadata": {
    "tags": [],
    "cell_id": "00038-855ce203-e005-4b35-9753-3bcece83544f",
    "deepnote_to_be_reexecuted": false,
    "source_hash": "8529059a",
    "execution_start": 1631238635429,
    "execution_millis": 555798722,
    "deepnote_cell_type": "code"
   },
   "source": "print(math.cos(0))",
   "execution_count": null,
   "outputs": [
    {
     "name": "stdout",
     "text": "1.0\n",
     "output_type": "stream"
    }
   ]
  },
  {
   "cell_type": "code",
   "metadata": {
    "tags": [],
    "cell_id": "00039-b53743c6-557d-43cd-81d9-883e3a304640",
    "deepnote_to_be_reexecuted": false,
    "source_hash": "db91bf0f",
    "execution_start": 1631238635429,
    "execution_millis": 555798729,
    "deepnote_cell_type": "code"
   },
   "source": "print(math.sin(math.pi))  #The sin(pi) is 0, notice the answer a small number",
   "execution_count": null,
   "outputs": [
    {
     "name": "stdout",
     "text": "1.2246467991473532e-16\n",
     "output_type": "stream"
    }
   ]
  },
  {
   "cell_type": "code",
   "metadata": {
    "tags": [],
    "cell_id": "00047-b6b172cc-3552-4199-b774-585bfb611785",
    "deepnote_to_be_reexecuted": false,
    "source_hash": "ae767342",
    "execution_start": 1632333196757,
    "execution_millis": 7,
    "deepnote_cell_type": "code"
   },
   "source": "print(np.sqrt(10))",
   "execution_count": null,
   "outputs": [
    {
     "name": "stdout",
     "text": "3.1622776601683795\n",
     "output_type": "stream"
    }
   ]
  },
  {
   "cell_type": "code",
   "metadata": {
    "tags": [],
    "cell_id": "00048-fb39cbb6-7358-4418-8cd2-b429bd633b35",
    "deepnote_to_be_reexecuted": false,
    "source_hash": "a0f0e681",
    "execution_start": 1632333208963,
    "execution_millis": 9,
    "deepnote_cell_type": "code"
   },
   "source": "print(np.cos(0))",
   "execution_count": null,
   "outputs": [
    {
     "name": "stdout",
     "text": "1.0\n",
     "output_type": "stream"
    }
   ]
  },
  {
   "cell_type": "code",
   "metadata": {
    "tags": [],
    "cell_id": "00049-4ac75ad3-7852-4892-a313-2b896a64fccd",
    "deepnote_to_be_reexecuted": false,
    "source_hash": "157ca5",
    "execution_start": 1632333219930,
    "execution_millis": 11,
    "deepnote_cell_type": "code"
   },
   "source": "print(np.sin(np.pi))  #The sin(pi) is 0, notice the answer a small number",
   "execution_count": null,
   "outputs": [
    {
     "name": "stdout",
     "text": "1.2246467991473532e-16\n",
     "output_type": "stream"
    }
   ]
  },
  {
   "cell_type": "markdown",
   "source": "Here is a link that can help with learning the `math` library syntax in Python:\n\n[Source 1](https://www.tutorialspoint.com/python/number_sqrt.htm) ",
   "metadata": {
    "tags": [],
    "cell_id": "00040-d146bf6b-a026-439e-b329-7892d94b37e6",
    "deepnote_cell_type": "markdown"
   }
  },
  {
   "cell_type": "markdown",
   "source": "",
   "metadata": {
    "tags": [],
    "cell_id": "00043-46770024-d52f-4387-878c-22dcd140b21e",
    "deepnote_cell_type": "markdown"
   }
  },
  {
   "cell_type": "markdown",
   "source": "<a style='text-decoration:none;line-height:16px;display:flex;color:#5B5B62;padding:10px;justify-content:end;' href='https://deepnote.com?utm_source=created-in-deepnote-cell&projectId=928a4826-6d7d-44bd-b128-d6cd83127a49' target=\"_blank\">\n<img alt='Created in deepnote.com' style='display:inline;max-height:16px;margin:0px;margin-right:7.5px;' src='data:image/svg+xml;base64,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' > </img>\nCreated in <span style='font-weight:600;margin-left:4px;'>Deepnote</span></a>",
   "metadata": {
    "tags": [],
    "created_in_deepnote_cell": true,
    "deepnote_cell_type": "markdown"
   }
  }
 ],
 "nbformat": 4,
 "nbformat_minor": 2,
 "metadata": {
  "orig_nbformat": 2,
  "deepnote": {
   "is_reactive": false
  },
  "deepnote_notebook_id": "b2067c46-13e5-482d-9abe-81be91ff8153",
  "deepnote_execution_queue": []
 }
}