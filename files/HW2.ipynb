{
 "cells": [
  {
   "cell_type": "markdown",
   "source": "# APSC1001 - CS1010 Assignment 2\n### Instructor: \n**Dr. Kartik Bulusu [MAE]**\n\n#### Teaching Assistants: \n**Sara Tenaglio [BME], Catherine Karpova [BME]**\n\n#### Learning Assistants: \n**Ethan Frink [MAE], Alexis Renderos [MAE], Olivia Legault [CS], Jon Terry [CS], Jack Umina [CS]**",
   "metadata": {
    "tags": [],
    "cell_id": "00000-dee6971b-90e6-466c-a9a0-51ebfd4bf83e",
    "deepnote_cell_type": "markdown"
   }
  },
  {
   "cell_type": "markdown",
   "source": "Put your team's names in the below cell inside the quotation marks!",
   "metadata": {
    "tags": [],
    "cell_id": "00001-85f8544d-b0be-4fe5-ad28-3ab1b64678d2",
    "deepnote_cell_type": "markdown"
   }
  },
  {
   "cell_type": "code",
   "metadata": {
    "tags": [],
    "deepnote_to_be_reexecuted": false,
    "source_hash": "ae677139",
    "execution_start": 1632333961262,
    "execution_millis": 2265,
    "cell_id": "00002-2986d5cd-450c-48b5-a645-9284077e0788",
    "deepnote_cell_type": "code"
   },
   "source": "#Please use 'Shift+Enter' to execute this cell\nimport numpy as np\nimport pandas as pd\nfrom matplotlib import pyplot as plt",
   "execution_count": null,
   "outputs": []
  },
  {
   "cell_type": "code",
   "metadata": {
    "tags": [],
    "deepnote_to_be_reexecuted": false,
    "source_hash": "779045f6",
    "execution_start": 1631292054882,
    "execution_millis": 12,
    "cell_id": "00003-e86a5a39-31fd-4098-905a-6a73d2819768",
    "deepnote_cell_type": "code"
   },
   "source": "#Your names go here!\nname1 = ''\nname2 = ''\nname3 = ''\nname4 = ''\n\nprint('Group member 1 is named ' + name1)\nprint('Group member 2 is named ' + name2)\nprint('Group member 3 is named ' + name3)\n\nif name4 != '':\n    print('Group member 4 is named ' + name4)",
   "execution_count": null,
   "outputs": [
    {
     "name": "stdout",
     "text": "Group member 1 is named \nGroup member 2 is named \nGroup member 3 is named \n",
     "output_type": "stream"
    }
   ]
  },
  {
   "cell_type": "markdown",
   "source": "## Question 1.\nEstblish a numpy array corresponding to the list `[10, 14, -8, 65, -12]` and call the array `my_arr`\n\nThen use `my_arr` to calculate an array for the following function and save it to `calc_arr`:\n\n$result = \\frac{\\cos(arr) + 28}{(32)(arr)}$\n\nFinally, print `calc_arr`\n\n**Hint**: use `np.cos()` to calculate the cosine",
   "metadata": {
    "tags": [],
    "cell_id": "00004-345f6d45-1203-4cae-8f0e-56331a7dac40",
    "deepnote_cell_type": "markdown"
   }
  },
  {
   "cell_type": "code",
   "metadata": {
    "tags": [],
    "deepnote_to_be_reexecuted": false,
    "source_hash": "75fe9844",
    "execution_start": 1633019332337,
    "execution_millis": 1,
    "cell_id": "00005-a83506c2-9a01-4751-9605-383cabbe0ae6",
    "deepnote_cell_type": "code"
   },
   "source": "#Your code here!",
   "execution_count": null,
   "outputs": []
  },
  {
   "cell_type": "markdown",
   "source": "## Question 2. \nEnter the following matrices. Create a matrix, D, that is the product of matrices A, B, and C. Make sure to print matrix D\n\n(i.e., $D=A \\cdot B\\cdot C$) \n\nA= $\\begin{bmatrix} 2&6 \\\\ 3&9 \\end{bmatrix}$, \n\nB=$\\begin{bmatrix} 1&2 \\\\ 3&4 \\end{bmatrix}$, \n\nC=$\\begin{bmatrix} -5&5 \\\\ 5&3 \\end{bmatrix}$\n    \n\n**Hint 1:** Use `np.array()` to create matrices. For eg., `A = np.array([[row1],[row2]])` \n\n**Hint 2:** Use the `np.dot()` command to multiply matrices.  \nOnly two arguments are allowed at once. Which means you must find the product of two of the matrices first, and then the third.",
   "metadata": {
    "tags": [],
    "cell_id": "00006-dc7b4942-a1b4-40c0-831b-841a6e4f5a82",
    "deepnote_cell_type": "markdown"
   }
  },
  {
   "cell_type": "code",
   "metadata": {
    "tags": [],
    "deepnote_to_be_reexecuted": false,
    "source_hash": "75fe9844",
    "execution_start": 1633019417991,
    "execution_millis": 0,
    "cell_id": "00007-80a61659-c730-462d-b22c-28e02db57563",
    "deepnote_cell_type": "code"
   },
   "source": "#Your code here!",
   "execution_count": null,
   "outputs": []
  },
  {
   "cell_type": "markdown",
   "source": "## Question 3. \nUsing the provided filename, pull the data into a pandas dataframe using `pd.read_csv()` and save it to `df`\n\nUse `display(df)` to show your dataframe",
   "metadata": {
    "tags": [],
    "cell_id": "00008-ac3d0f7e-f92c-4308-bba5-412d58ecbba2",
    "deepnote_cell_type": "markdown"
   }
  },
  {
   "cell_type": "code",
   "metadata": {
    "tags": [],
    "cell_id": "00009-06d9b820-d797-4f7e-b737-596db7b3f258",
    "deepnote_cell_type": "code"
   },
   "source": "filename = '/work/Week2/apsc1001_cs1010_400mgml_flow.csv'\n#Add your code below!",
   "execution_count": null,
   "outputs": []
  },
  {
   "cell_type": "markdown",
   "source": "## Question 4. \nPlot the column `Stress (Pa)` on the y-axis and column `Shear rate (1/s)` on the x-axis. \n\n**Hint 1:** Use `df.loc[:,'Column Name'].values` to convert the column into a numpy array\n\n**Hint 2:** Use `plt.plot(x, y)` to plot the data from those arrays",
   "metadata": {
    "tags": [],
    "cell_id": "00010-d2f3aa0f-24b3-4b81-9461-c094d47ce96f",
    "deepnote_cell_type": "markdown"
   }
  },
  {
   "cell_type": "code",
   "metadata": {
    "tags": [],
    "deepnote_to_be_reexecuted": false,
    "source_hash": "75fe9844",
    "execution_start": 1633060144553,
    "execution_millis": 1,
    "cell_id": "00011-cf3ce5b5-4c51-4932-9d5f-5b984e48b5ca",
    "deepnote_cell_type": "code"
   },
   "source": "#Your code here!",
   "outputs": [],
   "execution_count": null
  },
  {
   "cell_type": "markdown",
   "source": "## Congrats!!\n You completed your 2nd Python Assignment in APSC 1001/CS 1010! Give yourself a round of applause!!",
   "metadata": {
    "tags": [],
    "cell_id": "00014-3fa998f2-99bc-4959-8606-f1095c90ce8b",
    "deepnote_cell_type": "markdown"
   }
  },
  {
   "cell_type": "markdown",
   "source": "<a style='text-decoration:none;line-height:16px;display:flex;color:#5B5B62;padding:10px;justify-content:end;' href='https://deepnote.com?utm_source=created-in-deepnote-cell&projectId=928a4826-6d7d-44bd-b128-d6cd83127a49' target=\"_blank\">\n<img alt='Created in deepnote.com' style='display:inline;max-height:16px;margin:0px;margin-right:7.5px;' src='data:image/svg+xml;base64,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' > </img>\nCreated in <span style='font-weight:600;margin-left:4px;'>Deepnote</span></a>",
   "metadata": {
    "tags": [],
    "created_in_deepnote_cell": true,
    "deepnote_cell_type": "markdown"
   }
  }
 ],
 "nbformat": 4,
 "nbformat_minor": 2,
 "metadata": {
  "orig_nbformat": 2,
  "deepnote": {
   "is_reactive": false
  },
  "deepnote_notebook_id": "a6e63953-b11e-483b-a4da-8f02bd3911dc",
  "deepnote_execution_queue": []
 }
}