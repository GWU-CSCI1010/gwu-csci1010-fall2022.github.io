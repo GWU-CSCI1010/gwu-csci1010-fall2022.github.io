{
 "cells": [
  {
   "cell_type": "markdown",
   "source": "# APSC1001 - CS1010 Assignment 3\n### Instructor: \n**Dr. Kartik Bulusu [MAE]**\n\n#### Teaching Assistants: \n**Sara Tenaglio [BME], Catherine Karpova [BME]**\n\n#### Learning Assistants: \n**Ethan Frink [MAE], Alexis Renderos [MAE], Olivia Legault [CS], Jon Terry [CS], Jack Umina [CS]**",
   "metadata": {
    "tags": [],
    "cell_id": "00000-60627d3b-55ea-497d-9c30-e59a48c5ff31",
    "deepnote_cell_type": "markdown"
   }
  },
  {
   "cell_type": "code",
   "metadata": {
    "tags": [],
    "deepnote_to_be_reexecuted": false,
    "source_hash": "ae677139",
    "execution_start": 1633654523107,
    "execution_millis": 1316,
    "cell_id": "00001-28452532-a063-46f2-a19b-78862aa79aa3",
    "deepnote_cell_type": "code"
   },
   "source": "#Please use 'Shift+Enter' to execute this cell\nimport numpy as np\nimport pandas as pd\nfrom matplotlib import pyplot as plt",
   "outputs": [],
   "execution_count": null
  },
  {
   "cell_type": "markdown",
   "source": "Put your team's names in the below cell inside the quotation marks!",
   "metadata": {
    "tags": [],
    "cell_id": "00002-57ff0fe3-33ff-4687-a48f-5b5f4882a0d8",
    "deepnote_cell_type": "markdown"
   }
  },
  {
   "cell_type": "code",
   "metadata": {
    "tags": [],
    "deepnote_to_be_reexecuted": false,
    "source_hash": "56ae64e2",
    "execution_start": 1633654524433,
    "execution_millis": 100,
    "cell_id": "00003-41af2e72-bcb6-47f0-9aec-c41dc1fe5ba6",
    "deepnote_cell_type": "code"
   },
   "source": "#Your names go here!\nname1 = ''\nname2 = ''\nname3 = ''\nname4 = ''\n\nprint('Group member 1 is named ' + name1)\nprint('Group member 2 is named ' + name2)\nprint('Group member 3 is named ' + name3)\n\nif name4 != '':\n    print('Group member 4 is named ' + name4)",
   "outputs": [
    {
     "name": "stdout",
     "text": "Group member 1 is named \nGroup member 2 is named \nGroup member 3 is named \n",
     "output_type": "stream"
    }
   ],
   "execution_count": null
  },
  {
   "cell_type": "markdown",
   "source": "## Question 1.\n\nWe have provided a homework csv file in the Week3 folder named `HW3.csv`, pull this data into a dataframe called `my_df` and display that dataframe\n\n**Hint:** use `pd.read_csv()` with an appropriate filename!",
   "metadata": {
    "tags": [],
    "cell_id": "00004-a7e97dc8-a0ee-4a44-bc1a-4ff7bbeadd7e",
    "deepnote_cell_type": "markdown"
   }
  },
  {
   "cell_type": "code",
   "metadata": {
    "tags": [],
    "deepnote_to_be_reexecuted": false,
    "source_hash": "aab59320",
    "execution_start": 1633654524984,
    "execution_millis": 70,
    "cell_id": "00005-856bf23e-3999-471a-a2ab-30fafdf78e69",
    "deepnote_cell_type": "code"
   },
   "source": "#student's path should be '/work/Week3/HW3.csv'\nmy_df = pd.read_csv('/work/Fall 2021/for_students/Week3/HW3.csv')\ndisplay(my_df)",
   "outputs": [
    {
     "data": {
      "application/vnd.deepnote.dataframe.v2+json": {
       "row_count": 19,
       "column_count": 4,
       "columns": [
        {
         "name": "Name",
         "dtype": "object",
         "stats": {
          "unique_count": 3,
          "nan_count": 0,
          "categories": [
           {
            "name": "John",
            "count": 8
           },
           {
            "name": "James",
            "count": 7
           },
           {
            "name": "Wendy",
            "count": 4
           }
          ]
         }
        },
        {
         "name": "Date",
         "dtype": "object",
         "stats": {
          "unique_count": 8,
          "nan_count": 0,
          "categories": [
           {
            "name": "10/3/2021",
            "count": 3
           },
           {
            "name": "10/4/2021",
            "count": 3
           },
           {
            "name": "6 others",
            "count": 13
           }
          ]
         }
        },
        {
         "name": "Food",
         "dtype": "object",
         "stats": {
          "unique_count": 3,
          "nan_count": 6,
          "categories": [
           {
            "name": "Apples",
            "count": 6
           },
           {
            "name": "2 others",
            "count": 7
           },
           {
            "name": "Missing",
            "count": 6
           }
          ]
         }
        },
        {
         "name": "Number",
         "dtype": "float64",
         "stats": {
          "unique_count": 8,
          "nan_count": 6,
          "min": "1.0",
          "max": "8.0",
          "histogram": [
           {
            "bin_start": 1,
            "bin_end": 1.7,
            "count": 1
           },
           {
            "bin_start": 1.7,
            "bin_end": 2.4,
            "count": 2
           },
           {
            "bin_start": 2.4,
            "bin_end": 3.0999999999999996,
            "count": 2
           },
           {
            "bin_start": 3.0999999999999996,
            "bin_end": 3.8,
            "count": 0
           },
           {
            "bin_start": 3.8,
            "bin_end": 4.5,
            "count": 2
           },
           {
            "bin_start": 4.5,
            "bin_end": 5.199999999999999,
            "count": 3
           },
           {
            "bin_start": 5.199999999999999,
            "bin_end": 5.8999999999999995,
            "count": 0
           },
           {
            "bin_start": 5.8999999999999995,
            "bin_end": 6.6,
            "count": 1
           },
           {
            "bin_start": 6.6,
            "bin_end": 7.3,
            "count": 1
           },
           {
            "bin_start": 7.3,
            "bin_end": 8,
            "count": 1
           }
          ]
         }
        },
        {
         "name": "_deepnote_index_column",
         "dtype": "int64"
        }
       ],
       "rows_top": [
        {
         "Name": "John",
         "Date": "10/3/2021",
         "Food": "Apples",
         "Number": 5,
         "_deepnote_index_column": 0
        },
        {
         "Name": "John",
         "Date": "10/4/2021",
         "Food": "Oranges",
         "Number": 4,
         "_deepnote_index_column": 1
        },
        {
         "Name": "John",
         "Date": "10/5/2021",
         "Food": "Apples",
         "Number": 3,
         "_deepnote_index_column": 2
        },
        {
         "Name": "John",
         "Date": "10/6/2021",
         "Food": "Apples",
         "Number": 6,
         "_deepnote_index_column": 3
        },
        {
         "Name": "John",
         "Date": "10/7/2021",
         "Food": "Apples",
         "Number": 5,
         "_deepnote_index_column": 4
        },
        {
         "Name": "John",
         "Date": "10/8/2021",
         "Food": "nan",
         "Number": "nan",
         "_deepnote_index_column": 5
        },
        {
         "Name": "John",
         "Date": "10/9/2021",
         "Food": "nan",
         "Number": "nan",
         "_deepnote_index_column": 6
        },
        {
         "Name": "John",
         "Date": "10/10/2021",
         "Food": "nan",
         "Number": "nan",
         "_deepnote_index_column": 7
        },
        {
         "Name": "James",
         "Date": "10/3/2021",
         "Food": "Oranges",
         "Number": 8,
         "_deepnote_index_column": 8
        },
        {
         "Name": "James",
         "Date": "10/4/2021",
         "Food": "Apples",
         "Number": 1,
         "_deepnote_index_column": 9
        },
        {
         "Name": "James",
         "Date": "10/5/2021",
         "Food": "Oranges",
         "Number": 2,
         "_deepnote_index_column": 10
        },
        {
         "Name": "James",
         "Date": "10/6/2021",
         "Food": "Apples",
         "Number": 3,
         "_deepnote_index_column": 11
        },
        {
         "Name": "James",
         "Date": "10/7/2021",
         "Food": "Oranges",
         "Number": 5,
         "_deepnote_index_column": 12
        },
        {
         "Name": "James",
         "Date": "10/8/2021",
         "Food": "nan",
         "Number": "nan",
         "_deepnote_index_column": 13
        },
        {
         "Name": "James",
         "Date": "10/9/2021",
         "Food": "nan",
         "Number": "nan",
         "_deepnote_index_column": 14
        },
        {
         "Name": "Wendy",
         "Date": "10/3/2021",
         "Food": "Bananas",
         "Number": 7,
         "_deepnote_index_column": 15
        },
        {
         "Name": "Wendy",
         "Date": "10/4/2021",
         "Food": "nan",
         "Number": "nan",
         "_deepnote_index_column": 16
        },
        {
         "Name": "Wendy",
         "Date": "10/5/2021",
         "Food": "Bananas",
         "Number": 2,
         "_deepnote_index_column": 17
        },
        {
         "Name": "Wendy",
         "Date": "10/6/2021",
         "Food": "Bananas",
         "Number": 4,
         "_deepnote_index_column": 18
        }
       ],
       "rows_bottom": null
      },
      "text/plain": "     Name        Date     Food  Number\n0    John   10/3/2021   Apples     5.0\n1    John   10/4/2021  Oranges     4.0\n2    John   10/5/2021   Apples     3.0\n3    John   10/6/2021   Apples     6.0\n4    John   10/7/2021   Apples     5.0\n5    John   10/8/2021      NaN     NaN\n6    John   10/9/2021      NaN     NaN\n7    John  10/10/2021      NaN     NaN\n8   James   10/3/2021  Oranges     8.0\n9   James   10/4/2021   Apples     1.0\n10  James   10/5/2021  Oranges     2.0\n11  James   10/6/2021   Apples     3.0\n12  James   10/7/2021  Oranges     5.0\n13  James   10/8/2021      NaN     NaN\n14  James   10/9/2021      NaN     NaN\n15  Wendy   10/3/2021  Bananas     7.0\n16  Wendy   10/4/2021      NaN     NaN\n17  Wendy   10/5/2021  Bananas     2.0\n18  Wendy   10/6/2021  Bananas     4.0",
      "text/html": "<div>\n<style scoped>\n    .dataframe tbody tr th:only-of-type {\n        vertical-align: middle;\n    }\n\n    .dataframe tbody tr th {\n        vertical-align: top;\n    }\n\n    .dataframe thead th {\n        text-align: right;\n    }\n</style>\n<table border=\"1\" class=\"dataframe\">\n  <thead>\n    <tr style=\"text-align: right;\">\n      <th></th>\n      <th>Name</th>\n      <th>Date</th>\n      <th>Food</th>\n      <th>Number</th>\n    </tr>\n  </thead>\n  <tbody>\n    <tr>\n      <th>0</th>\n      <td>John</td>\n      <td>10/3/2021</td>\n      <td>Apples</td>\n      <td>5.0</td>\n    </tr>\n    <tr>\n      <th>1</th>\n      <td>John</td>\n      <td>10/4/2021</td>\n      <td>Oranges</td>\n      <td>4.0</td>\n    </tr>\n    <tr>\n      <th>2</th>\n      <td>John</td>\n      <td>10/5/2021</td>\n      <td>Apples</td>\n      <td>3.0</td>\n    </tr>\n    <tr>\n      <th>3</th>\n      <td>John</td>\n      <td>10/6/2021</td>\n      <td>Apples</td>\n      <td>6.0</td>\n    </tr>\n    <tr>\n      <th>4</th>\n      <td>John</td>\n      <td>10/7/2021</td>\n      <td>Apples</td>\n      <td>5.0</td>\n    </tr>\n    <tr>\n      <th>5</th>\n      <td>John</td>\n      <td>10/8/2021</td>\n      <td>NaN</td>\n      <td>NaN</td>\n    </tr>\n    <tr>\n      <th>6</th>\n      <td>John</td>\n      <td>10/9/2021</td>\n      <td>NaN</td>\n      <td>NaN</td>\n    </tr>\n    <tr>\n      <th>7</th>\n      <td>John</td>\n      <td>10/10/2021</td>\n      <td>NaN</td>\n      <td>NaN</td>\n    </tr>\n    <tr>\n      <th>8</th>\n      <td>James</td>\n      <td>10/3/2021</td>\n      <td>Oranges</td>\n      <td>8.0</td>\n    </tr>\n    <tr>\n      <th>9</th>\n      <td>James</td>\n      <td>10/4/2021</td>\n      <td>Apples</td>\n      <td>1.0</td>\n    </tr>\n    <tr>\n      <th>10</th>\n      <td>James</td>\n      <td>10/5/2021</td>\n      <td>Oranges</td>\n      <td>2.0</td>\n    </tr>\n    <tr>\n      <th>11</th>\n      <td>James</td>\n      <td>10/6/2021</td>\n      <td>Apples</td>\n      <td>3.0</td>\n    </tr>\n    <tr>\n      <th>12</th>\n      <td>James</td>\n      <td>10/7/2021</td>\n      <td>Oranges</td>\n      <td>5.0</td>\n    </tr>\n    <tr>\n      <th>13</th>\n      <td>James</td>\n      <td>10/8/2021</td>\n      <td>NaN</td>\n      <td>NaN</td>\n    </tr>\n    <tr>\n      <th>14</th>\n      <td>James</td>\n      <td>10/9/2021</td>\n      <td>NaN</td>\n      <td>NaN</td>\n    </tr>\n    <tr>\n      <th>15</th>\n      <td>Wendy</td>\n      <td>10/3/2021</td>\n      <td>Bananas</td>\n      <td>7.0</td>\n    </tr>\n    <tr>\n      <th>16</th>\n      <td>Wendy</td>\n      <td>10/4/2021</td>\n      <td>NaN</td>\n      <td>NaN</td>\n    </tr>\n    <tr>\n      <th>17</th>\n      <td>Wendy</td>\n      <td>10/5/2021</td>\n      <td>Bananas</td>\n      <td>2.0</td>\n    </tr>\n    <tr>\n      <th>18</th>\n      <td>Wendy</td>\n      <td>10/6/2021</td>\n      <td>Bananas</td>\n      <td>4.0</td>\n    </tr>\n  </tbody>\n</table>\n</div>"
     },
     "metadata": {},
     "output_type": "display_data"
    }
   ],
   "execution_count": null
  },
  {
   "cell_type": "markdown",
   "source": "## Question 2. \n\nDrop the rows contain nan values from the frame using `my_df.dropna(axis=0)` and save the result to a frame called `my_df_new`. Display the first 7 lines of the frame using `.head()`",
   "metadata": {
    "tags": [],
    "cell_id": "00006-38ada1aa-f75a-40eb-8124-1f79d08b6c66",
    "deepnote_cell_type": "markdown"
   }
  },
  {
   "cell_type": "code",
   "metadata": {
    "tags": [],
    "deepnote_to_be_reexecuted": false,
    "source_hash": "f817b730",
    "execution_start": 1633654562482,
    "execution_millis": 69,
    "cell_id": "00007-451d5a8b-1e03-45f6-88e9-bf41d2526b89",
    "deepnote_cell_type": "code"
   },
   "source": "my_df_new = my_df.dropna(axis=0)\nmy_df_new.head(7)",
   "outputs": [
    {
     "output_type": "execute_result",
     "execution_count": 5,
     "data": {
      "application/vnd.deepnote.dataframe.v2+json": {
       "row_count": 7,
       "column_count": 4,
       "columns": [
        {
         "name": "Name",
         "dtype": "object",
         "stats": {
          "unique_count": 2,
          "nan_count": 0,
          "categories": [
           {
            "name": "John",
            "count": 5
           },
           {
            "name": "James",
            "count": 2
           }
          ]
         }
        },
        {
         "name": "Date",
         "dtype": "object",
         "stats": {
          "unique_count": 5,
          "nan_count": 0,
          "categories": [
           {
            "name": "10/3/2021",
            "count": 2
           },
           {
            "name": "10/4/2021",
            "count": 2
           },
           {
            "name": "3 others",
            "count": 3
           }
          ]
         }
        },
        {
         "name": "Food",
         "dtype": "object",
         "stats": {
          "unique_count": 2,
          "nan_count": 0,
          "categories": [
           {
            "name": "Apples",
            "count": 5
           },
           {
            "name": "Oranges",
            "count": 2
           }
          ]
         }
        },
        {
         "name": "Number",
         "dtype": "float64",
         "stats": {
          "unique_count": 6,
          "nan_count": 0,
          "min": "1.0",
          "max": "8.0",
          "histogram": [
           {
            "bin_start": 1,
            "bin_end": 1.7,
            "count": 1
           },
           {
            "bin_start": 1.7,
            "bin_end": 2.4,
            "count": 0
           },
           {
            "bin_start": 2.4,
            "bin_end": 3.0999999999999996,
            "count": 1
           },
           {
            "bin_start": 3.0999999999999996,
            "bin_end": 3.8,
            "count": 0
           },
           {
            "bin_start": 3.8,
            "bin_end": 4.5,
            "count": 1
           },
           {
            "bin_start": 4.5,
            "bin_end": 5.199999999999999,
            "count": 2
           },
           {
            "bin_start": 5.199999999999999,
            "bin_end": 5.8999999999999995,
            "count": 0
           },
           {
            "bin_start": 5.8999999999999995,
            "bin_end": 6.6,
            "count": 1
           },
           {
            "bin_start": 6.6,
            "bin_end": 7.3,
            "count": 0
           },
           {
            "bin_start": 7.3,
            "bin_end": 8,
            "count": 1
           }
          ]
         }
        },
        {
         "name": "_deepnote_index_column",
         "dtype": "int64"
        }
       ],
       "rows_top": [
        {
         "Name": "John",
         "Date": "10/3/2021",
         "Food": "Apples",
         "Number": 5,
         "_deepnote_index_column": 0
        },
        {
         "Name": "John",
         "Date": "10/4/2021",
         "Food": "Oranges",
         "Number": 4,
         "_deepnote_index_column": 1
        },
        {
         "Name": "John",
         "Date": "10/5/2021",
         "Food": "Apples",
         "Number": 3,
         "_deepnote_index_column": 2
        },
        {
         "Name": "John",
         "Date": "10/6/2021",
         "Food": "Apples",
         "Number": 6,
         "_deepnote_index_column": 3
        },
        {
         "Name": "John",
         "Date": "10/7/2021",
         "Food": "Apples",
         "Number": 5,
         "_deepnote_index_column": 4
        },
        {
         "Name": "James",
         "Date": "10/3/2021",
         "Food": "Oranges",
         "Number": 8,
         "_deepnote_index_column": 8
        },
        {
         "Name": "James",
         "Date": "10/4/2021",
         "Food": "Apples",
         "Number": 1,
         "_deepnote_index_column": 9
        }
       ],
       "rows_bottom": null
      },
      "text/plain": "    Name       Date     Food  Number\n0   John  10/3/2021   Apples     5.0\n1   John  10/4/2021  Oranges     4.0\n2   John  10/5/2021   Apples     3.0\n3   John  10/6/2021   Apples     6.0\n4   John  10/7/2021   Apples     5.0\n8  James  10/3/2021  Oranges     8.0\n9  James  10/4/2021   Apples     1.0",
      "text/html": "<div>\n<style scoped>\n    .dataframe tbody tr th:only-of-type {\n        vertical-align: middle;\n    }\n\n    .dataframe tbody tr th {\n        vertical-align: top;\n    }\n\n    .dataframe thead th {\n        text-align: right;\n    }\n</style>\n<table border=\"1\" class=\"dataframe\">\n  <thead>\n    <tr style=\"text-align: right;\">\n      <th></th>\n      <th>Name</th>\n      <th>Date</th>\n      <th>Food</th>\n      <th>Number</th>\n    </tr>\n  </thead>\n  <tbody>\n    <tr>\n      <th>0</th>\n      <td>John</td>\n      <td>10/3/2021</td>\n      <td>Apples</td>\n      <td>5.0</td>\n    </tr>\n    <tr>\n      <th>1</th>\n      <td>John</td>\n      <td>10/4/2021</td>\n      <td>Oranges</td>\n      <td>4.0</td>\n    </tr>\n    <tr>\n      <th>2</th>\n      <td>John</td>\n      <td>10/5/2021</td>\n      <td>Apples</td>\n      <td>3.0</td>\n    </tr>\n    <tr>\n      <th>3</th>\n      <td>John</td>\n      <td>10/6/2021</td>\n      <td>Apples</td>\n      <td>6.0</td>\n    </tr>\n    <tr>\n      <th>4</th>\n      <td>John</td>\n      <td>10/7/2021</td>\n      <td>Apples</td>\n      <td>5.0</td>\n    </tr>\n    <tr>\n      <th>8</th>\n      <td>James</td>\n      <td>10/3/2021</td>\n      <td>Oranges</td>\n      <td>8.0</td>\n    </tr>\n    <tr>\n      <th>9</th>\n      <td>James</td>\n      <td>10/4/2021</td>\n      <td>Apples</td>\n      <td>1.0</td>\n    </tr>\n  </tbody>\n</table>\n</div>"
     },
     "metadata": {}
    }
   ],
   "execution_count": null
  },
  {
   "cell_type": "markdown",
   "source": "## Question 3. \n\nWe want to get the total number of each food eaten by all people. To do this we will use `groupby` and `sum`. Our column of importance is going to be `'Food'`\n\n**Explore the pandas functions** `.groupby()` **function and the** `.sum()` **function.**\n\nThese were not covered in the demonstration but it will be in your guided project. If you want reference material for them, we have linked the documentation! [Click for groupby](https://pandas.pydata.org/docs/reference/api/pandas.DataFrame.groupby.html) and [Click for sum](https://pandas.pydata.org/docs/reference/api/pandas.DataFrame.sum.html)\n\nAlternatively, use our new best friend the `help()` function to try and figure out how they work! If you still have questions, there are plenty of resources available, such as office hours provided by members of the teaching team!\n\nRemember you can always use `display()` to showcase a dataframe\n\nTo groupby the food names use `my_df_new.groupby('column name')` and save this result to `x`. Then use `x.sum()` to store the value in a variable named `total_fruits` and display the result. \n\nHere's a pseudo-code for what we are looking for:\n\n```\nx = YOUR_DATAFRAME.groupby(COLUMN_NAME)\nRESULT = x.sum()\ndisplay(RESULT)\n```",
   "metadata": {
    "tags": [],
    "cell_id": "00008-a289b82a-afea-4261-b590-6cc948f04a62",
    "deepnote_cell_type": "markdown"
   }
  },
  {
   "cell_type": "code",
   "metadata": {
    "tags": [],
    "deepnote_to_be_reexecuted": false,
    "source_hash": "15d3ac83",
    "execution_start": 1633654919287,
    "cell_id": "00009-4233482c-a190-457b-a886-0b9ccf348e33",
    "execution_millis": 7,
    "deepnote_cell_type": "code"
   },
   "source": "x = my_df_new.groupby('Food')\ntotal_fruits = x.sum()\ndisplay(total_fruits)",
   "outputs": [
    {
     "data": {
      "application/vnd.deepnote.dataframe.v2+json": {
       "row_count": 3,
       "column_count": 1,
       "columns": [
        {
         "name": "Number",
         "dtype": "float64",
         "stats": {
          "unique_count": 3,
          "nan_count": 0,
          "min": "13.0",
          "max": "23.0",
          "histogram": [
           {
            "bin_start": 13,
            "bin_end": 14,
            "count": 1
           },
           {
            "bin_start": 14,
            "bin_end": 15,
            "count": 0
           },
           {
            "bin_start": 15,
            "bin_end": 16,
            "count": 0
           },
           {
            "bin_start": 16,
            "bin_end": 17,
            "count": 0
           },
           {
            "bin_start": 17,
            "bin_end": 18,
            "count": 0
           },
           {
            "bin_start": 18,
            "bin_end": 19,
            "count": 0
           },
           {
            "bin_start": 19,
            "bin_end": 20,
            "count": 1
           },
           {
            "bin_start": 20,
            "bin_end": 21,
            "count": 0
           },
           {
            "bin_start": 21,
            "bin_end": 22,
            "count": 0
           },
           {
            "bin_start": 22,
            "bin_end": 23,
            "count": 1
           }
          ]
         }
        },
        {
         "name": "_deepnote_index_column",
         "dtype": "object"
        }
       ],
       "rows_top": [
        {
         "Number": 23,
         "_deepnote_index_column": "Apples"
        },
        {
         "Number": 13,
         "_deepnote_index_column": "Bananas"
        },
        {
         "Number": 19,
         "_deepnote_index_column": "Oranges"
        }
       ],
       "rows_bottom": null
      },
      "text/plain": "         Number\nFood           \nApples     23.0\nBananas    13.0\nOranges    19.0",
      "text/html": "<div>\n<style scoped>\n    .dataframe tbody tr th:only-of-type {\n        vertical-align: middle;\n    }\n\n    .dataframe tbody tr th {\n        vertical-align: top;\n    }\n\n    .dataframe thead th {\n        text-align: right;\n    }\n</style>\n<table border=\"1\" class=\"dataframe\">\n  <thead>\n    <tr style=\"text-align: right;\">\n      <th></th>\n      <th>Number</th>\n    </tr>\n    <tr>\n      <th>Food</th>\n      <th></th>\n    </tr>\n  </thead>\n  <tbody>\n    <tr>\n      <th>Apples</th>\n      <td>23.0</td>\n    </tr>\n    <tr>\n      <th>Bananas</th>\n      <td>13.0</td>\n    </tr>\n    <tr>\n      <th>Oranges</th>\n      <td>19.0</td>\n    </tr>\n  </tbody>\n</table>\n</div>"
     },
     "metadata": {},
     "output_type": "display_data"
    }
   ],
   "execution_count": null
  },
  {
   "cell_type": "markdown",
   "source": "## Question 4. \n\nUpdate the number of apples in your new dataframe named `total_fruits` to the value 27 using `df.loc[slicing] = value`\n\nThen display the updated dataframe ",
   "metadata": {
    "tags": [],
    "cell_id": "00010-77a0335f-711a-4398-b549-1f4298d330aa",
    "deepnote_cell_type": "markdown"
   }
  },
  {
   "cell_type": "code",
   "source": "total_fruits.loc['Apples', 'Number'] = 27\ndisplay(total_fruits)",
   "metadata": {
    "tags": [],
    "cell_id": "00011-9c9b55e5-123d-41e3-b98f-7eb0bba497b6",
    "deepnote_to_be_reexecuted": false,
    "source_hash": "bf584cd0",
    "execution_start": 1633654920082,
    "execution_millis": 28,
    "deepnote_cell_type": "code"
   },
   "outputs": [
    {
     "data": {
      "application/vnd.deepnote.dataframe.v2+json": {
       "row_count": 3,
       "column_count": 1,
       "columns": [
        {
         "name": "Number",
         "dtype": "float64",
         "stats": {
          "unique_count": 3,
          "nan_count": 0,
          "min": "13.0",
          "max": "27.0",
          "histogram": [
           {
            "bin_start": 13,
            "bin_end": 14.4,
            "count": 1
           },
           {
            "bin_start": 14.4,
            "bin_end": 15.8,
            "count": 0
           },
           {
            "bin_start": 15.8,
            "bin_end": 17.2,
            "count": 0
           },
           {
            "bin_start": 17.2,
            "bin_end": 18.6,
            "count": 0
           },
           {
            "bin_start": 18.6,
            "bin_end": 20,
            "count": 1
           },
           {
            "bin_start": 20,
            "bin_end": 21.4,
            "count": 0
           },
           {
            "bin_start": 21.4,
            "bin_end": 22.799999999999997,
            "count": 0
           },
           {
            "bin_start": 22.799999999999997,
            "bin_end": 24.2,
            "count": 0
           },
           {
            "bin_start": 24.2,
            "bin_end": 25.6,
            "count": 0
           },
           {
            "bin_start": 25.6,
            "bin_end": 27,
            "count": 1
           }
          ]
         }
        },
        {
         "name": "_deepnote_index_column",
         "dtype": "object"
        }
       ],
       "rows_top": [
        {
         "Number": 27,
         "_deepnote_index_column": "Apples"
        },
        {
         "Number": 13,
         "_deepnote_index_column": "Bananas"
        },
        {
         "Number": 19,
         "_deepnote_index_column": "Oranges"
        }
       ],
       "rows_bottom": null
      },
      "text/plain": "         Number\nFood           \nApples     27.0\nBananas    13.0\nOranges    19.0",
      "text/html": "<div>\n<style scoped>\n    .dataframe tbody tr th:only-of-type {\n        vertical-align: middle;\n    }\n\n    .dataframe tbody tr th {\n        vertical-align: top;\n    }\n\n    .dataframe thead th {\n        text-align: right;\n    }\n</style>\n<table border=\"1\" class=\"dataframe\">\n  <thead>\n    <tr style=\"text-align: right;\">\n      <th></th>\n      <th>Number</th>\n    </tr>\n    <tr>\n      <th>Food</th>\n      <th></th>\n    </tr>\n  </thead>\n  <tbody>\n    <tr>\n      <th>Apples</th>\n      <td>27.0</td>\n    </tr>\n    <tr>\n      <th>Bananas</th>\n      <td>13.0</td>\n    </tr>\n    <tr>\n      <th>Oranges</th>\n      <td>19.0</td>\n    </tr>\n  </tbody>\n</table>\n</div>"
     },
     "metadata": {},
     "output_type": "display_data"
    }
   ],
   "execution_count": null
  },
  {
   "cell_type": "markdown",
   "source": "## Congrats!!\n You completed your 3rd Python Assignment in APSC 1001/CS 1010! Give yourself a round of applause!!",
   "metadata": {
    "tags": [],
    "cell_id": "00010-6ad9e825-ea60-4e95-876b-d2cbd7992052",
    "deepnote_cell_type": "markdown"
   }
  },
  {
   "cell_type": "markdown",
   "source": "<a style='text-decoration:none;line-height:16px;display:flex;color:#5B5B62;padding:10px;justify-content:end;' href='https://deepnote.com?utm_source=created-in-deepnote-cell&projectId=928a4826-6d7d-44bd-b128-d6cd83127a49' target=\"_blank\">\n<img alt='Created in deepnote.com' style='display:inline;max-height:16px;margin:0px;margin-right:7.5px;' src='data:image/svg+xml;base64,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' > </img>\nCreated in <span style='font-weight:600;margin-left:4px;'>Deepnote</span></a>",
   "metadata": {
    "tags": [],
    "created_in_deepnote_cell": true,
    "deepnote_cell_type": "markdown"
   }
  }
 ],
 "nbformat": 4,
 "nbformat_minor": 2,
 "metadata": {
  "orig_nbformat": 2,
  "deepnote": {
   "is_reactive": false
  },
  "deepnote_notebook_id": "82370dc9-a260-4ecc-8152-224e92c2184c",
  "deepnote_execution_queue": []
 }
}