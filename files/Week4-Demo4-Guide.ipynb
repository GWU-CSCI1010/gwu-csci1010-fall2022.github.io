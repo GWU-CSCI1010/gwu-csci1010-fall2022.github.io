{
 "cells": [
  {
   "cell_type": "markdown",
   "source": "# APSC 1001 - CS 1010\n# Week 4 - Plotting Deep Dive using Matplotlib\n    \n### Instructor: \n**Dr. Kartik Bulusu [MAE]**\n\n#### Teaching Assistants: \n**Sara Tenaglio [BME], Catherine Karpova [BME], Zachary Stecher [CE]**\n\n#### Learning Assistants: \n**Ethan Frink [MAE], Alexis Renderos [MAE], Olivia Legault [CS], Jon Terry [CS], Jack Umina [CS]**\n\n\nIf you have any questions regarding Python, please feel free to send a slack message or email to a member of the teaching team or come to office hours! We are happy to help!!",
   "metadata": {
    "tags": [],
    "cell_id": "00000-d785bb40-dc6f-44ff-86d3-9420343c6e5e",
    "deepnote_cell_type": "markdown"
   }
  },
  {
   "cell_type": "markdown",
   "source": "Let's start by importing our favorite friends as always going forward in this class: **numpy**, **matplotlib**, and **pandas**",
   "metadata": {
    "tags": [],
    "cell_id": "00001-1c97bbeb-7c2f-4084-bd0f-e1c111a4e562",
    "deepnote_cell_type": "markdown"
   }
  },
  {
   "cell_type": "code",
   "metadata": {
    "tags": [],
    "deepnote_to_be_reexecuted": false,
    "source_hash": "e4a0c7a1",
    "execution_start": 1634227663058,
    "execution_millis": 1,
    "cell_id": "00002-c31bbea9-dbf9-4deb-bdc1-d56932c97b5a",
    "output_cleared": true,
    "deepnote_cell_type": "code"
   },
   "source": "import numpy as np\nfrom matplotlib import pyplot as plt\nimport pandas as pd",
   "execution_count": null,
   "outputs": []
  },
  {
   "cell_type": "markdown",
   "source": "## Getting Started with matplotlib!",
   "metadata": {
    "tags": [],
    "cell_id": "00003-c8602caf-36e2-4403-ade4-e9fcb4d50c9f",
    "deepnote_cell_type": "markdown"
   }
  },
  {
   "cell_type": "markdown",
   "source": "We can use csv files and pandas to pull in data (**see demo 3**), but let's create our own numpy array for plotting this time\n\n#### Numpy Linspace Function\n\n`np.linspace()` is a great tool to use during plotting! Provide the start, stop and number of points in the range and it will give you an evenly distributed number of elements in a numpy array\n\nExample:\n\n`x = np.linspace(10, 20, 1001)` will give an array containing 1001 elements evenly spaced from 10 to 20 \n",
   "metadata": {
    "tags": [],
    "cell_id": "00004-c144bfa7-ab04-4eb4-8b19-780b75f0f647",
    "deepnote_cell_type": "markdown"
   }
  },
  {
   "cell_type": "code",
   "metadata": {
    "tags": [],
    "cell_id": "00004-f48eb6ef-202a-460c-a2ae-bc0feffb41cb",
    "deepnote_to_be_reexecuted": false,
    "source_hash": "511dcee1",
    "execution_start": 1634227664436,
    "execution_millis": 9,
    "output_cleared": false,
    "deepnote_cell_type": "code"
   },
   "source": "x = np.linspace(0, 10, 101)\nprint(x)",
   "execution_count": null,
   "outputs": [
    {
     "name": "stdout",
     "text": "[ 0.   0.1  0.2  0.3  0.4  0.5  0.6  0.7  0.8  0.9  1.   1.1  1.2  1.3\n  1.4  1.5  1.6  1.7  1.8  1.9  2.   2.1  2.2  2.3  2.4  2.5  2.6  2.7\n  2.8  2.9  3.   3.1  3.2  3.3  3.4  3.5  3.6  3.7  3.8  3.9  4.   4.1\n  4.2  4.3  4.4  4.5  4.6  4.7  4.8  4.9  5.   5.1  5.2  5.3  5.4  5.5\n  5.6  5.7  5.8  5.9  6.   6.1  6.2  6.3  6.4  6.5  6.6  6.7  6.8  6.9\n  7.   7.1  7.2  7.3  7.4  7.5  7.6  7.7  7.8  7.9  8.   8.1  8.2  8.3\n  8.4  8.5  8.6  8.7  8.8  8.9  9.   9.1  9.2  9.3  9.4  9.5  9.6  9.7\n  9.8  9.9 10. ]\n",
     "output_type": "stream"
    }
   ]
  },
  {
   "cell_type": "code",
   "metadata": {
    "tags": [],
    "cell_id": "00003-dfbda0f9-7bac-4c3e-8a4d-733bc22d70cd",
    "deepnote_to_be_reexecuted": false,
    "source_hash": "637209c",
    "execution_start": 1634227664990,
    "execution_millis": 2,
    "output_cleared": true,
    "deepnote_cell_type": "code"
   },
   "source": "#Using array math from Demo 2, we can create some arrays named y1, y2, and y3 as a function of x\ny1 = 2*x\ny2 = x**2\ny3 = 3*x**3",
   "execution_count": null,
   "outputs": []
  },
  {
   "cell_type": "markdown",
   "source": "### Matplotlib Pyplot Figures and Subplots\n\nA figure is just a place for our plots to exist. A figure can have multiple **subplots** which are arranged like a matrix in rows and columns. Each subplot is called an axis. Let's play around with the subplots feature a little bit\n\nTo create a set of axes, use the function:\n\n`fig, axs = plt.subplots(num_of_rows, number_of_columns, figsize=(width, height))`\n\nLet's break this down a little at a time. ",
   "metadata": {
    "tags": [],
    "cell_id": "00007-ceefafd8-736d-4a49-a8ed-6989ca6bbbaf",
    "deepnote_cell_type": "markdown"
   }
  },
  {
   "cell_type": "code",
   "metadata": {
    "tags": [],
    "cell_id": "00008-6932c95b-cf60-4ff7-ab6b-fab92d8838cd",
    "deepnote_to_be_reexecuted": false,
    "source_hash": "455da76f",
    "execution_start": 1634227671220,
    "execution_millis": 526,
    "output_cleared": false,
    "deepnote_cell_type": "code"
   },
   "source": "fig, axs = plt.subplots(1, 2, figsize=(6,4))\n#this figure has 1 row of 2 plots, and the overall size of the figure is 6 units wide, 4 units tall",
   "execution_count": null,
   "outputs": [
    {
     "data": {
      "text/plain": "<Figure size 432x288 with 2 Axes>",
      "image/png": "[encoded data removed]"
     },
     "metadata": {
      "needs_background": "light",
      "image/png": {
       "width": 380,
       "height": 252
      }
     },
     "output_type": "display_data"
    }
   ]
  },
  {
   "cell_type": "code",
   "metadata": {
    "tags": [],
    "cell_id": "00009-94d4f7ca-b61c-4947-8883-14ad59066493",
    "deepnote_to_be_reexecuted": false,
    "source_hash": "890146f3",
    "execution_start": 1634227671516,
    "execution_millis": 518,
    "output_cleared": false,
    "deepnote_cell_type": "code"
   },
   "source": "fig, axs = plt.subplots(2,3, figsize=(12,4))\n#this workspace has 2 rows of 3 plots each, the overall size of the figure is 12 units wide, 4 units tall",
   "execution_count": null,
   "outputs": [
    {
     "data": {
      "text/plain": "<Figure size 864x288 with 6 Axes>",
      "image/png": "[encoded data removed]"
     },
     "metadata": {
      "needs_background": "light",
      "image/png": {
       "width": 721,
       "height": 252
      }
     },
     "output_type": "display_data"
    }
   ]
  },
  {
   "cell_type": "markdown",
   "source": "#### What if we only want one plot?\n\nWe can use the exact same thing!! The only thing that is typical to change (but not necessary) is from `axs` to `ax` to show it is singular\n\n`fig, ax = plt.subplots(1, 1, figsize=(width, height))`\n\nIf we really want to short-hand it, `plt.subplots(figsize=(width, height))` works just the same. It assumes a 1x1 by default!",
   "metadata": {
    "tags": [],
    "cell_id": "00010-1e19bcd6-2b40-4991-90fb-66564f58870c",
    "deepnote_cell_type": "markdown"
   }
  },
  {
   "cell_type": "code",
   "metadata": {
    "tags": [],
    "cell_id": "00011-cc8516e6-ce88-435d-8aec-dc93e3ff2bc0",
    "deepnote_to_be_reexecuted": false,
    "source_hash": "8bc258ac",
    "execution_start": 1634227674574,
    "execution_millis": 161,
    "output_cleared": false,
    "deepnote_cell_type": "code"
   },
   "source": "fig, ax = plt.subplots(figsize=(4,6))\n#shows a figure with only one subplot and the overall size is 4 units wide by 6 units tall",
   "execution_count": null,
   "outputs": [
    {
     "data": {
      "text/plain": "<Figure size 288x432 with 1 Axes>",
      "image/png": "[encoded data removed]"
     },
     "metadata": {
      "needs_background": "light",
      "image/png": {
       "width": 268,
       "height": 361
      }
     },
     "output_type": "display_data"
    }
   ]
  },
  {
   "cell_type": "markdown",
   "source": "### Plotting on Subplots\n\n#### 3 cases for plotting!\n- **Case 1.** 1x1 subplot\n- **Case 2.** 1xn subplots or mx1 subplots (where m and n are not equal to 1)\n- **Case 3.** mxn subplots (where m and n are not equal to 1) \n\n\n#### Case 1. \nWhen we have a 1x1 Subplot, we just use `ax.plot(x,y)` similar to `plt.plot(x,y)` from demo 2. \n\n#### Case 2.\nWhen we have only one row or only one column of plots, we use `axs[ax_num].plot(x,y)` where ax_num goes from 0 to the number specified -1\n\nFor example, to plot on the third plot in a single row use `axs[2].plot(x,y)`\n\nAnother example, to plot on the first element in a single column uses `axs[0].plot(x,y)`\n\n\n#### Case 3.\nIn order to plot when we have a bunch of different places to do so, we need to tell the computer which spot to plot. \n\nTo access an axis (subplot), use its location. This is very similar to pandas when we used `df.loc['row', 'column']`\n\nFor example, to plot on the top left axis, we use `axs[0,0].plot(x,y)`\n",
   "metadata": {
    "tags": [],
    "cell_id": "00012-b2aae02f-f372-415a-b755-378b6c46fcf1",
    "deepnote_cell_type": "markdown"
   }
  },
  {
   "cell_type": "code",
   "metadata": {
    "tags": [],
    "cell_id": "00013-2fa4b1d0-072f-416a-834f-7b91edcfaf1e",
    "deepnote_to_be_reexecuted": false,
    "source_hash": "b92e639b",
    "execution_start": 1634227678210,
    "execution_millis": 297,
    "output_cleared": false,
    "deepnote_cell_type": "code"
   },
   "source": "#Example of case 1. for a 1x1 subplot\nfig, ax = plt.subplots(figsize=(4,6))\nax.plot(x,y1)\nax.plot(x,y2)\nax.plot(x,y3);",
   "execution_count": null,
   "outputs": [
    {
     "data": {
      "text/plain": "<Figure size 288x432 with 1 Axes>",
      "image/png": "[encoded data removed]"
     },
     "metadata": {
      "needs_background": "light",
      "image/png": {
       "width": 269,
       "height": 357
      }
     },
     "output_type": "display_data"
    }
   ]
  },
  {
   "cell_type": "code",
   "metadata": {
    "tags": [],
    "cell_id": "00014-54e2cce6-26ea-4446-b804-5d1fe4cfac54",
    "deepnote_to_be_reexecuted": false,
    "source_hash": "89145e18",
    "execution_start": 1634227680362,
    "execution_millis": 304,
    "output_cleared": false,
    "deepnote_cell_type": "code"
   },
   "source": "#Example of case 2. for a 1xn subplot\nfig, axs = plt.subplots(1, 2, figsize=(8,4))\n\n#plot on the left plot\naxs[0].plot(x,y1)\n#plot again on the left\naxs[0].plot(x,y2)\n\n#plot on the right plot\naxs[1].plot(x,y3);",
   "execution_count": null,
   "outputs": [
    {
     "data": {
      "text/plain": "<Figure size 576x288 with 2 Axes>",
      "image/png": "[encoded data removed]"
     },
     "metadata": {
      "needs_background": "light",
      "image/png": {
       "width": 486,
       "height": 248
      }
     },
     "output_type": "display_data"
    }
   ]
  },
  {
   "cell_type": "code",
   "metadata": {
    "tags": [],
    "cell_id": "00015-ea7b29f5-cb03-49ec-8251-4c361e6e3c2b",
    "deepnote_to_be_reexecuted": false,
    "source_hash": "42e64d53",
    "execution_start": 1634227682339,
    "execution_millis": 300,
    "output_cleared": false,
    "deepnote_cell_type": "code"
   },
   "source": "#Example of case 2. for a mx1 subplot\nfig, axs = plt.subplots(2, 1, figsize=(4,8))\n\n#plot on the top plot\naxs[0].plot(x,y1)\n#plot again on the top\naxs[0].plot(x,y2)\n\n#plot on the bottom plot\naxs[1].plot(x,y3);",
   "execution_count": null,
   "outputs": [
    {
     "data": {
      "text/plain": "<Figure size 288x576 with 2 Axes>",
      "image/png": "[encoded data removed]"
     },
     "metadata": {
      "needs_background": "light",
      "image/png": {
       "width": 269,
       "height": 466
      }
     },
     "output_type": "display_data"
    }
   ]
  },
  {
   "cell_type": "code",
   "metadata": {
    "tags": [],
    "cell_id": "00012-0c1b1cd0-bf76-4774-82c3-09cf81546406",
    "deepnote_to_be_reexecuted": false,
    "source_hash": "97a9cdc",
    "execution_start": 1634227685721,
    "execution_millis": 488,
    "output_cleared": false,
    "deepnote_cell_type": "code"
   },
   "source": "#Example of case 3. We will have a 2x2 plotting setup\nfig, axs = plt.subplots(2, 2, figsize=(8,8))\n\n#plot on the top left, row=0, column=0\naxs[0,0].plot(x,y1)\n\n#plot on the top right, row=0, column=1\naxs[0,1].plot(x,y2)\n\n#plot on the top left, row=1, column=0\naxs[1,0].plot(x,y3);\n#putting a ; at the end of our matplotlib figures gets rid of the sentence that is printed by default during plotting\n\n#we'll leave the bottom right blank, but it would have axs[1,1]",
   "execution_count": null,
   "outputs": [
    {
     "data": {
      "text/plain": "<Figure size 576x576 with 4 Axes>",
      "image/png": "[encoded data removed]"
     },
     "metadata": {
      "needs_background": "light",
      "image/png": {
       "width": 500,
       "height": 466
      }
     },
     "output_type": "display_data"
    }
   ]
  },
  {
   "cell_type": "code",
   "metadata": {
    "tags": [],
    "cell_id": "00017-a8f9df56-2cc9-4dac-a8e7-451c4a1376a7",
    "deepnote_to_be_reexecuted": false,
    "source_hash": "d05cd2f9",
    "execution_start": 1634227689884,
    "execution_millis": 14,
    "output_cleared": false,
    "deepnote_cell_type": "code"
   },
   "source": "#For your reference, the default pandas column and index names happen to correspond with the axis plotting\nx = np.array([[1, 2], [3, 4]])\ndisplay(pd.DataFrame(x))\n\n#in this example, the number 4 is in the location 1,1, and also in the lower right",
   "execution_count": null,
   "outputs": [
    {
     "data": {
      "application/vnd.deepnote.dataframe.v2+json": {
       "row_count": 2,
       "column_count": 2,
       "columns": [
        {
         "name": 0,
         "dtype": "int64",
         "stats": {
          "unique_count": 2,
          "nan_count": 0,
          "min": "1",
          "max": "3",
          "histogram": [
           {
            "bin_start": 1,
            "bin_end": 1.2,
            "count": 1
           },
           {
            "bin_start": 1.2,
            "bin_end": 1.4,
            "count": 0
           },
           {
            "bin_start": 1.4,
            "bin_end": 1.6,
            "count": 0
           },
           {
            "bin_start": 1.6,
            "bin_end": 1.8,
            "count": 0
           },
           {
            "bin_start": 1.8,
            "bin_end": 2,
            "count": 0
           },
           {
            "bin_start": 2,
            "bin_end": 2.2,
            "count": 0
           },
           {
            "bin_start": 2.2,
            "bin_end": 2.4000000000000004,
            "count": 0
           },
           {
            "bin_start": 2.4000000000000004,
            "bin_end": 2.6,
            "count": 0
           },
           {
            "bin_start": 2.6,
            "bin_end": 2.8,
            "count": 0
           },
           {
            "bin_start": 2.8,
            "bin_end": 3,
            "count": 1
           }
          ]
         }
        },
        {
         "name": 1,
         "dtype": "int64",
         "stats": {
          "unique_count": 2,
          "nan_count": 0,
          "min": "2",
          "max": "4",
          "histogram": [
           {
            "bin_start": 2,
            "bin_end": 2.2,
            "count": 1
           },
           {
            "bin_start": 2.2,
            "bin_end": 2.4,
            "count": 0
           },
           {
            "bin_start": 2.4,
            "bin_end": 2.6,
            "count": 0
           },
           {
            "bin_start": 2.6,
            "bin_end": 2.8,
            "count": 0
           },
           {
            "bin_start": 2.8,
            "bin_end": 3,
            "count": 0
           },
           {
            "bin_start": 3,
            "bin_end": 3.2,
            "count": 0
           },
           {
            "bin_start": 3.2,
            "bin_end": 3.4000000000000004,
            "count": 0
           },
           {
            "bin_start": 3.4000000000000004,
            "bin_end": 3.6,
            "count": 0
           },
           {
            "bin_start": 3.6,
            "bin_end": 3.8,
            "count": 0
           },
           {
            "bin_start": 3.8,
            "bin_end": 4,
            "count": 1
           }
          ]
         }
        },
        {
         "name": "_deepnote_index_column",
         "dtype": "int64"
        }
       ],
       "rows_top": [
        {
         "0": 1,
         "1": 2,
         "_deepnote_index_column": 0
        },
        {
         "0": 3,
         "1": 4,
         "_deepnote_index_column": 1
        }
       ],
       "rows_bottom": null
      },
      "text/plain": "   0  1\n0  1  2\n1  3  4",
      "text/html": "<div>\n<style scoped>\n    .dataframe tbody tr th:only-of-type {\n        vertical-align: middle;\n    }\n\n    .dataframe tbody tr th {\n        vertical-align: top;\n    }\n\n    .dataframe thead th {\n        text-align: right;\n    }\n</style>\n<table border=\"1\" class=\"dataframe\">\n  <thead>\n    <tr style=\"text-align: right;\">\n      <th></th>\n      <th>0</th>\n      <th>1</th>\n    </tr>\n  </thead>\n  <tbody>\n    <tr>\n      <th>0</th>\n      <td>1</td>\n      <td>2</td>\n    </tr>\n    <tr>\n      <th>1</th>\n      <td>3</td>\n      <td>4</td>\n    </tr>\n  </tbody>\n</table>\n</div>"
     },
     "metadata": {},
     "output_type": "display_data"
    }
   ]
  },
  {
   "cell_type": "markdown",
   "source": "## Getting Fancy with Plotting!\n\nTo really get our creative energy flowing, we can make our plots look very nice!\n\n\nWe will cover all of the key information in one plot. Below is the plot we work with in class and then beyond that, in section v. is all of the in-depth descriptions of how each of these things work, if you'd like to know. To jump to **section v.** Use the built in Table of contents feature\n\nAll of the features shown in this example are for a 1x1 subplot using `ax.FUNCTION`, so similar to plotting above use `axs[INDEX].FUNCTION` to apply to a subplot specifically\n\n**Example:** to put a unique title on every suplot of a 2x2 figure\n\n```\naxs[0,0].set_title('Title1')\naxs[0,1].set_title('Title2')\naxs[1,0].set_title('Title3')\naxs[1,1].set_title('Title4')\n```\n\n\n\n",
   "metadata": {
    "tags": [],
    "cell_id": "00017-ebddf988-997e-42ab-9afe-a3fa55d3fb8b",
    "deepnote_cell_type": "markdown"
   }
  },
  {
   "cell_type": "code",
   "metadata": {
    "tags": [],
    "cell_id": "00018-08bbb6b2-199c-4ba0-afa5-4afe046a86a7",
    "deepnote_to_be_reexecuted": false,
    "source_hash": "d3edfba1",
    "execution_start": 1634227695394,
    "execution_millis": 205,
    "output_cleared": false,
    "deepnote_cell_type": "code"
   },
   "source": "#set up our single subplot!\nfig, ax = plt.subplots(figsize=(8,8))\n\n#let's establish t for 5 seconds, with 11 datapoints\nt = np.linspace(0, 5, 11)\n\n#now lets establish our y-axis values\nu1 = t\nu2 = t**2\nu3 = t**2 + 12\n\n# red dashes, blue dots and green triangles\nax.plot(t, u1, color='r', linestyle='--', label='u1')\nax.plot(t, u2, color='b', marker='s', label='Function u2') \nax.plot(t, u3, 'g^') \n\n#and lets get a little fancy an add some labeling\nax.set_xlabel('time (s)', fontsize=12)\nax.set_ylabel('Values as a function of time', fontsize=12)\n\n#and maybe a title for our plot\nax.set_title('A very fancy plot', fontsize=14)\n\n#ax.text(x, y) just puts a textbox at this coordinate\nax.text(1, 45, 'Look I can type in here too!!')\n\n#ax.axis([x1, x2, y1, y2]) limits the view we want to see\nax.axis([0, 5, 0, 60])\n\n#ax.grid() adds a grid to the plot\nax.grid()\n\n#ax.lengend() adds a legend (and finally a semi-colon to eliminate the default printing)\nax.legend();",
   "execution_count": null,
   "outputs": [
    {
     "data": {
      "text/plain": "<Figure size 576x576 with 1 Axes>",
      "image/png": "[encoded data removed]"
     },
     "metadata": {
      "needs_background": "light",
      "image/png": {
       "width": 500,
       "height": 500
      }
     },
     "output_type": "display_data"
    }
   ]
  },
  {
   "cell_type": "markdown",
   "source": "## Alternatives to Matplotlib!\n\nThere's lots of matplotlib alternatives in python for plotting. Each has their pros and cons. You can read about some of them if you are interested:\n- [Plotly (Plotly Express)](https://plotly.com/python/plotly-express/)\n- [Seaborn](https://seaborn.pydata.org/)\n- [Altair](https://altair-viz.github.io/)\n- [ggplot](https://realpython.com/ggplot-python/)\n- [geoplotlib](https://github.com/andrea-cuttone/geoplotlib/wiki/User-Guide)\n- [Gleam](https://gleam.run/cheatsheets/gleam-for-python-users/)",
   "metadata": {
    "tags": [],
    "cell_id": "00019-6c80530f-37e1-42dc-affc-072cb9015e1b",
    "deepnote_cell_type": "markdown"
   }
  },
  {
   "cell_type": "markdown",
   "source": "## Challenge Question!\n\nAs a group tackle the following question together!\n\nYou have two time-dependent signals that are measured in millivolts (mV):\n\n$u(t) = 1 + \\sin(2\\pi t)$\n\n$v(t) = 1 + \\cos(2\\pi t)$\n\n\n1. Set up an array for **t** from 0 to 5 seconds with 1001 datapoints\n2. Setup a 1x2 subplot space for plotting (two side by side axes). Pick a width and height that looks nice to you\n3. Plot signal **u** vs **t** on a subplot on the left, and **v** vs **t** on a subplot on the right\n4. Give each subplot axis labels (x and y axis)\n5. Give each subplot a title\n6. Change the color of **u(t)** to green and **v(t)** to red\n\n\n#### Hints\n```\n#step 1.\nt = np.linspace(YOUR_CONTENT)\n\nu = ARRAY_MATH_USING_t\nv = ARRAY_MATH_USING_t\n\n#step 2.\nfig, axs = plt.subplots(ROW, COLUMN, figsize=(WIDTH, HEIGHT))\n\n#step 3.\naxs[LEFT].plot(t,u)\naxs[RIGHT].plot(t,v)\n\n#step 4.\naxs[LEFT].set_xlabel(XLABEL)\naxs[LEFT].set_ylabel(YLABEL)\n\naxs[RIGHT].set_xlabel(XLABEL)\naxs[RIGHT].set_ylabel(YLABEL)\n\n#step 5.\naxs[LEFT].set_title(TITLE)\naxs[RIGHT].set_title(TITLE)\n\n#step 6.\n#revisit step 3 and make modifcations for color\n```",
   "metadata": {
    "tags": [],
    "cell_id": "00003-7d93fe67-9bb6-4245-8414-4255a9d03bad",
    "deepnote_cell_type": "markdown"
   }
  },
  {
   "cell_type": "code",
   "metadata": {
    "tags": [],
    "cell_id": "00003-e6ef6c82-2cbc-47c6-8569-643078187335",
    "deepnote_to_be_reexecuted": false,
    "source_hash": "75fe9844",
    "execution_start": 1634227608439,
    "execution_millis": 1,
    "output_cleared": true,
    "deepnote_cell_type": "code"
   },
   "source": "#Your code here!",
   "execution_count": null,
   "outputs": []
  },
  {
   "cell_type": "markdown",
   "source": "## In-Depth Matplotlib Resources (Bonus - Not Required!)\n\nHere is a huge bank of information regarding matplotlib we will not cover in class, but available for you to play around with! \n\nThe best way to work with matplotlib is to try it out!\n\nIt should contain most things you would need. If it doesn't, the answers are a Google away. We have also attached the documentation for matplotlib for you [here](https://matplotlib.org/)",
   "metadata": {
    "tags": [],
    "cell_id": "00021-7af054bc-1573-4b17-b1d2-a92d952f70ae",
    "deepnote_cell_type": "markdown"
   }
  },
  {
   "cell_type": "markdown",
   "source": "### Useful 2D Non-line Plots",
   "metadata": {
    "tags": [],
    "is_collapsed": false,
    "cell_id": "00022-5256e218-9b52-4f20-a1b1-581ac5a171cc",
    "deepnote_cell_type": "text-cell-h3"
   }
  },
  {
   "cell_type": "markdown",
   "source": "This section covers:\n- Scatter plots\n- Bar plots\n- Heatmaps",
   "metadata": {
    "tags": [],
    "cell_id": "00023-600ee71c-801b-4566-b88d-8e4afd4688b6",
    "deepnote_cell_type": "markdown"
   }
  },
  {
   "cell_type": "markdown",
   "source": "#### Scatter Plots",
   "metadata": {
    "tags": [],
    "cell_id": "00024-e8506fb3-a518-4a7f-8909-514452214c77",
    "deepnote_cell_type": "markdown"
   }
  },
  {
   "cell_type": "code",
   "metadata": {
    "tags": [],
    "cell_id": "00023-26aa7f61-2299-49c2-9247-216d24ce05d3",
    "deepnote_to_be_reexecuted": false,
    "source_hash": "fc815439",
    "execution_start": 1634227608440,
    "execution_millis": 239,
    "output_cleared": true,
    "deepnote_cell_type": "code"
   },
   "source": "fig, ax = plt.subplots();\n\nx = [0, 1, 2, 3, 4]\ny = [9, 4, 7, -5, 8]\n\n#Default ax.plot shown in blue\nax.plot(x,y)\n\n#Scatter version shown in red\nax.scatter(x,y, color='red')\n\nax.grid();",
   "execution_count": null,
   "outputs": []
  },
  {
   "cell_type": "markdown",
   "source": "#### Bar Plots",
   "metadata": {
    "tags": [],
    "cell_id": "00026-c8a0dc2c-5021-40c4-9fa4-9d2e2b733cbe",
    "deepnote_cell_type": "markdown"
   }
  },
  {
   "cell_type": "code",
   "metadata": {
    "tags": [],
    "cell_id": "00026-ca571259-3a43-4dff-b600-ccc94e44f4aa",
    "deepnote_to_be_reexecuted": false,
    "source_hash": "35826dce",
    "execution_start": 1634227608681,
    "execution_millis": 208,
    "output_cleared": true,
    "deepnote_cell_type": "code"
   },
   "source": "fig, ax = plt.subplots();\n\nx = [0, 1, 2, 3, 4]\ny = [9, 4, 7, -5, 8]\nax.bar(x, y);",
   "execution_count": null,
   "outputs": []
  },
  {
   "cell_type": "code",
   "metadata": {
    "tags": [],
    "cell_id": "00026-5c17a103-5e3f-41db-8e26-2403ae83e8e1",
    "deepnote_to_be_reexecuted": false,
    "source_hash": "b07acc81",
    "execution_start": 1634227608902,
    "execution_millis": 179,
    "output_cleared": true,
    "deepnote_cell_type": "code"
   },
   "source": "#horizontal bar chart\nfig, ax = plt.subplots();\n\nx = [0, 1, 2, 3, 4]\ny = [9, 4, 7, -5, 8]\nax.barh(x, y);",
   "execution_count": null,
   "outputs": []
  },
  {
   "cell_type": "markdown",
   "source": "#### Heatmaps and Images",
   "metadata": {
    "tags": [],
    "cell_id": "00029-aa55a4d9-7091-4edc-aa6a-c8d336981362",
    "deepnote_cell_type": "markdown"
   }
  },
  {
   "cell_type": "code",
   "metadata": {
    "tags": [],
    "cell_id": "00029-68dcd02d-2a8c-451e-9411-98885791d16f",
    "deepnote_to_be_reexecuted": false,
    "source_hash": "e4967fb9",
    "execution_start": 1634227609086,
    "execution_millis": 422,
    "output_cleared": true,
    "deepnote_cell_type": "code"
   },
   "source": "matrix = np.array([[0.8, 2.4, 2.5, 3.9, 0.0, 4.0, 0.0],\n                   [2.4, 0.0, 4.0, 1.0, 2.7, 0.0, 0.0],\n                   [1.1, 2.4, 0.8, 4.3, 1.9, 4.4, 0.0],\n                   [0.6, 0.0, 0.3, 0.0, 3.1, 0.0, 0.0],\n                   [0.7, 1.7, 0.6, 2.6, 2.2, 6.2, 0.0],\n                   [1.3, 1.2, 0.0, 0.0, 0.0, 3.2, 5.1],\n                   [0.1, 2.0, 0.0, 1.4, 0.0, 1.9, 6.3]])\n\n#converts matrix to a heat map with each position being colored according to number\nfig, ax = plt.subplots()\nim = ax.imshow(matrix)\n\n#adds a colorbar to the plot to represent what each color means\nfrom mpl_toolkits.axes_grid1 import make_axes_locatable\ndivider = make_axes_locatable(ax)\ncax = divider.append_axes(\"right\", size=\"5%\", pad=0.05)\nfig.colorbar(im, cax=cax);",
   "execution_count": null,
   "outputs": []
  },
  {
   "cell_type": "markdown",
   "source": "### Plotting Effects",
   "metadata": {
    "tags": [],
    "is_collapsed": false,
    "cell_id": "00031-4af210a0-764a-4a3d-b4d0-ba8381f46346",
    "deepnote_cell_type": "text-cell-h3"
   }
  },
  {
   "cell_type": "markdown",
   "source": "This section covers a lot of different plotting effects in matplotlib\n- Title\n- Suptitle\n- Axis Labels\n- Fontsizes\n- Axis Ticksize\n- Legend\n- Grid\n- Line Thickness\n- Line Color\n- Line Style\n- Transparency - \"alpha\"",
   "metadata": {
    "tags": [],
    "cell_id": "00032-dbb768df-6fa6-4c6d-983a-f7f314772aa4",
    "deepnote_cell_type": "markdown"
   }
  },
  {
   "cell_type": "markdown",
   "source": "#### Title, Axis Labels, Suptitle",
   "metadata": {
    "tags": [],
    "cell_id": "00033-69699f73-ee74-4546-b9a2-1f6ba20af2af",
    "deepnote_cell_type": "markdown"
   }
  },
  {
   "cell_type": "code",
   "metadata": {
    "tags": [],
    "cell_id": "00034-edbaa244-0fad-4215-a16b-fb131c4cb01f",
    "deepnote_to_be_reexecuted": false,
    "source_hash": "2204944b",
    "execution_start": 1634227609406,
    "execution_millis": 641,
    "output_cleared": true,
    "deepnote_cell_type": "code"
   },
   "source": "#showcasing \"set\" features - title, xlabel, ylabel\n\nfig, axs = plt.subplots(2,2,figsize=(8,8), constrained_layout=True)\n# constrained_layout = True spaces the plots accordingly to fit the words\n\n#one option in one line\naxs[0,0].set(xlabel='Top Left X-axis', ylabel='Top Left Y-axis', title='Top Left')\naxs[0,1].set(xlabel='Top Right X-axis', ylabel='Top Right Y-axis', title='Top Right')\naxs[1,0].set(xlabel='Lower Left X-axis', ylabel='Lower Left Y-axis', title='Lower Left')\naxs[1,1].set(xlabel='Lower Right X-axis', ylabel='Lower Right Y-axis', title='Lower Right')\n\n#suptitle of a plot\nfig.suptitle('This is the Suptitle of the Plot');",
   "execution_count": null,
   "outputs": []
  },
  {
   "cell_type": "code",
   "metadata": {
    "tags": [],
    "cell_id": "00035-26e3dd4e-21e3-45e2-9082-8ae96a0a2438",
    "deepnote_to_be_reexecuted": false,
    "source_hash": "9135ba7e",
    "execution_start": 1634227610052,
    "execution_millis": 706,
    "output_cleared": true,
    "deepnote_cell_type": "code"
   },
   "source": "#showcasing individual set features - set_title, set_xlabel, set_ylabel\n\nfig, axs = plt.subplots(2,2,figsize=(8,8), constrained_layout=True)\n# constrained_layout = True spaces the plots accordingly to fit the words\n\n#bulkier but allows for fontsize manipulation\n#axs[0,0].set_xlabel('Top Left X-axis', fontsize=20)\n#axs[0,0].set_ylabel('Top Left Y-axis', fontsize=20)\n#axs[0,0].set_title('Top Left', fontsize=25)\n\n#repeat for all axs[x,y] slices or use axs.flat to loop through\nnaming_list = ['Top Left', 'Top Right', 'Lower Left', 'Lower Right']\nfor num, ax in enumerate(axs.flat):\n    ax.set_xlabel(naming_list[num]+' x-label', fontsize=18)\n    ax.set_ylabel(naming_list[num]+' y-label', fontsize=18)\n    ax.set_title(naming_list[num]+' Title', fontsize=20)\n\nfig.suptitle('This is the Suptitle of the Plot', fontsize=30);",
   "execution_count": null,
   "outputs": []
  },
  {
   "cell_type": "code",
   "metadata": {
    "tags": [],
    "cell_id": "00036-00a19810-1509-4618-a904-13146248b3fb",
    "deepnote_to_be_reexecuted": false,
    "source_hash": "8727600f",
    "execution_start": 1634227610755,
    "execution_millis": 680,
    "output_cleared": true,
    "deepnote_cell_type": "code"
   },
   "source": "#sharing axis labels\nnaming_list = ['Top Left', 'Top Right', 'Lower Left', 'Lower Right']\n\n#notice x-labels for the top two plots are missing\nfig, axs = plt.subplots(2, 2, figsize=(8,8), constrained_layout=True)\nfor num, ax in enumerate(axs.flat):\n    ax.set_xlabel(naming_list[num]+' x-label', fontsize=18)\n    ax.set_ylabel(naming_list[num]+' y-label', fontsize=18)\n    ax.set_title(naming_list[num]+' Title', fontsize=20)\n    ax.label_outer()",
   "execution_count": null,
   "outputs": []
  },
  {
   "cell_type": "markdown",
   "source": "#### Axis Ticksize",
   "metadata": {
    "tags": [],
    "cell_id": "00037-e66f9742-2ff4-4eda-9a16-05b08fbef531",
    "deepnote_cell_type": "markdown"
   }
  },
  {
   "cell_type": "code",
   "metadata": {
    "tags": [],
    "cell_id": "00037-c9a4e274-cdb9-4dab-9557-6f7c3ef7fbfe",
    "deepnote_to_be_reexecuted": false,
    "source_hash": "8447e2a4",
    "execution_start": 1634227611424,
    "execution_millis": 3,
    "output_cleared": true,
    "deepnote_cell_type": "code"
   },
   "source": "#axis ticks - changed globally\nimport matplotlib as mpl\n#15 is huge, but it will nicely demonstrate what is happening\nmpl.rc('xtick', labelsize=15) \nmpl.rc('ytick', labelsize=15) ",
   "execution_count": null,
   "outputs": []
  },
  {
   "cell_type": "code",
   "metadata": {
    "tags": [],
    "cell_id": "00039-2412e7be-200a-40c1-be61-382c71ce8bcb",
    "deepnote_to_be_reexecuted": false,
    "source_hash": "f08dd097",
    "execution_start": 1634227611431,
    "execution_millis": 797,
    "output_cleared": true,
    "deepnote_cell_type": "code"
   },
   "source": "fig, axs = plt.subplots(2,2,figsize=(8,8), constrained_layout=True)\n#one option in one line\naxs[0,0].set(xlabel='Top Left X-axis', ylabel='Top Left Y-axis', title='Top Left')\naxs[0,1].set(xlabel='Top Right X-axis', ylabel='Top Right Y-axis', title='Top Right')\naxs[1,0].set(xlabel='Lower Left X-axis', ylabel='Lower Left Y-axis', title='Lower Left')\naxs[1,1].set(xlabel='Lower Right X-axis', ylabel='Lower Right Y-axis', title='Lower Right')\n\n#suptitle of a plot\nfig.suptitle('This is the Suptitle of the Plot');",
   "execution_count": null,
   "outputs": []
  },
  {
   "cell_type": "code",
   "metadata": {
    "tags": [],
    "cell_id": "00040-9b988b47-cf80-43d6-81f9-56e7451b3732",
    "deepnote_to_be_reexecuted": false,
    "source_hash": "a52827f2",
    "execution_start": 1634227612267,
    "execution_millis": 0,
    "output_cleared": true,
    "deepnote_cell_type": "code"
   },
   "source": "#reset it to something more reasonable\nmpl.rc('xtick', labelsize=10) \nmpl.rc('ytick', labelsize=10) ",
   "execution_count": null,
   "outputs": []
  },
  {
   "cell_type": "markdown",
   "source": "#### Legend and Grid\n\nThe legend of the plot is also sometimes referred to as the key of the plot. It is where lines are labeled\n\nThe grid just shows us the x-y points every so often as faint lines in the background\n\n[Legend parameters found here](https://matplotlib.org/stable/api/_as_gen/matplotlib.pyplot.legend.html)",
   "metadata": {
    "tags": [],
    "cell_id": "00041-6109aa3f-dba3-4dce-928e-9fc026c2de47",
    "deepnote_cell_type": "markdown"
   }
  },
  {
   "cell_type": "code",
   "metadata": {
    "tags": [],
    "cell_id": "00041-3029d184-28cc-4006-9873-12a01647a0da",
    "deepnote_to_be_reexecuted": false,
    "source_hash": "3b900760",
    "execution_start": 1634227612268,
    "execution_millis": 212,
    "output_cleared": true,
    "deepnote_cell_type": "code"
   },
   "source": "fig, ax = plt.subplots(1,1, figsize=(6,4))\n\n#powers of x\nx = np.linspace(0, 5, 100)\ny1 = x\ny2 = x**2\ny3 = x**3\ny4 = x**4\n\ny_list = [y1, y2, y3, y4]\nname_list = ['1st Degree', '2nd Degree', '3rd Degree', '4th Degree']\nfor num, y in enumerate(y_list):\n    ax.plot(x,y, label=name_list[num])\n\n#in general: ax.plot(x,y, label='Label')\n\n#make the legend of the plot (also sometimes called the key)\nax.legend()\n\n#legend has fontsize, location, and even title features (shown in next plot)\n\n#add gridlines to the plot\nax.grid()",
   "execution_count": null,
   "outputs": []
  },
  {
   "cell_type": "code",
   "metadata": {
    "tags": [],
    "cell_id": "00043-299eafcd-a534-433d-8d45-388231f09d4d",
    "deepnote_to_be_reexecuted": false,
    "source_hash": "8a8b885c",
    "execution_start": 1634227612526,
    "execution_millis": 212,
    "output_cleared": true,
    "deepnote_cell_type": "code"
   },
   "source": "fig, ax = plt.subplots(1,1, figsize=(6,4))\n\n#powers of x\nx = np.linspace(0, 5, 100)\ny1 = x\ny2 = x**2\ny3 = x**3\ny4 = x**4\n\nylist = [y1, y2, y3, y4]\nname_list = ['1st', '2nd', '3rd', '4th']\nfor num, y in enumerate(y_list):\n    ax.plot(x,y, label=name_list[num])\n\n#in general: ax.plot(x,y, label='Label')\n\n#this combination will not look good, but its about showcasing the features\nax.legend(title = 'Polynomial Degree', title_fontsize=15, fontsize=10, loc='lower left')  \n\n\n#add gridlines to the plot\nax.grid()",
   "execution_count": null,
   "outputs": []
  },
  {
   "cell_type": "markdown",
   "source": "#### Line thickness, Line Color, Line Style and Transparency\n\n[List of colors](https://matplotlib.org/stable/gallery/color/named_colors.html)",
   "metadata": {
    "tags": [],
    "cell_id": "00044-76028ac2-1bbf-4460-8aed-7c08807720c2",
    "deepnote_cell_type": "markdown"
   }
  },
  {
   "cell_type": "code",
   "metadata": {
    "tags": [],
    "cell_id": "00044-844c2b05-b152-4c27-89aa-c647dee3add3",
    "deepnote_to_be_reexecuted": false,
    "source_hash": "db6130b4",
    "execution_start": 1634227612741,
    "execution_millis": 196,
    "output_cleared": true,
    "deepnote_cell_type": "code"
   },
   "source": "fig, ax = plt.subplots(1,1, figsize=(6,4))\n\n#powers of x\nx = np.linspace(0, 5, 100)\ny1 = x\ny2 = x**2\ny3 = x**3\ny4 = x**4\n\nax.plot(x,y1, color='r') #red color (short-hand)\n\nax.plot(x,y2, color='#033C5A') #color is GW Blue (in hex code)\n\nax.plot(x,y3, color='darksalmon',linestyle='dashed') \n#darksalmon is a default named color from matplotlib\n\nax.plot(x,y4, linewidth=8, alpha=0.3);\n#alpha varies from 0.0 to 1.0 and determines transparency",
   "execution_count": null,
   "outputs": []
  },
  {
   "cell_type": "markdown",
   "source": "### Additional Plotting Effects and Techniques",
   "metadata": {
    "tags": [],
    "is_collapsed": false,
    "cell_id": "00046-823be86f-1ecc-4f38-9612-0abd1ed12475",
    "deepnote_cell_type": "text-cell-h3"
   }
  },
  {
   "cell_type": "markdown",
   "source": "This section covers:\n- Log scale plots\n- Axis Limits\n- Annotation\n- Arrows\n- Thicker gridlines\n- Shading of shapes\n- In-line labels\n- Category labels (such as all dashed lines mean something)",
   "metadata": {
    "tags": [],
    "cell_id": "00047-6142cf4a-87ce-4694-99fa-9b512893d822",
    "deepnote_cell_type": "markdown"
   }
  },
  {
   "cell_type": "markdown",
   "source": "#### Log Scaling \n\nSometimes plots are best represented with a Logarithmically-Scaled y-axis or logarithmically scaled x and y axes",
   "metadata": {
    "tags": [],
    "cell_id": "00048-13502177-5c2b-436e-98fa-09e8c6984798",
    "deepnote_cell_type": "markdown"
   }
  },
  {
   "cell_type": "code",
   "metadata": {
    "tags": [],
    "cell_id": "00046-ef359a6e-3194-43a1-964e-ba3bcf4bdc3f",
    "deepnote_to_be_reexecuted": false,
    "source_hash": "c8280f7a",
    "execution_start": 1634227612974,
    "execution_millis": 629,
    "output_cleared": true,
    "deepnote_cell_type": "code"
   },
   "source": "fig, axs = plt.subplots(1, 2)\nx = np.array([1, 2, 3, 4, 5])\ny = 10**x\n\naxs[0].plot(x,y)\naxs[0].set_title('Normal Scaling')\n\naxs[1].set_yscale('log')\naxs[1].plot(x,y)\naxs[1].set_title('Logarithmic Scaling');",
   "execution_count": null,
   "outputs": []
  },
  {
   "cell_type": "markdown",
   "source": "#### Axis Limiting\n\nYou can limit the view of the window by adjusting the axes",
   "metadata": {
    "tags": [],
    "cell_id": "00050-7fa75283-5fe4-45eb-9aaa-b73a406d95a9",
    "deepnote_cell_type": "markdown"
   }
  },
  {
   "cell_type": "code",
   "metadata": {
    "tags": [],
    "cell_id": "00050-9a14dd12-da6d-42a0-a4be-dad2f27ca481",
    "deepnote_to_be_reexecuted": false,
    "source_hash": "2cf572d6",
    "execution_start": 1634227613637,
    "execution_millis": 358,
    "output_cleared": true,
    "deepnote_cell_type": "code"
   },
   "source": "fig, ax = plt.subplots()\n\nx = [0, 1, 2, 3, 4]\ny = [9, 4, 7, -5, 8]\n\nax.plot(x,y)\n\nax.set_xlim(left=1, right=5)\nax.set_ylim(top=6, bottom=0);",
   "execution_count": null,
   "outputs": []
  },
  {
   "cell_type": "markdown",
   "source": "#### Annotation of points\nLabeling points is super useful for some plots\n\n[Documentation](https://matplotlib.org/stable/api/_as_gen/matplotlib.pyplot.annotate.html) ",
   "metadata": {
    "tags": [],
    "cell_id": "00052-cf83f4d0-f7df-472c-9734-989e4849b13d",
    "deepnote_cell_type": "markdown"
   }
  },
  {
   "cell_type": "code",
   "metadata": {
    "tags": [],
    "cell_id": "00052-fb5be391-179a-4e4c-a310-5d724265330f",
    "deepnote_to_be_reexecuted": false,
    "source_hash": "d8ee17de",
    "execution_start": 1634227613898,
    "execution_millis": 204,
    "output_cleared": true,
    "deepnote_cell_type": "code"
   },
   "source": "fig, ax = plt.subplots();\n\nx = [0, 1, 2, 3, 4]\ny = [9, 4, 7, -5, 8]\n\n#Default plt.plot shown in blue\nax.plot(x,y)\n\n#Scatter version shown in red\nax.scatter(x,y, color='red')\n\npointName = ['Name1', 'Name2', 'Name3', 'Name4', 'Name5']\nfor num in range(len(x)):\n    ax.annotate(text=pointName[num], xy=(x[num],y[num]));\n\n#xy could be adjusted per point to move the values to better locations",
   "execution_count": null,
   "outputs": []
  },
  {
   "cell_type": "markdown",
   "source": "#### Arrows\n\nPlotting arrows can show cycles more easily or all sorts of other fun applications\n\nDraw an arrow from (x, y) to (x+dx, y+dy).\n\n[Documentation](https://matplotlib.org/stable/api/_as_gen/matplotlib.pyplot.arrow.html)",
   "metadata": {
    "tags": [],
    "cell_id": "00054-ba59f3dd-5517-4aae-bd65-83bf36cb4e2e",
    "deepnote_cell_type": "markdown"
   }
  },
  {
   "cell_type": "code",
   "metadata": {
    "tags": [],
    "cell_id": "00054-47d3701c-fb2d-48d1-8d7d-dfa9269d9d72",
    "deepnote_to_be_reexecuted": false,
    "source_hash": "b32baa7",
    "execution_start": 1634227614103,
    "execution_millis": 226,
    "output_cleared": true,
    "deepnote_cell_type": "code"
   },
   "source": "fig, ax = plt.subplots()\n\nx = 5\ny = 0\ndx = 2\ndy = 4\n\nax.arrow(x,y,dx,dy, head_width=0.2, head_length=0.5, length_includes_head=True);\n\n#if given (x1, y1) and (x2, y2):\nx1 = 5\nx2 = 7\ny1 = 0\ny2 = 4\n\ndx = x2-x1\ndy = y2-y1",
   "execution_count": null,
   "outputs": []
  },
  {
   "cell_type": "markdown",
   "source": "#### Thicker Gridlines (horizontal and vertical lines)\n\nYou can adjust all gridlines with this feature:\n\n`ax.xaxis.get_gridlines()` &\n`ax.yaxis.get_gridlines()`\n\nOr\n\nThis you want to bold the singlular lines through 0 for example, or draw a horizontal line at a y value (or vertical line at an x value), this is what you would use:\n\nDocumentation:\n\n- [Horizontal Line](https://matplotlib.org/stable/api/_as_gen/matplotlib.pyplot.axhline.html)\n\n- [Vertical Line](https://matplotlib.org/stable/api/_as_gen/matplotlib.pyplot.axvline.html)",
   "metadata": {
    "tags": [],
    "cell_id": "00056-bfe98d9e-48bd-4299-b624-15b7905c1921",
    "deepnote_cell_type": "markdown"
   }
  },
  {
   "cell_type": "code",
   "metadata": {
    "tags": [],
    "cell_id": "00056-b85e506e-0b3b-4042-a808-d00c2de1ffa5",
    "deepnote_to_be_reexecuted": false,
    "source_hash": "4eec48d0",
    "execution_start": 1634227614340,
    "execution_millis": 525,
    "output_cleared": true,
    "deepnote_cell_type": "code"
   },
   "source": "fig, ax = plt.subplots()\n\nax.grid()\n\n#color all x-grids red\nxgrids = ax.xaxis.get_gridlines()\nfor num in range(len(xgrids)):\n    xgrids[num].set_color('r')\n    xgrids[num].set_linewidth(2.5)\n\n#change one x-grid to green to show off indexing\n#index from 0 (starting on the left of the plot)\nxgrids[3].set_color('g')\nxgrids[3].set_linewidth(5)\n\n#color all y-grids blue\nygrids = ax.yaxis.get_gridlines()\nfor num in range(len(ygrids)):\n    ygrids[num].set_color('b')\n    ygrids[num].set_linewidth(3)\n\n#change one y-grid to yellow to show off indexing\n#index from 0 (starting on the bottom on the plot)\nygrids[3].set_color('y')\nygrids[3].set_linewidth(5)",
   "execution_count": null,
   "outputs": []
  },
  {
   "cell_type": "code",
   "metadata": {
    "tags": [],
    "cell_id": "00058-18b6726a-c11a-4fe8-956e-d0776b3c506f",
    "deepnote_to_be_reexecuted": false,
    "source_hash": "56cab966",
    "execution_start": 1634227614542,
    "execution_millis": 330,
    "output_cleared": true,
    "deepnote_cell_type": "code"
   },
   "source": "fig, ax = plt.subplots()\n\nax.grid()\n\nax.axhline(y=0, color='k', linewidth=2)\nax.axvline(x=0, color='k', linewidth=4)\n\nax.axhline(y=2.15, color='b', linewidth=3);",
   "execution_count": null,
   "outputs": []
  },
  {
   "cell_type": "markdown",
   "source": "#### Shading of Shapes",
   "metadata": {
    "tags": [],
    "cell_id": "00059-c084656b-08cf-4bed-a6e1-b7b39d0ad20c",
    "deepnote_cell_type": "markdown"
   }
  },
  {
   "cell_type": "code",
   "metadata": {
    "tags": [],
    "cell_id": "00059-acf95265-2cee-46d7-b883-fdb8cf2fe874",
    "deepnote_to_be_reexecuted": false,
    "source_hash": "296082fe",
    "execution_start": 1634227614816,
    "execution_millis": 126,
    "output_cleared": true,
    "deepnote_cell_type": "code"
   },
   "source": "fig, ax = plt.subplots();\n\n#has 4 items since its a square\nx_square = [0, 1, 1, 0]\ny_square = [0, 0, 1, 1]\n\n#has 3 items since its a triangle\nx_triangle = [2, 3, 4]\ny_triangle = [2, 6, 4]\n\nax.fill(x_square, y_square)\nax.fill(x_triangle, y_triangle, color='r', alpha=0.4);",
   "execution_count": null,
   "outputs": []
  },
  {
   "cell_type": "markdown",
   "source": "#### In-line labels\n\nSomeone came up with this awesome system for in-line labeling that I use frequently. The link to the original is provided here if you want to read about it from the [source](https://stackoverflow.com/questions/16992038/inline-labels-in-matplotlib)",
   "metadata": {
    "tags": [],
    "cell_id": "00061-07a5e712-d53d-4a42-903c-34f0b16fc44a",
    "deepnote_cell_type": "markdown"
   }
  },
  {
   "cell_type": "code",
   "metadata": {
    "tags": [],
    "cell_id": "00061-dad9a1ae-b5b4-4e4c-8686-9eabe001c792",
    "deepnote_to_be_reexecuted": false,
    "source_hash": "eeaa2538",
    "execution_start": 1634227614947,
    "execution_millis": 4,
    "output_cleared": true,
    "deepnote_cell_type": "code"
   },
   "source": "def label_line(line,x,label=None,align=True,**kwargs):\n\n    ax = line.axes\n    xdata = line.get_xdata()\n    ydata = line.get_ydata()\n\n    if (x < xdata[0]) or (x > xdata[-1]):\n        print('x label location is outside data range!')\n        return\n\n    #Find corresponding y co-ordinate and angle of the line\n    ip = 1\n    for i in range(len(xdata)):\n        if x < xdata[i]:\n            ip = i\n            break\n\n    y = ydata[ip-1] + (ydata[ip]-ydata[ip-1])*(x-xdata[ip-1])/(xdata[ip]-xdata[ip-1])\n\n    if not label:\n        label = line.get_label()\n\n    if align:\n        #Compute the slope\n        dx = xdata[ip] - xdata[ip-1]\n        dy = ydata[ip] - ydata[ip-1]\n        ang = np.degrees(np.arctan2(dy,dx))\n\n        #Transform to screen co-ordinates\n        pt = np.array([x,y]).reshape((1,2))\n        trans_angle = ax.transData.transform_angles(np.array((ang,)),pt)[0]\n\n    else:\n        trans_angle = 0\n\n    #Set a bunch of keyword arguments\n    if 'color' not in kwargs:\n        kwargs['color'] = line.get_color()\n\n    if ('horizontalalignment' not in kwargs) and ('ha' not in kwargs):\n        kwargs['ha'] = 'center'\n\n    if ('verticalalignment' not in kwargs) and ('va' not in kwargs):\n        kwargs['va'] = 'center'\n\n    if 'backgroundcolor' not in kwargs:\n        kwargs['backgroundcolor'] = ax.get_facecolor()\n\n    if 'clip_on' not in kwargs:\n        kwargs['clip_on'] = True\n\n    if 'zorder' not in kwargs:\n        kwargs['zorder'] = 2.5\n\n    ax.text(x,y,label,rotation=trans_angle,**kwargs)\n\n\ndef label_lines(lines,align=True,xvals=None,**kwargs):\n\n    ax = lines[0].axes\n    labLines = []\n    labels = []\n\n    #Take only the lines which have labels other than the default ones\n    for line in lines:\n        label = line.get_label()\n        if \"_line\" not in label:\n            labLines.append(line)\n            labels.append(label)\n\n    if xvals is None:\n        xmin,xmax = ax.get_xlim()\n        xvals = np.linspace(xmin,xmax,len(labLines)+2)[1:-1]\n\n    for line,x,label in zip(labLines,xvals,labels):\n        label_line(line,x,label,align,**kwargs)",
   "execution_count": null,
   "outputs": []
  },
  {
   "cell_type": "code",
   "metadata": {
    "tags": [],
    "cell_id": "00063-0707f958-4838-45f0-b73b-2188368a5452",
    "deepnote_to_be_reexecuted": false,
    "source_hash": "1f9cdbed",
    "execution_start": 1634227615013,
    "execution_millis": 236,
    "output_cleared": true,
    "deepnote_cell_type": "code"
   },
   "source": "fig, ax = plt.subplots(1,1, figsize=(6,4))\n\n#powers of x\nx = np.linspace(0, 5, 100)\ny1 = x\ny2 = x**2\ny3 = x**3\ny4 = x**4\n\ny_list = [y1, y2, y3, y4]\nname_list = ['1st Degree', '2nd Degree', '3rd Degree', '4th Degree']\nfor num, y in enumerate(y_list):\n    ax.plot(x,y, label=name_list[num])\n\nax.grid()\n\n#maybe not the best showcase of the possibilities, but a good tool nonetheless\nlabel_lines(plt.gca().get_lines(),align=False,fontsize=10)",
   "execution_count": null,
   "outputs": []
  },
  {
   "cell_type": "code",
   "metadata": {
    "tags": [],
    "cell_id": "00064-8d67406e-0947-45b7-8d93-19848b638144",
    "deepnote_to_be_reexecuted": false,
    "source_hash": "2ee04aa9",
    "execution_start": 1634227615265,
    "execution_millis": 227,
    "output_cleared": true,
    "deepnote_cell_type": "code"
   },
   "source": "fig, ax = plt.subplots(1,1, figsize=(6,4))\n\n#powers of x\nx = np.linspace(0, 5, 100)\ny1 = x\ny2 = x**2\ny3 = x**3\ny4 = x**4\n\ny_list = [y1, y2, y3, y4]\nname_list = ['1st Degree', '2nd Degree', '3rd Degree', '4th Degree']\nfor num, y in enumerate(y_list):\n    ax.plot(x,y, label=name_list[num])\n\nax.grid()\n\n#maybe not the best showcase of the possibilities, but a good tool nonetheless\nlabel_lines(plt.gca().get_lines(),zorder=2.5, color='grey')",
   "execution_count": null,
   "outputs": []
  },
  {
   "cell_type": "markdown",
   "source": "#### Category Labeling\n\nWhat if we want to say all dashed lines mean something?\nWhat if we want to put something in the legend we don't want to see?\n\nWe can do that with \"Category Labeling\"",
   "metadata": {
    "tags": [],
    "cell_id": "00065-84b8c348-7c9e-4abc-a311-73eb05b6df92",
    "deepnote_cell_type": "markdown"
   }
  },
  {
   "cell_type": "code",
   "metadata": {
    "tags": [],
    "cell_id": "00065-f52498c2-24db-4520-b74e-05f6fb42a438",
    "deepnote_to_be_reexecuted": false,
    "source_hash": "192ee7e9",
    "execution_start": 1634227615550,
    "execution_millis": 285,
    "output_cleared": true,
    "deepnote_cell_type": "code"
   },
   "source": "fig, ax = plt.subplots(figsize=(10,8))\nx = np.linspace(0, 5, 50)\ny1 = np.sqrt(x)\ny1b = np.sqrt(x)+ 30\ny2 = x**2\ny3 = x**(1/3)\ny4 = x**3\ny4b = x**3 + 20\n\nax.plot(x, y1, linestyle='--', color='r')\nax.plot(x, y1b, linestyle='--', color='r')\nax.plot(x,y2, color='g')\nax.plot(x, y3, linestyle='--', color='b')\nax.plot(x,y4, color = 'y')\nax.plot(x,y4b, color='y')\n\n#we can use a fancy trick to plot a single point (which won't show up on the plot)\nax.plot([0],[0], color = 'r', label='Square root function')\nax.plot([0],[0], color = 'g', label='Square function')\nax.plot([0],[0], color = 'b', label='Cube root function')\nax.plot([0],[0], color = 'y', label='Cubic function')\nax.plot([0],[0], color = 'grey', linestyle = '--', label='Root function')\nax.plot([0],[0], color = 'grey', label='Power function')\n\nplt.legend(title='Showcase Category Labels:', title_fontsize=16, fontsize=12);",
   "execution_count": null,
   "outputs": []
  },
  {
   "cell_type": "markdown",
   "source": "### Auto-coloring with the Cycler Library",
   "metadata": {
    "tags": [],
    "is_collapsed": false,
    "cell_id": "00067-0543408e-e738-4609-97aa-b85c472450ab",
    "deepnote_cell_type": "text-cell-h3"
   }
  },
  {
   "cell_type": "markdown",
   "source": "Tired of always looking up the GW colors for figures, I sure am. Here's a faster way!\n\nOrder matters, will always plot the first line without a color label as the first color in the given list, then the 2nd as the 2nd color, etc\n\nIf it gets to the end of the list, it will begin from the beginning with the 1st color hence \"Cycler\"",
   "metadata": {
    "tags": [],
    "cell_id": "00067-a9770ec7-a9d8-4be2-9215-6e6e8313113e",
    "deepnote_to_be_reexecuted": false,
    "source_hash": "37ea935f",
    "execution_start": 1634158516527,
    "execution_millis": 32,
    "deepnote_cell_type": "markdown"
   }
  },
  {
   "cell_type": "code",
   "metadata": {
    "tags": [],
    "cell_id": "00069-f29a76ad-1d55-48eb-8ba1-79819257623b",
    "deepnote_to_be_reexecuted": false,
    "source_hash": "4228e13f",
    "execution_start": 1634227615874,
    "execution_millis": 0,
    "output_cleared": true,
    "deepnote_cell_type": "code"
   },
   "source": "from cycler import cycler\n\nimport matplotlib as mpl\n\n#save this default for later when we need it\nprop_cycle = mpl.rcParams['axes.prop_cycle']",
   "execution_count": null,
   "outputs": []
  },
  {
   "cell_type": "code",
   "metadata": {
    "tags": [],
    "cell_id": "00070-4d3d7ab6-960a-430f-ab12-12d762217b31",
    "deepnote_to_be_reexecuted": false,
    "source_hash": "242ae55e",
    "execution_start": 1634227615875,
    "execution_millis": 314,
    "output_cleared": true,
    "deepnote_cell_type": "code"
   },
   "source": "#Cycle 1:\n#in order: GW red, GW green, GW Yellow, GW Blue\ncolorlist1 = ['#C9102F', '#008364', '#FFC72C', '#033C5A']\nmpl.rcParams['axes.prop_cycle'] = cycler(color=colorlist1)\n\nfig, ax = plt.subplots(1,1, figsize=(6,4))\n\n#powers of x\nx = np.linspace(0, 5, 100)\ny1 = x\ny2 = x**2\ny3 = x**3\ny4 = x**4\n\n\nylist = [y1, y2, y3, y4]\nnamelist = ['1st Degree', '2nd Degree', '3rd Degree', '4th Degree']\n\n#no color parameter specified, but matplotlib defaults to the sequence we told it to\nfor num, y in enumerate(ylist):\n    ax.plot(x,y, label=namelist[num])\n\nax.legend();",
   "execution_count": null,
   "outputs": []
  },
  {
   "cell_type": "code",
   "metadata": {
    "tags": [],
    "cell_id": "00071-0a1406ce-0523-48ac-82d4-2933a2550245",
    "deepnote_to_be_reexecuted": false,
    "source_hash": "b4d70e03",
    "execution_start": 1634227616095,
    "execution_millis": 287,
    "output_cleared": true,
    "deepnote_cell_type": "code"
   },
   "source": "#Cycle 2:\n#in order: GW blue, GW light blue, GW buff, GW dark green, GW Brown\ncolorlist2 = ['#033C5A', '#0073AA', '#AA9868', '#008364', '#A75523']\nmpl.rcParams['axes.prop_cycle'] = cycler(color=colorlist2)\n\nfig, ax = plt.subplots(1,1, figsize=(6,4))\n\n#powers of x\nx = np.linspace(0, 5, 100)\ny1 = x\ny2 = x**2\ny3 = x**3\ny4 = x**4\ny5 = x**5\n\nylist = [y1, y2, y3, y4, y5]\nnamelist = ['1st Degree', '2nd Degree', '3rd Degree', '4th Degree', '5th Degree']\n\n#no color parameter specified, but matplotlib defaults to the sequence we told it to\nfor num, y in enumerate(ylist):\n    ax.plot(x,y, label=namelist[num])\n\nax.legend();",
   "execution_count": null,
   "outputs": []
  },
  {
   "cell_type": "code",
   "metadata": {
    "tags": [],
    "cell_id": "00072-2d2faa83-ee43-4547-9e99-b496c398587a",
    "deepnote_to_be_reexecuted": false,
    "source_hash": "23d3f585",
    "execution_start": 1634227616362,
    "execution_millis": 4,
    "output_cleared": true,
    "deepnote_cell_type": "code"
   },
   "source": "#here's the full GW color system (excluding black and white) in one list if you have a lot of lines to plot\nGW_COLOR_LIST = ['#C9102F', '#008364', '#FFC72C', '#033C5A', '#0073AA', '#AA9868', '#008364', '#A75523']\nmpl.rcParams['axes.prop_cycle'] = cycler(color=GW_COLOR_LIST)\n\n#but we will go back to defaults\nmpl.rcParams['axes.prop_cycle'] = prop_cycle",
   "execution_count": null,
   "outputs": []
  },
  {
   "cell_type": "markdown",
   "source": "### 3D plotting with Matplotlib",
   "metadata": {
    "tags": [],
    "is_collapsed": false,
    "cell_id": "00073-41a87fe5-c969-4379-808d-161f9af4fbf4",
    "deepnote_cell_type": "text-cell-h3"
   }
  },
  {
   "cell_type": "code",
   "metadata": {
    "tags": [],
    "cell_id": "00073-162b5099-6d00-4878-92e2-06bc199ac656",
    "deepnote_to_be_reexecuted": false,
    "source_hash": "8af4041c",
    "execution_start": 1634227616367,
    "execution_millis": 4,
    "output_cleared": true,
    "deepnote_cell_type": "code"
   },
   "source": "from mpl_toolkits import mplot3d",
   "execution_count": null,
   "outputs": []
  },
  {
   "cell_type": "code",
   "metadata": {
    "tags": [],
    "cell_id": "00073-a6d0e3b9-f95e-4bec-8282-7fdc24d26ab2",
    "deepnote_to_be_reexecuted": false,
    "source_hash": "9975a9e7",
    "execution_start": 1634227616414,
    "execution_millis": 260,
    "output_cleared": true,
    "deepnote_cell_type": "code"
   },
   "source": "#basic 3D plot initialization\nfig = plt.figure(figsize=(6,5))\nax = plt.axes(projection='3d')",
   "execution_count": null,
   "outputs": []
  },
  {
   "cell_type": "markdown",
   "source": "#### 3D line and scatter plots",
   "metadata": {
    "tags": [],
    "cell_id": "00076-452d708d-ca9d-4752-bc0b-b8874ad64185",
    "deepnote_cell_type": "markdown"
   }
  },
  {
   "cell_type": "code",
   "metadata": {
    "tags": [],
    "cell_id": "00076-8b0ac57b-3a97-4017-bf42-d597aac00e5f",
    "deepnote_to_be_reexecuted": false,
    "source_hash": "f8f52f7f",
    "execution_start": 1634227616669,
    "execution_millis": 246,
    "output_cleared": true,
    "deepnote_cell_type": "code"
   },
   "source": "#line plots\nfig = plt.figure(figsize=(6,5))\nax = plt.axes(projection='3d')\n\nx = np.linspace(0, 5, 50)\ny = np.sin(np.linspace(0, 10, 50))\nz = np.cos(x) * y\n\nax.plot3D(x, y, z);",
   "execution_count": null,
   "outputs": []
  },
  {
   "cell_type": "code",
   "metadata": {
    "tags": [],
    "cell_id": "00078-b69004f4-d74f-4390-a051-d7d15bc4f710",
    "deepnote_to_be_reexecuted": false,
    "source_hash": "e9b88b98",
    "execution_start": 1634227616902,
    "execution_millis": 275,
    "output_cleared": true,
    "deepnote_cell_type": "code"
   },
   "source": "#scatter plot\nfig = plt.figure(figsize=(6,5))\nax = plt.axes(projection='3d')\n\nx = np.linspace(0, 10, 10)\ny = (x+67)**2\nz = np.cos(x)\n\nax.scatter3D(x,y,z);",
   "execution_count": null,
   "outputs": []
  },
  {
   "cell_type": "markdown",
   "source": "#### Contour, Wireframe, and Surface Plots\n\n**Contour** - Imagine making rings at differing elevations of a surface, then plot the rings\n\n**Wireframe** - Gridded mesh of surface structures\n\n**Surface** - Solid surface plot\n\nEach style has benefits and downsides for representation of data, so I've included them all to make it easy to know the options\n\n**Extra Notes**:\n\n`np.meshgrid` is commonly used in 3d plots. [Meshgrid documentation](https://numpy.org/doc/stable/reference/generated/numpy.meshgrid.html)",
   "metadata": {
    "tags": [],
    "cell_id": "00079-712519f2-111a-4706-9071-c5a2cbd48eec",
    "deepnote_cell_type": "markdown"
   }
  },
  {
   "cell_type": "code",
   "metadata": {
    "tags": [],
    "cell_id": "00079-11a31bd8-3957-4a48-b2bb-d5288fd16e7c",
    "deepnote_to_be_reexecuted": false,
    "source_hash": "fd15ecd1",
    "execution_start": 1634227617169,
    "execution_millis": 398,
    "output_cleared": true,
    "deepnote_cell_type": "code"
   },
   "source": "#this function is commonly used in math classes because it looks fun\ndef f(x, y):\n    return (np.sin(np.sqrt(x**2 + y**2)))\n\n\n#contour plot example\nx = np.linspace(-8, 8, 50)\ny = np.linspace(-8, 8, 50)\n\nX, Y = np.meshgrid(x, y)\nZ = f(X, Y)\n\nfig = plt.figure(figsize=(8,6))\nax = plt.axes(projection='3d')\n\n#4th parameter here indicates the number of elevation rings used\nax.contour3D(X, Y, Z, 30);",
   "execution_count": null,
   "outputs": []
  },
  {
   "cell_type": "code",
   "metadata": {
    "tags": [],
    "cell_id": "00081-410b1c18-d14c-4224-8967-cf4b22929415",
    "deepnote_to_be_reexecuted": false,
    "source_hash": "ca912980",
    "execution_start": 1634227617564,
    "execution_millis": 379,
    "output_cleared": true,
    "deepnote_cell_type": "code"
   },
   "source": "#wireframe example\nx = np.linspace(-8, 8, 50)\ny = np.linspace(-8, 8, 50)\n\nX, Y = np.meshgrid(x, y)\nZ = f(X, Y)\n\nfig = plt.figure(figsize=(8,6))\nax = plt.axes(projection='3d')\n\nax.plot_wireframe(X, Y, Z);",
   "execution_count": null,
   "outputs": []
  },
  {
   "cell_type": "code",
   "metadata": {
    "tags": [],
    "cell_id": "00082-73715f73-ac32-44bd-a55c-c1f66a686c05",
    "deepnote_to_be_reexecuted": false,
    "source_hash": "46785a8",
    "execution_start": 1634227617937,
    "execution_millis": 495,
    "output_cleared": true,
    "deepnote_cell_type": "code"
   },
   "source": "#surface plot example\nx = np.linspace(-8, 8, 50)\ny = np.linspace(-8, 8, 50)\n\nX, Y = np.meshgrid(x, y)\nZ = f(X, Y)\n\nfig = plt.figure(figsize=(8,6))\nax = plt.axes(projection='3d')\n\nax.plot_surface(X, Y, Z);",
   "execution_count": null,
   "outputs": []
  },
  {
   "cell_type": "markdown",
   "source": "<a style='text-decoration:none;line-height:16px;display:flex;color:#5B5B62;padding:10px;justify-content:end;' href='https://deepnote.com?utm_source=created-in-deepnote-cell&projectId=928a4826-6d7d-44bd-b128-d6cd83127a49' target=\"_blank\">\n<img alt='Created in deepnote.com' style='display:inline;max-height:16px;margin:0px;margin-right:7.5px;' src='data:image/svg+xml;base64,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' > </img>\nCreated in <span style='font-weight:600;margin-left:4px;'>Deepnote</span></a>",
   "metadata": {
    "tags": [],
    "created_in_deepnote_cell": true,
    "deepnote_cell_type": "markdown"
   }
  }
 ],
 "nbformat": 4,
 "nbformat_minor": 2,
 "metadata": {
  "orig_nbformat": 2,
  "deepnote": {
   "is_reactive": false
  },
  "deepnote_notebook_id": "389a8016-a2ba-4d95-b7f4-a679da0724a6",
  "deepnote_execution_queue": []
 }
}