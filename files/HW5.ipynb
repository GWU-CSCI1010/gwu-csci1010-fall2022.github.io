{
 "cells": [
  {
   "cell_type": "markdown",
   "source": "# APSC1001 - CS1010 Assignment 5\n### Instructor: \n**Dr. Kartik Bulusu [MAE]**\n\n#### Teaching Assistants: \n**Sara Tenaglio [BME], Catherine Karpova [BME], Zachary Stecher [CE]**\n\n#### Learning Assistants: \n**Ethan Frink [MAE], Alexis Renderos [MAE], Olivia Legault [CS], Jon Terry [CS], Jack Umina [CS]**",
   "metadata": {
    "tags": [],
    "cell_id": "00000-e9416de2-9619-4ff2-8bf6-55792752d3e3",
    "deepnote_cell_type": "markdown"
   }
  },
  {
   "cell_type": "code",
   "metadata": {
    "tags": [],
    "deepnote_to_be_reexecuted": false,
    "source_hash": "ae677139",
    "execution_start": 1634226290832,
    "execution_millis": 270,
    "cell_id": "00001-112696f0-e2cf-4d8b-980b-7f904bd688e2",
    "deepnote_cell_type": "code"
   },
   "source": "#Please use 'Shift+Enter' to execute this cell\nimport numpy as np\nimport pandas as pd\nfrom matplotlib import pyplot as plt\nimport PIL",
   "execution_count": null,
   "outputs": []
  },
  {
   "cell_type": "markdown",
   "source": "Put your team's names in the below cell inside the quotation marks!",
   "metadata": {
    "tags": [],
    "cell_id": "00002-83fcc9f8-4784-42ce-8d17-d471d0cc97d2",
    "deepnote_cell_type": "markdown"
   }
  },
  {
   "cell_type": "code",
   "metadata": {
    "tags": [],
    "deepnote_to_be_reexecuted": false,
    "source_hash": "56ae64e2",
    "execution_start": 1634222693239,
    "execution_millis": 3,
    "cell_id": "00003-62397a53-3660-484c-ab65-7d1089033b01",
    "deepnote_cell_type": "code"
   },
   "source": "#Your names go here!\nname1 = ''\nname2 = ''\nname3 = ''\nname4 = ''\n\nprint('Group member 1 is named ' + name1)\nprint('Group member 2 is named ' + name2)\nprint('Group member 3 is named ' + name3)\n\nif name4 != '':\n    print('Group member 4 is named ' + name4)",
   "execution_count": null,
   "outputs": [
    {
     "name": "stdout",
     "text": "Group member 1 is named \nGroup member 2 is named \nGroup member 3 is named \n",
     "output_type": "stream"
    }
   ]
  },
  {
   "cell_type": "markdown",
   "source": "## Question 1.\n\nWe have provided a homework picture file in the Week5 folder named `HW5.png`, pull this data into a image object named `im` using `PIL.Image.open(FILEPATH)`",
   "metadata": {
    "tags": [],
    "cell_id": "00004-6dad996d-1631-4950-867e-fd119e7a21b8",
    "deepnote_cell_type": "markdown"
   }
  },
  {
   "cell_type": "code",
   "metadata": {
    "tags": [],
    "deepnote_to_be_reexecuted": false,
    "source_hash": "75fe9844",
    "execution_start": 1634227149717,
    "execution_millis": 4,
    "cell_id": "00005-feeafe22-678d-44fa-8c8b-0f627210f4d0",
    "deepnote_cell_type": "code"
   },
   "source": "#Your code here!",
   "execution_count": null,
   "outputs": []
  },
  {
   "cell_type": "markdown",
   "source": "## Question 2. \n\nConvert the image object to grayscale using `im.convert('L')` and save this once again as `im`. Then use `np.array(im, dtype='int16')` to save this object to a numpy array named `HW5_pic`",
   "metadata": {
    "tags": [],
    "cell_id": "00006-407c5d49-3e5d-4432-b3c3-d76ff9ee9898",
    "deepnote_cell_type": "markdown"
   }
  },
  {
   "cell_type": "code",
   "metadata": {
    "tags": [],
    "deepnote_to_be_reexecuted": false,
    "source_hash": "75fe9844",
    "execution_start": 1634227156676,
    "execution_millis": 1,
    "cell_id": "00007-87138d46-8fd4-4331-a189-67bab6877bb9",
    "deepnote_cell_type": "code"
   },
   "source": "#Your code here!",
   "execution_count": null,
   "outputs": []
  },
  {
   "cell_type": "markdown",
   "source": "## Question 3. \n\n1. Set up a 1x1 subplot using `fig, ax = plt.subplots(figsize=(WIDTH, HEIGHT))`. Choose a figsize that looks good!\n\n2. Set a title for your image: \"Homework 5 Grayscale\"\n\n3. Use `.imshow()` and an appropriate axis and cmap to show the grayscale image with matplotlib",
   "metadata": {
    "tags": [],
    "cell_id": "00008-14072a1f-3503-4c0c-affc-9a0069d1d157",
    "deepnote_cell_type": "markdown"
   }
  },
  {
   "cell_type": "code",
   "metadata": {
    "tags": [],
    "deepnote_to_be_reexecuted": false,
    "source_hash": "75fe9844",
    "execution_start": 1634227160077,
    "execution_millis": 5,
    "cell_id": "00009-c8f51ebb-3071-448c-8b33-4756614d7923",
    "deepnote_cell_type": "code"
   },
   "source": "#Your code here!",
   "execution_count": null,
   "outputs": []
  },
  {
   "cell_type": "markdown",
   "source": "## Question 4. \n\nSet up an input for a key using Option 1 from the Demo5-Guide. Save the key to `k`. Give the value of 168 to the input",
   "metadata": {
    "tags": [],
    "cell_id": "00010-1e00c465-1407-4001-92c8-bc5350d269c2",
    "deepnote_cell_type": "markdown"
   }
  },
  {
   "cell_type": "code",
   "metadata": {
    "tags": [],
    "deepnote_to_be_reexecuted": false,
    "source_hash": "75fe9844",
    "execution_start": 1634227164944,
    "execution_millis": 0,
    "cell_id": "00011-f8a45d5a-a3cc-458d-bddb-f4bd46bd4b16",
    "deepnote_cell_type": "code"
   },
   "source": "#Your code here!",
   "execution_count": null,
   "outputs": []
  },
  {
   "cell_type": "markdown",
   "source": "## Question 5. \n\nRun the encryption code we have provided, then show the encrypted image",
   "metadata": {
    "tags": [],
    "cell_id": "00011-bccd5574-99f3-4b97-af2a-509c98a98f8b",
    "deepnote_cell_type": "markdown"
   }
  },
  {
   "cell_type": "code",
   "metadata": {
    "tags": [],
    "cell_id": "00013-6a716adf-dba8-4bbd-b672-9de40ab2d35c",
    "deepnote_to_be_reexecuted": false,
    "source_hash": "d52d3edc",
    "execution_start": 1635431844934,
    "execution_millis": 178,
    "output_cleared": true,
    "deepnote_cell_type": "code"
   },
   "source": "for i in range(HW5_pic.shape[0]):\n    for j in range(HW5_pic.shape[1]):\n        HW5_pic[i][j] = (HW5_pic[i][j] + k) % 256 \n\n#Your code here!",
   "execution_count": null,
   "outputs": []
  },
  {
   "cell_type": "markdown",
   "source": "## Question 6. \n\nUse the nested for-loop method to decrypt the image. Then use the code we have provided to show the decrypted image. \n\n**Hint**: your image should match the initial image you showed in Question 3. If it doesn't, try clicking the **Run Notebook** button on the top right to refresh. You will need to enter 168 again in Question 4. ",
   "metadata": {
    "tags": [],
    "cell_id": "00013-79ae4412-0b09-4aca-99fc-34cfba730525",
    "deepnote_cell_type": "markdown"
   }
  },
  {
   "cell_type": "code",
   "metadata": {
    "tags": [],
    "cell_id": "00015-449427cf-9d0f-4ed3-a4d4-f860983e83be",
    "deepnote_to_be_reexecuted": false,
    "source_hash": "c3c88310",
    "execution_start": 1635432396213,
    "execution_millis": 10,
    "output_cleared": true,
    "deepnote_cell_type": "code"
   },
   "source": "#Your code here!\n\nfig, ax = plt.subplots(figsize=(10, 5))\nax.set_title('The Decrypted Image', fontsize=10)\nax.imshow(HW5_pic, cmap='gray')",
   "execution_count": null,
   "outputs": []
  },
  {
   "cell_type": "markdown",
   "source": "## Question 7. \n\n#### Conceptual question - No Code!\n\nIs the encryption weak or strong? \n\nHow could you improve the strength of the encryption?",
   "metadata": {
    "tags": [],
    "cell_id": "00015-bca6a834-cd69-488b-925b-e180c0f1f010",
    "deepnote_cell_type": "markdown"
   }
  },
  {
   "cell_type": "markdown",
   "source": "Double-click this block to begin typing. Shift-enter when finished",
   "metadata": {
    "tags": [],
    "cell_id": "00016-504b86c9-910f-4234-bd72-6357080e43a9",
    "deepnote_cell_type": "markdown"
   }
  },
  {
   "cell_type": "markdown",
   "source": "## Congrats!!\n You completed your 5th Python Assignment in APSC 1001/CS 1010! Give yourself a round of applause!!",
   "metadata": {
    "tags": [],
    "cell_id": "00012-02ed5c11-93de-48c0-907c-e69c82903829",
    "deepnote_cell_type": "markdown"
   }
  },
  {
   "cell_type": "markdown",
   "source": "<a style='text-decoration:none;line-height:16px;display:flex;color:#5B5B62;padding:10px;justify-content:end;' href='https://deepnote.com?utm_source=created-in-deepnote-cell&projectId=928a4826-6d7d-44bd-b128-d6cd83127a49' target=\"_blank\">\n<img alt='Created in deepnote.com' style='display:inline;max-height:16px;margin:0px;margin-right:7.5px;' src='data:image/svg+xml;base64,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' > </img>\nCreated in <span style='font-weight:600;margin-left:4px;'>Deepnote</span></a>",
   "metadata": {
    "tags": [],
    "created_in_deepnote_cell": true,
    "deepnote_cell_type": "markdown"
   }
  }
 ],
 "nbformat": 4,
 "nbformat_minor": 2,
 "metadata": {
  "orig_nbformat": 2,
  "deepnote": {
   "is_reactive": false
  },
  "deepnote_notebook_id": "960fd565-1788-4714-9a84-671ca5e3fcb2",
  "deepnote_execution_queue": []
 }
}