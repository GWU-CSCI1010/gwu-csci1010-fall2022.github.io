{
 "cells": [
  {
   "cell_type": "code",
   "metadata": {
    "tags": [],
    "cell_id": "00000-1dc90f94-8442-4bbc-abce-8f7fc961c306",
    "deepnote_to_be_reexecuted": false,
    "source_hash": "31c431a8",
    "execution_start": 1636127119375,
    "execution_millis": 901,
    "deepnote_cell_type": "code"
   },
   "source": "# Start writing code here...\nimport numpy as np\nimport matplotlib.pyplot as plt",
   "outputs": [],
   "execution_count": null
  },
  {
   "cell_type": "code",
   "source": "Drivers = ['Driver1', 'Driver2', 'Driver3', 'Driver4', 'Driver5', 'Driver6', 'Driver7', 'Driver8', 'Driver9', 'Driver10', 'Driver11', 'Driver12', 'Driver13', 'Driver14', 'Driver15', 'Driver16']\nprint(\"Driver #: \", Drivers)\nprint('')\n\nRPM_data = np.array([300, 300, 288, 300, 288, 312, 288, 322, 288, 312, 300, 288, 300, 300, 300, 288])\nprint(\"RPM_ARRAY: \", RPM_data)\nprint('')",
   "metadata": {
    "tags": [],
    "cell_id": "00001-b02eb474-42f2-4480-8ef3-7ecdd59dbb6d",
    "deepnote_to_be_reexecuted": false,
    "source_hash": "18c21525",
    "execution_start": 1636127121323,
    "execution_millis": 8,
    "deepnote_cell_type": "code"
   },
   "outputs": [
    {
     "name": "stdout",
     "text": "Driver #:  ['Driver1', 'Driver2', 'Driver3', 'Driver4', 'Driver5', 'Driver6', 'Driver7', 'Driver8', 'Driver9', 'Driver10', 'Driver11', 'Driver12', 'Driver13', 'Driver14', 'Driver15', 'Driver16']\n\nRPM_ARRAY:  [300 300 288 300 288 312 288 322 288 312 300 288 300 300 300 288]\n\n",
     "output_type": "stream"
    }
   ],
   "execution_count": null
  },
  {
   "cell_type": "code",
   "source": "np.shape(Drivers)\n#np.shape(RPM_data)\n",
   "metadata": {
    "tags": [],
    "cell_id": "00002-5f38bfda-5ff2-48de-9793-7c9a8ebfc2ee",
    "deepnote_to_be_reexecuted": false,
    "source_hash": "fe6838ad",
    "execution_start": 1636127179494,
    "execution_millis": 4,
    "deepnote_cell_type": "code"
   },
   "outputs": [
    {
     "output_type": "execute_result",
     "execution_count": 8,
     "data": {
      "text/plain": "(16,)"
     },
     "metadata": {}
    }
   ],
   "execution_count": null
  },
  {
   "cell_type": "code",
   "source": "average = np.mean(RPM_data)\nprint('The average value of the array is: {}'.format(average))\n\nmed = np.median(RPM_data)\nprint('The median of the array is: {}'.format(med))\n\nmax_value = np.max(RPM_data)\nprint('The maximum value of the array is: {}'.format(max_value))\n\nmin_value = np.min(RPM_data)\nprint('The minimum value of the array is: {}'.format(min_value))\n\nsample_stdev = np.std(RPM_data, ddof =1)\nprint('The Standard Deviation of the array is: {}'.format(sample_stdev))",
   "metadata": {
    "tags": [],
    "cell_id": "00002-1904d5e1-4780-41a1-a2c6-666e986007c6",
    "deepnote_to_be_reexecuted": false,
    "source_hash": "eb64d7c6",
    "execution_start": 1636127703006,
    "execution_millis": 23,
    "deepnote_cell_type": "code"
   },
   "outputs": [
    {
     "name": "stdout",
     "text": "The average value of the array is: 298.375\nThe median of the array is: 300.0\nThe maximum value of the array is: 322\nThe minimum value of the array is: 288\nThe Standard Deviation of the array is: 10.307764064044152\n",
     "output_type": "stream"
    }
   ],
   "execution_count": null
  },
  {
   "cell_type": "code",
   "source": "fig, ax = plt.subplots(figsize=(10,6))\n\nax.axhline(y=np.mean(RPM_data), color ='red')\nax.axhline(y=np.mean(RPM_data)+sample_stdev, linewidth=2, color='magenta', linestyle='dashed')\nax.axhline(y=np.mean(RPM_data)-sample_stdev, linewidth=2, color='magenta', linestyle='dashed')\n\nax.bar(Drivers, RPM_data, facecolor='b', alpha=0.75)\nax.grid()\nax.set_title('The recorded RPM for the class')\nax.set_xlabel('Driver #')\nax.set_ylabel('RPM measured using the senseHAT')",
   "metadata": {
    "tags": [],
    "cell_id": "00004-628a7b42-89de-48de-bbb3-fcd07cfa05ca",
    "deepnote_to_be_reexecuted": false,
    "source_hash": "f19b15bf",
    "execution_start": 1636127728407,
    "execution_millis": 343,
    "deepnote_cell_type": "code"
   },
   "outputs": [
    {
     "output_type": "execute_result",
     "execution_count": 16,
     "data": {
      "text/plain": "Text(0, 0.5, 'RPM measured using the senseHAT')"
     },
     "metadata": {}
    },
    {
     "data": {
      "text/plain": "<Figure size 720x432 with 1 Axes>",
      "image/png": "[encoded data removed]"
     },
     "metadata": {
      "needs_background": "light",
      "image/png": {
       "width": 612,
       "height": 387
      }
     },
     "output_type": "display_data"
    }
   ],
   "execution_count": null
  },
  {
   "cell_type": "code",
   "source": "",
   "metadata": {
    "tags": [],
    "cell_id": "00005-d42c1e50-fc30-4f6b-98d8-ccf62bcffcc5",
    "deepnote_cell_type": "code"
   },
   "outputs": [],
   "execution_count": null
  },
  {
   "cell_type": "markdown",
   "source": "<a style='text-decoration:none;line-height:16px;display:flex;color:#5B5B62;padding:10px;justify-content:end;' href='https://deepnote.com?utm_source=created-in-deepnote-cell&projectId=3f59eacf-3c7e-4379-b355-85b954cffa62' target=\"_blank\">\n<img alt='Created in deepnote.com' style='display:inline;max-height:16px;margin:0px;margin-right:7.5px;' src='data:image/svg+xml;base64,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' > </img>\nCreated in <span style='font-weight:600;margin-left:4px;'>Deepnote</span></a>",
   "metadata": {
    "tags": [],
    "created_in_deepnote_cell": true,
    "deepnote_cell_type": "markdown"
   }
  }
 ],
 "nbformat": 4,
 "nbformat_minor": 2,
 "metadata": {
  "orig_nbformat": 2,
  "deepnote": {
   "is_reactive": false
  },
  "deepnote_notebook_id": "ffd728ba-235a-4dbb-a025-af22d28f5c3c",
  "deepnote_execution_queue": []
 }
}