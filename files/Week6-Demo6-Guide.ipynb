{
 "cells": [
  {
   "cell_type": "markdown",
   "source": "# APSC 1001 - CS 1010\n# Week 6 - Cordless Screwdriver Data Analysis\n    \n### Instructor: \n**Dr. Kartik Bulusu [MAE]**\n\n#### Teaching Assistants: \n**Sara Tenaglio [BME], Catherine Karpova [BME], Zachary Stecher [CE]**\n\n#### Learning Assistants: \n**Ethan Frink [MAE], Alexis Renderos [MAE], Olivia Legault [CS], Jon Terry [CS], Jack Umina [CS]**\n\n\nIf you have any questions regarding Python, please feel free to send a slack message or email to a member of the teaching team or come to office hours! We are happy to help!!",
   "metadata": {
    "tags": [],
    "cell_id": "00000-6e958ff4-e8dc-4663-b3bb-0f3e60c4e0b9",
    "deepnote_cell_type": "markdown"
   }
  },
  {
   "cell_type": "markdown",
   "source": "Let's start by importing our favorite friends as always going forward in this class: **numpy**, **matplotlib**, and **pandas**",
   "metadata": {
    "tags": [],
    "cell_id": "00001-455f3328-2075-4e7c-acbc-9ff06dcc6774",
    "deepnote_cell_type": "markdown"
   }
  },
  {
   "cell_type": "code",
   "metadata": {
    "tags": [],
    "deepnote_to_be_reexecuted": false,
    "source_hash": "e4a0c7a1",
    "execution_start": 1636126677303,
    "execution_millis": 400,
    "output_cleared": false,
    "cell_id": "00002-2e4dfa12-0323-4944-a05f-be4a50073a8e",
    "deepnote_cell_type": "code"
   },
   "source": "import numpy as np\nfrom matplotlib import pyplot as plt\nimport pandas as pd",
   "outputs": [],
   "execution_count": null
  },
  {
   "cell_type": "markdown",
   "source": "## Data from a Google Form to Python!\nWe are going to work with data from a google form today!\n\nHere is the [link to the form](https://docs.google.com/forms/d/e/1FAIpQLSeUCEX8HM6WoIWI9fZqrz0wafTbaBM77GI9fxpKC3sRB3auVg/viewform?usp=sf_link) to fill out your data if you haven't yet!\n\n\nHere is the [link to the spreadsheet](https://docs.google.com/spreadsheets/d/1Lw9AFCTaDaucbENfnL8iBvrLjs7ULtZPxp2gx9wiKv8/edit?usp=sharing) that collects everyone's data!\n\nFirst we are going to establish a walk through the parts that will be used in our big function",
   "metadata": {
    "tags": [],
    "cell_id": "00003-4a5d913f-4a28-4615-b932-7190a3aeee7a",
    "deepnote_cell_type": "markdown"
   }
  },
  {
   "cell_type": "markdown",
   "source": "### Introduction to Python functions\n\nA function is a block of code that does something. It takes in arguments and gives back returns. Think of arguments as the ingredients, the function and the cooking, and the returns as the food you made. \n\nTo establish a function in python, use `def function_name(arg1, arg2, ...., argN):`\n\nTo return an output from your function use `return()`",
   "metadata": {
    "tags": [],
    "cell_id": "00004-ab40aa20-11d3-4375-96e7-ca3df7f9a826",
    "deepnote_cell_type": "markdown"
   }
  },
  {
   "cell_type": "code",
   "metadata": {
    "tags": [],
    "cell_id": "00004-f6b1fe9b-683c-4a28-aba0-225c8169cb35",
    "deepnote_to_be_reexecuted": false,
    "source_hash": "333dfc1c",
    "execution_start": 1636126677713,
    "execution_millis": 6,
    "deepnote_cell_type": "code"
   },
   "source": "def my_function(x):\n    return(x+7)",
   "outputs": [],
   "execution_count": null
  },
  {
   "cell_type": "markdown",
   "source": "This is where we call the function. Just as we did with any other function in Python using the `()`",
   "metadata": {
    "tags": [],
    "cell_id": "00006-90903287-899d-4d32-93bb-e78eb91f2947",
    "deepnote_cell_type": "markdown"
   }
  },
  {
   "cell_type": "code",
   "metadata": {
    "tags": [],
    "cell_id": "00006-12f5bfc8-f94b-41a8-b363-95beedc80f94",
    "deepnote_to_be_reexecuted": false,
    "source_hash": "540d5123",
    "execution_start": 1636126677721,
    "execution_millis": 3,
    "deepnote_cell_type": "code"
   },
   "source": "y = my_function(8)\nprint(y)",
   "outputs": [
    {
     "name": "stdout",
     "text": "15\n",
     "output_type": "stream"
    }
   ],
   "execution_count": null
  },
  {
   "cell_type": "markdown",
   "source": "We can also use multiple arguments to a function. Here is an example of that",
   "metadata": {
    "tags": [],
    "cell_id": "00008-cbf7da60-695d-492f-854a-d277348ee247",
    "deepnote_cell_type": "markdown"
   }
  },
  {
   "cell_type": "code",
   "metadata": {
    "tags": [],
    "cell_id": "00009-2f01bcc9-e3db-4ca5-8652-0fe095773828",
    "deepnote_to_be_reexecuted": false,
    "source_hash": "8965d10d",
    "execution_start": 1636126677732,
    "execution_millis": 1237440,
    "deepnote_cell_type": "code"
   },
   "source": "def my_func2(s, t):\n    q = s + 7*t\n    return(q)",
   "outputs": [],
   "execution_count": null
  },
  {
   "cell_type": "code",
   "metadata": {
    "tags": [],
    "cell_id": "00010-7817391c-1b49-4313-8dbf-8d6bbcce8375",
    "deepnote_to_be_reexecuted": false,
    "source_hash": "34beb8c8",
    "execution_start": 1636126677764,
    "execution_millis": 0,
    "deepnote_cell_type": "code"
   },
   "source": "print(my_func2(10, 41))",
   "outputs": [
    {
     "name": "stdout",
     "text": "297\n",
     "output_type": "stream"
    }
   ],
   "execution_count": null
  },
  {
   "cell_type": "markdown",
   "source": "### Other useful tools we will use in our processing",
   "metadata": {
    "tags": [],
    "is_collapsed": false,
    "cell_id": "00011-780b3f3a-bd2e-4fa5-8f72-14a85315b2af",
    "deepnote_cell_type": "text-cell-h3"
   }
  },
  {
   "cell_type": "markdown",
   "source": "#### Introduction to the `STRING.index(SUBSTRING)` method\n\nWe can pull the index, or location, of a substring in a string using the `.index` method. Let's explore that!",
   "metadata": {
    "tags": [],
    "cell_id": "00011-a9ee01e7-ec16-471f-8d96-41d0ca807b20",
    "deepnote_cell_type": "markdown"
   }
  },
  {
   "cell_type": "code",
   "metadata": {
    "tags": [],
    "cell_id": "00011-d7464046-9d5f-4a3c-ba94-5e6fd966ad8f",
    "deepnote_to_be_reexecuted": false,
    "source_hash": "57a5e065",
    "execution_start": 1636126677765,
    "execution_millis": 5,
    "deepnote_cell_type": "code"
   },
   "source": "my_string = 'Happy Birthday to You!'\n\nsection = 'irthd'\n\nx = my_string.index(section)\nprint(x)\n\n#show the section following the index\nprint(my_string[x:])",
   "outputs": [
    {
     "name": "stdout",
     "text": "7\nirthday to You!\n",
     "output_type": "stream"
    }
   ],
   "execution_count": null
  },
  {
   "cell_type": "markdown",
   "source": "#### Introduction to the `STRING.format()` method\n\nWe can put information into a string in certain places using the `.format()` method. This makes a lot more sense in practice, so let's try it out",
   "metadata": {
    "tags": [],
    "cell_id": "00012-2e360527-8a1c-4b5e-8f10-ca3f3c7c2bd3",
    "deepnote_cell_type": "markdown"
   }
  },
  {
   "cell_type": "code",
   "metadata": {
    "tags": [],
    "cell_id": "00014-da5ab24f-c1f5-4d3c-aebe-1805fac8fc99",
    "deepnote_to_be_reexecuted": false,
    "source_hash": "bd7dcac0",
    "execution_start": 1636126677765,
    "execution_millis": 5,
    "deepnote_cell_type": "code"
   },
   "source": "my_string2 = 'I am a string with curly braces here: {} and I keep going!'\n\nprint(my_string2.format(2))\n\n#It updates the curly braces to contain the value specified. This can also be a string!\nprint(my_string2.format('Hello!'))\n\n#And it can be a variable!\nx = 10 + 8\nprint(my_string2.format(x))",
   "outputs": [
    {
     "name": "stdout",
     "text": "I am a string with curly braces here: 2 and I keep going!\nI am a string with curly braces here: Hello! and I keep going!\nI am a string with curly braces here: 18 and I keep going!\n",
     "output_type": "stream"
    }
   ],
   "execution_count": null
  },
  {
   "cell_type": "code",
   "metadata": {
    "tags": [],
    "cell_id": "00015-d0a88552-6c08-4d67-bebd-1f03ae9b06eb",
    "deepnote_to_be_reexecuted": false,
    "source_hash": "e8772cce",
    "execution_start": 1636126677774,
    "execution_millis": 1,
    "deepnote_cell_type": "code"
   },
   "source": "#and it works with multiple variables!\nmy_string3 = 'I now have {} sets of braces in my string {}'\nprint(my_string3.format(2, 9))",
   "outputs": [
    {
     "name": "stdout",
     "text": "I now have 2 sets of braces in my string 9\n",
     "output_type": "stream"
    }
   ],
   "execution_count": null
  },
  {
   "cell_type": "markdown",
   "source": "### The Google Sheet Processing Function",
   "metadata": {
    "tags": [],
    "cell_id": "00017-d6d0ab55-996a-4f33-99ca-2aa6b54e0c8e",
    "deepnote_cell_type": "markdown"
   }
  },
  {
   "cell_type": "markdown",
   "source": "Now we will define our function for the google sheet reading\n\nWe will take in the URL of the google sheet, convert the stored file to the csv file, and then use the `pd.read_csv(FILE)` we have seen in the previous classes",
   "metadata": {
    "tags": [],
    "cell_id": "00008-60249dc8-e08a-4c32-9876-a84ecdf5677a",
    "deepnote_cell_type": "markdown"
   }
  },
  {
   "cell_type": "code",
   "metadata": {
    "tags": [],
    "cell_id": "00007-8910f48d-87bd-412e-8d65-a2b907ea1910",
    "deepnote_to_be_reexecuted": false,
    "source_hash": "2f2c92f4",
    "execution_start": 1636126677819,
    "execution_millis": 2,
    "deepnote_cell_type": "code"
   },
   "source": "def google_sheets_dataframe(URL, file_name):\n    '''\n    This is called the docstring, it explains what the function does\n    Using the help(function_name) pulls up the docstring for the function! Try it out\n\n    This function pulls data from a google spreadsheet into a pandas dataframe by first converting it to a csv file\n\n    Arguments: \n    URL = string form of the url to the google spreadsheet\n    file_name = name of the file on the drive\n\n    Returns: Pandas Dataframe of the contents from the sheet\n    '''\n\n    #first we slice the information from the URL that indicates the unique form we are working with\n    #this information is stored in the URL between the .../d/ and the /edit... \n    \n    #in order to pull this region, we use the STRING.index(SUBSTRING) to return the index associated with the substring\n    id1 = URL.index('/d/') + 3\n    #the +3 here accomodates for the length of this substring '/d/'\n    id2 = URL.index('/edit')\n\n    gsheet_id = URL[id1:id2]\n\n    #now we will use the STRING.format(variables) to update a special string with our gsheet_id and sheet_name\n    gsheet_string = 'https://docs.google.com/spreadsheets/d/{}/gviz/tq?tqx=out:csv&sheet={}'\n    #this special string converts the data in the sheet to a csv file for us when given the appropriate parameters\n    gsheet_csv = gsheet_string.format(gsheet_id, file_name)\n\n    #and now like normal we will use the pd.read_csv(FILE) to convert a csv file to a pandas dataframe\n    df = pd.read_csv(gsheet_csv)\n\n    return(df)\n",
   "outputs": [],
   "execution_count": null
  },
  {
   "cell_type": "markdown",
   "source": "This URL is coming from the spreadsheet linked above and also here:\n'https://docs.google.com/spreadsheets/d/1Lw9AFCTaDaucbENfnL8iBvrLjs7ULtZPxp2gx9wiKv8/edit#gid=1114288647'\n\nThe name of the file when opened is 'Week6_ScrewdriverData' so we paste that in too",
   "metadata": {
    "tags": [],
    "cell_id": "00018-72ddcb75-8335-4f10-8b21-eaef7dd667b1",
    "deepnote_cell_type": "markdown"
   }
  },
  {
   "cell_type": "code",
   "metadata": {
    "tags": [],
    "cell_id": "00013-19d7161c-f333-4460-8705-74fee4f28352",
    "deepnote_to_be_reexecuted": false,
    "source_hash": "ecb22662",
    "execution_start": 1636126677820,
    "execution_millis": 258,
    "deepnote_cell_type": "code"
   },
   "source": "url = 'https://docs.google.com/spreadsheets/d/1Lw9AFCTaDaucbENfnL8iBvrLjs7ULtZPxp2gx9wiKv8/edit#gid=1114288647'\nname = 'Week6_ScrewdriverData'\nmy_data = google_sheets_dataframe(url, name)\n\ndisplay(my_data)",
   "outputs": [
    {
     "data": {
      "application/vnd.deepnote.dataframe.v2+json": {
       "row_count": 7,
       "column_count": 3,
       "columns": [
        {
         "name": "Timestamp",
         "dtype": "object",
         "stats": {
          "unique_count": 6,
          "nan_count": 0,
          "categories": [
           {
            "name": "11/4/2021 16:20:06",
            "count": 2
           },
           {
            "name": "11/4/2021 16:19:36",
            "count": 1
           },
           {
            "name": "4 others",
            "count": 4
           }
          ]
         }
        },
        {
         "name": "Group Number ",
         "dtype": "int64",
         "stats": {
          "unique_count": 4,
          "nan_count": 0,
          "min": "0",
          "max": "9",
          "histogram": [
           {
            "bin_start": 0,
            "bin_end": 0.9,
            "count": 4
           },
           {
            "bin_start": 0.9,
            "bin_end": 1.8,
            "count": 0
           },
           {
            "bin_start": 1.8,
            "bin_end": 2.7,
            "count": 0
           },
           {
            "bin_start": 2.7,
            "bin_end": 3.6,
            "count": 0
           },
           {
            "bin_start": 3.6,
            "bin_end": 4.5,
            "count": 1
           },
           {
            "bin_start": 4.5,
            "bin_end": 5.4,
            "count": 0
           },
           {
            "bin_start": 5.4,
            "bin_end": 6.3,
            "count": 0
           },
           {
            "bin_start": 6.3,
            "bin_end": 7.2,
            "count": 1
           },
           {
            "bin_start": 7.2,
            "bin_end": 8.1,
            "count": 0
           },
           {
            "bin_start": 8.1,
            "bin_end": 9,
            "count": 1
           }
          ]
         }
        },
        {
         "name": "Measured Revoultions per Minute (RPM)",
         "dtype": "int64",
         "stats": {
          "unique_count": 5,
          "nan_count": 0,
          "min": "28",
          "max": "300",
          "histogram": [
           {
            "bin_start": 28,
            "bin_end": 55.2,
            "count": 3
           },
           {
            "bin_start": 55.2,
            "bin_end": 82.4,
            "count": 1
           },
           {
            "bin_start": 82.4,
            "bin_end": 109.6,
            "count": 0
           },
           {
            "bin_start": 109.6,
            "bin_end": 136.8,
            "count": 0
           },
           {
            "bin_start": 136.8,
            "bin_end": 164,
            "count": 0
           },
           {
            "bin_start": 164,
            "bin_end": 191.2,
            "count": 0
           },
           {
            "bin_start": 191.2,
            "bin_end": 218.4,
            "count": 0
           },
           {
            "bin_start": 218.4,
            "bin_end": 245.6,
            "count": 0
           },
           {
            "bin_start": 245.6,
            "bin_end": 272.79999999999995,
            "count": 0
           },
           {
            "bin_start": 272.79999999999995,
            "bin_end": 300,
            "count": 3
           }
          ]
         }
        },
        {
         "name": "_deepnote_index_column",
         "dtype": "int64"
        }
       ],
       "rows_top": [
        {
         "Timestamp": "11/4/2021 16:19:36",
         "Group Number ": 0,
         "Measured Revoultions per Minute (RPM)": 47,
         "_deepnote_index_column": 0
        },
        {
         "Timestamp": "11/4/2021 16:20:06",
         "Group Number ": 0,
         "Measured Revoultions per Minute (RPM)": 28,
         "_deepnote_index_column": 1
        },
        {
         "Timestamp": "11/4/2021 16:20:06",
         "Group Number ": 0,
         "Measured Revoultions per Minute (RPM)": 28,
         "_deepnote_index_column": 2
        },
        {
         "Timestamp": "11/5/2021 10:48:00",
         "Group Number ": 0,
         "Measured Revoultions per Minute (RPM)": 78,
         "_deepnote_index_column": 3
        },
        {
         "Timestamp": "11/5/2021 11:12:31",
         "Group Number ": 7,
         "Measured Revoultions per Minute (RPM)": 288,
         "_deepnote_index_column": 4
        },
        {
         "Timestamp": "11/5/2021 11:34:13",
         "Group Number ": 9,
         "Measured Revoultions per Minute (RPM)": 288,
         "_deepnote_index_column": 5
        },
        {
         "Timestamp": "11/5/2021 11:36:00",
         "Group Number ": 4,
         "Measured Revoultions per Minute (RPM)": 300,
         "_deepnote_index_column": 6
        }
       ],
       "rows_bottom": null
      },
      "text/plain": "            Timestamp  Group Number   Measured Revoultions per Minute (RPM)\n0  11/4/2021 16:19:36              0                                     47\n1  11/4/2021 16:20:06              0                                     28\n2  11/4/2021 16:20:06              0                                     28\n3  11/5/2021 10:48:00              0                                     78\n4  11/5/2021 11:12:31              7                                    288\n5  11/5/2021 11:34:13              9                                    288\n6  11/5/2021 11:36:00              4                                    300",
      "text/html": "<div>\n<style scoped>\n    .dataframe tbody tr th:only-of-type {\n        vertical-align: middle;\n    }\n\n    .dataframe tbody tr th {\n        vertical-align: top;\n    }\n\n    .dataframe thead th {\n        text-align: right;\n    }\n</style>\n<table border=\"1\" class=\"dataframe\">\n  <thead>\n    <tr style=\"text-align: right;\">\n      <th></th>\n      <th>Timestamp</th>\n      <th>Group Number</th>\n      <th>Measured Revoultions per Minute (RPM)</th>\n    </tr>\n  </thead>\n  <tbody>\n    <tr>\n      <th>0</th>\n      <td>11/4/2021 16:19:36</td>\n      <td>0</td>\n      <td>47</td>\n    </tr>\n    <tr>\n      <th>1</th>\n      <td>11/4/2021 16:20:06</td>\n      <td>0</td>\n      <td>28</td>\n    </tr>\n    <tr>\n      <th>2</th>\n      <td>11/4/2021 16:20:06</td>\n      <td>0</td>\n      <td>28</td>\n    </tr>\n    <tr>\n      <th>3</th>\n      <td>11/5/2021 10:48:00</td>\n      <td>0</td>\n      <td>78</td>\n    </tr>\n    <tr>\n      <th>4</th>\n      <td>11/5/2021 11:12:31</td>\n      <td>7</td>\n      <td>288</td>\n    </tr>\n    <tr>\n      <th>5</th>\n      <td>11/5/2021 11:34:13</td>\n      <td>9</td>\n      <td>288</td>\n    </tr>\n    <tr>\n      <th>6</th>\n      <td>11/5/2021 11:36:00</td>\n      <td>4</td>\n      <td>300</td>\n    </tr>\n  </tbody>\n</table>\n</div>"
     },
     "metadata": {},
     "output_type": "display_data"
    }
   ],
   "execution_count": null
  },
  {
   "cell_type": "markdown",
   "source": "### Clean up our data!\n\n1. Update our column names\n\n2. Remove duplicates\n\n3. Reorder our data by group number from lowest to highest\n\n4. Convert our data into numpy arrays!",
   "metadata": {
    "tags": [],
    "cell_id": "00020-5ab6b38a-2ea5-4788-be98-bcf286503736",
    "deepnote_cell_type": "markdown"
   }
  },
  {
   "cell_type": "markdown",
   "source": "#### Step 1. Change the column names to something we can work with easily\n\nTo do this, we can bring back a friend from week 3 to update the columns of a pandas frame\n\n`DF.columns = COLUMN_NAMES_LIST`",
   "metadata": {
    "tags": [],
    "cell_id": "00023-41239105-8162-44dc-86a6-16bd47cd6007",
    "deepnote_cell_type": "markdown"
   }
  },
  {
   "cell_type": "code",
   "metadata": {
    "tags": [],
    "cell_id": "00014-cfc14eb0-0cf9-47f1-a020-407f1d60bcba",
    "deepnote_to_be_reexecuted": false,
    "source_hash": "5e4790b5",
    "execution_start": 1636126678077,
    "execution_millis": 5,
    "deepnote_cell_type": "code"
   },
   "source": "my_data.columns = ['Timestamp', 'Group Num', 'RPM']",
   "outputs": [],
   "execution_count": null
  },
  {
   "cell_type": "markdown",
   "source": "#### Step 2. Drop duplicated group entries\n\nWe want to make sure that if a group filled out the form more than once, they only appear once. In order to do this, we will keep the last instance of data recorded for them. \n\nNow we will use `df.drop_duplicates(subset=[COLUMN_NAME], keep='last')` for our processing. This has a lot of parts so let's break it down\n\n\nFirst `df.drop_duplicates(subset=[])` will remove identical parts of a section of a frame for that subset. In this case we will give it the column 'Group Num' to be our check. \n\nWe want to keep the last instance that appears. This is the `keep='last'` argument\n\n",
   "metadata": {
    "tags": [],
    "cell_id": "00024-eeb3d856-b4ee-4a62-a43d-a84004cc6c44",
    "deepnote_cell_type": "markdown"
   }
  },
  {
   "cell_type": "code",
   "metadata": {
    "tags": [],
    "cell_id": "00024-96eee480-b116-4ecb-90e8-65d659eb51a0",
    "deepnote_to_be_reexecuted": false,
    "source_hash": "15b5929e",
    "execution_start": 1636126678134,
    "execution_millis": 4,
    "deepnote_cell_type": "code"
   },
   "source": "my_clean_data = my_data.drop_duplicates(subset=['Group Num'], keep='last')\ndisplay(my_clean_data)",
   "outputs": [
    {
     "data": {
      "application/vnd.deepnote.dataframe.v2+json": {
       "row_count": 4,
       "column_count": 3,
       "columns": [
        {
         "name": "Timestamp",
         "dtype": "object",
         "stats": {
          "unique_count": 4,
          "nan_count": 0,
          "categories": [
           {
            "name": "11/5/2021 10:48:00",
            "count": 1
           },
           {
            "name": "11/5/2021 11:12:31",
            "count": 1
           },
           {
            "name": "2 others",
            "count": 2
           }
          ]
         }
        },
        {
         "name": "Group Num",
         "dtype": "int64",
         "stats": {
          "unique_count": 4,
          "nan_count": 0,
          "min": "0",
          "max": "9",
          "histogram": [
           {
            "bin_start": 0,
            "bin_end": 0.9,
            "count": 1
           },
           {
            "bin_start": 0.9,
            "bin_end": 1.8,
            "count": 0
           },
           {
            "bin_start": 1.8,
            "bin_end": 2.7,
            "count": 0
           },
           {
            "bin_start": 2.7,
            "bin_end": 3.6,
            "count": 0
           },
           {
            "bin_start": 3.6,
            "bin_end": 4.5,
            "count": 1
           },
           {
            "bin_start": 4.5,
            "bin_end": 5.4,
            "count": 0
           },
           {
            "bin_start": 5.4,
            "bin_end": 6.3,
            "count": 0
           },
           {
            "bin_start": 6.3,
            "bin_end": 7.2,
            "count": 1
           },
           {
            "bin_start": 7.2,
            "bin_end": 8.1,
            "count": 0
           },
           {
            "bin_start": 8.1,
            "bin_end": 9,
            "count": 1
           }
          ]
         }
        },
        {
         "name": "RPM",
         "dtype": "int64",
         "stats": {
          "unique_count": 3,
          "nan_count": 0,
          "min": "78",
          "max": "300",
          "histogram": [
           {
            "bin_start": 78,
            "bin_end": 100.2,
            "count": 1
           },
           {
            "bin_start": 100.2,
            "bin_end": 122.4,
            "count": 0
           },
           {
            "bin_start": 122.4,
            "bin_end": 144.6,
            "count": 0
           },
           {
            "bin_start": 144.6,
            "bin_end": 166.8,
            "count": 0
           },
           {
            "bin_start": 166.8,
            "bin_end": 189,
            "count": 0
           },
           {
            "bin_start": 189,
            "bin_end": 211.2,
            "count": 0
           },
           {
            "bin_start": 211.2,
            "bin_end": 233.4,
            "count": 0
           },
           {
            "bin_start": 233.4,
            "bin_end": 255.6,
            "count": 0
           },
           {
            "bin_start": 255.6,
            "bin_end": 277.79999999999995,
            "count": 0
           },
           {
            "bin_start": 277.79999999999995,
            "bin_end": 300,
            "count": 3
           }
          ]
         }
        },
        {
         "name": "_deepnote_index_column",
         "dtype": "int64"
        }
       ],
       "rows_top": [
        {
         "Timestamp": "11/5/2021 10:48:00",
         "Group Num": 0,
         "RPM": 78,
         "_deepnote_index_column": 3
        },
        {
         "Timestamp": "11/5/2021 11:12:31",
         "Group Num": 7,
         "RPM": 288,
         "_deepnote_index_column": 4
        },
        {
         "Timestamp": "11/5/2021 11:34:13",
         "Group Num": 9,
         "RPM": 288,
         "_deepnote_index_column": 5
        },
        {
         "Timestamp": "11/5/2021 11:36:00",
         "Group Num": 4,
         "RPM": 300,
         "_deepnote_index_column": 6
        }
       ],
       "rows_bottom": null
      },
      "text/plain": "            Timestamp  Group Num  RPM\n3  11/5/2021 10:48:00          0   78\n4  11/5/2021 11:12:31          7  288\n5  11/5/2021 11:34:13          9  288\n6  11/5/2021 11:36:00          4  300",
      "text/html": "<div>\n<style scoped>\n    .dataframe tbody tr th:only-of-type {\n        vertical-align: middle;\n    }\n\n    .dataframe tbody tr th {\n        vertical-align: top;\n    }\n\n    .dataframe thead th {\n        text-align: right;\n    }\n</style>\n<table border=\"1\" class=\"dataframe\">\n  <thead>\n    <tr style=\"text-align: right;\">\n      <th></th>\n      <th>Timestamp</th>\n      <th>Group Num</th>\n      <th>RPM</th>\n    </tr>\n  </thead>\n  <tbody>\n    <tr>\n      <th>3</th>\n      <td>11/5/2021 10:48:00</td>\n      <td>0</td>\n      <td>78</td>\n    </tr>\n    <tr>\n      <th>4</th>\n      <td>11/5/2021 11:12:31</td>\n      <td>7</td>\n      <td>288</td>\n    </tr>\n    <tr>\n      <th>5</th>\n      <td>11/5/2021 11:34:13</td>\n      <td>9</td>\n      <td>288</td>\n    </tr>\n    <tr>\n      <th>6</th>\n      <td>11/5/2021 11:36:00</td>\n      <td>4</td>\n      <td>300</td>\n    </tr>\n  </tbody>\n</table>\n</div>"
     },
     "metadata": {},
     "output_type": "display_data"
    }
   ],
   "execution_count": null
  },
  {
   "cell_type": "markdown",
   "source": "#### Step 3. Reorder our data into group order (ascending)\n\nStep 3a. First we will use the `DF.sort_values(by=[COLUMN_NAME])` to rearrange our data into ascending order for the group number\n\nStep 3b. Then we will update the index values to be a nice list from 0 to N-1 rows as pandas would default to\n\nTo do this we will bring back our friend from week 3:\n\n`DF.index = list(range(len(DF.index)))`",
   "metadata": {
    "tags": [],
    "cell_id": "00027-6ed8f9ef-b09d-4649-8598-301ccc8a4b27",
    "deepnote_cell_type": "markdown"
   }
  },
  {
   "cell_type": "code",
   "metadata": {
    "tags": [],
    "cell_id": "00028-d8c057b2-f968-4666-820c-2a929bea954e",
    "deepnote_to_be_reexecuted": false,
    "source_hash": "f671e692",
    "execution_start": 1636126678135,
    "execution_millis": 28,
    "deepnote_cell_type": "code"
   },
   "source": "#3a. Sort the values\nmy_clean_data = my_clean_data.sort_values(by=['Group Num'])\ndisplay(my_clean_data)",
   "outputs": [
    {
     "data": {
      "application/vnd.deepnote.dataframe.v2+json": {
       "row_count": 4,
       "column_count": 3,
       "columns": [
        {
         "name": "Timestamp",
         "dtype": "object",
         "stats": {
          "unique_count": 4,
          "nan_count": 0,
          "categories": [
           {
            "name": "11/5/2021 10:48:00",
            "count": 1
           },
           {
            "name": "11/5/2021 11:36:00",
            "count": 1
           },
           {
            "name": "2 others",
            "count": 2
           }
          ]
         }
        },
        {
         "name": "Group Num",
         "dtype": "int64",
         "stats": {
          "unique_count": 4,
          "nan_count": 0,
          "min": "0",
          "max": "9",
          "histogram": [
           {
            "bin_start": 0,
            "bin_end": 0.9,
            "count": 1
           },
           {
            "bin_start": 0.9,
            "bin_end": 1.8,
            "count": 0
           },
           {
            "bin_start": 1.8,
            "bin_end": 2.7,
            "count": 0
           },
           {
            "bin_start": 2.7,
            "bin_end": 3.6,
            "count": 0
           },
           {
            "bin_start": 3.6,
            "bin_end": 4.5,
            "count": 1
           },
           {
            "bin_start": 4.5,
            "bin_end": 5.4,
            "count": 0
           },
           {
            "bin_start": 5.4,
            "bin_end": 6.3,
            "count": 0
           },
           {
            "bin_start": 6.3,
            "bin_end": 7.2,
            "count": 1
           },
           {
            "bin_start": 7.2,
            "bin_end": 8.1,
            "count": 0
           },
           {
            "bin_start": 8.1,
            "bin_end": 9,
            "count": 1
           }
          ]
         }
        },
        {
         "name": "RPM",
         "dtype": "int64",
         "stats": {
          "unique_count": 3,
          "nan_count": 0,
          "min": "78",
          "max": "300",
          "histogram": [
           {
            "bin_start": 78,
            "bin_end": 100.2,
            "count": 1
           },
           {
            "bin_start": 100.2,
            "bin_end": 122.4,
            "count": 0
           },
           {
            "bin_start": 122.4,
            "bin_end": 144.6,
            "count": 0
           },
           {
            "bin_start": 144.6,
            "bin_end": 166.8,
            "count": 0
           },
           {
            "bin_start": 166.8,
            "bin_end": 189,
            "count": 0
           },
           {
            "bin_start": 189,
            "bin_end": 211.2,
            "count": 0
           },
           {
            "bin_start": 211.2,
            "bin_end": 233.4,
            "count": 0
           },
           {
            "bin_start": 233.4,
            "bin_end": 255.6,
            "count": 0
           },
           {
            "bin_start": 255.6,
            "bin_end": 277.79999999999995,
            "count": 0
           },
           {
            "bin_start": 277.79999999999995,
            "bin_end": 300,
            "count": 3
           }
          ]
         }
        },
        {
         "name": "_deepnote_index_column",
         "dtype": "int64"
        }
       ],
       "rows_top": [
        {
         "Timestamp": "11/5/2021 10:48:00",
         "Group Num": 0,
         "RPM": 78,
         "_deepnote_index_column": 3
        },
        {
         "Timestamp": "11/5/2021 11:36:00",
         "Group Num": 4,
         "RPM": 300,
         "_deepnote_index_column": 6
        },
        {
         "Timestamp": "11/5/2021 11:12:31",
         "Group Num": 7,
         "RPM": 288,
         "_deepnote_index_column": 4
        },
        {
         "Timestamp": "11/5/2021 11:34:13",
         "Group Num": 9,
         "RPM": 288,
         "_deepnote_index_column": 5
        }
       ],
       "rows_bottom": null
      },
      "text/plain": "            Timestamp  Group Num  RPM\n3  11/5/2021 10:48:00          0   78\n6  11/5/2021 11:36:00          4  300\n4  11/5/2021 11:12:31          7  288\n5  11/5/2021 11:34:13          9  288",
      "text/html": "<div>\n<style scoped>\n    .dataframe tbody tr th:only-of-type {\n        vertical-align: middle;\n    }\n\n    .dataframe tbody tr th {\n        vertical-align: top;\n    }\n\n    .dataframe thead th {\n        text-align: right;\n    }\n</style>\n<table border=\"1\" class=\"dataframe\">\n  <thead>\n    <tr style=\"text-align: right;\">\n      <th></th>\n      <th>Timestamp</th>\n      <th>Group Num</th>\n      <th>RPM</th>\n    </tr>\n  </thead>\n  <tbody>\n    <tr>\n      <th>3</th>\n      <td>11/5/2021 10:48:00</td>\n      <td>0</td>\n      <td>78</td>\n    </tr>\n    <tr>\n      <th>6</th>\n      <td>11/5/2021 11:36:00</td>\n      <td>4</td>\n      <td>300</td>\n    </tr>\n    <tr>\n      <th>4</th>\n      <td>11/5/2021 11:12:31</td>\n      <td>7</td>\n      <td>288</td>\n    </tr>\n    <tr>\n      <th>5</th>\n      <td>11/5/2021 11:34:13</td>\n      <td>9</td>\n      <td>288</td>\n    </tr>\n  </tbody>\n</table>\n</div>"
     },
     "metadata": {},
     "output_type": "display_data"
    }
   ],
   "execution_count": null
  },
  {
   "cell_type": "code",
   "metadata": {
    "tags": [],
    "cell_id": "00025-0acca739-da71-46b8-acba-e87e8e98fe7a",
    "deepnote_to_be_reexecuted": false,
    "source_hash": "8279ee27",
    "execution_start": 1636126678162,
    "execution_millis": 5,
    "deepnote_cell_type": "code"
   },
   "source": "#3b. Update the index\nmy_clean_data.index = list(range(len(my_clean_data.index)))\ndisplay(my_clean_data)",
   "outputs": [
    {
     "data": {
      "application/vnd.deepnote.dataframe.v2+json": {
       "row_count": 4,
       "column_count": 3,
       "columns": [
        {
         "name": "Timestamp",
         "dtype": "object",
         "stats": {
          "unique_count": 4,
          "nan_count": 0,
          "categories": [
           {
            "name": "11/5/2021 10:48:00",
            "count": 1
           },
           {
            "name": "11/5/2021 11:36:00",
            "count": 1
           },
           {
            "name": "2 others",
            "count": 2
           }
          ]
         }
        },
        {
         "name": "Group Num",
         "dtype": "int64",
         "stats": {
          "unique_count": 4,
          "nan_count": 0,
          "min": "0",
          "max": "9",
          "histogram": [
           {
            "bin_start": 0,
            "bin_end": 0.9,
            "count": 1
           },
           {
            "bin_start": 0.9,
            "bin_end": 1.8,
            "count": 0
           },
           {
            "bin_start": 1.8,
            "bin_end": 2.7,
            "count": 0
           },
           {
            "bin_start": 2.7,
            "bin_end": 3.6,
            "count": 0
           },
           {
            "bin_start": 3.6,
            "bin_end": 4.5,
            "count": 1
           },
           {
            "bin_start": 4.5,
            "bin_end": 5.4,
            "count": 0
           },
           {
            "bin_start": 5.4,
            "bin_end": 6.3,
            "count": 0
           },
           {
            "bin_start": 6.3,
            "bin_end": 7.2,
            "count": 1
           },
           {
            "bin_start": 7.2,
            "bin_end": 8.1,
            "count": 0
           },
           {
            "bin_start": 8.1,
            "bin_end": 9,
            "count": 1
           }
          ]
         }
        },
        {
         "name": "RPM",
         "dtype": "int64",
         "stats": {
          "unique_count": 3,
          "nan_count": 0,
          "min": "78",
          "max": "300",
          "histogram": [
           {
            "bin_start": 78,
            "bin_end": 100.2,
            "count": 1
           },
           {
            "bin_start": 100.2,
            "bin_end": 122.4,
            "count": 0
           },
           {
            "bin_start": 122.4,
            "bin_end": 144.6,
            "count": 0
           },
           {
            "bin_start": 144.6,
            "bin_end": 166.8,
            "count": 0
           },
           {
            "bin_start": 166.8,
            "bin_end": 189,
            "count": 0
           },
           {
            "bin_start": 189,
            "bin_end": 211.2,
            "count": 0
           },
           {
            "bin_start": 211.2,
            "bin_end": 233.4,
            "count": 0
           },
           {
            "bin_start": 233.4,
            "bin_end": 255.6,
            "count": 0
           },
           {
            "bin_start": 255.6,
            "bin_end": 277.79999999999995,
            "count": 0
           },
           {
            "bin_start": 277.79999999999995,
            "bin_end": 300,
            "count": 3
           }
          ]
         }
        },
        {
         "name": "_deepnote_index_column",
         "dtype": "int64"
        }
       ],
       "rows_top": [
        {
         "Timestamp": "11/5/2021 10:48:00",
         "Group Num": 0,
         "RPM": 78,
         "_deepnote_index_column": 0
        },
        {
         "Timestamp": "11/5/2021 11:36:00",
         "Group Num": 4,
         "RPM": 300,
         "_deepnote_index_column": 1
        },
        {
         "Timestamp": "11/5/2021 11:12:31",
         "Group Num": 7,
         "RPM": 288,
         "_deepnote_index_column": 2
        },
        {
         "Timestamp": "11/5/2021 11:34:13",
         "Group Num": 9,
         "RPM": 288,
         "_deepnote_index_column": 3
        }
       ],
       "rows_bottom": null
      },
      "text/plain": "            Timestamp  Group Num  RPM\n0  11/5/2021 10:48:00          0   78\n1  11/5/2021 11:36:00          4  300\n2  11/5/2021 11:12:31          7  288\n3  11/5/2021 11:34:13          9  288",
      "text/html": "<div>\n<style scoped>\n    .dataframe tbody tr th:only-of-type {\n        vertical-align: middle;\n    }\n\n    .dataframe tbody tr th {\n        vertical-align: top;\n    }\n\n    .dataframe thead th {\n        text-align: right;\n    }\n</style>\n<table border=\"1\" class=\"dataframe\">\n  <thead>\n    <tr style=\"text-align: right;\">\n      <th></th>\n      <th>Timestamp</th>\n      <th>Group Num</th>\n      <th>RPM</th>\n    </tr>\n  </thead>\n  <tbody>\n    <tr>\n      <th>0</th>\n      <td>11/5/2021 10:48:00</td>\n      <td>0</td>\n      <td>78</td>\n    </tr>\n    <tr>\n      <th>1</th>\n      <td>11/5/2021 11:36:00</td>\n      <td>4</td>\n      <td>300</td>\n    </tr>\n    <tr>\n      <th>2</th>\n      <td>11/5/2021 11:12:31</td>\n      <td>7</td>\n      <td>288</td>\n    </tr>\n    <tr>\n      <th>3</th>\n      <td>11/5/2021 11:34:13</td>\n      <td>9</td>\n      <td>288</td>\n    </tr>\n  </tbody>\n</table>\n</div>"
     },
     "metadata": {},
     "output_type": "display_data"
    }
   ],
   "execution_count": null
  },
  {
   "cell_type": "markdown",
   "source": "#### Step 4. Pull out the numpy arrays for Group Number and RPM\n\nTo do this we will use our slicing and `DF.loc[].values` function seen in week 3",
   "metadata": {
    "tags": [],
    "cell_id": "00030-c57a53e2-9a40-4025-9387-5285efd62daa",
    "deepnote_cell_type": "markdown"
   }
  },
  {
   "cell_type": "code",
   "metadata": {
    "tags": [],
    "cell_id": "00030-f7cdf28f-0892-43cf-adc1-1982137483a1",
    "deepnote_to_be_reexecuted": false,
    "source_hash": "82d03228",
    "execution_start": 1636126678171,
    "execution_millis": 7,
    "deepnote_cell_type": "code"
   },
   "source": "groups = my_clean_data.loc[:, 'Group Num'].values\nrpm = my_clean_data.loc[:, 'RPM'].values\n\nprint(groups)\nprint()\nprint(rpm)",
   "outputs": [
    {
     "name": "stdout",
     "text": "[0 4 7 9]\n\n[ 78 300 288 288]\n",
     "output_type": "stream"
    }
   ],
   "execution_count": null
  },
  {
   "cell_type": "markdown",
   "source": "## Stats with our data!",
   "metadata": {
    "tags": [],
    "is_collapsed": false,
    "cell_id": "00032-b2cca3e5-d750-4320-b2c7-f2272cfac91c",
    "deepnote_cell_type": "text-cell-h2"
   }
  },
  {
   "cell_type": "markdown",
   "source": "To show of the stats we are going to do a couple activities. First we are going to calculate some data using numpy. Then we are going to plot with matplotlib",
   "metadata": {
    "tags": [],
    "cell_id": "00033-7b59a46a-d3bb-49c0-b79a-637f1dc372ed",
    "deepnote_cell_type": "markdown"
   }
  },
  {
   "cell_type": "markdown",
   "source": "### Numpy stats\n\nWe are going to showcase some of the features with numpy for doing statistical analysis.\n\nWe will cover the following in class:\n1. Mean\n2. Median\n3. Max and Min values\n4. Sample Standard Deviation",
   "metadata": {
    "tags": [],
    "cell_id": "00034-42c3823f-1aaa-4859-bbf3-e45584ea8fea",
    "deepnote_cell_type": "markdown"
   }
  },
  {
   "cell_type": "code",
   "metadata": {
    "tags": [],
    "cell_id": "00032-138373a2-34ef-4ab3-b430-18fd1360b9b0",
    "deepnote_to_be_reexecuted": false,
    "source_hash": "8f080668",
    "execution_start": 1636126678231,
    "execution_millis": 1,
    "deepnote_cell_type": "code"
   },
   "source": "average = np.mean(rpm)\nprint('The average value of the array is: {}'.format(average))\n\nmed = np.median(rpm)\nprint('The median value of the array is: {}'.format(med))\n\nmax_value = np.amax(rpm)\nprint('The max value of the array is: {}'.format(max_value))\n\nmin_value = np.amin(rpm)\nprint('The min value of the array is: {}'.format(min_value))\n\n#we will use sample stdev all of the time, but population stdev is below!\nsample_stdev = np.std(rpm, ddof=1)\nprint('The sample standard deviation is {}'.format(sample_stdev))",
   "outputs": [
    {
     "name": "stdout",
     "text": "The average value of the array is: 238.5\nThe median value of the array is: 288.0\nThe max value of the array is: 300\nThe min value of the array is: 78\nThe sample standard deviation is 107.14942836991712\n",
     "output_type": "stream"
    }
   ],
   "execution_count": null
  },
  {
   "cell_type": "markdown",
   "source": "Here are some bonus stats you can work with!",
   "metadata": {
    "tags": [],
    "cell_id": "00036-5ebb5272-aa20-4afc-8c07-d1eedb19f9f0",
    "deepnote_cell_type": "markdown"
   }
  },
  {
   "cell_type": "code",
   "metadata": {
    "tags": [],
    "cell_id": "00036-da519aee-d240-4c36-8ff3-e0475db7d36b",
    "deepnote_to_be_reexecuted": false,
    "source_hash": "f47099c0",
    "execution_start": 1636126678232,
    "execution_millis": 4,
    "deepnote_cell_type": "code"
   },
   "source": "max_index = np.argmax(rpm)\nprint('The index of the max value of the array is: {}'.format(max_index))\n\nmin_index = np.argmin(rpm)\nprint('The index of the min value of the array is: {}'.format(min_index))\n\ndata_range = max_value - min_value\nprint('The range of the array is: {}'.format(data_range))\n\npop_stdev = np.std(rpm, ddof=0)\nprint('The population standard deviation is {}'.format(pop_stdev))\n\nsample_var = np.var(rpm, ddof=1)\npop_var = np.var(rpm, ddof=0)\nprint('The sample variance is {}'.format(sample_var))\nprint('The population variance is {}'.format(pop_var))",
   "outputs": [
    {
     "name": "stdout",
     "text": "The index of the max value of the array is: 1\nThe index of the min value of the array is: 0\nThe range of the array is: 222\nThe population standard deviation is 92.79412696932926\nThe sample variance is 11481.0\nThe population variance is 8610.75\n",
     "output_type": "stream"
    }
   ],
   "execution_count": null
  },
  {
   "cell_type": "markdown",
   "source": "### Histogram of our data!",
   "metadata": {
    "tags": [],
    "cell_id": "00038-417a2bfe-6c7c-46d3-94ce-0c1c528e42ed",
    "deepnote_cell_type": "markdown"
   }
  },
  {
   "cell_type": "code",
   "metadata": {
    "tags": [],
    "cell_id": "00038-1c01d65c-91f2-44fc-bfb6-5155cd487af5",
    "deepnote_to_be_reexecuted": false,
    "source_hash": "ddc3917e",
    "execution_start": 1636126678275,
    "execution_millis": 300,
    "deepnote_cell_type": "code"
   },
   "source": "fig, ax = plt.subplots(figsize=(10,6))\n\nax.bar(groups, rpm)\nax.set_title('The recorded RPM for the class')\nax.set_xlabel('Group that recorded the data')\nax.set_ylabel('RPM value measured');",
   "outputs": [
    {
     "data": {
      "text/plain": "<Figure size 720x432 with 1 Axes>",
      "image/png": "[encoded data removed]"
     },
     "metadata": {
      "needs_background": "light",
      "image/png": {
       "width": 612,
       "height": 387
      }
     },
     "output_type": "display_data"
    }
   ],
   "execution_count": null
  },
  {
   "cell_type": "markdown",
   "source": "Wouldn't it be cool to show the average on this plot too! Let's make a red line horizontally at the average to show how the RPM varies around it",
   "metadata": {
    "tags": [],
    "cell_id": "00040-fac667e2-f350-43be-bb88-64e568d52a47",
    "deepnote_cell_type": "markdown"
   }
  },
  {
   "cell_type": "code",
   "metadata": {
    "tags": [],
    "cell_id": "00040-8449a7da-c5ff-465e-aa55-ca68a33a6a07",
    "deepnote_to_be_reexecuted": false,
    "source_hash": "2864e774",
    "execution_start": 1636126678603,
    "execution_millis": 259,
    "deepnote_cell_type": "code"
   },
   "source": "fig, ax = plt.subplots(figsize=(10,6))\n\nax.axhline(y=np.mean(rpm), color='red')\n\nax.bar(groups, rpm)\nax.set_title('The recorded RPM for the class')\nax.set_xlabel('Group that recorded the data')\nax.set_ylabel('RPM value measured');",
   "outputs": [
    {
     "data": {
      "text/plain": "<Figure size 720x432 with 1 Axes>",
      "image/png": "[encoded data removed]"
     },
     "metadata": {
      "needs_background": "light",
      "image/png": {
       "width": 612,
       "height": 387
      }
     },
     "output_type": "display_data"
    }
   ],
   "execution_count": null
  },
  {
   "cell_type": "markdown",
   "source": "<a style='text-decoration:none;line-height:16px;display:flex;color:#5B5B62;padding:10px;justify-content:end;' href='https://deepnote.com?utm_source=created-in-deepnote-cell&projectId=928a4826-6d7d-44bd-b128-d6cd83127a49' target=\"_blank\">\n<img alt='Created in deepnote.com' style='display:inline;max-height:16px;margin:0px;margin-right:7.5px;' src='data:image/svg+xml;base64,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' > </img>\nCreated in <span style='font-weight:600;margin-left:4px;'>Deepnote</span></a>",
   "metadata": {
    "tags": [],
    "created_in_deepnote_cell": true,
    "deepnote_cell_type": "markdown"
   }
  }
 ],
 "nbformat": 4,
 "nbformat_minor": 2,
 "metadata": {
  "orig_nbformat": 2,
  "deepnote": {
   "is_reactive": false
  },
  "deepnote_notebook_id": "91c7091e-b071-4b47-be77-f69c88d28f04",
  "deepnote_execution_queue": []
 }
}